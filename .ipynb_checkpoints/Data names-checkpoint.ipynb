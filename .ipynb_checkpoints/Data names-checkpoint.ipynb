{
 "cells": [
  {
   "cell_type": "markdown",
   "metadata": {},
   "source": [
    "# RecSys Utoppia"
   ]
  },
  {
   "cell_type": "code",
   "execution_count": 1,
   "metadata": {},
   "outputs": [
    {
     "data": {
      "text/html": [
       "        <script type=\"text/javascript\">\n",
       "        window.PlotlyConfig = {MathJaxConfig: 'local'};\n",
       "        if (window.MathJax) {MathJax.Hub.Config({SVG: {font: \"STIX-Web\"}});}\n",
       "        if (typeof require !== 'undefined') {\n",
       "        require.undef(\"plotly\");\n",
       "        requirejs.config({\n",
       "            paths: {\n",
       "                'plotly': ['https://cdn.plot.ly/plotly-latest.min']\n",
       "            }\n",
       "        });\n",
       "        require(['plotly'], function(Plotly) {\n",
       "            window._Plotly = Plotly;\n",
       "        });\n",
       "        }\n",
       "        </script>\n",
       "        "
      ]
     },
     "metadata": {},
     "output_type": "display_data"
    }
   ],
   "source": [
    "# Demo recsys boolean (0-1)\n",
    "\n",
    "# import libraries\n",
    "\n",
    "\n",
    "%matplotlib inline\n",
    "import seaborn as sns\n",
    "import warnings\n",
    "warnings.filterwarnings(\"ignore\",category=DeprecationWarning)\n",
    "import pandas as pd\n",
    "import numpy as np\n",
    "import matplotlib.pyplot as plt\n",
    "from scipy.spatial.distance import pdist, squareform\n",
    "from operator import itemgetter\n",
    "import plotly.plotly as py\n",
    "import cufflinks as cf\n",
    "cf.go_offline()"
   ]
  },
  {
   "cell_type": "code",
   "execution_count": 2,
   "metadata": {},
   "outputs": [],
   "source": [
    "# tags\n",
    "\n",
    "tags=['Cine', 'Teatro', 'Cervezas', 'Vino', 'Fiesta', 'Viajes', 'Rock' ,'Pop',\n",
    "      'Jazz', 'Techno', 'RAP', 'Indie', 'Correr', 'Gym', 'Golf', 'Basket', 'Football', 'Yoga']"
   ]
  },
  {
   "cell_type": "code",
   "execution_count": 3,
   "metadata": {},
   "outputs": [],
   "source": [
    "# subtags\n",
    "\n",
    "st_cine=['Drama', 'Comedia_c', 'Terror', 'Anime']"
   ]
  },
  {
   "cell_type": "code",
   "execution_count": 4,
   "metadata": {},
   "outputs": [],
   "source": [
    "st_teatro=['Tragedia', 'Comedia_t', 'Mimica', 'Dramatico']"
   ]
  },
  {
   "cell_type": "code",
   "execution_count": 5,
   "metadata": {},
   "outputs": [],
   "source": [
    "st_cerveza=['Lager', 'Pale Ale', 'Artesanas', 'Pilsener']"
   ]
  },
  {
   "cell_type": "code",
   "execution_count": 6,
   "metadata": {},
   "outputs": [],
   "source": [
    "st_vino=['Blanco', 'Tinto', 'Rosado', 'Espumoso']"
   ]
  },
  {
   "cell_type": "code",
   "execution_count": 7,
   "metadata": {},
   "outputs": [],
   "source": [
    "st_viajes=['En grupo', 'Solo']"
   ]
  },
  {
   "cell_type": "code",
   "execution_count": 8,
   "metadata": {},
   "outputs": [],
   "source": [
    "st_rock=['Alternativo_r', 'Heavy', 'Country', 'Grunge']"
   ]
  },
  {
   "cell_type": "code",
   "execution_count": 9,
   "metadata": {},
   "outputs": [],
   "source": [
    "st_pop=['Latino', 'Punk', 'Hard', 'Folk_p']"
   ]
  },
  {
   "cell_type": "code",
   "execution_count": 10,
   "metadata": {},
   "outputs": [],
   "source": [
    "st_jazz=['Cool', 'Free', 'Smooth', 'Acid_j']"
   ]
  },
  {
   "cell_type": "code",
   "execution_count": 11,
   "metadata": {},
   "outputs": [],
   "source": [
    "st_techno=['Minimal', 'House' ,'Hardcore', 'Acid_t']"
   ]
  },
  {
   "cell_type": "code",
   "execution_count": 12,
   "metadata": {},
   "outputs": [],
   "source": [
    "st_rap=['Gangsta', 'Poetico', 'Politico' ,'Instrumental']"
   ]
  },
  {
   "cell_type": "code",
   "execution_count": 13,
   "metadata": {},
   "outputs": [],
   "source": [
    "st_indie=['Alternativo_i', 'Electronico', 'Folk_i', 'Griendie']"
   ]
  },
  {
   "cell_type": "code",
   "execution_count": 14,
   "metadata": {},
   "outputs": [],
   "source": [
    "st_football=['Sala', '7', '11']"
   ]
  },
  {
   "cell_type": "code",
   "execution_count": 15,
   "metadata": {},
   "outputs": [],
   "source": [
    "st_yoga=['Vinyasa', 'Kundalini', 'Bikram', 'Nidra']"
   ]
  },
  {
   "cell_type": "code",
   "execution_count": 16,
   "metadata": {},
   "outputs": [
    {
     "data": {
      "text/html": [
       "<div>\n",
       "<style scoped>\n",
       "    .dataframe tbody tr th:only-of-type {\n",
       "        vertical-align: middle;\n",
       "    }\n",
       "\n",
       "    .dataframe tbody tr th {\n",
       "        vertical-align: top;\n",
       "    }\n",
       "\n",
       "    .dataframe thead th {\n",
       "        text-align: right;\n",
       "    }\n",
       "</style>\n",
       "<table border=\"1\" class=\"dataframe\">\n",
       "  <thead>\n",
       "    <tr style=\"text-align: right;\">\n",
       "      <th></th>\n",
       "      <th>Nombre</th>\n",
       "      <th>Id</th>\n",
       "      <th>Plan</th>\n",
       "      <th>Cine</th>\n",
       "      <th>Teatro</th>\n",
       "      <th>Cervezas</th>\n",
       "      <th>Vino</th>\n",
       "      <th>Fiesta</th>\n",
       "      <th>Viajes</th>\n",
       "      <th>Rock</th>\n",
       "      <th>...</th>\n",
       "      <th>Electronico</th>\n",
       "      <th>Folk_i</th>\n",
       "      <th>Griendie</th>\n",
       "      <th>Sala</th>\n",
       "      <th>7</th>\n",
       "      <th>11</th>\n",
       "      <th>Vinyasa</th>\n",
       "      <th>Kundalini</th>\n",
       "      <th>Bikram</th>\n",
       "      <th>Nidra</th>\n",
       "    </tr>\n",
       "  </thead>\n",
       "  <tbody>\n",
       "  </tbody>\n",
       "</table>\n",
       "<p>0 rows × 70 columns</p>\n",
       "</div>"
      ],
      "text/plain": [
       "Empty DataFrame\n",
       "Columns: [Nombre, Id, Plan, Cine, Teatro, Cervezas, Vino, Fiesta, Viajes, Rock, Pop, Jazz, Techno, RAP, Indie, Correr, Gym, Golf, Basket, Football, Yoga, Drama, Comedia_c, Terror, Anime, Tragedia, Comedia_t, Mimica, Dramatico, Lager, Pale Ale, Artesanas, Pilsener, Blanco, Tinto, Rosado, Espumoso, En grupo, Solo, Alternativo_r, Heavy, Country, Grunge, Latino, Punk, Hard, Folk_p, Cool, Free, Smooth, Acid_j, Minimal, House, Hardcore, Acid_t, Gangsta, Poetico, Politico, Instrumental, Alternativo_i, Electronico, Folk_i, Griendie, Sala, 7, 11, Vinyasa, Kundalini, Bikram, Nidra]\n",
       "Index: []\n",
       "\n",
       "[0 rows x 70 columns]"
      ]
     },
     "execution_count": 16,
     "metadata": {},
     "output_type": "execute_result"
    }
   ],
   "source": [
    "# empty dataframe\n",
    "\n",
    "columnas=['Nombre', 'Id', 'Plan']+tags+st_cine+st_teatro+st_cerveza+st_vino+st_viajes+st_rock+st_pop+st_jazz+\\\n",
    "        st_techno+st_rap+st_indie+st_football+st_yoga\n",
    "\n",
    "data=pd.DataFrame(columns=columnas)\n",
    "data"
   ]
  },
  {
   "cell_type": "code",
   "execution_count": 17,
   "metadata": {},
   "outputs": [],
   "source": [
    "# users\n",
    "\n",
    "user1={columnas[0]:'Marta', columnas[1]:1, columnas[2]: 1, \n",
    "       \n",
    "       columnas[3]:2/3, columnas[4]:0, columnas[5]:2/3, columnas[6]:2/3, columnas[7]:0, columnas[8]:2/3,\n",
    "       columnas[9]:0 ,columnas[10]:2/3, columnas[11]:0, columnas[12]:2/3, columnas[13]:0, columnas[14]:2/3,\n",
    "       columnas[15]:0, columnas[16]:2/3, columnas[17]:2/3, columnas[18]:0, columnas[19]:0, columnas[20]:2/3,\n",
    "       \n",
    "       columnas[21]:1/3, columnas[22]:1/3, columnas[23]:0, columnas[24]:0, \n",
    "       columnas[25]:0, columnas[26]:0, columnas[27]:0, columnas[28]:0, \n",
    "       columnas[29]:1/3, columnas[30]:1/3, columnas[31]:1/3, columnas[32]:0,\n",
    "       columnas[33]:1/3, columnas[34]:1/3, columnas[35]:0, columnas[36]:0, \n",
    "       columnas[37]:1/3, columnas[38]:1/3, \n",
    "       columnas[39]:0, columnas[40]:0, columnas[41]:0, columnas[42]:0, \n",
    "       columnas[43]:1/3, columnas[44]:0, columnas[45]:0, columnas[46]: 1/3, \n",
    "       columnas[47]:0, columnas[48]:0, columnas[49]:0, columnas[50]:0, \n",
    "       columnas[51]:0, columnas[52]:1/3, columnas[53]:0, columnas[54]:0, \n",
    "       columnas[55]:0, columnas[56]:0, columnas[57]:0, columnas[58]:0, \n",
    "       columnas[59]:1/3, columnas[60]:1/3, columnas[61]:0, columnas[62]:0, \n",
    "       columnas[63]:0, columnas[64]:0, columnas[65]:0, \n",
    "       columnas[66]:1/3, columnas[67]:0, columnas[68]:0, columnas[69]:0}"
   ]
  },
  {
   "cell_type": "code",
   "execution_count": 18,
   "metadata": {},
   "outputs": [],
   "source": [
    "user2={columnas[0]:'Juan', columnas[1]:2, columnas[2]: 1, \n",
    "       \n",
    "       columnas[3]:2/3, columnas[4]:2/3, columnas[5]:0, columnas[6]:2/3, columnas[7]:2/3, columnas[8]:0,\n",
    "       columnas[9]:0 ,columnas[10]:2/3, columnas[11]:0, columnas[12]:2/3, columnas[13]:2/3, columnas[14]:0,\n",
    "       columnas[15]:0, columnas[16]:2/3, columnas[17]:2/3, columnas[18]:0, columnas[19]:2/3, columnas[20]:0,\n",
    "       \n",
    "       columnas[21]:1/3, columnas[22]:0, columnas[23]:0, columnas[24]:1/3, \n",
    "       columnas[25]:1/3, columnas[26]:0, columnas[27]:0, columnas[28]:1/3, \n",
    "       columnas[29]:0, columnas[30]:0, columnas[31]:0, columnas[32]:0,\n",
    "       columnas[33]:0, columnas[34]:1/3, columnas[35]:0, columnas[36]:1/3, \n",
    "       columnas[37]:0, columnas[38]:0, \n",
    "       columnas[39]:0, columnas[40]:0, columnas[41]:0, columnas[42]:0, \n",
    "       columnas[43]:0, columnas[44]:1/3, columnas[45]:1/3, columnas[46]:0, \n",
    "       columnas[47]:0, columnas[48]:0, columnas[49]:0, columnas[50]:0, \n",
    "       columnas[51]:1/3, columnas[52]:1/3, columnas[53]:0, columnas[54]:0, \n",
    "       columnas[55]:1/3, columnas[56]:1/3, columnas[57]:0, columnas[58]:0, \n",
    "       columnas[59]:0, columnas[60]:0, columnas[61]:0, columnas[62]:0, \n",
    "       columnas[63]:0, columnas[64]:0, columnas[65]:1/3, \n",
    "       columnas[66]:0, columnas[67]:0, columnas[68]:0, columnas[69]:0}"
   ]
  },
  {
   "cell_type": "code",
   "execution_count": 19,
   "metadata": {},
   "outputs": [],
   "source": [
    "user3={columnas[0]:'Monica', columnas[1]:3, columnas[2]: 1, \n",
    "       \n",
    "       columnas[3]:2/3, columnas[4]:2/3, columnas[5]:0, columnas[6]:0, columnas[7]:0, columnas[8]:0,\n",
    "       columnas[9]:0 ,columnas[10]:0, columnas[11]:0, columnas[12]:0, columnas[13]:2/3, columnas[14]:2/3,\n",
    "       columnas[15]:0, columnas[16]:0, columnas[17]:0, columnas[18]:0, columnas[19]:2/3, columnas[20]:2/3,\n",
    "       \n",
    "       columnas[21]:1/3, columnas[22]:1/3, columnas[23]:0, columnas[24]:0, \n",
    "       columnas[25]:0, columnas[26]:1/3, columnas[27]:0, columnas[28]:1/3, \n",
    "       columnas[29]:0, columnas[30]:0, columnas[31]:0, columnas[32]:0,\n",
    "       columnas[33]:0, columnas[34]:0, columnas[35]:0, columnas[36]:0, \n",
    "       columnas[37]:0, columnas[38]:0, \n",
    "       columnas[39]:0, columnas[40]:0, columnas[41]:0, columnas[42]:0, \n",
    "       columnas[43]:0, columnas[44]:0, columnas[45]:0, columnas[46]:0, \n",
    "       columnas[47]:0, columnas[48]:0, columnas[49]:0, columnas[50]:0, \n",
    "       columnas[51]:0, columnas[52]:0, columnas[53]:0, columnas[54]:0, \n",
    "       columnas[55]:1/3, columnas[56]:1/3, columnas[57]:1/3, columnas[58]:1/3, \n",
    "       columnas[59]:1/3, columnas[60]:1/3, columnas[61]:0, columnas[62]:0, \n",
    "       columnas[63]:1/3, columnas[64]:0, columnas[65]:1/3, \n",
    "       columnas[66]:1/3, columnas[67]:1/3, columnas[68]:0, columnas[69]:0}"
   ]
  },
  {
   "cell_type": "code",
   "execution_count": 20,
   "metadata": {},
   "outputs": [],
   "source": [
    "user4={columnas[0]:'Alvaro', columnas[1]:4, columnas[2]: 1, \n",
    "       \n",
    "       columnas[3]:2/3, columnas[4]:2/3, columnas[5]:2/3, columnas[6]:2/3, columnas[7]:0, columnas[8]:2/3,\n",
    "       columnas[9]:0 ,columnas[10]:0, columnas[11]:0, columnas[12]:0, columnas[13]:0, columnas[14]:2/3,\n",
    "       columnas[15]:2/3, columnas[16]:2/3, columnas[17]:2/3, columnas[18]:0, columnas[19]:2/3, columnas[20]:2/3,\n",
    "       \n",
    "       columnas[21]:0, columnas[22]:0, columnas[23]:1/3, columnas[24]:1/3, \n",
    "       columnas[25]:0, columnas[26]:0, columnas[27]:1/3, columnas[28]:1/3, \n",
    "       columnas[29]:1/3, columnas[30]:0, columnas[31]:0, columnas[32]:1/3,\n",
    "       columnas[33]:0, columnas[34]:1/3, columnas[35]:1/3, columnas[36]:0, \n",
    "       columnas[37]:1/3, columnas[38]:1/3, \n",
    "       columnas[39]:0, columnas[40]:0, columnas[41]:0, columnas[42]:0, \n",
    "       columnas[43]:0, columnas[44]:0, columnas[45]:0, columnas[46]:0, \n",
    "       columnas[47]:0, columnas[48]:0, columnas[49]:0, columnas[50]:0, \n",
    "       columnas[51]:0, columnas[52]:0, columnas[53]:0, columnas[54]:0, \n",
    "       columnas[55]:0, columnas[56]:0, columnas[57]:0, columnas[58]:0, \n",
    "       columnas[59]:0, columnas[60]:0, columnas[61]:1/3, columnas[62]:1/3, \n",
    "       columnas[63]:1/3, columnas[64]:0, columnas[65]:0, \n",
    "       columnas[66]:0, columnas[67]:0, columnas[68]:1/3, columnas[69]:1/3}"
   ]
  },
  {
   "cell_type": "code",
   "execution_count": 21,
   "metadata": {},
   "outputs": [],
   "source": [
    "user5={columnas[0]:'Maria', columnas[1]:5, columnas[2]: 1, \n",
    "       \n",
    "       columnas[3]:0, columnas[4]:0, columnas[5]:0, columnas[6]:0, columnas[7]:2/3, columnas[8]:2/3,\n",
    "       columnas[9]:2/3 ,columnas[10]:2/3, columnas[11]:2/3, columnas[12]:0, columnas[13]:0, columnas[14]:0,\n",
    "       columnas[15]:0, columnas[16]:0, columnas[17]:2/3, columnas[18]:2/3, columnas[19]:2/3, columnas[20]:2/3,\n",
    "       \n",
    "       columnas[21]:0, columnas[22]:0, columnas[23]:0, columnas[24]:0, \n",
    "       columnas[25]:0, columnas[26]:0, columnas[27]:0, columnas[28]:0, \n",
    "       columnas[29]:0, columnas[30]:0, columnas[31]:0, columnas[32]:0,\n",
    "       columnas[33]:0, columnas[34]:0, columnas[35]:0, columnas[36]:0, \n",
    "       columnas[37]:1/3, columnas[38]:1/3, \n",
    "       columnas[39]:1/3, columnas[40]:0, columnas[41]:0, columnas[42]:1/3, \n",
    "       columnas[43]:1/3, columnas[44]:0, columnas[45]:0, columnas[46]:0, \n",
    "       columnas[47]:1/3, columnas[48]:0, columnas[49]:0, columnas[50]:1/3, \n",
    "       columnas[51]:0, columnas[52]:0, columnas[53]:0, columnas[54]:0, \n",
    "       columnas[55]:0, columnas[56]:0, columnas[57]:0, columnas[58]:0, \n",
    "       columnas[59]:0, columnas[60]:0, columnas[61]:0, columnas[62]:0, \n",
    "       columnas[63]:0, columnas[64]:0, columnas[65]:1/3, \n",
    "       columnas[66]:0, columnas[67]:0, columnas[68]:0, columnas[69]:1/3}"
   ]
  },
  {
   "cell_type": "code",
   "execution_count": 22,
   "metadata": {},
   "outputs": [],
   "source": [
    "user6={columnas[0]:'Jesus', columnas[1]:6, columnas[2]: 1, \n",
    "       \n",
    "       columnas[3]:2/3, columnas[4]:0, columnas[5]:2/3, columnas[6]:2/3, columnas[7]:0, columnas[8]:2/3,\n",
    "       columnas[9]:2/3, columnas[10]:0, columnas[11]:2/3, columnas[12]:2/3, columnas[13]:0, columnas[14]:2/3,\n",
    "       columnas[15]:0, columnas[16]:2/3, columnas[17]:0, columnas[18]:2/3, columnas[19]:2/3, columnas[20]:2/3,\n",
    "       \n",
    "       columnas[21]:0, columnas[22]:0, columnas[23]:1/3, columnas[24]:1/3, \n",
    "       columnas[25]:0, columnas[26]:0, columnas[27]:0, columnas[28]:0, \n",
    "       columnas[29]:0, columnas[30]:0, columnas[31]:0, columnas[32]:1/3,\n",
    "       columnas[33]:0, columnas[34]:0, columnas[35]:0, columnas[36]:1/3, \n",
    "       columnas[37]:0, columnas[38]:1/3, \n",
    "       columnas[39]:1/3, columnas[40]:1/3, columnas[41]:0, columnas[42]:1/3, \n",
    "       columnas[43]:0, columnas[44]:0, columnas[45]:0, columnas[46]:0, \n",
    "       columnas[47]:0, columnas[48]:0, columnas[49]:0, columnas[50]:1/3, \n",
    "       columnas[51]:1/3, columnas[52]:0, columnas[53]:0, columnas[54]:1/3, \n",
    "       columnas[55]:0, columnas[56]:0, columnas[57]:0, columnas[58]:0, \n",
    "       columnas[59]:1/3, columnas[60]:0, columnas[61]:0, columnas[62]:1/3, \n",
    "       columnas[63]:0, columnas[64]:0, columnas[65]:1/3, \n",
    "       columnas[66]:1/3, columnas[67]:0, columnas[68]:0, columnas[69]:1/3}"
   ]
  },
  {
   "cell_type": "code",
   "execution_count": 23,
   "metadata": {},
   "outputs": [],
   "source": [
    "user7={columnas[0]:'Alba', columnas[1]:7, columnas[2]: 1, \n",
    "       \n",
    "       columnas[3]:2/3, columnas[4]:0, columnas[5]:2/3, columnas[6]:2/3, columnas[7]:2/3, columnas[8]:2/3,\n",
    "       columnas[9]:0 ,columnas[10]:2/3, columnas[11]:2/3, columnas[12]:2/3, columnas[13]:2/3, columnas[14]:0,\n",
    "       columnas[15]:2/3, columnas[16]:2/3, columnas[17]:0, columnas[18]:0, columnas[19]:0, columnas[20]:2/3,\n",
    "       \n",
    "       columnas[21]:1/3, columnas[22]:1/3, columnas[23]:0, columnas[24]:0, \n",
    "       columnas[25]:0, columnas[26]:0, columnas[27]:0, columnas[28]:0, \n",
    "       columnas[29]:1/3, columnas[30]:0, columnas[31]:0, columnas[32]:1/3,\n",
    "       columnas[33]:1/3, columnas[34]:0, columnas[35]:1/3, columnas[36]:1/3, \n",
    "       columnas[37]:1/3, columnas[38]:0, \n",
    "       columnas[39]:0, columnas[40]:0, columnas[41]:0, columnas[42]:0, \n",
    "       columnas[43]:1/3, columnas[44]:0, columnas[45]:0, columnas[46]:0, \n",
    "       columnas[47]:1/3, columnas[48]:0, columnas[49]:0, columnas[50]:1/3, \n",
    "       columnas[51]:0, columnas[52]:0, columnas[53]:0, columnas[54]:1/3, \n",
    "       columnas[55]:0, columnas[56]:0, columnas[57]:0, columnas[58]:1/3, \n",
    "       columnas[59]:0, columnas[60]:0, columnas[61]:0, columnas[62]:0, \n",
    "       columnas[63]:0, columnas[64]:0, columnas[65]:0, \n",
    "       columnas[66]:1/3, columnas[67]:0, columnas[68]:1/3, columnas[69]:0}"
   ]
  },
  {
   "cell_type": "code",
   "execution_count": 24,
   "metadata": {},
   "outputs": [],
   "source": [
    "user8={columnas[0]:'Adolfo', columnas[1]:8, columnas[2]: 1, \n",
    "       \n",
    "       columnas[3]:2/3, columnas[4]:0, columnas[5]:0, columnas[6]:2/3, columnas[7]:0, columnas[8]:2/3,\n",
    "       columnas[9]:2/3 ,columnas[10]:0, columnas[11]:2/3, columnas[12]:2/3, columnas[13]:0, columnas[14]:0,\n",
    "       columnas[15]:2/3, columnas[16]:2/3, columnas[17]:2/3, columnas[18]:2/3, columnas[19]:2/3, columnas[20]:0,\n",
    "       \n",
    "       columnas[21]:1/3, columnas[22]:0, columnas[23]:0, columnas[24]:1/3, \n",
    "       columnas[25]:0, columnas[26]:0, columnas[27]:0, columnas[28]:0, \n",
    "       columnas[29]:0, columnas[30]:0, columnas[31]:0, columnas[32]:0,\n",
    "       columnas[33]:0, columnas[34]:0, columnas[35]:1/3, columnas[36]:1/3, \n",
    "       columnas[37]:1/3, columnas[38]:1/3, \n",
    "       columnas[39]:1/3, columnas[40]:0, columnas[41]:0, columnas[42]:1/3, \n",
    "       columnas[43]:0, columnas[44]:0, columnas[45]:0, columnas[46]:0, \n",
    "       columnas[47]:0, columnas[48]:0, columnas[49]:1/3, columnas[50]:0, \n",
    "       columnas[51]:0, columnas[52]:0, columnas[53]:1/3, columnas[54]:1/3, \n",
    "       columnas[55]:0, columnas[56]:0, columnas[57]:0, columnas[58]:0, \n",
    "       columnas[59]:0, columnas[60]:0, columnas[61]:0, columnas[62]:0, \n",
    "       columnas[63]:0, columnas[64]:1/3, columnas[65]:1/3, \n",
    "       columnas[66]:0, columnas[67]:0, columnas[68]:0, columnas[69]:0}"
   ]
  },
  {
   "cell_type": "code",
   "execution_count": 25,
   "metadata": {},
   "outputs": [],
   "source": [
    "user9={columnas[0]:'Nuria', columnas[1]:9, columnas[2]: 1, \n",
    "       \n",
    "       columnas[3]:2/3, columnas[4]:2/3, columnas[5]:0, columnas[6]:2/3, columnas[7]:0, columnas[8]:2/3,\n",
    "       columnas[9]:2/3 ,columnas[10]:0, columnas[11]:0, columnas[12]:0, columnas[13]:0, columnas[14]:2/3,\n",
    "       columnas[15]:2/3, columnas[16]:2/3, columnas[17]:0, columnas[18]:0, columnas[19]:2/3, columnas[20]:0,\n",
    "       \n",
    "       columnas[21]:1/3, columnas[22]:1/3, columnas[23]:0, columnas[24]:0, \n",
    "       columnas[25]:0, columnas[26]:0, columnas[27]:1/3, columnas[28]:1/3, \n",
    "       columnas[29]:0, columnas[30]:0, columnas[31]:0, columnas[32]:0,\n",
    "       columnas[33]:1/3, columnas[34]:0, columnas[35]:0, columnas[36]:0, \n",
    "       columnas[37]:1/3, columnas[38]:1/3, \n",
    "       columnas[39]:0, columnas[40]:1/3, columnas[41]:0, columnas[42]:1/3, \n",
    "       columnas[43]:0, columnas[44]:0, columnas[45]:0, columnas[46]:0, \n",
    "       columnas[47]:0, columnas[48]:0, columnas[49]:0, columnas[50]:0, \n",
    "       columnas[51]:0, columnas[52]:0, columnas[53]:0, columnas[54]:0, \n",
    "       columnas[55]:0, columnas[56]:0, columnas[57]:0, columnas[58]:0, \n",
    "       columnas[59]:1/3, columnas[60]:1/3, columnas[61]:0, columnas[62]:0, \n",
    "       columnas[63]:1/3, columnas[64]:0, columnas[65]:1/3, \n",
    "       columnas[66]:0, columnas[67]:0, columnas[68]:0, columnas[69]:0}"
   ]
  },
  {
   "cell_type": "code",
   "execution_count": 26,
   "metadata": {},
   "outputs": [],
   "source": [
    "user10={columnas[0]:'Jaime', columnas[1]:10, columnas[2]: 1, \n",
    "       \n",
    "       columnas[3]:2/3, columnas[4]:0, columnas[5]:2/3, columnas[6]:2/3, columnas[7]:2/3, columnas[8]:2/3,\n",
    "       columnas[9]:0 ,columnas[10]:0, columnas[11]:2/3, columnas[12]:0, columnas[13]:0, columnas[14]:0,\n",
    "       columnas[15]:0, columnas[16]:2/3, columnas[17]:2/3, columnas[18]:0, columnas[19]:2/3, columnas[20]:0,\n",
    "       \n",
    "       columnas[21]:1/3, columnas[22]:1/3, columnas[23]:1/3, columnas[24]:0, \n",
    "       columnas[25]:0, columnas[26]:0, columnas[27]:0, columnas[28]:0, \n",
    "       columnas[29]:1/3, columnas[30]:0, columnas[31]:0, columnas[32]:1/3,\n",
    "       columnas[33]:0, columnas[34]:0, columnas[35]:0, columnas[36]:1/3, \n",
    "       columnas[37]:1/3, columnas[38]:1/3, \n",
    "       columnas[39]:0, columnas[40]:0, columnas[41]:0, columnas[42]:0, \n",
    "       columnas[43]:0, columnas[44]:0, columnas[45]:0, columnas[46]:0, \n",
    "       columnas[47]:0, columnas[48]:0, columnas[49]:0, columnas[50]:0, \n",
    "       columnas[51]:0, columnas[52]:0, columnas[53]:0, columnas[54]:0, \n",
    "       columnas[55]:0, columnas[56]:0, columnas[57]:0, columnas[58]:0, \n",
    "       columnas[59]:0, columnas[60]:0, columnas[61]:0, columnas[62]:0, \n",
    "       columnas[63]:1/3, columnas[64]:1/3, columnas[65]:1/3, \n",
    "       columnas[66]:0, columnas[67]:0, columnas[68]:0, columnas[69]:0}"
   ]
  },
  {
   "cell_type": "code",
   "execution_count": 27,
   "metadata": {},
   "outputs": [
    {
     "data": {
      "text/html": [
       "<div>\n",
       "<style scoped>\n",
       "    .dataframe tbody tr th:only-of-type {\n",
       "        vertical-align: middle;\n",
       "    }\n",
       "\n",
       "    .dataframe tbody tr th {\n",
       "        vertical-align: top;\n",
       "    }\n",
       "\n",
       "    .dataframe thead th {\n",
       "        text-align: right;\n",
       "    }\n",
       "</style>\n",
       "<table border=\"1\" class=\"dataframe\">\n",
       "  <thead>\n",
       "    <tr style=\"text-align: right;\">\n",
       "      <th></th>\n",
       "      <th>Nombre</th>\n",
       "      <th>Id</th>\n",
       "      <th>Plan</th>\n",
       "      <th>Cine</th>\n",
       "      <th>Teatro</th>\n",
       "      <th>Cervezas</th>\n",
       "      <th>Vino</th>\n",
       "      <th>Fiesta</th>\n",
       "      <th>Viajes</th>\n",
       "      <th>Rock</th>\n",
       "      <th>...</th>\n",
       "      <th>Electronico</th>\n",
       "      <th>Folk_i</th>\n",
       "      <th>Griendie</th>\n",
       "      <th>Sala</th>\n",
       "      <th>7</th>\n",
       "      <th>11</th>\n",
       "      <th>Vinyasa</th>\n",
       "      <th>Kundalini</th>\n",
       "      <th>Bikram</th>\n",
       "      <th>Nidra</th>\n",
       "    </tr>\n",
       "  </thead>\n",
       "  <tbody>\n",
       "    <tr>\n",
       "      <th>0</th>\n",
       "      <td>Marta</td>\n",
       "      <td>1</td>\n",
       "      <td>1</td>\n",
       "      <td>0.666667</td>\n",
       "      <td>0</td>\n",
       "      <td>0.666667</td>\n",
       "      <td>0.666667</td>\n",
       "      <td>0</td>\n",
       "      <td>0.666667</td>\n",
       "      <td>0</td>\n",
       "      <td>...</td>\n",
       "      <td>0.333333</td>\n",
       "      <td>0</td>\n",
       "      <td>0</td>\n",
       "      <td>0</td>\n",
       "      <td>0</td>\n",
       "      <td>0</td>\n",
       "      <td>0.333333</td>\n",
       "      <td>0</td>\n",
       "      <td>0</td>\n",
       "      <td>0</td>\n",
       "    </tr>\n",
       "    <tr>\n",
       "      <th>1</th>\n",
       "      <td>Juan</td>\n",
       "      <td>2</td>\n",
       "      <td>1</td>\n",
       "      <td>0.666667</td>\n",
       "      <td>0.666667</td>\n",
       "      <td>0.000000</td>\n",
       "      <td>0.666667</td>\n",
       "      <td>0.666667</td>\n",
       "      <td>0.000000</td>\n",
       "      <td>0</td>\n",
       "      <td>...</td>\n",
       "      <td>0.000000</td>\n",
       "      <td>0</td>\n",
       "      <td>0</td>\n",
       "      <td>0</td>\n",
       "      <td>0</td>\n",
       "      <td>0.333333</td>\n",
       "      <td>0.000000</td>\n",
       "      <td>0</td>\n",
       "      <td>0</td>\n",
       "      <td>0</td>\n",
       "    </tr>\n",
       "    <tr>\n",
       "      <th>2</th>\n",
       "      <td>Monica</td>\n",
       "      <td>3</td>\n",
       "      <td>1</td>\n",
       "      <td>0.666667</td>\n",
       "      <td>0.666667</td>\n",
       "      <td>0.000000</td>\n",
       "      <td>0.000000</td>\n",
       "      <td>0</td>\n",
       "      <td>0.000000</td>\n",
       "      <td>0</td>\n",
       "      <td>...</td>\n",
       "      <td>0.333333</td>\n",
       "      <td>0</td>\n",
       "      <td>0</td>\n",
       "      <td>0.333333</td>\n",
       "      <td>0</td>\n",
       "      <td>0.333333</td>\n",
       "      <td>0.333333</td>\n",
       "      <td>0.333333</td>\n",
       "      <td>0</td>\n",
       "      <td>0</td>\n",
       "    </tr>\n",
       "    <tr>\n",
       "      <th>3</th>\n",
       "      <td>Alvaro</td>\n",
       "      <td>4</td>\n",
       "      <td>1</td>\n",
       "      <td>0.666667</td>\n",
       "      <td>0.666667</td>\n",
       "      <td>0.666667</td>\n",
       "      <td>0.666667</td>\n",
       "      <td>0</td>\n",
       "      <td>0.666667</td>\n",
       "      <td>0</td>\n",
       "      <td>...</td>\n",
       "      <td>0.000000</td>\n",
       "      <td>0.333333</td>\n",
       "      <td>0.333333</td>\n",
       "      <td>0.333333</td>\n",
       "      <td>0</td>\n",
       "      <td>0</td>\n",
       "      <td>0.000000</td>\n",
       "      <td>0</td>\n",
       "      <td>0.333333</td>\n",
       "      <td>0.333333</td>\n",
       "    </tr>\n",
       "    <tr>\n",
       "      <th>4</th>\n",
       "      <td>Maria</td>\n",
       "      <td>5</td>\n",
       "      <td>1</td>\n",
       "      <td>0.000000</td>\n",
       "      <td>0</td>\n",
       "      <td>0.000000</td>\n",
       "      <td>0.000000</td>\n",
       "      <td>0.666667</td>\n",
       "      <td>0.666667</td>\n",
       "      <td>0.666667</td>\n",
       "      <td>...</td>\n",
       "      <td>0.000000</td>\n",
       "      <td>0</td>\n",
       "      <td>0</td>\n",
       "      <td>0</td>\n",
       "      <td>0</td>\n",
       "      <td>0.333333</td>\n",
       "      <td>0.000000</td>\n",
       "      <td>0</td>\n",
       "      <td>0</td>\n",
       "      <td>0.333333</td>\n",
       "    </tr>\n",
       "    <tr>\n",
       "      <th>5</th>\n",
       "      <td>Jesus</td>\n",
       "      <td>6</td>\n",
       "      <td>1</td>\n",
       "      <td>0.666667</td>\n",
       "      <td>0</td>\n",
       "      <td>0.666667</td>\n",
       "      <td>0.666667</td>\n",
       "      <td>0</td>\n",
       "      <td>0.666667</td>\n",
       "      <td>0.666667</td>\n",
       "      <td>...</td>\n",
       "      <td>0.000000</td>\n",
       "      <td>0</td>\n",
       "      <td>0.333333</td>\n",
       "      <td>0</td>\n",
       "      <td>0</td>\n",
       "      <td>0.333333</td>\n",
       "      <td>0.333333</td>\n",
       "      <td>0</td>\n",
       "      <td>0</td>\n",
       "      <td>0.333333</td>\n",
       "    </tr>\n",
       "    <tr>\n",
       "      <th>6</th>\n",
       "      <td>Alba</td>\n",
       "      <td>7</td>\n",
       "      <td>1</td>\n",
       "      <td>0.666667</td>\n",
       "      <td>0</td>\n",
       "      <td>0.666667</td>\n",
       "      <td>0.666667</td>\n",
       "      <td>0.666667</td>\n",
       "      <td>0.666667</td>\n",
       "      <td>0</td>\n",
       "      <td>...</td>\n",
       "      <td>0.000000</td>\n",
       "      <td>0</td>\n",
       "      <td>0</td>\n",
       "      <td>0</td>\n",
       "      <td>0</td>\n",
       "      <td>0</td>\n",
       "      <td>0.333333</td>\n",
       "      <td>0</td>\n",
       "      <td>0.333333</td>\n",
       "      <td>0</td>\n",
       "    </tr>\n",
       "    <tr>\n",
       "      <th>7</th>\n",
       "      <td>Adolfo</td>\n",
       "      <td>8</td>\n",
       "      <td>1</td>\n",
       "      <td>0.666667</td>\n",
       "      <td>0</td>\n",
       "      <td>0.000000</td>\n",
       "      <td>0.666667</td>\n",
       "      <td>0</td>\n",
       "      <td>0.666667</td>\n",
       "      <td>0.666667</td>\n",
       "      <td>...</td>\n",
       "      <td>0.000000</td>\n",
       "      <td>0</td>\n",
       "      <td>0</td>\n",
       "      <td>0</td>\n",
       "      <td>0.333333</td>\n",
       "      <td>0.333333</td>\n",
       "      <td>0.000000</td>\n",
       "      <td>0</td>\n",
       "      <td>0</td>\n",
       "      <td>0</td>\n",
       "    </tr>\n",
       "    <tr>\n",
       "      <th>8</th>\n",
       "      <td>Nuria</td>\n",
       "      <td>9</td>\n",
       "      <td>1</td>\n",
       "      <td>0.666667</td>\n",
       "      <td>0.666667</td>\n",
       "      <td>0.000000</td>\n",
       "      <td>0.666667</td>\n",
       "      <td>0</td>\n",
       "      <td>0.666667</td>\n",
       "      <td>0.666667</td>\n",
       "      <td>...</td>\n",
       "      <td>0.333333</td>\n",
       "      <td>0</td>\n",
       "      <td>0</td>\n",
       "      <td>0.333333</td>\n",
       "      <td>0</td>\n",
       "      <td>0.333333</td>\n",
       "      <td>0.000000</td>\n",
       "      <td>0</td>\n",
       "      <td>0</td>\n",
       "      <td>0</td>\n",
       "    </tr>\n",
       "    <tr>\n",
       "      <th>9</th>\n",
       "      <td>Jaime</td>\n",
       "      <td>10</td>\n",
       "      <td>1</td>\n",
       "      <td>0.666667</td>\n",
       "      <td>0</td>\n",
       "      <td>0.666667</td>\n",
       "      <td>0.666667</td>\n",
       "      <td>0.666667</td>\n",
       "      <td>0.666667</td>\n",
       "      <td>0</td>\n",
       "      <td>...</td>\n",
       "      <td>0.000000</td>\n",
       "      <td>0</td>\n",
       "      <td>0</td>\n",
       "      <td>0.333333</td>\n",
       "      <td>0.333333</td>\n",
       "      <td>0.333333</td>\n",
       "      <td>0.000000</td>\n",
       "      <td>0</td>\n",
       "      <td>0</td>\n",
       "      <td>0</td>\n",
       "    </tr>\n",
       "  </tbody>\n",
       "</table>\n",
       "<p>10 rows × 70 columns</p>\n",
       "</div>"
      ],
      "text/plain": [
       "   Nombre  Id Plan      Cine    Teatro  Cervezas      Vino    Fiesta  \\\n",
       "0   Marta   1    1  0.666667         0  0.666667  0.666667         0   \n",
       "1    Juan   2    1  0.666667  0.666667  0.000000  0.666667  0.666667   \n",
       "2  Monica   3    1  0.666667  0.666667  0.000000  0.000000         0   \n",
       "3  Alvaro   4    1  0.666667  0.666667  0.666667  0.666667         0   \n",
       "4   Maria   5    1  0.000000         0  0.000000  0.000000  0.666667   \n",
       "5   Jesus   6    1  0.666667         0  0.666667  0.666667         0   \n",
       "6    Alba   7    1  0.666667         0  0.666667  0.666667  0.666667   \n",
       "7  Adolfo   8    1  0.666667         0  0.000000  0.666667         0   \n",
       "8   Nuria   9    1  0.666667  0.666667  0.000000  0.666667         0   \n",
       "9   Jaime  10    1  0.666667         0  0.666667  0.666667  0.666667   \n",
       "\n",
       "     Viajes      Rock  ...  Electronico    Folk_i  Griendie      Sala  \\\n",
       "0  0.666667         0  ...     0.333333         0         0         0   \n",
       "1  0.000000         0  ...     0.000000         0         0         0   \n",
       "2  0.000000         0  ...     0.333333         0         0  0.333333   \n",
       "3  0.666667         0  ...     0.000000  0.333333  0.333333  0.333333   \n",
       "4  0.666667  0.666667  ...     0.000000         0         0         0   \n",
       "5  0.666667  0.666667  ...     0.000000         0  0.333333         0   \n",
       "6  0.666667         0  ...     0.000000         0         0         0   \n",
       "7  0.666667  0.666667  ...     0.000000         0         0         0   \n",
       "8  0.666667  0.666667  ...     0.333333         0         0  0.333333   \n",
       "9  0.666667         0  ...     0.000000         0         0  0.333333   \n",
       "\n",
       "          7        11   Vinyasa  Kundalini    Bikram     Nidra  \n",
       "0         0         0  0.333333          0         0         0  \n",
       "1         0  0.333333  0.000000          0         0         0  \n",
       "2         0  0.333333  0.333333   0.333333         0         0  \n",
       "3         0         0  0.000000          0  0.333333  0.333333  \n",
       "4         0  0.333333  0.000000          0         0  0.333333  \n",
       "5         0  0.333333  0.333333          0         0  0.333333  \n",
       "6         0         0  0.333333          0  0.333333         0  \n",
       "7  0.333333  0.333333  0.000000          0         0         0  \n",
       "8         0  0.333333  0.000000          0         0         0  \n",
       "9  0.333333  0.333333  0.000000          0         0         0  \n",
       "\n",
       "[10 rows x 70 columns]"
      ]
     },
     "execution_count": 27,
     "metadata": {},
     "output_type": "execute_result"
    }
   ],
   "source": [
    "user_list=[user1, user2, user3, user4, user5, user6, user7, user8, user9, user10]\n",
    "\n",
    "for e in user_list:\n",
    "    data=data.append(other=e, ignore_index=True)\n",
    "data"
   ]
  },
  {
   "cell_type": "code",
   "execution_count": 28,
   "metadata": {},
   "outputs": [
    {
     "data": {
      "text/html": [
       "<div>\n",
       "<style scoped>\n",
       "    .dataframe tbody tr th:only-of-type {\n",
       "        vertical-align: middle;\n",
       "    }\n",
       "\n",
       "    .dataframe tbody tr th {\n",
       "        vertical-align: top;\n",
       "    }\n",
       "\n",
       "    .dataframe thead th {\n",
       "        text-align: right;\n",
       "    }\n",
       "</style>\n",
       "<table border=\"1\" class=\"dataframe\">\n",
       "  <thead>\n",
       "    <tr style=\"text-align: right;\">\n",
       "      <th></th>\n",
       "      <th>Id</th>\n",
       "      <th>Plan</th>\n",
       "      <th>Cine</th>\n",
       "      <th>Teatro</th>\n",
       "      <th>Cervezas</th>\n",
       "      <th>Vino</th>\n",
       "      <th>Fiesta</th>\n",
       "      <th>Viajes</th>\n",
       "      <th>Rock</th>\n",
       "      <th>Pop</th>\n",
       "      <th>...</th>\n",
       "      <th>Electronico</th>\n",
       "      <th>Folk_i</th>\n",
       "      <th>Griendie</th>\n",
       "      <th>Sala</th>\n",
       "      <th>7</th>\n",
       "      <th>11</th>\n",
       "      <th>Vinyasa</th>\n",
       "      <th>Kundalini</th>\n",
       "      <th>Bikram</th>\n",
       "      <th>Nidra</th>\n",
       "    </tr>\n",
       "    <tr>\n",
       "      <th>Nombre</th>\n",
       "      <th></th>\n",
       "      <th></th>\n",
       "      <th></th>\n",
       "      <th></th>\n",
       "      <th></th>\n",
       "      <th></th>\n",
       "      <th></th>\n",
       "      <th></th>\n",
       "      <th></th>\n",
       "      <th></th>\n",
       "      <th></th>\n",
       "      <th></th>\n",
       "      <th></th>\n",
       "      <th></th>\n",
       "      <th></th>\n",
       "      <th></th>\n",
       "      <th></th>\n",
       "      <th></th>\n",
       "      <th></th>\n",
       "      <th></th>\n",
       "      <th></th>\n",
       "    </tr>\n",
       "  </thead>\n",
       "  <tbody>\n",
       "    <tr>\n",
       "      <th>Marta</th>\n",
       "      <td>1</td>\n",
       "      <td>1</td>\n",
       "      <td>0.666667</td>\n",
       "      <td>0</td>\n",
       "      <td>0.666667</td>\n",
       "      <td>0.666667</td>\n",
       "      <td>0</td>\n",
       "      <td>0.666667</td>\n",
       "      <td>0</td>\n",
       "      <td>0.666667</td>\n",
       "      <td>...</td>\n",
       "      <td>0.333333</td>\n",
       "      <td>0</td>\n",
       "      <td>0</td>\n",
       "      <td>0</td>\n",
       "      <td>0</td>\n",
       "      <td>0</td>\n",
       "      <td>0.333333</td>\n",
       "      <td>0</td>\n",
       "      <td>0</td>\n",
       "      <td>0</td>\n",
       "    </tr>\n",
       "    <tr>\n",
       "      <th>Juan</th>\n",
       "      <td>2</td>\n",
       "      <td>1</td>\n",
       "      <td>0.666667</td>\n",
       "      <td>0.666667</td>\n",
       "      <td>0.000000</td>\n",
       "      <td>0.666667</td>\n",
       "      <td>0.666667</td>\n",
       "      <td>0.000000</td>\n",
       "      <td>0</td>\n",
       "      <td>0.666667</td>\n",
       "      <td>...</td>\n",
       "      <td>0.000000</td>\n",
       "      <td>0</td>\n",
       "      <td>0</td>\n",
       "      <td>0</td>\n",
       "      <td>0</td>\n",
       "      <td>0.333333</td>\n",
       "      <td>0.000000</td>\n",
       "      <td>0</td>\n",
       "      <td>0</td>\n",
       "      <td>0</td>\n",
       "    </tr>\n",
       "    <tr>\n",
       "      <th>Monica</th>\n",
       "      <td>3</td>\n",
       "      <td>1</td>\n",
       "      <td>0.666667</td>\n",
       "      <td>0.666667</td>\n",
       "      <td>0.000000</td>\n",
       "      <td>0.000000</td>\n",
       "      <td>0</td>\n",
       "      <td>0.000000</td>\n",
       "      <td>0</td>\n",
       "      <td>0.000000</td>\n",
       "      <td>...</td>\n",
       "      <td>0.333333</td>\n",
       "      <td>0</td>\n",
       "      <td>0</td>\n",
       "      <td>0.333333</td>\n",
       "      <td>0</td>\n",
       "      <td>0.333333</td>\n",
       "      <td>0.333333</td>\n",
       "      <td>0.333333</td>\n",
       "      <td>0</td>\n",
       "      <td>0</td>\n",
       "    </tr>\n",
       "    <tr>\n",
       "      <th>Alvaro</th>\n",
       "      <td>4</td>\n",
       "      <td>1</td>\n",
       "      <td>0.666667</td>\n",
       "      <td>0.666667</td>\n",
       "      <td>0.666667</td>\n",
       "      <td>0.666667</td>\n",
       "      <td>0</td>\n",
       "      <td>0.666667</td>\n",
       "      <td>0</td>\n",
       "      <td>0.000000</td>\n",
       "      <td>...</td>\n",
       "      <td>0.000000</td>\n",
       "      <td>0.333333</td>\n",
       "      <td>0.333333</td>\n",
       "      <td>0.333333</td>\n",
       "      <td>0</td>\n",
       "      <td>0</td>\n",
       "      <td>0.000000</td>\n",
       "      <td>0</td>\n",
       "      <td>0.333333</td>\n",
       "      <td>0.333333</td>\n",
       "    </tr>\n",
       "    <tr>\n",
       "      <th>Maria</th>\n",
       "      <td>5</td>\n",
       "      <td>1</td>\n",
       "      <td>0.000000</td>\n",
       "      <td>0</td>\n",
       "      <td>0.000000</td>\n",
       "      <td>0.000000</td>\n",
       "      <td>0.666667</td>\n",
       "      <td>0.666667</td>\n",
       "      <td>0.666667</td>\n",
       "      <td>0.666667</td>\n",
       "      <td>...</td>\n",
       "      <td>0.000000</td>\n",
       "      <td>0</td>\n",
       "      <td>0</td>\n",
       "      <td>0</td>\n",
       "      <td>0</td>\n",
       "      <td>0.333333</td>\n",
       "      <td>0.000000</td>\n",
       "      <td>0</td>\n",
       "      <td>0</td>\n",
       "      <td>0.333333</td>\n",
       "    </tr>\n",
       "    <tr>\n",
       "      <th>Jesus</th>\n",
       "      <td>6</td>\n",
       "      <td>1</td>\n",
       "      <td>0.666667</td>\n",
       "      <td>0</td>\n",
       "      <td>0.666667</td>\n",
       "      <td>0.666667</td>\n",
       "      <td>0</td>\n",
       "      <td>0.666667</td>\n",
       "      <td>0.666667</td>\n",
       "      <td>0.000000</td>\n",
       "      <td>...</td>\n",
       "      <td>0.000000</td>\n",
       "      <td>0</td>\n",
       "      <td>0.333333</td>\n",
       "      <td>0</td>\n",
       "      <td>0</td>\n",
       "      <td>0.333333</td>\n",
       "      <td>0.333333</td>\n",
       "      <td>0</td>\n",
       "      <td>0</td>\n",
       "      <td>0.333333</td>\n",
       "    </tr>\n",
       "    <tr>\n",
       "      <th>Alba</th>\n",
       "      <td>7</td>\n",
       "      <td>1</td>\n",
       "      <td>0.666667</td>\n",
       "      <td>0</td>\n",
       "      <td>0.666667</td>\n",
       "      <td>0.666667</td>\n",
       "      <td>0.666667</td>\n",
       "      <td>0.666667</td>\n",
       "      <td>0</td>\n",
       "      <td>0.666667</td>\n",
       "      <td>...</td>\n",
       "      <td>0.000000</td>\n",
       "      <td>0</td>\n",
       "      <td>0</td>\n",
       "      <td>0</td>\n",
       "      <td>0</td>\n",
       "      <td>0</td>\n",
       "      <td>0.333333</td>\n",
       "      <td>0</td>\n",
       "      <td>0.333333</td>\n",
       "      <td>0</td>\n",
       "    </tr>\n",
       "    <tr>\n",
       "      <th>Adolfo</th>\n",
       "      <td>8</td>\n",
       "      <td>1</td>\n",
       "      <td>0.666667</td>\n",
       "      <td>0</td>\n",
       "      <td>0.000000</td>\n",
       "      <td>0.666667</td>\n",
       "      <td>0</td>\n",
       "      <td>0.666667</td>\n",
       "      <td>0.666667</td>\n",
       "      <td>0.000000</td>\n",
       "      <td>...</td>\n",
       "      <td>0.000000</td>\n",
       "      <td>0</td>\n",
       "      <td>0</td>\n",
       "      <td>0</td>\n",
       "      <td>0.333333</td>\n",
       "      <td>0.333333</td>\n",
       "      <td>0.000000</td>\n",
       "      <td>0</td>\n",
       "      <td>0</td>\n",
       "      <td>0</td>\n",
       "    </tr>\n",
       "    <tr>\n",
       "      <th>Nuria</th>\n",
       "      <td>9</td>\n",
       "      <td>1</td>\n",
       "      <td>0.666667</td>\n",
       "      <td>0.666667</td>\n",
       "      <td>0.000000</td>\n",
       "      <td>0.666667</td>\n",
       "      <td>0</td>\n",
       "      <td>0.666667</td>\n",
       "      <td>0.666667</td>\n",
       "      <td>0.000000</td>\n",
       "      <td>...</td>\n",
       "      <td>0.333333</td>\n",
       "      <td>0</td>\n",
       "      <td>0</td>\n",
       "      <td>0.333333</td>\n",
       "      <td>0</td>\n",
       "      <td>0.333333</td>\n",
       "      <td>0.000000</td>\n",
       "      <td>0</td>\n",
       "      <td>0</td>\n",
       "      <td>0</td>\n",
       "    </tr>\n",
       "    <tr>\n",
       "      <th>Jaime</th>\n",
       "      <td>10</td>\n",
       "      <td>1</td>\n",
       "      <td>0.666667</td>\n",
       "      <td>0</td>\n",
       "      <td>0.666667</td>\n",
       "      <td>0.666667</td>\n",
       "      <td>0.666667</td>\n",
       "      <td>0.666667</td>\n",
       "      <td>0</td>\n",
       "      <td>0.000000</td>\n",
       "      <td>...</td>\n",
       "      <td>0.000000</td>\n",
       "      <td>0</td>\n",
       "      <td>0</td>\n",
       "      <td>0.333333</td>\n",
       "      <td>0.333333</td>\n",
       "      <td>0.333333</td>\n",
       "      <td>0.000000</td>\n",
       "      <td>0</td>\n",
       "      <td>0</td>\n",
       "      <td>0</td>\n",
       "    </tr>\n",
       "  </tbody>\n",
       "</table>\n",
       "<p>10 rows × 69 columns</p>\n",
       "</div>"
      ],
      "text/plain": [
       "        Id Plan      Cine    Teatro  Cervezas      Vino    Fiesta    Viajes  \\\n",
       "Nombre                                                                        \n",
       "Marta    1    1  0.666667         0  0.666667  0.666667         0  0.666667   \n",
       "Juan     2    1  0.666667  0.666667  0.000000  0.666667  0.666667  0.000000   \n",
       "Monica   3    1  0.666667  0.666667  0.000000  0.000000         0  0.000000   \n",
       "Alvaro   4    1  0.666667  0.666667  0.666667  0.666667         0  0.666667   \n",
       "Maria    5    1  0.000000         0  0.000000  0.000000  0.666667  0.666667   \n",
       "Jesus    6    1  0.666667         0  0.666667  0.666667         0  0.666667   \n",
       "Alba     7    1  0.666667         0  0.666667  0.666667  0.666667  0.666667   \n",
       "Adolfo   8    1  0.666667         0  0.000000  0.666667         0  0.666667   \n",
       "Nuria    9    1  0.666667  0.666667  0.000000  0.666667         0  0.666667   \n",
       "Jaime   10    1  0.666667         0  0.666667  0.666667  0.666667  0.666667   \n",
       "\n",
       "            Rock       Pop  ... Electronico    Folk_i  Griendie      Sala  \\\n",
       "Nombre                      ...                                             \n",
       "Marta          0  0.666667  ...    0.333333         0         0         0   \n",
       "Juan           0  0.666667  ...    0.000000         0         0         0   \n",
       "Monica         0  0.000000  ...    0.333333         0         0  0.333333   \n",
       "Alvaro         0  0.000000  ...    0.000000  0.333333  0.333333  0.333333   \n",
       "Maria   0.666667  0.666667  ...    0.000000         0         0         0   \n",
       "Jesus   0.666667  0.000000  ...    0.000000         0  0.333333         0   \n",
       "Alba           0  0.666667  ...    0.000000         0         0         0   \n",
       "Adolfo  0.666667  0.000000  ...    0.000000         0         0         0   \n",
       "Nuria   0.666667  0.000000  ...    0.333333         0         0  0.333333   \n",
       "Jaime          0  0.000000  ...    0.000000         0         0  0.333333   \n",
       "\n",
       "               7        11   Vinyasa Kundalini    Bikram     Nidra  \n",
       "Nombre                                                              \n",
       "Marta          0         0  0.333333         0         0         0  \n",
       "Juan           0  0.333333  0.000000         0         0         0  \n",
       "Monica         0  0.333333  0.333333  0.333333         0         0  \n",
       "Alvaro         0         0  0.000000         0  0.333333  0.333333  \n",
       "Maria          0  0.333333  0.000000         0         0  0.333333  \n",
       "Jesus          0  0.333333  0.333333         0         0  0.333333  \n",
       "Alba           0         0  0.333333         0  0.333333         0  \n",
       "Adolfo  0.333333  0.333333  0.000000         0         0         0  \n",
       "Nuria          0  0.333333  0.000000         0         0         0  \n",
       "Jaime   0.333333  0.333333  0.000000         0         0         0  \n",
       "\n",
       "[10 rows x 69 columns]"
      ]
     },
     "execution_count": 28,
     "metadata": {},
     "output_type": "execute_result"
    }
   ],
   "source": [
    "data.set_index('Nombre', inplace=True)\n",
    "data"
   ]
  },
  {
   "cell_type": "code",
   "execution_count": 29,
   "metadata": {},
   "outputs": [],
   "source": [
    "# new user function\n",
    "\n",
    "\n",
    "def new_user(df, tags, Nombre, Id, Plan, Cine, Teatro, Cervezas, Vino, Fiesta, Viajes, Rock, Pop, Jazz, Techno,\n",
    "            RAP, Indie, Correr, Gym, Golf, Basket, Football, Yoga, Drama, Comedia_c, Terror, Anime,\n",
    "            Tragedia, Comedia_t, Mimica, Dramatico, Lager, PaleAle, Artesanas, Pilsener, Blanco,\n",
    "            Tinto, Rosado, Espumoso, Engrupo, Solo, Alternativo_r, Heavy, Country, Grunge, Latino,\n",
    "            Punk, Hard, Folk_p, Cool, Free, Smooth, Acid_j, Minimal, House, Hardcore, Acid_t, Gangsta,\n",
    "            Poetico, Politico, Instrumental, Alternativo_i, Electronico, Folk_i, Griendie,\n",
    "            Sala, Siete, Once, Vinyasa, Kundalini, Bikram, Nidra, metric='euclidean'):\n",
    "    \n",
    "    \n",
    "    rating=[Nombre, Id, Plan, Cine, Teatro, Cervezas, Vino, Fiesta, Viajes, Rock, Pop, Jazz, Techno,\n",
    "            RAP, Indie, Correr, Gym, Golf, Basket, Football, Yoga, Drama, Comedia_c, Terror, Anime,\n",
    "            Tragedia, Comedia_t, Mimica, Dramatico, Lager, PaleAle, Artesanas, Pilsener, Blanco,\n",
    "            Tinto, Rosado, Espumoso, Engrupo, Solo, Alternativo_r, Heavy, Country, Grunge, Latino,\n",
    "            Punk, Hard, Folk_p, Cool, Free, Smooth, Acid_j, Minimal, House, Hardcore, Acid_t, Gangsta,\n",
    "            Poetico, Politico, Instrumental, Alternativo_i, Electronico, Folk_i, Griendie,\n",
    "            Sala, Siete, Once, Vinyasa, Kundalini, Bikram, Nidra]\n",
    "    \n",
    "    \n",
    "    n_user={k:v for k, v in list(zip(tags, rating))}\n",
    "\n",
    "    names=list(df.index)\n",
    "    df=df.append(n_user, ignore_index=True)\n",
    "    names.append(Nombre)\n",
    "    df.index=names\n",
    "    df=df.drop(columns=['Nombre'])\n",
    "\n",
    "    similar = pd.DataFrame(1/(1 + squareform(pdist(df.iloc[:, 3:], metric))), \n",
    "                         index=df.index, columns=df.index)\n",
    "\n",
    "    similarities = similar[Nombre].sort_values(ascending=False)\n",
    "    \n",
    "    closer_users=[]\n",
    "    for e in similarities.index:\n",
    "        if df.ix[e].Plan==1:\n",
    "            closer_users.append(e)\n",
    "\n",
    "    return (list(map(list, zip(closer_users[:10], similarities.ix[closer_users[:10]]))), df)"
   ]
  },
  {
   "cell_type": "code",
   "execution_count": 30,
   "metadata": {},
   "outputs": [
    {
     "name": "stdout",
     "output_type": "stream",
     "text": [
      "Your name is:\n",
      "Julio\n"
     ]
    }
   ],
   "source": [
    "# new users ratings\n",
    "\n",
    "print ('Your name is:')\n",
    "Nombre=str(input())"
   ]
  },
  {
   "cell_type": "code",
   "execution_count": 31,
   "metadata": {},
   "outputs": [
    {
     "name": "stdout",
     "output_type": "stream",
     "text": [
      "Rate cine :\n",
      "1\n",
      "Rate drama :\n",
      "1\n",
      "Rate comedy :\n",
      "1\n",
      "Rate terror :\n",
      "0\n",
      "Rate anime :\n",
      "1\n"
     ]
    }
   ],
   "source": [
    "print('Rate cine :')\n",
    "Cine = int(input())*2/3 \n",
    "if Cine!=0:\n",
    "    print('Rate drama :')\n",
    "    Drama = int(input())*1/3\n",
    "    \n",
    "    print('Rate comedy :')\n",
    "    Comedia_c = int(input())*1/3\n",
    " \n",
    "    print('Rate terror :')\n",
    "    Terror = int(input())*1/3\n",
    " \n",
    "    print('Rate anime :')\n",
    "    Anime = int(input())*1/3\n",
    "\n",
    "else:\n",
    "    Drama = 0\n",
    "    Comedia_c = 0\n",
    "    Terror = 0\n",
    "    Anime = 0\n"
   ]
  },
  {
   "cell_type": "code",
   "execution_count": 32,
   "metadata": {},
   "outputs": [
    {
     "name": "stdout",
     "output_type": "stream",
     "text": [
      "Rate theater :\n",
      "0\n"
     ]
    }
   ],
   "source": [
    "print('Rate theater :')\n",
    "Teatro = int(input())*2/3 \n",
    "if Teatro!=0:\n",
    "    print('Rate tragedia :')\n",
    "    Tragedia = int(input())*1/3\n",
    "    \n",
    "    print('Rate comedy :')\n",
    "    Comedia_t = int(input())*1/3\n",
    " \n",
    "    print('Rate mimics :')\n",
    "    Mimica = int(input())*1/3\n",
    " \n",
    "    print('Rate drama :')\n",
    "    Dramatico = int(input())*1/3\n",
    "\n",
    "else:\n",
    "    Tragedia = 0\n",
    "    Comedia_t = 0\n",
    "    Mimica = 0\n",
    "    Dramatico = 0\n"
   ]
  },
  {
   "cell_type": "code",
   "execution_count": 33,
   "metadata": {},
   "outputs": [
    {
     "name": "stdout",
     "output_type": "stream",
     "text": [
      "Rate beers :\n",
      "1\n",
      "Rate lager :\n",
      "1\n",
      "Rate pale ale :\n",
      "1\n",
      "Rate home made beer :\n",
      "1\n",
      "Rate pilsener :\n",
      "1\n"
     ]
    }
   ],
   "source": [
    "print('Rate beers :')\n",
    "Cervezas = int(input())*2/3 \n",
    "if Cervezas!=0:\n",
    "    print('Rate lager :')\n",
    "    Lager = int(input())*1/3\n",
    "    \n",
    "    print('Rate pale ale :')\n",
    "    PaleAle = int(input())*1/3\n",
    " \n",
    "    print('Rate home made beer :')\n",
    "    Artesanas = int(input())*1/3\n",
    " \n",
    "    print('Rate pilsener :')\n",
    "    Pilsener = int(input())*1/3\n",
    "\n",
    "else:\n",
    "    Lager = 0\n",
    "    PaleAle = 0\n",
    "    Artesanas = 0\n",
    "    Pilsener = 0\n"
   ]
  },
  {
   "cell_type": "code",
   "execution_count": 34,
   "metadata": {},
   "outputs": [
    {
     "name": "stdout",
     "output_type": "stream",
     "text": [
      "Rate wine :\n",
      "1\n",
      "Rate white wine :\n",
      "1\n",
      "Rate red wine :\n",
      "0\n",
      "Rate pink wine :\n",
      "0\n",
      "Rate sparkling wine :\n",
      "1\n"
     ]
    }
   ],
   "source": [
    "print('Rate wine :')\n",
    "Vino = int(input())*2/3 \n",
    "if Vino!=0:\n",
    "    print('Rate white wine :')\n",
    "    Blanco = int(input())*1/3\n",
    "    \n",
    "    print('Rate red wine :')\n",
    "    Tinto = int(input())*1/3\n",
    " \n",
    "    print('Rate pink wine :')\n",
    "    Rosado = int(input())*1/3\n",
    " \n",
    "    print('Rate sparkling wine :')\n",
    "    Espumoso = int(input())*1/3\n",
    "\n",
    "else:\n",
    "    Blanco = 0\n",
    "    Tinto = 0\n",
    "    Rosado = 0\n",
    "    Espumoso = 0\n"
   ]
  },
  {
   "cell_type": "code",
   "execution_count": 35,
   "metadata": {},
   "outputs": [
    {
     "name": "stdout",
     "output_type": "stream",
     "text": [
      "Rate party :\n",
      "1\n"
     ]
    }
   ],
   "source": [
    "print('Rate party :')\n",
    "Fiesta = int(input())*2/3 "
   ]
  },
  {
   "cell_type": "code",
   "execution_count": 36,
   "metadata": {},
   "outputs": [
    {
     "name": "stdout",
     "output_type": "stream",
     "text": [
      "Rate trips :\n",
      "1\n",
      "Rate trips in group :\n",
      "1\n",
      "Rate trips alone :\n",
      "1\n"
     ]
    }
   ],
   "source": [
    "print('Rate trips :')\n",
    "Viajes = int(input())*2/3 \n",
    "if Viajes!=0:\n",
    "    print('Rate trips in group :')\n",
    "    Engrupo = int(input())*1/3\n",
    "    \n",
    "    print('Rate trips alone :')\n",
    "    Solo = int(input())*1/3\n",
    "\n",
    "\n",
    "else:\n",
    "    Engrupo = 0\n",
    "    Solo = 0\n"
   ]
  },
  {
   "cell_type": "code",
   "execution_count": 37,
   "metadata": {},
   "outputs": [
    {
     "name": "stdout",
     "output_type": "stream",
     "text": [
      "Rate rock :\n",
      "1\n",
      "Rate alternative rock :\n",
      "0\n",
      "Rate heavy :\n",
      "1\n",
      "Rate country :\n",
      "0\n",
      "Rate Grunge :\n",
      "1\n"
     ]
    }
   ],
   "source": [
    "print('Rate rock :')\n",
    "Rock = int(input())*2/3 \n",
    "if Rock!=0:\n",
    "    print('Rate alternative rock :')\n",
    "    Alternativo_r = int(input())*1/3\n",
    "    \n",
    "    print('Rate heavy :')\n",
    "    Heavy = int(input())*1/3\n",
    " \n",
    "    print('Rate country :')\n",
    "    Country = int(input())*1/3\n",
    " \n",
    "    print('Rate Grunge :')\n",
    "    Grunge = int(input())*1/3\n",
    "\n",
    "else:\n",
    "    Alternativo_r = 0\n",
    "    Heavy = 0\n",
    "    Country = 0\n",
    "    Grunge = 0\n"
   ]
  },
  {
   "cell_type": "code",
   "execution_count": 38,
   "metadata": {},
   "outputs": [
    {
     "name": "stdout",
     "output_type": "stream",
     "text": [
      "Rate pop :\n",
      "0\n"
     ]
    }
   ],
   "source": [
    "print('Rate pop :')\n",
    "Pop = int(input())*2/3 \n",
    "if Pop!=0:\n",
    "    print('Rate latino pop :')\n",
    "    Latino = int(input())*1/3\n",
    "    \n",
    "    print('Rate punk :')\n",
    "    Punk = int(input())*1/3\n",
    " \n",
    "    print('Rate hard :')\n",
    "    Hard = int(input())*1/3\n",
    " \n",
    "    print('Rate folk :')\n",
    "    Folk_p = int(input())*1/3\n",
    "\n",
    "else:\n",
    "    Latino = 0\n",
    "    Punk = 0\n",
    "    Hard = 0\n",
    "    Folk_p = 0\n"
   ]
  },
  {
   "cell_type": "code",
   "execution_count": 39,
   "metadata": {},
   "outputs": [
    {
     "name": "stdout",
     "output_type": "stream",
     "text": [
      "Rate jazz :\n",
      "1\n",
      "Rate cool jazz :\n",
      "0\n",
      "Rate free jazz :\n",
      "1\n",
      "Rate smooth jazz :\n",
      "0\n",
      "Rate acid jazz :\n",
      "1\n"
     ]
    }
   ],
   "source": [
    "print('Rate jazz :')\n",
    "Jazz = int(input())*2/3 \n",
    "if Jazz!=0:\n",
    "    print('Rate cool jazz :')\n",
    "    Cool = int(input())*1/3\n",
    "    \n",
    "    print('Rate free jazz :')\n",
    "    Free = int(input())*1/3\n",
    " \n",
    "    print('Rate smooth jazz :')\n",
    "    Smooth = int(input())*1/3\n",
    " \n",
    "    print('Rate acid jazz :')\n",
    "    Acid_j = int(input())*1/3\n",
    "\n",
    "else:\n",
    "    Cool = 0\n",
    "    Free = 0\n",
    "    Smooth = 0\n",
    "    Acid_j = 0\n"
   ]
  },
  {
   "cell_type": "code",
   "execution_count": 40,
   "metadata": {},
   "outputs": [
    {
     "name": "stdout",
     "output_type": "stream",
     "text": [
      "Rate techno :\n",
      "0\n"
     ]
    }
   ],
   "source": [
    "print('Rate techno :')\n",
    "Techno = int(input())*2/3 \n",
    "if Techno!=0:\n",
    "    print('Rate minimal :')\n",
    "    Minimal = int(input())*1/3\n",
    "    \n",
    "    print('Rate house :')\n",
    "    House = int(input())*1/3\n",
    " \n",
    "    print('Rate hardcore :')\n",
    "    Hardcore = int(input())*1/3\n",
    " \n",
    "    print('Rate acid techno :')\n",
    "    Acid_t = int(input())*1/3\n",
    "\n",
    "else:\n",
    "    Minimal = 0\n",
    "    House = 0\n",
    "    Hardcore = 0\n",
    "    Acid_t = 0\n"
   ]
  },
  {
   "cell_type": "code",
   "execution_count": 41,
   "metadata": {},
   "outputs": [
    {
     "name": "stdout",
     "output_type": "stream",
     "text": [
      "Rate rap :\n",
      "0\n"
     ]
    }
   ],
   "source": [
    "print('Rate rap :')\n",
    "RAP = int(input())*2/3 \n",
    "if RAP!=0:\n",
    "    print('Rate gangsta :')\n",
    "    Gangsta = int(input())*1/3\n",
    "    \n",
    "    print('Rate poetic rap :')\n",
    "    Poetico = int(input())*1/3\n",
    " \n",
    "    print('Rate politic rap :')\n",
    "    Politico = int(input())*1/3\n",
    " \n",
    "    print('Rate instrumental rap :')\n",
    "    Instrumental = int(input())*1/3\n",
    "\n",
    "else:\n",
    "    Gangsta = 0\n",
    "    Poetico = 0\n",
    "    Politico = 0\n",
    "    Instrumental = 0\n"
   ]
  },
  {
   "cell_type": "code",
   "execution_count": 42,
   "metadata": {},
   "outputs": [
    {
     "name": "stdout",
     "output_type": "stream",
     "text": [
      "Rate indie :\n",
      "1\n",
      "Rate alternative indie :\n",
      "1\n",
      "Rate electronic indie :\n",
      "1\n",
      "Rate folk indie :\n",
      "0\n",
      "Rate Griendie :\n",
      "1\n"
     ]
    }
   ],
   "source": [
    "print('Rate indie :')\n",
    "Indie = int(input())*2/3 \n",
    "if Indie!=0:\n",
    "    print('Rate alternative indie :')\n",
    "    Alternativo_i = int(input())*1/3\n",
    "    \n",
    "    print('Rate electronic indie :')\n",
    "    Electronico = int(input())*1/3\n",
    " \n",
    "    print('Rate folk indie :')\n",
    "    Folk_i = int(input())*1/3\n",
    " \n",
    "    print('Rate Griendie :')\n",
    "    Griendie = int(input())*1/3\n",
    "\n",
    "else:\n",
    "    Alternativo_i = 0\n",
    "    Electronico = 0\n",
    "    Folk_i = 0\n",
    "    Griendie = 0\n"
   ]
  },
  {
   "cell_type": "code",
   "execution_count": 43,
   "metadata": {},
   "outputs": [
    {
     "name": "stdout",
     "output_type": "stream",
     "text": [
      "Rate running :\n",
      "1\n"
     ]
    }
   ],
   "source": [
    "print('Rate running :')\n",
    "Correr = int(input())*2/3 "
   ]
  },
  {
   "cell_type": "code",
   "execution_count": 44,
   "metadata": {},
   "outputs": [
    {
     "name": "stdout",
     "output_type": "stream",
     "text": [
      "Rate gym :\n",
      "0\n"
     ]
    }
   ],
   "source": [
    "print('Rate gym :')\n",
    "Gym = int(input())*2/3 "
   ]
  },
  {
   "cell_type": "code",
   "execution_count": 45,
   "metadata": {},
   "outputs": [
    {
     "name": "stdout",
     "output_type": "stream",
     "text": [
      "Rate golf :\n",
      "0\n"
     ]
    }
   ],
   "source": [
    "print('Rate golf :')\n",
    "Golf = int(input())*2/3 "
   ]
  },
  {
   "cell_type": "code",
   "execution_count": 46,
   "metadata": {},
   "outputs": [
    {
     "name": "stdout",
     "output_type": "stream",
     "text": [
      "Rate basket :\n",
      "1\n"
     ]
    }
   ],
   "source": [
    "print('Rate basket :')\n",
    "Basket = int(input())*2/3 "
   ]
  },
  {
   "cell_type": "code",
   "execution_count": 47,
   "metadata": {},
   "outputs": [
    {
     "name": "stdout",
     "output_type": "stream",
     "text": [
      "Rate football :\n",
      "1\n",
      "Rate indoor football :\n",
      "0\n",
      "Rate football 7 :\n",
      "0\n",
      "Rate football 11 :\n",
      "1\n"
     ]
    }
   ],
   "source": [
    "print('Rate football :')\n",
    "Football = int(input())*2/3 \n",
    "if Football!=0:\n",
    "    print('Rate indoor football :')\n",
    "    Sala = int(input())*1/3\n",
    "    \n",
    "    print('Rate football 7 :')\n",
    "    Siete = int(input())*1/3\n",
    " \n",
    "    print('Rate football 11 :')\n",
    "    Once = int(input())*1/3\n",
    "\n",
    "\n",
    "else:\n",
    "    Sala = 0\n",
    "    Siete = 0\n",
    "    Once = 0\n"
   ]
  },
  {
   "cell_type": "code",
   "execution_count": 48,
   "metadata": {},
   "outputs": [
    {
     "name": "stdout",
     "output_type": "stream",
     "text": [
      "Rate yoga :\n",
      "1\n",
      "Rate vinyasa yoga :\n",
      "1\n",
      "Rate kundalini yoga :\n",
      "1\n",
      "Rate bikram yoga :\n",
      "0\n",
      "Rate nidra yoga :\n",
      "0\n"
     ]
    }
   ],
   "source": [
    "print('Rate yoga :')\n",
    "Yoga = int(input())*2/3 \n",
    "if Yoga!=0:\n",
    "    print('Rate vinyasa yoga :')\n",
    "    Vinyasa = int(input())*1/3\n",
    "    \n",
    "    print('Rate kundalini yoga :')\n",
    "    Kundalini = int(input())*1/3\n",
    " \n",
    "    print('Rate bikram yoga :')\n",
    "    Bikram = int(input())*1/3\n",
    " \n",
    "    print('Rate nidra yoga :')\n",
    "    Nidra = int(input())*1/3\n",
    "\n",
    "else:\n",
    "    Vinyasa = 0\n",
    "    Kundalini = 0\n",
    "    Bikram = 0\n",
    "    Nidra = 0"
   ]
  },
  {
   "cell_type": "raw",
   "metadata": {},
   "source": [
    "# metrics for squareform\n",
    "\n",
    "'''\n",
    "'euclidean', 'minkowski', 'cityblock', 'seuclidean', 'sqeuclidean', 'cosine', 'correlation'\n",
    "\n",
    "'hamming', 'jaccard', 'chebyshev', 'canberra', 'braycurtis', 'mahalanobis', 'yule'\n",
    "\n",
    "'matching', 'dice', 'kulsinski', 'rogerstanimoto', 'russellrao', 'sokalmichener'\n",
    "\n",
    "'sokalsneath', 'wminkowski'\n",
    "'''\n",
    "\n",
    "\n",
    "#metric='cosine' "
   ]
  },
  {
   "cell_type": "code",
   "execution_count": 49,
   "metadata": {},
   "outputs": [],
   "source": [
    "res_n_user=new_user(data, columnas, Nombre, len(data)+1, 0, Cine, Teatro, Cervezas, Vino, Fiesta, \n",
    "                    Viajes, Rock, Pop, Jazz, Techno, RAP, Indie, Correr, Gym, Golf, Basket, \n",
    "                    Football, Yoga, Drama, Comedia_c, Terror, Anime, Tragedia, Comedia_t, Mimica, \n",
    "                    Dramatico, Lager, PaleAle, Artesanas, Pilsener, Blanco, Tinto, Rosado, Espumoso, \n",
    "                    Engrupo, Solo, Alternativo_r, Heavy, Country, Grunge, Latino,Punk, Hard, Folk_p, \n",
    "                    Cool, Free, Smooth, Acid_j, Minimal, House, Hardcore, Acid_t, Gangsta, Poetico, \n",
    "                    Politico, Instrumental, Alternativo_i, Electronico, Folk_i, Griendie,\n",
    "                    Sala, Siete, Once, Vinyasa, Kundalini, Bikram, Nidra)"
   ]
  },
  {
   "cell_type": "code",
   "execution_count": 50,
   "metadata": {},
   "outputs": [],
   "source": [
    "plans=res_n_user[0]\n",
    "data=res_n_user[1]"
   ]
  },
  {
   "cell_type": "code",
   "execution_count": 51,
   "metadata": {},
   "outputs": [
    {
     "name": "stdout",
     "output_type": "stream",
     "text": [
      "Similar users with plan : \n",
      "Jesus\n",
      "Nuria\n",
      "Jaime\n",
      "Maria\n",
      "Adolfo\n",
      "Alba\n",
      "Alvaro\n",
      "Marta\n",
      "Monica\n",
      "Juan\n"
     ]
    }
   ],
   "source": [
    "print ('Similar users with plan : ')\n",
    "for e in plans:\n",
    "    print (e[0])\n",
    "    \n",
    "\n",
    "final=pd.DataFrame()\n",
    "final['plan_ori_id']=[e[0] for e in plans]\n",
    "final['original_similarity']=[e[1] for e in plans]"
   ]
  },
  {
   "cell_type": "code",
   "execution_count": 52,
   "metadata": {},
   "outputs": [
    {
     "name": "stdout",
     "output_type": "stream",
     "text": [
      "\n",
      "Follow user Jesus?\n",
      "1\n",
      "\n",
      "Follow user Nuria?\n",
      "1\n",
      "\n",
      "Follow user Jaime?\n",
      "1\n",
      "\n",
      "Follow user Maria?\n",
      "1\n",
      "\n",
      "Follow user Adolfo?\n",
      "0\n",
      "\n",
      "Follow user Alba?\n",
      "0\n",
      "\n",
      "Follow user Alvaro?\n",
      "0\n",
      "\n",
      "Follow user Marta?\n",
      "1\n",
      "\n",
      "Follow user Monica?\n",
      "0\n",
      "\n",
      "Follow user Juan?\n",
      "1\n",
      "\n"
     ]
    }
   ],
   "source": [
    "# follow-unfollow users\n",
    "foll=plans\n",
    "\n",
    "def follow(_id, b, foll):\n",
    "    if b==0: return foll\n",
    "    elif b==1:\n",
    "        for e in foll:\n",
    "            if _id==e[0]:\n",
    "                e[1]+=e[1]*0.15\n",
    "        for e in foll:\n",
    "            if e[1]>1:e[1]=1\n",
    "        return foll\n",
    "\n",
    "print ()\n",
    "for e in foll:\n",
    "    print ('Follow user {}?'.format(e[0]))\n",
    "    b=int(input())\n",
    "    f=follow(e[0], b, foll)\n",
    "    #print (f)\n",
    "    print()\n",
    "#final['follow_id']=[e[0] for e in f]\n",
    "final['after_follow_similarity']=[e[1] for e in f]"
   ]
  },
  {
   "cell_type": "code",
   "execution_count": 53,
   "metadata": {},
   "outputs": [
    {
     "data": {
      "text/html": [
       "<div>\n",
       "<style scoped>\n",
       "    .dataframe tbody tr th:only-of-type {\n",
       "        vertical-align: middle;\n",
       "    }\n",
       "\n",
       "    .dataframe tbody tr th {\n",
       "        vertical-align: top;\n",
       "    }\n",
       "\n",
       "    .dataframe thead th {\n",
       "        text-align: right;\n",
       "    }\n",
       "</style>\n",
       "<table border=\"1\" class=\"dataframe\">\n",
       "  <thead>\n",
       "    <tr style=\"text-align: right;\">\n",
       "      <th></th>\n",
       "      <th>plan_ori_id</th>\n",
       "      <th>original_similarity</th>\n",
       "      <th>after_follow_similarity</th>\n",
       "    </tr>\n",
       "  </thead>\n",
       "  <tbody>\n",
       "    <tr>\n",
       "      <th>0</th>\n",
       "      <td>Jesus</td>\n",
       "      <td>0.350150</td>\n",
       "      <td>0.402672</td>\n",
       "    </tr>\n",
       "    <tr>\n",
       "      <th>1</th>\n",
       "      <td>Nuria</td>\n",
       "      <td>0.316431</td>\n",
       "      <td>0.363896</td>\n",
       "    </tr>\n",
       "    <tr>\n",
       "      <th>2</th>\n",
       "      <td>Jaime</td>\n",
       "      <td>0.311421</td>\n",
       "      <td>0.358135</td>\n",
       "    </tr>\n",
       "    <tr>\n",
       "      <th>3</th>\n",
       "      <td>Maria</td>\n",
       "      <td>0.311421</td>\n",
       "      <td>0.358135</td>\n",
       "    </tr>\n",
       "    <tr>\n",
       "      <th>4</th>\n",
       "      <td>Adolfo</td>\n",
       "      <td>0.302169</td>\n",
       "      <td>0.302169</td>\n",
       "    </tr>\n",
       "    <tr>\n",
       "      <th>5</th>\n",
       "      <td>Alba</td>\n",
       "      <td>0.297883</td>\n",
       "      <td>0.297883</td>\n",
       "    </tr>\n",
       "    <tr>\n",
       "      <th>6</th>\n",
       "      <td>Alvaro</td>\n",
       "      <td>0.293798</td>\n",
       "      <td>0.293798</td>\n",
       "    </tr>\n",
       "    <tr>\n",
       "      <th>7</th>\n",
       "      <td>Marta</td>\n",
       "      <td>0.289898</td>\n",
       "      <td>0.333383</td>\n",
       "    </tr>\n",
       "    <tr>\n",
       "      <th>8</th>\n",
       "      <td>Monica</td>\n",
       "      <td>0.277514</td>\n",
       "      <td>0.277514</td>\n",
       "    </tr>\n",
       "    <tr>\n",
       "      <th>9</th>\n",
       "      <td>Juan</td>\n",
       "      <td>0.248851</td>\n",
       "      <td>0.286179</td>\n",
       "    </tr>\n",
       "  </tbody>\n",
       "</table>\n",
       "</div>"
      ],
      "text/plain": [
       "  plan_ori_id  original_similarity  after_follow_similarity\n",
       "0       Jesus             0.350150                 0.402672\n",
       "1       Nuria             0.316431                 0.363896\n",
       "2       Jaime             0.311421                 0.358135\n",
       "3       Maria             0.311421                 0.358135\n",
       "4      Adolfo             0.302169                 0.302169\n",
       "5        Alba             0.297883                 0.297883\n",
       "6      Alvaro             0.293798                 0.293798\n",
       "7       Marta             0.289898                 0.333383\n",
       "8      Monica             0.277514                 0.277514\n",
       "9        Juan             0.248851                 0.286179"
      ]
     },
     "execution_count": 53,
     "metadata": {},
     "output_type": "execute_result"
    }
   ],
   "source": [
    "final"
   ]
  },
  {
   "cell_type": "code",
   "execution_count": 54,
   "metadata": {},
   "outputs": [
    {
     "name": "stdout",
     "output_type": "stream",
     "text": [
      "\n",
      "Do you like the user Jesus plan?\n",
      "0\n",
      "\n",
      "Do you like the user Nuria plan?\n",
      "1\n",
      "\n",
      "Do you like the user Jaime plan?\n",
      "1\n",
      "\n",
      "Do you like the user Maria plan?\n",
      "1\n",
      "\n",
      "Do you like the user Adolfo plan?\n",
      "0\n",
      "\n",
      "Do you like the user Alba plan?\n",
      "1\n",
      "\n",
      "Do you like the user Alvaro plan?\n",
      "0\n",
      "\n",
      "Do you like the user Marta plan?\n",
      "1\n",
      "\n",
      "Do you like the user Monica plan?\n",
      "0\n",
      "\n",
      "Do you like the user Juan plan?\n",
      "1\n",
      "\n"
     ]
    }
   ],
   "source": [
    "w_likes=foll\n",
    "def like(_id, b, serie_like):\n",
    "    if b==0: return serie_like\n",
    "    elif b==1:\n",
    "        for e in serie_like:\n",
    "            if _id==e[0]:\n",
    "                e[1]+=0.01\n",
    "        for e in serie_like:\n",
    "            if e[1]>1:e[1]=1\n",
    "        return serie_like\n",
    "\n",
    "print ()\n",
    "for e in w_likes:\n",
    "    print ('Do you like the user {} plan?'.format(e[0]))\n",
    "    b=int(input())\n",
    "    l=like(e[0], b, w_likes)\n",
    "    print()\n",
    "final['with likes after follow']=[e[1] for e in f]"
   ]
  },
  {
   "cell_type": "code",
   "execution_count": 55,
   "metadata": {},
   "outputs": [
    {
     "name": "stdout",
     "output_type": "stream",
     "text": [
      "\n",
      "Unfollow user Jesus?\n",
      "0\n",
      "\n",
      "Unfollow user Nuria?\n",
      "1\n",
      "\n",
      "Unfollow user Jaime?\n",
      "0\n",
      "\n",
      "Unfollow user Maria?\n",
      "1\n",
      "\n",
      "Unfollow user Adolfo?\n",
      "1\n",
      "\n",
      "Unfollow user Alba?\n",
      "0\n",
      "\n",
      "Unfollow user Alvaro?\n",
      "1\n",
      "\n",
      "Unfollow user Marta?\n",
      "0\n",
      "\n",
      "Unfollow user Monica?\n",
      "0\n",
      "\n",
      "Unfollow user Juan?\n",
      "0\n",
      "\n"
     ]
    },
    {
     "data": {
      "text/html": [
       "<div>\n",
       "<style scoped>\n",
       "    .dataframe tbody tr th:only-of-type {\n",
       "        vertical-align: middle;\n",
       "    }\n",
       "\n",
       "    .dataframe tbody tr th {\n",
       "        vertical-align: top;\n",
       "    }\n",
       "\n",
       "    .dataframe thead th {\n",
       "        text-align: right;\n",
       "    }\n",
       "</style>\n",
       "<table border=\"1\" class=\"dataframe\">\n",
       "  <thead>\n",
       "    <tr style=\"text-align: right;\">\n",
       "      <th></th>\n",
       "      <th>plan_ori_id</th>\n",
       "      <th>original_similarity</th>\n",
       "      <th>after_follow_similarity</th>\n",
       "      <th>with likes after follow</th>\n",
       "      <th>after_unfollow_similarity</th>\n",
       "    </tr>\n",
       "  </thead>\n",
       "  <tbody>\n",
       "    <tr>\n",
       "      <th>0</th>\n",
       "      <td>Jesus</td>\n",
       "      <td>0.350150</td>\n",
       "      <td>0.402672</td>\n",
       "      <td>0.402672</td>\n",
       "      <td>0.402672</td>\n",
       "    </tr>\n",
       "    <tr>\n",
       "      <th>1</th>\n",
       "      <td>Nuria</td>\n",
       "      <td>0.316431</td>\n",
       "      <td>0.363896</td>\n",
       "      <td>0.373896</td>\n",
       "      <td>0.317811</td>\n",
       "    </tr>\n",
       "    <tr>\n",
       "      <th>2</th>\n",
       "      <td>Jaime</td>\n",
       "      <td>0.311421</td>\n",
       "      <td>0.358135</td>\n",
       "      <td>0.368135</td>\n",
       "      <td>0.368135</td>\n",
       "    </tr>\n",
       "    <tr>\n",
       "      <th>3</th>\n",
       "      <td>Maria</td>\n",
       "      <td>0.311421</td>\n",
       "      <td>0.358135</td>\n",
       "      <td>0.368135</td>\n",
       "      <td>0.312914</td>\n",
       "    </tr>\n",
       "    <tr>\n",
       "      <th>4</th>\n",
       "      <td>Adolfo</td>\n",
       "      <td>0.302169</td>\n",
       "      <td>0.302169</td>\n",
       "      <td>0.302169</td>\n",
       "      <td>0.256844</td>\n",
       "    </tr>\n",
       "    <tr>\n",
       "      <th>5</th>\n",
       "      <td>Alba</td>\n",
       "      <td>0.297883</td>\n",
       "      <td>0.297883</td>\n",
       "      <td>0.307883</td>\n",
       "      <td>0.307883</td>\n",
       "    </tr>\n",
       "    <tr>\n",
       "      <th>6</th>\n",
       "      <td>Alvaro</td>\n",
       "      <td>0.293798</td>\n",
       "      <td>0.293798</td>\n",
       "      <td>0.293798</td>\n",
       "      <td>0.249728</td>\n",
       "    </tr>\n",
       "    <tr>\n",
       "      <th>7</th>\n",
       "      <td>Marta</td>\n",
       "      <td>0.289898</td>\n",
       "      <td>0.333383</td>\n",
       "      <td>0.343383</td>\n",
       "      <td>0.343383</td>\n",
       "    </tr>\n",
       "    <tr>\n",
       "      <th>8</th>\n",
       "      <td>Monica</td>\n",
       "      <td>0.277514</td>\n",
       "      <td>0.277514</td>\n",
       "      <td>0.277514</td>\n",
       "      <td>0.277514</td>\n",
       "    </tr>\n",
       "    <tr>\n",
       "      <th>9</th>\n",
       "      <td>Juan</td>\n",
       "      <td>0.248851</td>\n",
       "      <td>0.286179</td>\n",
       "      <td>0.296179</td>\n",
       "      <td>0.296179</td>\n",
       "    </tr>\n",
       "  </tbody>\n",
       "</table>\n",
       "</div>"
      ],
      "text/plain": [
       "  plan_ori_id  original_similarity  after_follow_similarity  \\\n",
       "0       Jesus             0.350150                 0.402672   \n",
       "1       Nuria             0.316431                 0.363896   \n",
       "2       Jaime             0.311421                 0.358135   \n",
       "3       Maria             0.311421                 0.358135   \n",
       "4      Adolfo             0.302169                 0.302169   \n",
       "5        Alba             0.297883                 0.297883   \n",
       "6      Alvaro             0.293798                 0.293798   \n",
       "7       Marta             0.289898                 0.333383   \n",
       "8      Monica             0.277514                 0.277514   \n",
       "9        Juan             0.248851                 0.286179   \n",
       "\n",
       "   with likes after follow  after_unfollow_similarity  \n",
       "0                 0.402672                   0.402672  \n",
       "1                 0.373896                   0.317811  \n",
       "2                 0.368135                   0.368135  \n",
       "3                 0.368135                   0.312914  \n",
       "4                 0.302169                   0.256844  \n",
       "5                 0.307883                   0.307883  \n",
       "6                 0.293798                   0.249728  \n",
       "7                 0.343383                   0.343383  \n",
       "8                 0.277514                   0.277514  \n",
       "9                 0.296179                   0.296179  "
      ]
     },
     "metadata": {},
     "output_type": "display_data"
    }
   ],
   "source": [
    "unfoll=w_likes\n",
    "def unfollow(_id, b, unfoll):\n",
    "    if b==0: return unfoll\n",
    "    elif b==1:\n",
    "        for e in unfoll:\n",
    "            if _id==e[0]:\n",
    "                e[1]-=e[1]*0.15\n",
    "        for e in unfoll:\n",
    "            if e[1]<0:e[1]=0\n",
    "        return unfoll#sorted(unfoll, key=itemgetter(1), reverse=True)\n",
    "\n",
    "print ()\n",
    "for e in unfoll:\n",
    "    print ('Unfollow user {}?'.format(e[0]))\n",
    "    b=int(input())\n",
    "    u=unfollow(e[0], b, unfoll)\n",
    "    #print (u)\n",
    "    print()\n",
    "#final['unfollow_id']=[e[0] for e in u]\n",
    "final['after_unfollow_similarity']=[e[1] for e in u]\n",
    "display (final)"
   ]
  },
  {
   "cell_type": "code",
   "execution_count": 56,
   "metadata": {},
   "outputs": [
    {
     "name": "stdout",
     "output_type": "stream",
     "text": [
      "\n",
      "Do you like the user Jesus plan?\n",
      "1\n",
      "\n",
      "Do you like the user Nuria plan?\n",
      "1\n",
      "\n",
      "Do you like the user Jaime plan?\n",
      "1\n",
      "\n",
      "Do you like the user Maria plan?\n",
      "1\n",
      "\n",
      "Do you like the user Adolfo plan?\n",
      "0\n",
      "\n",
      "Do you like the user Alba plan?\n",
      "0\n",
      "\n",
      "Do you like the user Alvaro plan?\n",
      "0\n",
      "\n",
      "Do you like the user Marta plan?\n",
      "0\n",
      "\n",
      "Do you like the user Monica plan?\n",
      "1\n",
      "\n",
      "Do you like the user Juan plan?\n",
      "0\n",
      "\n"
     ]
    }
   ],
   "source": [
    "w_likes_un=unfoll\n",
    "def like_un(_id, b, serie_like):\n",
    "    if b==0: return serie_like\n",
    "    elif b==1:\n",
    "        for e in serie_like:\n",
    "            if _id==e[0]:\n",
    "                e[1]+=0.01\n",
    "        for e in serie_like:\n",
    "            if e[1]>1:e[1]=1\n",
    "        return serie_like\n",
    "\n",
    "print ()\n",
    "for e in w_likes_un:\n",
    "    print ('Do you like the user {} plan?'.format(e[0]))\n",
    "    b=int(input())\n",
    "    l=like_un(e[0], b, w_likes_un)\n",
    "    print()\n",
    "final['with likes after unfollow']=[e[1] for e in f]"
   ]
  },
  {
   "cell_type": "code",
   "execution_count": 57,
   "metadata": {},
   "outputs": [
    {
     "data": {
      "application/vnd.plotly.v1+json": {
       "config": {
        "linkText": "Export to plot.ly",
        "plotlyServerURL": "https://plot.ly",
        "responsive": true,
        "showLink": true
       },
       "data": [
        {
         "marker": {
          "color": "rgba(255, 153, 51, 0.6)",
          "line": {
           "color": "rgba(255, 153, 51, 1.0)",
           "width": 1
          }
         },
         "name": "original_similarity",
         "orientation": "v",
         "text": "",
         "type": "bar",
         "uid": "7a03af6d-5a1c-4a1f-93d9-87df8dc52ad1",
         "x": [
          "Jesus",
          "Nuria",
          "Jaime",
          "Maria",
          "Adolfo",
          "Alba",
          "Alvaro",
          "Marta",
          "Monica",
          "Juan"
         ],
         "y": [
          0.35014968584045747,
          0.3164309725825327,
          0.31142139263235424,
          0.31142139263235424,
          0.3021694792519622,
          0.29788301062430306,
          0.2937978523903241,
          0.2898979485566356,
          0.27751440437923003,
          0.24885144403304457
         ]
        },
        {
         "marker": {
          "color": "rgba(55, 128, 191, 0.6)",
          "line": {
           "color": "rgba(55, 128, 191, 1.0)",
           "width": 1
          }
         },
         "name": "after_follow_similarity",
         "orientation": "v",
         "text": "",
         "type": "bar",
         "uid": "58ec93d5-bd01-4098-a7c3-0ae562452ca1",
         "x": [
          "Jesus",
          "Nuria",
          "Jaime",
          "Maria",
          "Adolfo",
          "Alba",
          "Alvaro",
          "Marta",
          "Monica",
          "Juan"
         ],
         "y": [
          0.4026721387165261,
          0.36389561846991264,
          0.3581346015272074,
          0.3581346015272074,
          0.3021694792519622,
          0.29788301062430306,
          0.2937978523903241,
          0.3333826408401309,
          0.27751440437923003,
          0.28617916063800125
         ]
        },
        {
         "marker": {
          "color": "rgba(50, 171, 96, 0.6)",
          "line": {
           "color": "rgba(50, 171, 96, 1.0)",
           "width": 1
          }
         },
         "name": "with likes after follow",
         "orientation": "v",
         "text": "",
         "type": "bar",
         "uid": "7646f2a3-98bd-4b0f-a84f-8fc5a413bd7f",
         "x": [
          "Jesus",
          "Nuria",
          "Jaime",
          "Maria",
          "Adolfo",
          "Alba",
          "Alvaro",
          "Marta",
          "Monica",
          "Juan"
         ],
         "y": [
          0.4026721387165261,
          0.37389561846991265,
          0.3681346015272074,
          0.3681346015272074,
          0.3021694792519622,
          0.30788301062430307,
          0.2937978523903241,
          0.3433826408401309,
          0.27751440437923003,
          0.29617916063800126
         ]
        },
        {
         "marker": {
          "color": "rgba(128, 0, 128, 0.6)",
          "line": {
           "color": "rgba(128, 0, 128, 1.0)",
           "width": 1
          }
         },
         "name": "after_unfollow_similarity",
         "orientation": "v",
         "text": "",
         "type": "bar",
         "uid": "5c0c167c-e99a-43e7-851c-3fc5af7417ce",
         "x": [
          "Jesus",
          "Nuria",
          "Jaime",
          "Maria",
          "Adolfo",
          "Alba",
          "Alvaro",
          "Marta",
          "Monica",
          "Juan"
         ],
         "y": [
          0.4026721387165261,
          0.31781127569942574,
          0.3681346015272074,
          0.3129144112981263,
          0.2568440573641679,
          0.30788301062430307,
          0.24972817453177548,
          0.3433826408401309,
          0.27751440437923003,
          0.29617916063800126
         ]
        },
        {
         "marker": {
          "color": "rgba(219, 64, 82, 0.6)",
          "line": {
           "color": "rgba(219, 64, 82, 1.0)",
           "width": 1
          }
         },
         "name": "with likes after unfollow",
         "orientation": "v",
         "text": "",
         "type": "bar",
         "uid": "2d6023d0-38c0-40d7-8a9a-ae82cf637fc8",
         "x": [
          "Jesus",
          "Nuria",
          "Jaime",
          "Maria",
          "Adolfo",
          "Alba",
          "Alvaro",
          "Marta",
          "Monica",
          "Juan"
         ],
         "y": [
          0.4126721387165261,
          0.32781127569942575,
          0.3781346015272074,
          0.3229144112981263,
          0.2568440573641679,
          0.30788301062430307,
          0.24972817453177548,
          0.3433826408401309,
          0.28751440437923004,
          0.29617916063800126
         ]
        }
       ],
       "layout": {
        "legend": {
         "bgcolor": "#F5F6F9",
         "font": {
          "color": "#4D5663"
         }
        },
        "paper_bgcolor": "#F5F6F9",
        "plot_bgcolor": "#F5F6F9",
        "title": {
         "font": {
          "color": "#4D5663"
         },
         "text": "Similarities with Julio"
        },
        "xaxis": {
         "gridcolor": "#E1E5ED",
         "showgrid": true,
         "tickfont": {
          "color": "#4D5663"
         },
         "title": {
          "font": {
           "color": "#4D5663"
          },
          "text": "Users"
         },
         "zerolinecolor": "#E1E5ED"
        },
        "yaxis": {
         "gridcolor": "#E1E5ED",
         "showgrid": true,
         "tickfont": {
          "color": "#4D5663"
         },
         "title": {
          "font": {
           "color": "#4D5663"
          },
          "text": "Similarity"
         },
         "zerolinecolor": "#E1E5ED"
        }
       }
      },
      "text/html": [
       "<div>\n",
       "        \n",
       "        \n",
       "            <div id=\"cb23612a-9452-426d-a134-2eac788143f7\" class=\"plotly-graph-div\" style=\"height:525px; width:100%;\"></div>\n",
       "            <script type=\"text/javascript\">\n",
       "                require([\"plotly\"], function(Plotly) {\n",
       "                    window.PLOTLYENV=window.PLOTLYENV || {};\n",
       "                    window.PLOTLYENV.BASE_URL='https://plot.ly';\n",
       "                    \n",
       "                if (document.getElementById(\"cb23612a-9452-426d-a134-2eac788143f7\")) {\n",
       "                    Plotly.newPlot(\n",
       "                        'cb23612a-9452-426d-a134-2eac788143f7',\n",
       "                        [{\"marker\": {\"color\": \"rgba(255, 153, 51, 0.6)\", \"line\": {\"color\": \"rgba(255, 153, 51, 1.0)\", \"width\": 1}}, \"name\": \"original_similarity\", \"orientation\": \"v\", \"text\": \"\", \"type\": \"bar\", \"uid\": \"3ab21e7c-83e4-48ae-973a-e1202e375a51\", \"x\": [\"Jesus\", \"Nuria\", \"Jaime\", \"Maria\", \"Adolfo\", \"Alba\", \"Alvaro\", \"Marta\", \"Monica\", \"Juan\"], \"y\": [0.35014968584045747, 0.3164309725825327, 0.31142139263235424, 0.31142139263235424, 0.3021694792519622, 0.29788301062430306, 0.2937978523903241, 0.2898979485566356, 0.27751440437923003, 0.24885144403304457]}, {\"marker\": {\"color\": \"rgba(55, 128, 191, 0.6)\", \"line\": {\"color\": \"rgba(55, 128, 191, 1.0)\", \"width\": 1}}, \"name\": \"after_follow_similarity\", \"orientation\": \"v\", \"text\": \"\", \"type\": \"bar\", \"uid\": \"ce94f6d4-f841-4288-95f6-ff531504a792\", \"x\": [\"Jesus\", \"Nuria\", \"Jaime\", \"Maria\", \"Adolfo\", \"Alba\", \"Alvaro\", \"Marta\", \"Monica\", \"Juan\"], \"y\": [0.4026721387165261, 0.36389561846991264, 0.3581346015272074, 0.3581346015272074, 0.3021694792519622, 0.29788301062430306, 0.2937978523903241, 0.3333826408401309, 0.27751440437923003, 0.28617916063800125]}, {\"marker\": {\"color\": \"rgba(50, 171, 96, 0.6)\", \"line\": {\"color\": \"rgba(50, 171, 96, 1.0)\", \"width\": 1}}, \"name\": \"with likes after follow\", \"orientation\": \"v\", \"text\": \"\", \"type\": \"bar\", \"uid\": \"2fcf8087-a493-4382-a8a5-05dc41961fdc\", \"x\": [\"Jesus\", \"Nuria\", \"Jaime\", \"Maria\", \"Adolfo\", \"Alba\", \"Alvaro\", \"Marta\", \"Monica\", \"Juan\"], \"y\": [0.4026721387165261, 0.37389561846991265, 0.3681346015272074, 0.3681346015272074, 0.3021694792519622, 0.30788301062430307, 0.2937978523903241, 0.3433826408401309, 0.27751440437923003, 0.29617916063800126]}, {\"marker\": {\"color\": \"rgba(128, 0, 128, 0.6)\", \"line\": {\"color\": \"rgba(128, 0, 128, 1.0)\", \"width\": 1}}, \"name\": \"after_unfollow_similarity\", \"orientation\": \"v\", \"text\": \"\", \"type\": \"bar\", \"uid\": \"871f9813-d570-4b68-a6ef-d69b658ac4d7\", \"x\": [\"Jesus\", \"Nuria\", \"Jaime\", \"Maria\", \"Adolfo\", \"Alba\", \"Alvaro\", \"Marta\", \"Monica\", \"Juan\"], \"y\": [0.4026721387165261, 0.31781127569942574, 0.3681346015272074, 0.3129144112981263, 0.2568440573641679, 0.30788301062430307, 0.24972817453177548, 0.3433826408401309, 0.27751440437923003, 0.29617916063800126]}, {\"marker\": {\"color\": \"rgba(219, 64, 82, 0.6)\", \"line\": {\"color\": \"rgba(219, 64, 82, 1.0)\", \"width\": 1}}, \"name\": \"with likes after unfollow\", \"orientation\": \"v\", \"text\": \"\", \"type\": \"bar\", \"uid\": \"2a78b0c2-b822-453e-84bc-cc8448324313\", \"x\": [\"Jesus\", \"Nuria\", \"Jaime\", \"Maria\", \"Adolfo\", \"Alba\", \"Alvaro\", \"Marta\", \"Monica\", \"Juan\"], \"y\": [0.4126721387165261, 0.32781127569942575, 0.3781346015272074, 0.3229144112981263, 0.2568440573641679, 0.30788301062430307, 0.24972817453177548, 0.3433826408401309, 0.28751440437923004, 0.29617916063800126]}],\n",
       "                        {\"legend\": {\"bgcolor\": \"#F5F6F9\", \"font\": {\"color\": \"#4D5663\"}}, \"paper_bgcolor\": \"#F5F6F9\", \"plot_bgcolor\": \"#F5F6F9\", \"title\": {\"font\": {\"color\": \"#4D5663\"}, \"text\": \"Similarities with Julio\"}, \"xaxis\": {\"gridcolor\": \"#E1E5ED\", \"showgrid\": true, \"tickfont\": {\"color\": \"#4D5663\"}, \"title\": {\"font\": {\"color\": \"#4D5663\"}, \"text\": \"Users\"}, \"zerolinecolor\": \"#E1E5ED\"}, \"yaxis\": {\"gridcolor\": \"#E1E5ED\", \"showgrid\": true, \"tickfont\": {\"color\": \"#4D5663\"}, \"title\": {\"font\": {\"color\": \"#4D5663\"}, \"text\": \"Similarity\"}, \"zerolinecolor\": \"#E1E5ED\"}},\n",
       "                        {\"showLink\": true, \"linkText\": \"Export to plot.ly\", \"plotlyServerURL\": \"https://plot.ly\", \"responsive\": true}\n",
       "                    ).then(function(){\n",
       "                            \n",
       "var gd = document.getElementById('cb23612a-9452-426d-a134-2eac788143f7');\n",
       "var x = new MutationObserver(function (mutations, observer) {{\n",
       "        var display = window.getComputedStyle(gd).display;\n",
       "        if (!display || display === 'none') {{\n",
       "            console.log([gd, 'removed!']);\n",
       "            Plotly.purge(gd);\n",
       "            observer.disconnect();\n",
       "        }}\n",
       "}});\n",
       "\n",
       "// Listen for the removal of the full notebook cells\n",
       "var notebookContainer = gd.closest('#notebook-container');\n",
       "if (notebookContainer) {{\n",
       "    x.observe(notebookContainer, {childList: true});\n",
       "}}\n",
       "\n",
       "// Listen for the clearing of the current output cell\n",
       "var outputEl = gd.closest('.output');\n",
       "if (outputEl) {{\n",
       "    x.observe(outputEl, {childList: true});\n",
       "}}\n",
       "\n",
       "                        })\n",
       "                };\n",
       "                });\n",
       "            </script>\n",
       "        </div>"
      ]
     },
     "metadata": {},
     "output_type": "display_data"
    }
   ],
   "source": [
    "final.iplot(kind='bar', x='plan_ori_id', title='Similarities with {}'.format(Nombre), \n",
    "            yTitle='Similarity', xTitle='Users')"
   ]
  },
  {
   "cell_type": "code",
   "execution_count": 58,
   "metadata": {},
   "outputs": [],
   "source": [
    "end_similarity=final.sort_values(by=['with likes after unfollow'], ascending=False)\n",
    "#end_similarity"
   ]
  },
  {
   "cell_type": "code",
   "execution_count": 59,
   "metadata": {},
   "outputs": [
    {
     "data": {
      "application/vnd.plotly.v1+json": {
       "config": {
        "linkText": "Export to plot.ly",
        "plotlyServerURL": "https://plot.ly",
        "responsive": true,
        "showLink": true
       },
       "data": [
        {
         "marker": {
          "color": "rgba(255, 153, 51, 0.6)",
          "line": {
           "color": "rgba(255, 153, 51, 1.0)",
           "width": 1
          }
         },
         "name": "original_similarity",
         "orientation": "v",
         "text": "",
         "type": "bar",
         "uid": "38060dea-c57c-4602-9bcc-0b18b840aa71",
         "x": [
          "Jesus",
          "Jaime",
          "Marta",
          "Nuria",
          "Maria",
          "Alba",
          "Juan",
          "Monica",
          "Adolfo",
          "Alvaro"
         ],
         "y": [
          0.35014968584045747,
          0.31142139263235424,
          0.2898979485566356,
          0.3164309725825327,
          0.31142139263235424,
          0.29788301062430306,
          0.24885144403304457,
          0.27751440437923003,
          0.3021694792519622,
          0.2937978523903241
         ]
        },
        {
         "marker": {
          "color": "rgba(55, 128, 191, 0.6)",
          "line": {
           "color": "rgba(55, 128, 191, 1.0)",
           "width": 1
          }
         },
         "name": "after_follow_similarity",
         "orientation": "v",
         "text": "",
         "type": "bar",
         "uid": "076ef9ad-200b-4509-b178-c365ef3d64bb",
         "x": [
          "Jesus",
          "Jaime",
          "Marta",
          "Nuria",
          "Maria",
          "Alba",
          "Juan",
          "Monica",
          "Adolfo",
          "Alvaro"
         ],
         "y": [
          0.4026721387165261,
          0.3581346015272074,
          0.3333826408401309,
          0.36389561846991264,
          0.3581346015272074,
          0.29788301062430306,
          0.28617916063800125,
          0.27751440437923003,
          0.3021694792519622,
          0.2937978523903241
         ]
        },
        {
         "marker": {
          "color": "rgba(50, 171, 96, 0.6)",
          "line": {
           "color": "rgba(50, 171, 96, 1.0)",
           "width": 1
          }
         },
         "name": "with likes after follow",
         "orientation": "v",
         "text": "",
         "type": "bar",
         "uid": "1bde84cc-c5d7-4cb8-837e-05c0b255dc67",
         "x": [
          "Jesus",
          "Jaime",
          "Marta",
          "Nuria",
          "Maria",
          "Alba",
          "Juan",
          "Monica",
          "Adolfo",
          "Alvaro"
         ],
         "y": [
          0.4026721387165261,
          0.3681346015272074,
          0.3433826408401309,
          0.37389561846991265,
          0.3681346015272074,
          0.30788301062430307,
          0.29617916063800126,
          0.27751440437923003,
          0.3021694792519622,
          0.2937978523903241
         ]
        },
        {
         "marker": {
          "color": "rgba(128, 0, 128, 0.6)",
          "line": {
           "color": "rgba(128, 0, 128, 1.0)",
           "width": 1
          }
         },
         "name": "after_unfollow_similarity",
         "orientation": "v",
         "text": "",
         "type": "bar",
         "uid": "011dc34e-345c-49b6-b029-43c43f112330",
         "x": [
          "Jesus",
          "Jaime",
          "Marta",
          "Nuria",
          "Maria",
          "Alba",
          "Juan",
          "Monica",
          "Adolfo",
          "Alvaro"
         ],
         "y": [
          0.4026721387165261,
          0.3681346015272074,
          0.3433826408401309,
          0.31781127569942574,
          0.3129144112981263,
          0.30788301062430307,
          0.29617916063800126,
          0.27751440437923003,
          0.2568440573641679,
          0.24972817453177548
         ]
        },
        {
         "marker": {
          "color": "rgba(219, 64, 82, 0.6)",
          "line": {
           "color": "rgba(219, 64, 82, 1.0)",
           "width": 1
          }
         },
         "name": "with likes after unfollow",
         "orientation": "v",
         "text": "",
         "type": "bar",
         "uid": "dc13947c-2643-4e9e-9d0f-a68413fe39ab",
         "x": [
          "Jesus",
          "Jaime",
          "Marta",
          "Nuria",
          "Maria",
          "Alba",
          "Juan",
          "Monica",
          "Adolfo",
          "Alvaro"
         ],
         "y": [
          0.4126721387165261,
          0.3781346015272074,
          0.3433826408401309,
          0.32781127569942575,
          0.3229144112981263,
          0.30788301062430307,
          0.29617916063800126,
          0.28751440437923004,
          0.2568440573641679,
          0.24972817453177548
         ]
        }
       ],
       "layout": {
        "legend": {
         "bgcolor": "#F5F6F9",
         "font": {
          "color": "#4D5663"
         }
        },
        "paper_bgcolor": "#F5F6F9",
        "plot_bgcolor": "#F5F6F9",
        "title": {
         "font": {
          "color": "#4D5663"
         },
         "text": "Final similarities with Julio"
        },
        "xaxis": {
         "gridcolor": "#E1E5ED",
         "showgrid": true,
         "tickfont": {
          "color": "#4D5663"
         },
         "title": {
          "font": {
           "color": "#4D5663"
          },
          "text": "Users"
         },
         "zerolinecolor": "#E1E5ED"
        },
        "yaxis": {
         "gridcolor": "#E1E5ED",
         "showgrid": true,
         "tickfont": {
          "color": "#4D5663"
         },
         "title": {
          "font": {
           "color": "#4D5663"
          },
          "text": "Similarity"
         },
         "zerolinecolor": "#E1E5ED"
        }
       }
      },
      "text/html": [
       "<div>\n",
       "        \n",
       "        \n",
       "            <div id=\"72648904-354d-4d81-89db-c863b7fcbd1a\" class=\"plotly-graph-div\" style=\"height:525px; width:100%;\"></div>\n",
       "            <script type=\"text/javascript\">\n",
       "                require([\"plotly\"], function(Plotly) {\n",
       "                    window.PLOTLYENV=window.PLOTLYENV || {};\n",
       "                    window.PLOTLYENV.BASE_URL='https://plot.ly';\n",
       "                    \n",
       "                if (document.getElementById(\"72648904-354d-4d81-89db-c863b7fcbd1a\")) {\n",
       "                    Plotly.newPlot(\n",
       "                        '72648904-354d-4d81-89db-c863b7fcbd1a',\n",
       "                        [{\"marker\": {\"color\": \"rgba(255, 153, 51, 0.6)\", \"line\": {\"color\": \"rgba(255, 153, 51, 1.0)\", \"width\": 1}}, \"name\": \"original_similarity\", \"orientation\": \"v\", \"text\": \"\", \"type\": \"bar\", \"uid\": \"603e30cc-b0c9-4e9b-befa-d3c823fbff35\", \"x\": [\"Jesus\", \"Jaime\", \"Marta\", \"Nuria\", \"Maria\", \"Alba\", \"Juan\", \"Monica\", \"Adolfo\", \"Alvaro\"], \"y\": [0.35014968584045747, 0.31142139263235424, 0.2898979485566356, 0.3164309725825327, 0.31142139263235424, 0.29788301062430306, 0.24885144403304457, 0.27751440437923003, 0.3021694792519622, 0.2937978523903241]}, {\"marker\": {\"color\": \"rgba(55, 128, 191, 0.6)\", \"line\": {\"color\": \"rgba(55, 128, 191, 1.0)\", \"width\": 1}}, \"name\": \"after_follow_similarity\", \"orientation\": \"v\", \"text\": \"\", \"type\": \"bar\", \"uid\": \"1b5ef8a5-0ffc-483e-9dad-93337c26d3b5\", \"x\": [\"Jesus\", \"Jaime\", \"Marta\", \"Nuria\", \"Maria\", \"Alba\", \"Juan\", \"Monica\", \"Adolfo\", \"Alvaro\"], \"y\": [0.4026721387165261, 0.3581346015272074, 0.3333826408401309, 0.36389561846991264, 0.3581346015272074, 0.29788301062430306, 0.28617916063800125, 0.27751440437923003, 0.3021694792519622, 0.2937978523903241]}, {\"marker\": {\"color\": \"rgba(50, 171, 96, 0.6)\", \"line\": {\"color\": \"rgba(50, 171, 96, 1.0)\", \"width\": 1}}, \"name\": \"with likes after follow\", \"orientation\": \"v\", \"text\": \"\", \"type\": \"bar\", \"uid\": \"b830f3df-f69e-4c17-b232-013d3d2d50b2\", \"x\": [\"Jesus\", \"Jaime\", \"Marta\", \"Nuria\", \"Maria\", \"Alba\", \"Juan\", \"Monica\", \"Adolfo\", \"Alvaro\"], \"y\": [0.4026721387165261, 0.3681346015272074, 0.3433826408401309, 0.37389561846991265, 0.3681346015272074, 0.30788301062430307, 0.29617916063800126, 0.27751440437923003, 0.3021694792519622, 0.2937978523903241]}, {\"marker\": {\"color\": \"rgba(128, 0, 128, 0.6)\", \"line\": {\"color\": \"rgba(128, 0, 128, 1.0)\", \"width\": 1}}, \"name\": \"after_unfollow_similarity\", \"orientation\": \"v\", \"text\": \"\", \"type\": \"bar\", \"uid\": \"3460639f-be5f-41ab-a6ed-4a05b9321b67\", \"x\": [\"Jesus\", \"Jaime\", \"Marta\", \"Nuria\", \"Maria\", \"Alba\", \"Juan\", \"Monica\", \"Adolfo\", \"Alvaro\"], \"y\": [0.4026721387165261, 0.3681346015272074, 0.3433826408401309, 0.31781127569942574, 0.3129144112981263, 0.30788301062430307, 0.29617916063800126, 0.27751440437923003, 0.2568440573641679, 0.24972817453177548]}, {\"marker\": {\"color\": \"rgba(219, 64, 82, 0.6)\", \"line\": {\"color\": \"rgba(219, 64, 82, 1.0)\", \"width\": 1}}, \"name\": \"with likes after unfollow\", \"orientation\": \"v\", \"text\": \"\", \"type\": \"bar\", \"uid\": \"65b0fef1-e464-4274-8b5d-85dbf201e095\", \"x\": [\"Jesus\", \"Jaime\", \"Marta\", \"Nuria\", \"Maria\", \"Alba\", \"Juan\", \"Monica\", \"Adolfo\", \"Alvaro\"], \"y\": [0.4126721387165261, 0.3781346015272074, 0.3433826408401309, 0.32781127569942575, 0.3229144112981263, 0.30788301062430307, 0.29617916063800126, 0.28751440437923004, 0.2568440573641679, 0.24972817453177548]}],\n",
       "                        {\"legend\": {\"bgcolor\": \"#F5F6F9\", \"font\": {\"color\": \"#4D5663\"}}, \"paper_bgcolor\": \"#F5F6F9\", \"plot_bgcolor\": \"#F5F6F9\", \"title\": {\"font\": {\"color\": \"#4D5663\"}, \"text\": \"Final similarities with Julio\"}, \"xaxis\": {\"gridcolor\": \"#E1E5ED\", \"showgrid\": true, \"tickfont\": {\"color\": \"#4D5663\"}, \"title\": {\"font\": {\"color\": \"#4D5663\"}, \"text\": \"Users\"}, \"zerolinecolor\": \"#E1E5ED\"}, \"yaxis\": {\"gridcolor\": \"#E1E5ED\", \"showgrid\": true, \"tickfont\": {\"color\": \"#4D5663\"}, \"title\": {\"font\": {\"color\": \"#4D5663\"}, \"text\": \"Similarity\"}, \"zerolinecolor\": \"#E1E5ED\"}},\n",
       "                        {\"showLink\": true, \"linkText\": \"Export to plot.ly\", \"plotlyServerURL\": \"https://plot.ly\", \"responsive\": true}\n",
       "                    ).then(function(){\n",
       "                            \n",
       "var gd = document.getElementById('72648904-354d-4d81-89db-c863b7fcbd1a');\n",
       "var x = new MutationObserver(function (mutations, observer) {{\n",
       "        var display = window.getComputedStyle(gd).display;\n",
       "        if (!display || display === 'none') {{\n",
       "            console.log([gd, 'removed!']);\n",
       "            Plotly.purge(gd);\n",
       "            observer.disconnect();\n",
       "        }}\n",
       "}});\n",
       "\n",
       "// Listen for the removal of the full notebook cells\n",
       "var notebookContainer = gd.closest('#notebook-container');\n",
       "if (notebookContainer) {{\n",
       "    x.observe(notebookContainer, {childList: true});\n",
       "}}\n",
       "\n",
       "// Listen for the clearing of the current output cell\n",
       "var outputEl = gd.closest('.output');\n",
       "if (outputEl) {{\n",
       "    x.observe(outputEl, {childList: true});\n",
       "}}\n",
       "\n",
       "                        })\n",
       "                };\n",
       "                });\n",
       "            </script>\n",
       "        </div>"
      ]
     },
     "metadata": {},
     "output_type": "display_data"
    }
   ],
   "source": [
    "end_similarity.iplot(kind='bar', x='plan_ori_id', title='Final similarities with {}'.format(Nombre), \n",
    "            yTitle='Similarity', xTitle='Users')"
   ]
  },
  {
   "cell_type": "code",
   "execution_count": 60,
   "metadata": {},
   "outputs": [
    {
     "data": {
      "image/png": "[encoded data removed]",
      "text/plain": [
       "<Figure size 864x864 with 1 Axes>"
      ]
     },
     "metadata": {
      "needs_background": "light"
     },
     "output_type": "display_data"
    }
   ],
   "source": [
    "fig=plt.figure(figsize=(12,12))\n",
    "ax = fig.add_subplot(111, polar=True)\n",
    "ax.plot(final['plan_ori_id'].head(6), final['original_similarity'].head(6), 'o-', linewidth=2)\n",
    "ax.fill(final['plan_ori_id'].head(6), final['original_similarity'].head(6), alpha=0.25)\n",
    "ax.set_title('Distances between users before')\n",
    "ax.grid(True)"
   ]
  },
  {
   "cell_type": "code",
   "execution_count": 61,
   "metadata": {},
   "outputs": [
    {
     "data": {
      "image/png": "[encoded data removed]",
      "text/plain": [
       "<Figure size 864x864 with 1 Axes>"
      ]
     },
     "metadata": {
      "needs_background": "light"
     },
     "output_type": "display_data"
    }
   ],
   "source": [
    "fig=plt.figure(figsize=(12,12))\n",
    "ax = fig.add_subplot(111, polar=True)\n",
    "ax.plot(final['plan_ori_id'].head(6), final['with likes after unfollow'].head(6), 'o-', linewidth=2)\n",
    "ax.fill(final['plan_ori_id'].head(6), final['with likes after unfollow'].head(6), alpha=0.25)\n",
    "ax.set_title('Distances between users after')\n",
    "ax.grid(True)"
   ]
  },
  {
   "cell_type": "code",
   "execution_count": null,
   "metadata": {},
   "outputs": [],
   "source": []
  }
 ],
 "metadata": {
  "kernelspec": {
   "display_name": "Python 3",
   "language": "python",
   "name": "python3"
  },
  "language_info": {
   "codemirror_mode": {
    "name": "ipython",
    "version": 3
   },
   "file_extension": ".py",
   "mimetype": "text/x-python",
   "name": "python",
   "nbconvert_exporter": "python",
   "pygments_lexer": "ipython3",
   "version": "3.7.2"
  }
 },
 "nbformat": 4,
 "nbformat_minor": 2
}
