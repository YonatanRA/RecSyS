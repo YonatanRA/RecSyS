{
 "cells": [
  {
   "cell_type": "markdown",
   "metadata": {},
   "source": [
    "# RecSys Utoppia"
   ]
  },
  {
   "cell_type": "code",
   "execution_count": 1,
   "metadata": {},
   "outputs": [
    {
     "data": {
      "text/html": [
       "        <script type=\"text/javascript\">\n",
       "        window.PlotlyConfig = {MathJaxConfig: 'local'};\n",
       "        if (window.MathJax) {MathJax.Hub.Config({SVG: {font: \"STIX-Web\"}});}\n",
       "        if (typeof require !== 'undefined') {\n",
       "        require.undef(\"plotly\");\n",
       "        requirejs.config({\n",
       "            paths: {\n",
       "                'plotly': ['https://cdn.plot.ly/plotly-latest.min']\n",
       "            }\n",
       "        });\n",
       "        require(['plotly'], function(Plotly) {\n",
       "            window._Plotly = Plotly;\n",
       "        });\n",
       "        }\n",
       "        </script>\n",
       "        "
      ]
     },
     "metadata": {},
     "output_type": "display_data"
    }
   ],
   "source": [
    "# Demo recsys boolean (0-1)\n",
    "\n",
    "# import libraries\n",
    "\n",
    "\n",
    "%matplotlib inline\n",
    "import seaborn as sns\n",
    "import warnings\n",
    "warnings.filterwarnings(\"ignore\",category=DeprecationWarning)\n",
    "import pandas as pd\n",
    "import numpy as np\n",
    "import matplotlib.pyplot as plt\n",
    "from scipy.spatial.distance import pdist, squareform\n",
    "from operator import itemgetter\n",
    "import plotly.plotly as py\n",
    "import cufflinks as cf\n",
    "cf.go_offline()"
   ]
  },
  {
   "cell_type": "code",
   "execution_count": 2,
   "metadata": {},
   "outputs": [],
   "source": [
    "# tags\n",
    "\n",
    "tags=['Cine', 'Teatro', 'Cervezas', 'Vino', 'Fiesta', 'Viajes', 'Rock' ,'Pop',\n",
    "      'Jazz', 'Techno', 'RAP', 'Indie', 'Correr', 'Gym', 'Golf', 'Basket', 'Football', 'Yoga']"
   ]
  },
  {
   "cell_type": "code",
   "execution_count": 3,
   "metadata": {},
   "outputs": [],
   "source": [
    "# subtags\n",
    "\n",
    "st_cine=['Drama', 'Comedia', 'Terror', 'Anime']"
   ]
  },
  {
   "cell_type": "code",
   "execution_count": 4,
   "metadata": {},
   "outputs": [],
   "source": [
    "st_teatro=['Tragedia', 'Comedia', 'Mímima', 'Dramático']"
   ]
  },
  {
   "cell_type": "code",
   "execution_count": 5,
   "metadata": {},
   "outputs": [],
   "source": [
    "st_cerveza=['Lager', 'Pale Ale', 'Artesanas', 'Pilsener']"
   ]
  },
  {
   "cell_type": "code",
   "execution_count": 6,
   "metadata": {},
   "outputs": [],
   "source": [
    "st_vino=['Blanco', 'Tinto', 'Rosado', 'Espumoso']"
   ]
  },
  {
   "cell_type": "code",
   "execution_count": 7,
   "metadata": {},
   "outputs": [],
   "source": [
    "st_viajes=['En grupo', 'Solo']"
   ]
  },
  {
   "cell_type": "code",
   "execution_count": 8,
   "metadata": {},
   "outputs": [],
   "source": [
    "st_rock=['Alternativo', 'Heavy', 'Country', 'Grunge']"
   ]
  },
  {
   "cell_type": "code",
   "execution_count": 9,
   "metadata": {},
   "outputs": [],
   "source": [
    "st_pop=['Latino', 'Punk', 'Hard', 'Folk']"
   ]
  },
  {
   "cell_type": "code",
   "execution_count": 10,
   "metadata": {},
   "outputs": [],
   "source": [
    "st_jazz=['Cool', 'Free', 'Smooth', 'Acid']"
   ]
  },
  {
   "cell_type": "code",
   "execution_count": 11,
   "metadata": {},
   "outputs": [],
   "source": [
    "st_techno=['Minimal', 'House' ,'Hardcore', 'Acid']"
   ]
  },
  {
   "cell_type": "code",
   "execution_count": 12,
   "metadata": {},
   "outputs": [],
   "source": [
    "st_rap=['Gangsta', 'Poético', 'Político' ,'Instrumental']"
   ]
  },
  {
   "cell_type": "code",
   "execution_count": 13,
   "metadata": {},
   "outputs": [],
   "source": [
    "st_indie=['Alternativo', 'Electrónico', 'Folk', 'Griendie']"
   ]
  },
  {
   "cell_type": "code",
   "execution_count": 14,
   "metadata": {},
   "outputs": [],
   "source": [
    "st_football=['Sala', '7', '11']"
   ]
  },
  {
   "cell_type": "code",
   "execution_count": 15,
   "metadata": {},
   "outputs": [],
   "source": [
    "st_yoga=['Vinyasa', 'Kundalini', 'Bikram', 'Nidra']"
   ]
  },
  {
   "cell_type": "code",
   "execution_count": 17,
   "metadata": {},
   "outputs": [
    {
     "data": {
      "text/plain": [
       "['Cine',\n",
       " 'Teatro',\n",
       " 'Cervezas',\n",
       " 'Vino',\n",
       " 'Fiesta',\n",
       " 'Viajes',\n",
       " 'Rock',\n",
       " 'Pop',\n",
       " 'Jazz',\n",
       " 'Techno',\n",
       " 'RAP',\n",
       " 'Indie',\n",
       " 'Correr',\n",
       " 'Gym',\n",
       " 'Golf',\n",
       " 'Basket',\n",
       " 'Football',\n",
       " 'Yoga',\n",
       " 'Drama',\n",
       " 'Comedia',\n",
       " 'Terror',\n",
       " 'Anime',\n",
       " 'Tragedia',\n",
       " 'Comedia',\n",
       " 'Mímima',\n",
       " 'Dramático',\n",
       " 'Lager',\n",
       " 'Pale Ale',\n",
       " 'Artesanas',\n",
       " 'Pilsener',\n",
       " 'Blanco',\n",
       " 'Tinto',\n",
       " 'Rosado',\n",
       " 'Espumoso',\n",
       " 'En grupo',\n",
       " 'Solo',\n",
       " 'Alternativo',\n",
       " 'Heavy',\n",
       " 'Country',\n",
       " 'Grunge',\n",
       " 'Latino',\n",
       " 'Punk',\n",
       " 'Hard',\n",
       " 'Folk',\n",
       " 'Cool',\n",
       " 'Free',\n",
       " 'Smooth',\n",
       " 'Acid',\n",
       " 'Minimal',\n",
       " 'House',\n",
       " 'Hardcore',\n",
       " 'Acid',\n",
       " 'Gangsta',\n",
       " 'Poético',\n",
       " 'Político',\n",
       " 'Instrumental',\n",
       " 'Alternativo',\n",
       " 'Electrónico',\n",
       " 'Folk',\n",
       " 'Griendie',\n",
       " 'Sala',\n",
       " '7',\n",
       " '11',\n",
       " 'Vinyasa',\n",
       " 'Kundalini',\n",
       " 'Bikram',\n",
       " 'Nidra']"
      ]
     },
     "execution_count": 17,
     "metadata": {},
     "output_type": "execute_result"
    }
   ],
   "source": [
    "# empty dataframe\n",
    "\n",
    "columns=tags+st_cine+st_teatro+st_cerveza+st_vino+st_viajes+st_rock+st_pop+st_jazz+\\\n",
    "        st_techno+st_rap+st_indie+st_football+st_yoga\n",
    "\n",
    "data=pd.DataFrame"
   ]
  },
  {
   "cell_type": "code",
   "execution_count": null,
   "metadata": {},
   "outputs": [],
   "source": []
  },
  {
   "cell_type": "code",
   "execution_count": null,
   "metadata": {},
   "outputs": [],
   "source": []
  }
 ],
 "metadata": {
  "kernelspec": {
   "display_name": "Python 3",
   "language": "python",
   "name": "python3"
  },
  "language_info": {
   "codemirror_mode": {
    "name": "ipython",
    "version": 3
   },
   "file_extension": ".py",
   "mimetype": "text/x-python",
   "name": "python",
   "nbconvert_exporter": "python",
   "pygments_lexer": "ipython3",
   "version": "3.7.2"
  }
 },
 "nbformat": 4,
 "nbformat_minor": 2
}
