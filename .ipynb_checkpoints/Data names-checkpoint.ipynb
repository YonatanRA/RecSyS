{
 "cells": [
  {
   "cell_type": "markdown",
   "metadata": {},
   "source": [
    "# RecSys Utoppia"
   ]
  },
  {
   "cell_type": "code",
   "execution_count": 1,
   "metadata": {},
   "outputs": [
    {
     "data": {
      "text/html": [
       "        <script type=\"text/javascript\">\n",
       "        window.PlotlyConfig = {MathJaxConfig: 'local'};\n",
       "        if (window.MathJax) {MathJax.Hub.Config({SVG: {font: \"STIX-Web\"}});}\n",
       "        if (typeof require !== 'undefined') {\n",
       "        require.undef(\"plotly\");\n",
       "        requirejs.config({\n",
       "            paths: {\n",
       "                'plotly': ['https://cdn.plot.ly/plotly-latest.min']\n",
       "            }\n",
       "        });\n",
       "        require(['plotly'], function(Plotly) {\n",
       "            window._Plotly = Plotly;\n",
       "        });\n",
       "        }\n",
       "        </script>\n",
       "        "
      ]
     },
     "metadata": {},
     "output_type": "display_data"
    }
   ],
   "source": [
    "# Demo recsys boolean (0-1)\n",
    "\n",
    "# import libraries\n",
    "\n",
    "\n",
    "%matplotlib inline\n",
    "import seaborn as sns\n",
    "import warnings\n",
    "warnings.filterwarnings(\"ignore\",category=DeprecationWarning)\n",
    "import pandas as pd\n",
    "import numpy as np\n",
    "import matplotlib.pyplot as plt\n",
    "from scipy.spatial.distance import pdist, squareform\n",
    "from operator import itemgetter\n",
    "import plotly.plotly as py\n",
    "import cufflinks as cf\n",
    "cf.go_offline()"
   ]
  },
  {
   "cell_type": "code",
   "execution_count": null,
   "metadata": {},
   "outputs": [],
   "source": [
    "# tags\n",
    "\n",
    "tags=['Cine', 'Teatro', 'Cervezas', 'Vino', 'Fiesta', 'Viajes', 'Rock' ,'Pop',\n",
    "      'Jazz', 'Techno', 'RAP', 'Indie', 'Correr', 'Gym', 'Golf', 'Basket', 'Football', 'Yoga']"
   ]
  },
  {
   "cell_type": "code",
   "execution_count": 2,
   "metadata": {},
   "outputs": [],
   "source": [
    "# subtags\n",
    "\n",
    "st_cine=['Drama', 'Comedia_c', 'Terror', 'Anime']"
   ]
  },
  {
   "cell_type": "code",
   "execution_count": 3,
   "metadata": {},
   "outputs": [],
   "source": [
    "st_teatro=['Tragedia', 'Comedia_t', 'Mimica', 'Dramatico']"
   ]
  },
  {
   "cell_type": "code",
   "execution_count": 4,
   "metadata": {},
   "outputs": [],
   "source": [
    "st_cerveza=['Lager', 'Pale Ale', 'Artesanas', 'Pilsener']"
   ]
  },
  {
   "cell_type": "code",
   "execution_count": 5,
   "metadata": {},
   "outputs": [],
   "source": [
    "st_vino=['Blanco', 'Tinto', 'Rosado', 'Espumoso']"
   ]
  },
  {
   "cell_type": "code",
   "execution_count": 6,
   "metadata": {},
   "outputs": [],
   "source": [
    "st_viajes=['En grupo', 'Solo']"
   ]
  },
  {
   "cell_type": "code",
   "execution_count": 7,
   "metadata": {},
   "outputs": [],
   "source": [
    "st_rock=['Alternativo_r', 'Heavy', 'Country', 'Grunge']"
   ]
  },
  {
   "cell_type": "code",
   "execution_count": 8,
   "metadata": {},
   "outputs": [],
   "source": [
    "st_pop=['Latino', 'Punk', 'Hard', 'Folk_p']"
   ]
  },
  {
   "cell_type": "code",
   "execution_count": 9,
   "metadata": {},
   "outputs": [],
   "source": [
    "st_jazz=['Cool', 'Free', 'Smooth', 'Acid_j']"
   ]
  },
  {
   "cell_type": "code",
   "execution_count": 10,
   "metadata": {},
   "outputs": [],
   "source": [
    "st_techno=['Minimal', 'House' ,'Hardcore', 'Acid_t']"
   ]
  },
  {
   "cell_type": "code",
   "execution_count": 11,
   "metadata": {},
   "outputs": [],
   "source": [
    "st_rap=['Gangsta', 'Poetico', 'Politico' ,'Instrumental']"
   ]
  },
  {
   "cell_type": "code",
   "execution_count": 12,
   "metadata": {},
   "outputs": [],
   "source": [
    "st_indie=['Alternativo_i', 'Electronico', 'Folk_i', 'Griendie']"
   ]
  },
  {
   "cell_type": "code",
   "execution_count": 13,
   "metadata": {},
   "outputs": [],
   "source": [
    "st_football=['Sala', '7', '11']"
   ]
  },
  {
   "cell_type": "code",
   "execution_count": 14,
   "metadata": {},
   "outputs": [],
   "source": [
    "st_yoga=['Vinyasa', 'Kundalini', 'Bikram', 'Nidra']"
   ]
  },
  {
   "cell_type": "code",
   "execution_count": 15,
   "metadata": {},
   "outputs": [
    {
     "ename": "NameError",
     "evalue": "name 'tags' is not defined",
     "output_type": "error",
     "traceback": [
      "\u001b[0;31m---------------------------------------------------------------------------\u001b[0m",
      "\u001b[0;31mNameError\u001b[0m                                 Traceback (most recent call last)",
      "\u001b[0;32m<ipython-input-15-dd65f350985c>\u001b[0m in \u001b[0;36m<module>\u001b[0;34m\u001b[0m\n\u001b[1;32m      2\u001b[0m \u001b[0;34m\u001b[0m\u001b[0m\n\u001b[1;32m      3\u001b[0m \u001b[0mcolumnas\u001b[0m\u001b[0;34m=\u001b[0m\u001b[0;34m[\u001b[0m\u001b[0;34m'Nombre'\u001b[0m\u001b[0;34m,\u001b[0m \u001b[0;34m'Id'\u001b[0m\u001b[0;34m,\u001b[0m \u001b[0;34m'Plan'\u001b[0m\u001b[0;34m]\u001b[0m\u001b[0;34m+\u001b[0m\u001b[0mtags\u001b[0m\u001b[0;34m+\u001b[0m\u001b[0mst_cine\u001b[0m\u001b[0;34m+\u001b[0m\u001b[0mst_teatro\u001b[0m\u001b[0;34m+\u001b[0m\u001b[0mst_cerveza\u001b[0m\u001b[0;34m+\u001b[0m\u001b[0mst_vino\u001b[0m\u001b[0;34m+\u001b[0m\u001b[0mst_viajes\u001b[0m\u001b[0;34m+\u001b[0m\u001b[0mst_rock\u001b[0m\u001b[0;34m+\u001b[0m\u001b[0mst_pop\u001b[0m\u001b[0;34m+\u001b[0m\u001b[0mst_jazz\u001b[0m\u001b[0;34m+\u001b[0m\u001b[0;31m\\\u001b[0m\u001b[0;34m\u001b[0m\u001b[0;34m\u001b[0m\u001b[0m\n\u001b[0;32m----> 4\u001b[0;31m         \u001b[0mst_techno\u001b[0m\u001b[0;34m+\u001b[0m\u001b[0mst_rap\u001b[0m\u001b[0;34m+\u001b[0m\u001b[0mst_indie\u001b[0m\u001b[0;34m+\u001b[0m\u001b[0mst_football\u001b[0m\u001b[0;34m+\u001b[0m\u001b[0mst_yoga\u001b[0m\u001b[0;34m\u001b[0m\u001b[0;34m\u001b[0m\u001b[0m\n\u001b[0m\u001b[1;32m      5\u001b[0m \u001b[0;34m\u001b[0m\u001b[0m\n\u001b[1;32m      6\u001b[0m \u001b[0mdata\u001b[0m\u001b[0;34m=\u001b[0m\u001b[0mpd\u001b[0m\u001b[0;34m.\u001b[0m\u001b[0mDataFrame\u001b[0m\u001b[0;34m(\u001b[0m\u001b[0mcolumns\u001b[0m\u001b[0;34m=\u001b[0m\u001b[0mcolumnas\u001b[0m\u001b[0;34m)\u001b[0m\u001b[0;34m\u001b[0m\u001b[0;34m\u001b[0m\u001b[0m\n",
      "\u001b[0;31mNameError\u001b[0m: name 'tags' is not defined"
     ]
    }
   ],
   "source": [
    "# empty dataframe\n",
    "\n",
    "columnas=['Nombre', 'Id', 'Plan']+tags+st_cine+st_teatro+st_cerveza+st_vino+st_viajes+st_rock+st_pop+st_jazz+\\\n",
    "        st_techno+st_rap+st_indie+st_football+st_yoga\n",
    "\n",
    "data=pd.DataFrame(columns=columnas)\n",
    "data"
   ]
  },
  {
   "cell_type": "code",
   "execution_count": null,
   "metadata": {},
   "outputs": [],
   "source": [
    "# users\n",
    "\n",
    "user1={columnas[0]:'Marta', columnas[1]:1, columnas[2]: 1, \n",
    "       \n",
    "       columnas[3]:2/3, columnas[4]:0, columnas[5]:2/3, columnas[6]:2/3, columnas[7]:0, columnas[8]:2/3,\n",
    "       columnas[9]:0 ,columnas[10]:2/3, columnas[11]:0, columnas[12]:2/3, columnas[13]:0, columnas[14]:2/3,\n",
    "       columnas[15]:0, columnas[16]:2/3, columnas[17]:2/3, columnas[18]:0, columnas[19]:0, columnas[20]:2/3,\n",
    "       \n",
    "       columnas[21]:1/3, columnas[22]:1/3, columnas[23]:0, columnas[24]:0, \n",
    "       columnas[25]:0, columnas[26]:0, columnas[27]:0, columnas[28]:0, \n",
    "       columnas[29]:1/3, columnas[30]:1/3, columnas[31]:1/3, columnas[32]:0,\n",
    "       columnas[33]:1/3, columnas[34]:1/3, columnas[35]:0, columnas[36]:0, \n",
    "       columnas[37]:1/3, columnas[38]:1/3, \n",
    "       columnas[39]:0, columnas[40]:0, columnas[41]:0, columnas[42]:0, \n",
    "       columnas[43]:1/3, columnas[44]:0, columnas[45]:0, columnas[46]: 1/3, \n",
    "       columnas[47]:0, columnas[48]:0, columnas[49]:0, columnas[50]:0, \n",
    "       columnas[51]:0, columnas[52]:1/3, columnas[53]:0, columnas[54]:0, \n",
    "       columnas[55]:0, columnas[56]:0, columnas[57]:0, columnas[58]:0, \n",
    "       columnas[59]:1/3, columnas[60]:1/3, columnas[61]:0, columnas[62]:0, \n",
    "       columnas[63]:0, columnas[64]:0, columnas[65]:0, \n",
    "       columnas[66]:1/3, columnas[67]:0, columnas[68]:0, columnas[69]:0}"
   ]
  },
  {
   "cell_type": "code",
   "execution_count": null,
   "metadata": {},
   "outputs": [],
   "source": [
    "user2={columnas[0]:'Juan', columnas[1]:2, columnas[2]: 1, \n",
    "       \n",
    "       columnas[3]:2/3, columnas[4]:2/3, columnas[5]:0, columnas[6]:2/3, columnas[7]:2/3, columnas[8]:0,\n",
    "       columnas[9]:0 ,columnas[10]:2/3, columnas[11]:0, columnas[12]:2/3, columnas[13]:2/3, columnas[14]:0,\n",
    "       columnas[15]:0, columnas[16]:2/3, columnas[17]:2/3, columnas[18]:0, columnas[19]:2/3, columnas[20]:0,\n",
    "       \n",
    "       columnas[21]:1/3, columnas[22]:0, columnas[23]:0, columnas[24]:1/3, \n",
    "       columnas[25]:1/3, columnas[26]:0, columnas[27]:0, columnas[28]:1/3, \n",
    "       columnas[29]:0, columnas[30]:0, columnas[31]:0, columnas[32]:0,\n",
    "       columnas[33]:0, columnas[34]:1/3, columnas[35]:0, columnas[36]:1/3, \n",
    "       columnas[37]:0, columnas[38]:0, \n",
    "       columnas[39]:0, columnas[40]:0, columnas[41]:0, columnas[42]:0, \n",
    "       columnas[43]:0, columnas[44]:1/3, columnas[45]:1/3, columnas[46]:0, \n",
    "       columnas[47]:0, columnas[48]:0, columnas[49]:0, columnas[50]:0, \n",
    "       columnas[51]:1/3, columnas[52]:1/3, columnas[53]:0, columnas[54]:0, \n",
    "       columnas[55]:1/3, columnas[56]:1/3, columnas[57]:0, columnas[58]:0, \n",
    "       columnas[59]:0, columnas[60]:0, columnas[61]:0, columnas[62]:0, \n",
    "       columnas[63]:0, columnas[64]:0, columnas[65]:1/3, \n",
    "       columnas[66]:0, columnas[67]:0, columnas[68]:0, columnas[69]:0}"
   ]
  },
  {
   "cell_type": "code",
   "execution_count": null,
   "metadata": {},
   "outputs": [],
   "source": [
    "user3={columnas[0]:'Monica', columnas[1]:3, columnas[2]: 1, \n",
    "       \n",
    "       columnas[3]:2/3, columnas[4]:2/3, columnas[5]:0, columnas[6]:0, columnas[7]:0, columnas[8]:0,\n",
    "       columnas[9]:0 ,columnas[10]:0, columnas[11]:0, columnas[12]:0, columnas[13]:2/3, columnas[14]:2/3,\n",
    "       columnas[15]:0, columnas[16]:0, columnas[17]:0, columnas[18]:0, columnas[19]:2/3, columnas[20]:2/3,\n",
    "       \n",
    "       columnas[21]:1/3, columnas[22]:1/3, columnas[23]:0, columnas[24]:0, \n",
    "       columnas[25]:0, columnas[26]:1/3, columnas[27]:0, columnas[28]:1/3, \n",
    "       columnas[29]:0, columnas[30]:0, columnas[31]:0, columnas[32]:0,\n",
    "       columnas[33]:0, columnas[34]:0, columnas[35]:0, columnas[36]:0, \n",
    "       columnas[37]:0, columnas[38]:0, \n",
    "       columnas[39]:0, columnas[40]:0, columnas[41]:0, columnas[42]:0, \n",
    "       columnas[43]:0, columnas[44]:0, columnas[45]:0, columnas[46]:0, \n",
    "       columnas[47]:0, columnas[48]:0, columnas[49]:0, columnas[50]:0, \n",
    "       columnas[51]:0, columnas[52]:0, columnas[53]:0, columnas[54]:0, \n",
    "       columnas[55]:1/3, columnas[56]:1/3, columnas[57]:1/3, columnas[58]:1/3, \n",
    "       columnas[59]:1/3, columnas[60]:1/3, columnas[61]:0, columnas[62]:0, \n",
    "       columnas[63]:1/3, columnas[64]:0, columnas[65]:1/3, \n",
    "       columnas[66]:1/3, columnas[67]:1/3, columnas[68]:0, columnas[69]:0}"
   ]
  },
  {
   "cell_type": "code",
   "execution_count": null,
   "metadata": {},
   "outputs": [],
   "source": [
    "user4={columnas[0]:'Alvaro', columnas[1]:4, columnas[2]: 1, \n",
    "       \n",
    "       columnas[3]:2/3, columnas[4]:2/3, columnas[5]:2/3, columnas[6]:2/3, columnas[7]:0, columnas[8]:2/3,\n",
    "       columnas[9]:0 ,columnas[10]:0, columnas[11]:0, columnas[12]:0, columnas[13]:0, columnas[14]:2/3,\n",
    "       columnas[15]:2/3, columnas[16]:2/3, columnas[17]:2/3, columnas[18]:0, columnas[19]:2/3, columnas[20]:2/3,\n",
    "       \n",
    "       columnas[21]:0, columnas[22]:0, columnas[23]:1/3, columnas[24]:1/3, \n",
    "       columnas[25]:0, columnas[26]:0, columnas[27]:1/3, columnas[28]:1/3, \n",
    "       columnas[29]:1/3, columnas[30]:0, columnas[31]:0, columnas[32]:1/3,\n",
    "       columnas[33]:0, columnas[34]:1/3, columnas[35]:1/3, columnas[36]:0, \n",
    "       columnas[37]:1/3, columnas[38]:1/3, \n",
    "       columnas[39]:0, columnas[40]:0, columnas[41]:0, columnas[42]:0, \n",
    "       columnas[43]:0, columnas[44]:0, columnas[45]:0, columnas[46]:0, \n",
    "       columnas[47]:0, columnas[48]:0, columnas[49]:0, columnas[50]:0, \n",
    "       columnas[51]:0, columnas[52]:0, columnas[53]:0, columnas[54]:0, \n",
    "       columnas[55]:0, columnas[56]:0, columnas[57]:0, columnas[58]:0, \n",
    "       columnas[59]:0, columnas[60]:0, columnas[61]:1/3, columnas[62]:1/3, \n",
    "       columnas[63]:1/3, columnas[64]:0, columnas[65]:0, \n",
    "       columnas[66]:0, columnas[67]:0, columnas[68]:1/3, columnas[69]:1/3}"
   ]
  },
  {
   "cell_type": "code",
   "execution_count": null,
   "metadata": {},
   "outputs": [],
   "source": [
    "user5={columnas[0]:'Maria', columnas[1]:5, columnas[2]: 1, \n",
    "       \n",
    "       columnas[3]:0, columnas[4]:0, columnas[5]:0, columnas[6]:0, columnas[7]:2/3, columnas[8]:2/3,\n",
    "       columnas[9]:2/3 ,columnas[10]:2/3, columnas[11]:2/3, columnas[12]:0, columnas[13]:0, columnas[14]:0,\n",
    "       columnas[15]:0, columnas[16]:0, columnas[17]:2/3, columnas[18]:2/3, columnas[19]:2/3, columnas[20]:2/3,\n",
    "       \n",
    "       columnas[21]:0, columnas[22]:0, columnas[23]:0, columnas[24]:0, \n",
    "       columnas[25]:0, columnas[26]:0, columnas[27]:0, columnas[28]:0, \n",
    "       columnas[29]:0, columnas[30]:0, columnas[31]:0, columnas[32]:0,\n",
    "       columnas[33]:0, columnas[34]:0, columnas[35]:0, columnas[36]:0, \n",
    "       columnas[37]:1/3, columnas[38]:1/3, \n",
    "       columnas[39]:1/3, columnas[40]:0, columnas[41]:0, columnas[42]:1/3, \n",
    "       columnas[43]:1/3, columnas[44]:0, columnas[45]:0, columnas[46]:0, \n",
    "       columnas[47]:1/3, columnas[48]:0, columnas[49]:0, columnas[50]:1/3, \n",
    "       columnas[51]:0, columnas[52]:0, columnas[53]:0, columnas[54]:0, \n",
    "       columnas[55]:0, columnas[56]:0, columnas[57]:0, columnas[58]:0, \n",
    "       columnas[59]:0, columnas[60]:0, columnas[61]:0, columnas[62]:0, \n",
    "       columnas[63]:0, columnas[64]:0, columnas[65]:1/3, \n",
    "       columnas[66]:0, columnas[67]:0, columnas[68]:0, columnas[69]:1/3}"
   ]
  },
  {
   "cell_type": "code",
   "execution_count": null,
   "metadata": {},
   "outputs": [],
   "source": [
    "user6={columnas[0]:'Jesus', columnas[1]:6, columnas[2]: 1, \n",
    "       \n",
    "       columnas[3]:2/3, columnas[4]:0, columnas[5]:2/3, columnas[6]:2/3, columnas[7]:0, columnas[8]:2/3,\n",
    "       columnas[9]:2/3, columnas[10]:0, columnas[11]:2/3, columnas[12]:2/3, columnas[13]:0, columnas[14]:2/3,\n",
    "       columnas[15]:0, columnas[16]:2/3, columnas[17]:0, columnas[18]:2/3, columnas[19]:2/3, columnas[20]:2/3,\n",
    "       \n",
    "       columnas[21]:0, columnas[22]:0, columnas[23]:1/3, columnas[24]:1/3, \n",
    "       columnas[25]:0, columnas[26]:0, columnas[27]:0, columnas[28]:0, \n",
    "       columnas[29]:0, columnas[30]:0, columnas[31]:0, columnas[32]:1/3,\n",
    "       columnas[33]:0, columnas[34]:0, columnas[35]:0, columnas[36]:1/3, \n",
    "       columnas[37]:0, columnas[38]:1/3, \n",
    "       columnas[39]:1/3, columnas[40]:1/3, columnas[41]:0, columnas[42]:1/3, \n",
    "       columnas[43]:0, columnas[44]:0, columnas[45]:0, columnas[46]:0, \n",
    "       columnas[47]:0, columnas[48]:0, columnas[49]:0, columnas[50]:1/3, \n",
    "       columnas[51]:1/3, columnas[52]:0, columnas[53]:0, columnas[54]:1/3, \n",
    "       columnas[55]:0, columnas[56]:0, columnas[57]:0, columnas[58]:0, \n",
    "       columnas[59]:1/3, columnas[60]:0, columnas[61]:0, columnas[62]:1/3, \n",
    "       columnas[63]:0, columnas[64]:0, columnas[65]:1/3, \n",
    "       columnas[66]:1/3, columnas[67]:0, columnas[68]:0, columnas[69]:1/3}"
   ]
  },
  {
   "cell_type": "code",
   "execution_count": null,
   "metadata": {},
   "outputs": [],
   "source": [
    "user7={columnas[0]:'Alba', columnas[1]:7, columnas[2]: 1, \n",
    "       \n",
    "       columnas[3]:2/3, columnas[4]:0, columnas[5]:2/3, columnas[6]:2/3, columnas[7]:2/3, columnas[8]:2/3,\n",
    "       columnas[9]:0 ,columnas[10]:2/3, columnas[11]:2/3, columnas[12]:2/3, columnas[13]:2/3, columnas[14]:0,\n",
    "       columnas[15]:2/3, columnas[16]:2/3, columnas[17]:0, columnas[18]:0, columnas[19]:0, columnas[20]:2/3,\n",
    "       \n",
    "       columnas[21]:1/3, columnas[22]:1/3, columnas[23]:0, columnas[24]:0, \n",
    "       columnas[25]:0, columnas[26]:0, columnas[27]:0, columnas[28]:0, \n",
    "       columnas[29]:1/3, columnas[30]:0, columnas[31]:0, columnas[32]:1/3,\n",
    "       columnas[33]:1/3, columnas[34]:0, columnas[35]:1/3, columnas[36]:1/3, \n",
    "       columnas[37]:1/3, columnas[38]:0, \n",
    "       columnas[39]:0, columnas[40]:0, columnas[41]:0, columnas[42]:0, \n",
    "       columnas[43]:1/3, columnas[44]:0, columnas[45]:0, columnas[46]:0, \n",
    "       columnas[47]:1/3, columnas[48]:0, columnas[49]:0, columnas[50]:1/3, \n",
    "       columnas[51]:0, columnas[52]:0, columnas[53]:0, columnas[54]:1/3, \n",
    "       columnas[55]:0, columnas[56]:0, columnas[57]:0, columnas[58]:1/3, \n",
    "       columnas[59]:0, columnas[60]:0, columnas[61]:0, columnas[62]:0, \n",
    "       columnas[63]:0, columnas[64]:0, columnas[65]:0, \n",
    "       columnas[66]:1/3, columnas[67]:0, columnas[68]:1/3, columnas[69]:0}"
   ]
  },
  {
   "cell_type": "code",
   "execution_count": null,
   "metadata": {},
   "outputs": [],
   "source": [
    "user8={columnas[0]:'Adolfo', columnas[1]:8, columnas[2]: 1, \n",
    "       \n",
    "       columnas[3]:2/3, columnas[4]:0, columnas[5]:0, columnas[6]:2/3, columnas[7]:0, columnas[8]:2/3,\n",
    "       columnas[9]:2/3 ,columnas[10]:0, columnas[11]:2/3, columnas[12]:2/3, columnas[13]:0, columnas[14]:0,\n",
    "       columnas[15]:2/3, columnas[16]:2/3, columnas[17]:2/3, columnas[18]:2/3, columnas[19]:2/3, columnas[20]:0,\n",
    "       \n",
    "       columnas[21]:1/3, columnas[22]:0, columnas[23]:0, columnas[24]:1/3, \n",
    "       columnas[25]:0, columnas[26]:0, columnas[27]:0, columnas[28]:0, \n",
    "       columnas[29]:0, columnas[30]:0, columnas[31]:0, columnas[32]:0,\n",
    "       columnas[33]:0, columnas[34]:0, columnas[35]:1/3, columnas[36]:1/3, \n",
    "       columnas[37]:1/3, columnas[38]:1/3, \n",
    "       columnas[39]:1/3, columnas[40]:0, columnas[41]:0, columnas[42]:1/3, \n",
    "       columnas[43]:0, columnas[44]:0, columnas[45]:0, columnas[46]:0, \n",
    "       columnas[47]:0, columnas[48]:0, columnas[49]:1/3, columnas[50]:0, \n",
    "       columnas[51]:0, columnas[52]:0, columnas[53]:1/3, columnas[54]:1/3, \n",
    "       columnas[55]:0, columnas[56]:0, columnas[57]:0, columnas[58]:0, \n",
    "       columnas[59]:0, columnas[60]:0, columnas[61]:0, columnas[62]:0, \n",
    "       columnas[63]:0, columnas[64]:1/3, columnas[65]:1/3, \n",
    "       columnas[66]:0, columnas[67]:0, columnas[68]:0, columnas[69]:0}"
   ]
  },
  {
   "cell_type": "code",
   "execution_count": null,
   "metadata": {},
   "outputs": [],
   "source": [
    "user9={columnas[0]:'Nuria', columnas[1]:9, columnas[2]: 1, \n",
    "       \n",
    "       columnas[3]:2/3, columnas[4]:2/3, columnas[5]:0, columnas[6]:2/3, columnas[7]:0, columnas[8]:2/3,\n",
    "       columnas[9]:2/3 ,columnas[10]:0, columnas[11]:0, columnas[12]:0, columnas[13]:0, columnas[14]:2/3,\n",
    "       columnas[15]:2/3, columnas[16]:2/3, columnas[17]:0, columnas[18]:0, columnas[19]:2/3, columnas[20]:0,\n",
    "       \n",
    "       columnas[21]:1/3, columnas[22]:1/3, columnas[23]:0, columnas[24]:0, \n",
    "       columnas[25]:0, columnas[26]:0, columnas[27]:1/3, columnas[28]:1/3, \n",
    "       columnas[29]:0, columnas[30]:0, columnas[31]:0, columnas[32]:0,\n",
    "       columnas[33]:1/3, columnas[34]:0, columnas[35]:0, columnas[36]:0, \n",
    "       columnas[37]:1/3, columnas[38]:1/3, \n",
    "       columnas[39]:0, columnas[40]:1/3, columnas[41]:0, columnas[42]:1/3, \n",
    "       columnas[43]:0, columnas[44]:0, columnas[45]:0, columnas[46]:0, \n",
    "       columnas[47]:0, columnas[48]:0, columnas[49]:0, columnas[50]:0, \n",
    "       columnas[51]:0, columnas[52]:0, columnas[53]:0, columnas[54]:0, \n",
    "       columnas[55]:0, columnas[56]:0, columnas[57]:0, columnas[58]:0, \n",
    "       columnas[59]:1/3, columnas[60]:1/3, columnas[61]:0, columnas[62]:0, \n",
    "       columnas[63]:1/3, columnas[64]:0, columnas[65]:1/3, \n",
    "       columnas[66]:0, columnas[67]:0, columnas[68]:0, columnas[69]:0}"
   ]
  },
  {
   "cell_type": "code",
   "execution_count": null,
   "metadata": {},
   "outputs": [],
   "source": [
    "user10={columnas[0]:'Jaime', columnas[1]:10, columnas[2]: 1, \n",
    "       \n",
    "       columnas[3]:2/3, columnas[4]:0, columnas[5]:2/3, columnas[6]:2/3, columnas[7]:2/3, columnas[8]:2/3,\n",
    "       columnas[9]:0 ,columnas[10]:0, columnas[11]:2/3, columnas[12]:0, columnas[13]:0, columnas[14]:0,\n",
    "       columnas[15]:0, columnas[16]:2/3, columnas[17]:2/3, columnas[18]:0, columnas[19]:2/3, columnas[20]:0,\n",
    "       \n",
    "       columnas[21]:1/3, columnas[22]:1/3, columnas[23]:1/3, columnas[24]:0, \n",
    "       columnas[25]:0, columnas[26]:0, columnas[27]:0, columnas[28]:0, \n",
    "       columnas[29]:1/3, columnas[30]:0, columnas[31]:0, columnas[32]:1/3,\n",
    "       columnas[33]:0, columnas[34]:0, columnas[35]:0, columnas[36]:1/3, \n",
    "       columnas[37]:1/3, columnas[38]:1/3, \n",
    "       columnas[39]:0, columnas[40]:0, columnas[41]:0, columnas[42]:0, \n",
    "       columnas[43]:0, columnas[44]:0, columnas[45]:0, columnas[46]:0, \n",
    "       columnas[47]:0, columnas[48]:0, columnas[49]:0, columnas[50]:0, \n",
    "       columnas[51]:0, columnas[52]:0, columnas[53]:0, columnas[54]:0, \n",
    "       columnas[55]:0, columnas[56]:0, columnas[57]:0, columnas[58]:0, \n",
    "       columnas[59]:0, columnas[60]:0, columnas[61]:0, columnas[62]:0, \n",
    "       columnas[63]:1/3, columnas[64]:1/3, columnas[65]:1/3, \n",
    "       columnas[66]:0, columnas[67]:0, columnas[68]:0, columnas[69]:0}"
   ]
  },
  {
   "cell_type": "code",
   "execution_count": null,
   "metadata": {},
   "outputs": [],
   "source": [
    "user_list=[user1, user2, user3, user4, user5, user6, user7, user8, user9, user10]\n",
    "\n",
    "for e in user_list:\n",
    "    data=data.append(other=e, ignore_index=True)\n",
    "data"
   ]
  },
  {
   "cell_type": "code",
   "execution_count": null,
   "metadata": {},
   "outputs": [],
   "source": [
    "data.set_index('Nombre', inplace=True)\n",
    "data"
   ]
  },
  {
   "cell_type": "code",
   "execution_count": null,
   "metadata": {},
   "outputs": [],
   "source": [
    "# new user function\n",
    "\n",
    "\n",
    "def new_user(df, tags, Nombre, Id, Plan, Cine, Teatro, Cervezas, Vino, Fiesta, Viajes, Rock, Pop, Jazz, Techno,\n",
    "            RAP, Indie, Correr, Gym, Golf, Basket, Football, Yoga, Drama, Comedia_c, Terror, Anime,\n",
    "            Tragedia, Comedia_t, Mimica, Dramatico, Lager, PaleAle, Artesanas, Pilsener, Blanco,\n",
    "            Tinto, Rosado, Espumoso, Engrupo, Solo, Alternativo_r, Heavy, Country, Grunge, Latino,\n",
    "            Punk, Hard, Folk_p, Cool, Free, Smooth, Acid_j, Minimal, House, Hardcore, Acid_t, Gangsta,\n",
    "            Poetico, Politico, Instrumental, Alternativo_i, Electronico, Folk_i, Griendie,\n",
    "            Sala, Siete, Once, Vinyasa, Kundalini, Bikram, Nidra, metric='euclidean'):\n",
    "    \n",
    "    \n",
    "    rating=[Nombre, Id, Plan, Cine, Teatro, Cervezas, Vino, Fiesta, Viajes, Rock, Pop, Jazz, Techno,\n",
    "            RAP, Indie, Correr, Gym, Golf, Basket, Football, Yoga, Drama, Comedia_c, Terror, Anime,\n",
    "            Tragedia, Comedia_t, Mimica, Dramatico, Lager, PaleAle, Artesanas, Pilsener, Blanco,\n",
    "            Tinto, Rosado, Espumoso, Engrupo, Solo, Alternativo_r, Heavy, Country, Grunge, Latino,\n",
    "            Punk, Hard, Folk_p, Cool, Free, Smooth, Acid_j, Minimal, House, Hardcore, Acid_t, Gangsta,\n",
    "            Poetico, Politico, Instrumental, Alternativo_i, Electronico, Folk_i, Griendie,\n",
    "            Sala, Siete, Once, Vinyasa, Kundalini, Bikram, Nidra]\n",
    "    \n",
    "    \n",
    "    n_user={k:v for k, v in list(zip(tags, rating))}\n",
    "\n",
    "    names=list(df.index)\n",
    "    df=df.append(n_user, ignore_index=True)\n",
    "    names.append(Nombre)\n",
    "    df.index=names\n",
    "    df=df.drop(columns=['Nombre'])\n",
    "\n",
    "    similar = pd.DataFrame(1/(1 + squareform(pdist(df.iloc[:, 3:], metric))), \n",
    "                         index=df.index, columns=df.index)\n",
    "\n",
    "    similarities = similar[Nombre].sort_values(ascending=False)\n",
    "    \n",
    "    closer_users=[]\n",
    "    for e in similarities.index:\n",
    "        if df.ix[e].Plan==1:\n",
    "            closer_users.append(e)\n",
    "\n",
    "    return (list(map(list, zip(closer_users[:10], similarities.ix[closer_users[:10]]))), df)"
   ]
  },
  {
   "cell_type": "code",
   "execution_count": null,
   "metadata": {},
   "outputs": [],
   "source": [
    "# new users ratings\n",
    "\n",
    "print ('Your name is:')\n",
    "Nombre=str(input())"
   ]
  },
  {
   "cell_type": "code",
   "execution_count": null,
   "metadata": {},
   "outputs": [],
   "source": [
    "print('Rate cine :')\n",
    "Cine = int(input())*2/3 \n",
    "if Cine!=0:\n",
    "    print('Rate drama :')\n",
    "    Drama = int(input())*1/3\n",
    "    \n",
    "    print('Rate comedy :')\n",
    "    Comedia_c = int(input())*1/3\n",
    " \n",
    "    print('Rate terror :')\n",
    "    Terror = int(input())*1/3\n",
    " \n",
    "    print('Rate anime :')\n",
    "    Anime = int(input())*1/3\n",
    "\n",
    "else:\n",
    "    Drama = 0\n",
    "    Comedia_c = 0\n",
    "    Terror = 0\n",
    "    Anime = 0\n"
   ]
  },
  {
   "cell_type": "code",
   "execution_count": null,
   "metadata": {},
   "outputs": [],
   "source": [
    "print('Rate theater :')\n",
    "Teatro = int(input())*2/3 \n",
    "if Teatro!=0:\n",
    "    print('Rate tragedia :')\n",
    "    Tragedia = int(input())*1/3\n",
    "    \n",
    "    print('Rate comedy :')\n",
    "    Comedia_t = int(input())*1/3\n",
    " \n",
    "    print('Rate mimics :')\n",
    "    Mimica = int(input())*1/3\n",
    " \n",
    "    print('Rate drama :')\n",
    "    Dramatico = int(input())*1/3\n",
    "\n",
    "else:\n",
    "    Tragedia = 0\n",
    "    Comedia_t = 0\n",
    "    Mimica = 0\n",
    "    Dramatico = 0\n"
   ]
  },
  {
   "cell_type": "code",
   "execution_count": null,
   "metadata": {},
   "outputs": [],
   "source": [
    "print('Rate beers :')\n",
    "Cervezas = int(input())*2/3 \n",
    "if Cervezas!=0:\n",
    "    print('Rate lager :')\n",
    "    Lager = int(input())*1/3\n",
    "    \n",
    "    print('Rate pale ale :')\n",
    "    PaleAle = int(input())*1/3\n",
    " \n",
    "    print('Rate home made beer :')\n",
    "    Artesanas = int(input())*1/3\n",
    " \n",
    "    print('Rate pilsener :')\n",
    "    Pilsener = int(input())*1/3\n",
    "\n",
    "else:\n",
    "    Lager = 0\n",
    "    PaleAle = 0\n",
    "    Artesanas = 0\n",
    "    Pilsener = 0\n"
   ]
  },
  {
   "cell_type": "code",
   "execution_count": null,
   "metadata": {},
   "outputs": [],
   "source": [
    "print('Rate wine :')\n",
    "Vino = int(input())*2/3 \n",
    "if Vino!=0:\n",
    "    print('Rate white wine :')\n",
    "    Blanco = int(input())*1/3\n",
    "    \n",
    "    print('Rate red wine :')\n",
    "    Tinto = int(input())*1/3\n",
    " \n",
    "    print('Rate pink wine :')\n",
    "    Rosado = int(input())*1/3\n",
    " \n",
    "    print('Rate sparkling wine :')\n",
    "    Espumoso = int(input())*1/3\n",
    "\n",
    "else:\n",
    "    Blanco = 0\n",
    "    Tinto = 0\n",
    "    Rosado = 0\n",
    "    Espumoso = 0\n"
   ]
  },
  {
   "cell_type": "code",
   "execution_count": null,
   "metadata": {},
   "outputs": [],
   "source": [
    "print('Rate party :')\n",
    "Fiesta = int(input())*2/3 "
   ]
  },
  {
   "cell_type": "code",
   "execution_count": null,
   "metadata": {},
   "outputs": [],
   "source": [
    "print('Rate trips :')\n",
    "Viajes = int(input())*2/3 \n",
    "if Viajes!=0:\n",
    "    print('Rate trips in group :')\n",
    "    Engrupo = int(input())*1/3\n",
    "    \n",
    "    print('Rate trips alone :')\n",
    "    Solo = int(input())*1/3\n",
    "\n",
    "\n",
    "else:\n",
    "    Engrupo = 0\n",
    "    Solo = 0\n"
   ]
  },
  {
   "cell_type": "code",
   "execution_count": null,
   "metadata": {},
   "outputs": [],
   "source": [
    "print('Rate rock :')\n",
    "Rock = int(input())*2/3 \n",
    "if Rock!=0:\n",
    "    print('Rate alternative rock :')\n",
    "    Alternativo_r = int(input())*1/3\n",
    "    \n",
    "    print('Rate heavy :')\n",
    "    Heavy = int(input())*1/3\n",
    " \n",
    "    print('Rate country :')\n",
    "    Country = int(input())*1/3\n",
    " \n",
    "    print('Rate Grunge :')\n",
    "    Grunge = int(input())*1/3\n",
    "\n",
    "else:\n",
    "    Alternativo_r = 0\n",
    "    Heavy = 0\n",
    "    Country = 0\n",
    "    Grunge = 0\n"
   ]
  },
  {
   "cell_type": "code",
   "execution_count": null,
   "metadata": {},
   "outputs": [],
   "source": [
    "print('Rate pop :')\n",
    "Pop = int(input())*2/3 \n",
    "if Pop!=0:\n",
    "    print('Rate latino pop :')\n",
    "    Latino = int(input())*1/3\n",
    "    \n",
    "    print('Rate punk :')\n",
    "    Punk = int(input())*1/3\n",
    " \n",
    "    print('Rate hard :')\n",
    "    Hard = int(input())*1/3\n",
    " \n",
    "    print('Rate folk :')\n",
    "    Folk_p = int(input())*1/3\n",
    "\n",
    "else:\n",
    "    Latino = 0\n",
    "    Punk = 0\n",
    "    Hard = 0\n",
    "    Folk_p = 0\n"
   ]
  },
  {
   "cell_type": "code",
   "execution_count": null,
   "metadata": {},
   "outputs": [],
   "source": [
    "print('Rate jazz :')\n",
    "Jazz = int(input())*2/3 \n",
    "if Jazz!=0:\n",
    "    print('Rate cool jazz :')\n",
    "    Cool = int(input())*1/3\n",
    "    \n",
    "    print('Rate free jazz :')\n",
    "    Free = int(input())*1/3\n",
    " \n",
    "    print('Rate smooth jazz :')\n",
    "    Smooth = int(input())*1/3\n",
    " \n",
    "    print('Rate acid jazz :')\n",
    "    Acid_j = int(input())*1/3\n",
    "\n",
    "else:\n",
    "    Cool = 0\n",
    "    Free = 0\n",
    "    Smooth = 0\n",
    "    Acid_j = 0\n"
   ]
  },
  {
   "cell_type": "code",
   "execution_count": null,
   "metadata": {},
   "outputs": [],
   "source": [
    "print('Rate techno :')\n",
    "Techno = int(input())*2/3 \n",
    "if Techno!=0:\n",
    "    print('Rate minimal :')\n",
    "    Minimal = int(input())*1/3\n",
    "    \n",
    "    print('Rate house :')\n",
    "    House = int(input())*1/3\n",
    " \n",
    "    print('Rate hardcore :')\n",
    "    Hardcore = int(input())*1/3\n",
    " \n",
    "    print('Rate acid techno :')\n",
    "    Acid_t = int(input())*1/3\n",
    "\n",
    "else:\n",
    "    Minimal = 0\n",
    "    House = 0\n",
    "    Hardcore = 0\n",
    "    Acid_t = 0\n"
   ]
  },
  {
   "cell_type": "code",
   "execution_count": null,
   "metadata": {},
   "outputs": [],
   "source": [
    "print('Rate rap :')\n",
    "RAP = int(input())*2/3 \n",
    "if RAP!=0:\n",
    "    print('Rate gangsta :')\n",
    "    Gangsta = int(input())*1/3\n",
    "    \n",
    "    print('Rate poetic rap :')\n",
    "    Poetico = int(input())*1/3\n",
    " \n",
    "    print('Rate politic rap :')\n",
    "    Politico = int(input())*1/3\n",
    " \n",
    "    print('Rate instrumental rap :')\n",
    "    Instrumental = int(input())*1/3\n",
    "\n",
    "else:\n",
    "    Gangsta = 0\n",
    "    Poetico = 0\n",
    "    Politico = 0\n",
    "    Instrumental = 0\n"
   ]
  },
  {
   "cell_type": "code",
   "execution_count": null,
   "metadata": {},
   "outputs": [],
   "source": [
    "print('Rate indie :')\n",
    "Indie = int(input())*2/3 \n",
    "if Indie!=0:\n",
    "    print('Rate alternative indie :')\n",
    "    Alternativo_i = int(input())*1/3\n",
    "    \n",
    "    print('Rate electronic indie :')\n",
    "    Electronico = int(input())*1/3\n",
    " \n",
    "    print('Rate folk indie :')\n",
    "    Folk_i = int(input())*1/3\n",
    " \n",
    "    print('Rate Griendie :')\n",
    "    Griendie = int(input())*1/3\n",
    "\n",
    "else:\n",
    "    Alternativo_i = 0\n",
    "    Electronico = 0\n",
    "    Folk_i = 0\n",
    "    Griendie = 0\n"
   ]
  },
  {
   "cell_type": "code",
   "execution_count": null,
   "metadata": {},
   "outputs": [],
   "source": [
    "print('Rate running :')\n",
    "Correr = int(input())*2/3 "
   ]
  },
  {
   "cell_type": "code",
   "execution_count": null,
   "metadata": {},
   "outputs": [],
   "source": [
    "print('Rate gym :')\n",
    "Gym = int(input())*2/3 "
   ]
  },
  {
   "cell_type": "code",
   "execution_count": null,
   "metadata": {},
   "outputs": [],
   "source": [
    "print('Rate golf :')\n",
    "Golf = int(input())*2/3 "
   ]
  },
  {
   "cell_type": "code",
   "execution_count": null,
   "metadata": {},
   "outputs": [],
   "source": [
    "print('Rate basket :')\n",
    "Basket = int(input())*2/3 "
   ]
  },
  {
   "cell_type": "code",
   "execution_count": null,
   "metadata": {},
   "outputs": [],
   "source": [
    "print('Rate football :')\n",
    "Football = int(input())*2/3 \n",
    "if Football!=0:\n",
    "    print('Rate indoor football :')\n",
    "    Sala = int(input())*1/3\n",
    "    \n",
    "    print('Rate football 7 :')\n",
    "    Siete = int(input())*1/3\n",
    " \n",
    "    print('Rate football 11 :')\n",
    "    Once = int(input())*1/3\n",
    "\n",
    "\n",
    "else:\n",
    "    Sala = 0\n",
    "    Siete = 0\n",
    "    Once = 0\n"
   ]
  },
  {
   "cell_type": "code",
   "execution_count": null,
   "metadata": {},
   "outputs": [],
   "source": [
    "print('Rate yoga :')\n",
    "Yoga = int(input())*2/3 \n",
    "if Yoga!=0:\n",
    "    print('Rate vinyasa yoga :')\n",
    "    Vinyasa = int(input())*1/3\n",
    "    \n",
    "    print('Rate kundalini yoga :')\n",
    "    Kundalini = int(input())*1/3\n",
    " \n",
    "    print('Rate bikram yoga :')\n",
    "    Bikram = int(input())*1/3\n",
    " \n",
    "    print('Rate nidra yoga :')\n",
    "    Nidra = int(input())*1/3\n",
    "\n",
    "else:\n",
    "    Vinyasa = 0\n",
    "    Kundalini = 0\n",
    "    Bikram = 0\n",
    "    Nidra = 0"
   ]
  },
  {
   "cell_type": "raw",
   "metadata": {},
   "source": [
    "# metrics for squareform\n",
    "\n",
    "'''\n",
    "'euclidean', 'minkowski', 'cityblock', 'seuclidean', 'sqeuclidean', 'cosine', 'correlation'\n",
    "\n",
    "'hamming', 'jaccard', 'chebyshev', 'canberra', 'braycurtis', 'mahalanobis', 'yule'\n",
    "\n",
    "'matching', 'dice', 'kulsinski', 'rogerstanimoto', 'russellrao', 'sokalmichener'\n",
    "\n",
    "'sokalsneath', 'wminkowski'\n",
    "'''\n",
    "\n",
    "\n",
    "#metric='cosine' "
   ]
  },
  {
   "cell_type": "code",
   "execution_count": null,
   "metadata": {},
   "outputs": [],
   "source": [
    "res_n_user=new_user(data, columnas, Nombre, len(data)+1, 0, Cine, Teatro, Cervezas, Vino, Fiesta, \n",
    "                    Viajes, Rock, Pop, Jazz, Techno, RAP, Indie, Correr, Gym, Golf, Basket, \n",
    "                    Football, Yoga, Drama, Comedia_c, Terror, Anime, Tragedia, Comedia_t, Mimica, \n",
    "                    Dramatico, Lager, PaleAle, Artesanas, Pilsener, Blanco, Tinto, Rosado, Espumoso, \n",
    "                    Engrupo, Solo, Alternativo_r, Heavy, Country, Grunge, Latino,Punk, Hard, Folk_p, \n",
    "                    Cool, Free, Smooth, Acid_j, Minimal, House, Hardcore, Acid_t, Gangsta, Poetico, \n",
    "                    Politico, Instrumental, Alternativo_i, Electronico, Folk_i, Griendie,\n",
    "                    Sala, Siete, Once, Vinyasa, Kundalini, Bikram, Nidra)"
   ]
  },
  {
   "cell_type": "code",
   "execution_count": null,
   "metadata": {},
   "outputs": [],
   "source": [
    "plans=res_n_user[0]\n",
    "data=res_n_user[1]"
   ]
  },
  {
   "cell_type": "code",
   "execution_count": null,
   "metadata": {},
   "outputs": [],
   "source": [
    "print ('Similar users with plan : ')\n",
    "for e in plans:\n",
    "    print (e[0])\n",
    "    \n",
    "\n",
    "final=pd.DataFrame()\n",
    "final['plan_ori_id']=[e[0] for e in plans]\n",
    "final['original_similarity']=[e[1] for e in plans]"
   ]
  },
  {
   "cell_type": "code",
   "execution_count": null,
   "metadata": {},
   "outputs": [],
   "source": [
    "# follow-unfollow users\n",
    "foll=plans\n",
    "\n",
    "def follow(_id, b, foll):\n",
    "    if b==0: return foll\n",
    "    elif b==1:\n",
    "        for e in foll:\n",
    "            if _id==e[0]:\n",
    "                e[1]+=e[1]*0.15\n",
    "        for e in foll:\n",
    "            if e[1]>1:e[1]=1\n",
    "        return foll\n",
    "\n",
    "print ()\n",
    "for e in foll:\n",
    "    print ('Follow user {}?'.format(e[0]))\n",
    "    b=int(input())\n",
    "    f=follow(e[0], b, foll)\n",
    "    #print (f)\n",
    "    print()\n",
    "#final['follow_id']=[e[0] for e in f]\n",
    "final['after_follow_similarity']=[e[1] for e in f]"
   ]
  },
  {
   "cell_type": "code",
   "execution_count": null,
   "metadata": {},
   "outputs": [],
   "source": [
    "final"
   ]
  },
  {
   "cell_type": "code",
   "execution_count": null,
   "metadata": {},
   "outputs": [],
   "source": [
    "w_likes=foll\n",
    "def like(_id, b, serie_like):\n",
    "    if b==0: return serie_like\n",
    "    elif b==1:\n",
    "        for e in serie_like:\n",
    "            if _id==e[0]:\n",
    "                e[1]+=0.01\n",
    "        for e in serie_like:\n",
    "            if e[1]>1:e[1]=1\n",
    "        return serie_like\n",
    "\n",
    "print ()\n",
    "for e in w_likes:\n",
    "    print ('Do you like the user {} plan?'.format(e[0]))\n",
    "    b=int(input())\n",
    "    l=like(e[0], b, w_likes)\n",
    "    print()\n",
    "final['with likes after follow']=[e[1] for e in f]"
   ]
  },
  {
   "cell_type": "code",
   "execution_count": null,
   "metadata": {},
   "outputs": [],
   "source": [
    "unfoll=w_likes\n",
    "def unfollow(_id, b, unfoll):\n",
    "    if b==0: return unfoll\n",
    "    elif b==1:\n",
    "        for e in unfoll:\n",
    "            if _id==e[0]:\n",
    "                e[1]-=e[1]*0.15\n",
    "        for e in unfoll:\n",
    "            if e[1]<0:e[1]=0\n",
    "        return unfoll#sorted(unfoll, key=itemgetter(1), reverse=True)\n",
    "\n",
    "print ()\n",
    "for e in unfoll:\n",
    "    print ('Unfollow user {}?'.format(e[0]))\n",
    "    b=int(input())\n",
    "    u=unfollow(e[0], b, unfoll)\n",
    "    #print (u)\n",
    "    print()\n",
    "#final['unfollow_id']=[e[0] for e in u]\n",
    "final['after_unfollow_similarity']=[e[1] for e in u]\n",
    "display (final)"
   ]
  },
  {
   "cell_type": "code",
   "execution_count": null,
   "metadata": {},
   "outputs": [],
   "source": [
    "w_likes_un=unfoll\n",
    "def like_un(_id, b, serie_like):\n",
    "    if b==0: return serie_like\n",
    "    elif b==1:\n",
    "        for e in serie_like:\n",
    "            if _id==e[0]:\n",
    "                e[1]+=0.01\n",
    "        for e in serie_like:\n",
    "            if e[1]>1:e[1]=1\n",
    "        return serie_like\n",
    "\n",
    "print ()\n",
    "for e in w_likes_un:\n",
    "    print ('Do you like the user {} plan?'.format(e[0]))\n",
    "    b=int(input())\n",
    "    l=like_un(e[0], b, w_likes_un)\n",
    "    print()\n",
    "final['with likes after unfollow']=[e[1] for e in f]"
   ]
  },
  {
   "cell_type": "code",
   "execution_count": null,
   "metadata": {},
   "outputs": [],
   "source": [
    "final.iplot(kind='bar', x='plan_ori_id', title='Similarities with {}'.format(Nombre), \n",
    "            yTitle='Similarity', xTitle='Users')"
   ]
  },
  {
   "cell_type": "code",
   "execution_count": null,
   "metadata": {},
   "outputs": [],
   "source": [
    "end_similarity=final.sort_values(by=['with likes after unfollow'], ascending=False)\n",
    "#end_similarity"
   ]
  },
  {
   "cell_type": "code",
   "execution_count": null,
   "metadata": {},
   "outputs": [],
   "source": [
    "end_similarity.iplot(kind='bar', x='plan_ori_id', title='Final similarities with {}'.format(Nombre), \n",
    "            yTitle='Similarity', xTitle='Users')"
   ]
  },
  {
   "cell_type": "code",
   "execution_count": null,
   "metadata": {},
   "outputs": [],
   "source": [
    "fig=plt.figure(figsize=(12,12))\n",
    "ax = fig.add_subplot(111, polar=True)\n",
    "ax.plot(final['plan_ori_id'].head(6), final['original_similarity'].head(6), 'o-', linewidth=2)\n",
    "ax.fill(final['plan_ori_id'].head(6), final['original_similarity'].head(6), alpha=0.25)\n",
    "ax.set_title('Distances between users before')\n",
    "ax.grid(True)"
   ]
  },
  {
   "cell_type": "code",
   "execution_count": null,
   "metadata": {},
   "outputs": [],
   "source": [
    "fig=plt.figure(figsize=(12,12))\n",
    "ax = fig.add_subplot(111, polar=True)\n",
    "ax.plot(final['plan_ori_id'].head(6), final['with likes after unfollow'].head(6), 'o-', linewidth=2)\n",
    "ax.fill(final['plan_ori_id'].head(6), final['with likes after unfollow'].head(6), alpha=0.25)\n",
    "ax.set_title('Distances between users after')\n",
    "ax.grid(True)"
   ]
  },
  {
   "cell_type": "code",
   "execution_count": null,
   "metadata": {},
   "outputs": [],
   "source": []
  }
 ],
 "metadata": {
  "kernelspec": {
   "display_name": "Python 3",
   "language": "python",
   "name": "python3"
  },
  "language_info": {
   "codemirror_mode": {
    "name": "ipython",
    "version": 3
   },
   "file_extension": ".py",
   "mimetype": "text/x-python",
   "name": "python",
   "nbconvert_exporter": "python",
   "pygments_lexer": "ipython3",
   "version": "3.7.2"
  }
 },
 "nbformat": 4,
 "nbformat_minor": 2
}
