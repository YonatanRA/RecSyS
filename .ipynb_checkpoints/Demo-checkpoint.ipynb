{
 "cells": [
  {
   "cell_type": "markdown",
   "metadata": {},
   "source": [
    "# Demo Synth Data"
   ]
  },
  {
   "cell_type": "code",
   "execution_count": 1,
   "metadata": {},
   "outputs": [],
   "source": [
    "# import libraries\n",
    "\n",
    "import warnings\n",
    "warnings.filterwarnings(\"ignore\",category=DeprecationWarning)\n",
    "import pandas as pd\n",
    "import numpy as np\n",
    "import matplotlib.pyplot as plt\n",
    "from scipy.spatial.distance import pdist, squareform"
   ]
  },
  {
   "cell_type": "code",
   "execution_count": 2,
   "metadata": {},
   "outputs": [],
   "source": [
    "# names and tags\n",
    "\n",
    "names=['id__'+str(i) for i in range(2000)]\n",
    "\n",
    "tags=['r&b', 'rock', 'jazz', 'techno', 'pop', 'indie',\n",
    "      'cinema', 'theater', 'beers', 'wine', 'party', 'trips',\n",
    "      'running', 'gym', 'golf', 'basket', 'football', 'yoga']"
   ]
  },
  {
   "cell_type": "code",
   "execution_count": 3,
   "metadata": {},
   "outputs": [
    {
     "data": {
      "text/plain": [
       "(2000, 20)"
      ]
     },
     "execution_count": 3,
     "metadata": {},
     "output_type": "execute_result"
    }
   ],
   "source": [
    "# synth data\n",
    "\n",
    "data=np.random.randint(0, 6, (len(names), len(tags)))\n",
    "s_data=pd.DataFrame(data, columns=tags, index=names)\n",
    "s_data['plan']=np.random.randint(0, 2, (len(names), 1))\n",
    "s_data['id']=[i for i in range(len(names))]\n",
    "s_data.shape"
   ]
  },
  {
   "cell_type": "code",
   "execution_count": 4,
   "metadata": {},
   "outputs": [],
   "source": [
    "# metrics for squareform\n",
    "\n",
    "'''\n",
    "'euclidean', 'minkowski', 'cityblock', 'seuclidean', 'sqeuclidean', 'cosine', 'correlation'\n",
    "\n",
    "'hamming', 'jaccard', 'chebyshev', 'canberra', 'braycurtis', 'mahalanobis', 'yule'\n",
    "\n",
    "'matching', 'dice', 'kulsinski', 'rogerstanimoto', 'russellrao', 'sokalmichener'\n",
    "\n",
    "'sokalsneath', 'wminkowski'\n",
    "'''\n",
    "\n",
    "\n",
    "\n",
    "metric='euclidean'  "
   ]
  },
  {
   "cell_type": "code",
   "execution_count": null,
   "metadata": {},
   "outputs": [],
   "source": [
    "squareform(pdist(s_data.iloc[:, :-2], metric))"
   ]
  },
  {
   "cell_type": "code",
   "execution_count": null,
   "metadata": {},
   "outputs": [],
   "source": [
    "# similarity matrix\n",
    "\n",
    "similar=pd.DataFrame(1/(1 + squareform(pdist(s_data.iloc[:, :-1], metric))), \n",
    "                         index=s_data.index, columns=s_data.index)\n",
    "\n",
    "similar.head()"
   ]
  },
  {
   "cell_type": "code",
   "execution_count": null,
   "metadata": {},
   "outputs": [],
   "source": [
    "similar.shape"
   ]
  },
  {
   "cell_type": "markdown",
   "metadata": {},
   "source": [
    "# New User"
   ]
  },
  {
   "cell_type": "code",
   "execution_count": null,
   "metadata": {},
   "outputs": [],
   "source": [
    "# new fixed user\n",
    "\n",
    "n_rating=np.random.randint(0, 6, (1, len(tags)))\n",
    "n_user={k:v for k, v in list(zip(tags, n_rating[0]))}\n",
    "n_user['id']='id_2001'\n",
    "n_user['plan']=0\n",
    "\n",
    "n_user"
   ]
  },
  {
   "cell_type": "code",
   "execution_count": null,
   "metadata": {},
   "outputs": [],
   "source": [
    "# new user introduced into system\n",
    "\n",
    "s_data=s_data.append(n_user, ignore_index=True)\n",
    "names.append(n_user['id'])\n",
    "s_data.index=names"
   ]
  },
  {
   "cell_type": "code",
   "execution_count": null,
   "metadata": {},
   "outputs": [],
   "source": [
    "# similarity for new user\n",
    "\n",
    "similar = pd.DataFrame(1/(1 + squareform(pdist(s_data.iloc[:, :-2], metric))), \n",
    "                         index=s_data.index, columns=s_data.index)\n",
    "\n",
    "\n",
    "similarities = similar[n_user['id']].sort_values(ascending=False)\n",
    "\n",
    "\n",
    "\n",
    "closer_users=[]\n",
    "for e in similarities.index:\n",
    "    if s_data.ix[e].plan==1:\n",
    "        closer_users.append(e)\n",
    "   \n",
    "    \n",
    "# closer users with plan\n",
    "closer_users[:10]"
   ]
  },
  {
   "cell_type": "code",
   "execution_count": null,
   "metadata": {},
   "outputs": [],
   "source": [
    "s_data.ix[closer_users[:10]]"
   ]
  },
  {
   "cell_type": "markdown",
   "metadata": {},
   "source": [
    "# New User Input"
   ]
  },
  {
   "cell_type": "code",
   "execution_count": 28,
   "metadata": {},
   "outputs": [],
   "source": [
    "# function for new users\n",
    "\n",
    "def new_user(df, rb, rock, jazz, techno, pop, indie, cinema, theater, beers, wine,\n",
    "             party, trips, running, gym, golf, basket, football, yoga, metric):\n",
    "    \n",
    "    \n",
    "    tags=['r&b', 'rock', 'jazz', 'techno', 'pop', 'indie',\n",
    "          'cinema', 'theater', 'beers', 'wine', 'party', 'trips',\n",
    "          'running', 'gym', 'golf', 'basket', 'football', 'yoga']\n",
    "    \n",
    "    \n",
    "    rating=[rb, rock, jazz, techno, pop, indie, cinema, theater, beers, wine,\n",
    "             party, trips, running, gym, golf, basket, football, yoga]\n",
    "    \n",
    "    \n",
    "    \n",
    "    n_user={k:v for k, v in list(zip(tags, rating))}\n",
    "    n_user['id']='id__'+str(len(s_data.id)+1)\n",
    "    n_user['plan']=0\n",
    "    \n",
    "    \n",
    "    names=list(df.index)\n",
    "    df=df.append(n_user, ignore_index=True)\n",
    "    names.append(n_user['id'])\n",
    "    df.index=names\n",
    "    \n",
    "    \n",
    "    \n",
    "    similar = pd.DataFrame(1/(1 + squareform(pdist(df.iloc[:, :-2], metric))), \n",
    "                         index=df.index, columns=df.index)\n",
    "\n",
    "\n",
    "    similarities = similar[n_user['id']].sort_values(ascending=False)\n",
    "\n",
    "\n",
    "\n",
    "    closer_users=[]\n",
    "    for e in similarities.index:\n",
    "        if df.ix[e].plan==1:\n",
    "            closer_users.append(e)\n",
    "    \n",
    "    \n",
    "    \n",
    "    return df.ix[closer_users[:10]]\n",
    "    \n",
    "    \n",
    "    \n",
    "    "
   ]
  },
  {
   "cell_type": "markdown",
   "metadata": {},
   "source": [
    "# Input"
   ]
  },
  {
   "cell_type": "code",
   "execution_count": 6,
   "metadata": {},
   "outputs": [
    {
     "name": "stdout",
     "output_type": "stream",
     "text": [
      "Rate r&b from 0 to 5:\n",
      "5\n"
     ]
    }
   ],
   "source": [
    "print('Rate r&b from 0 to 5:')\n",
    "rb = int(input())"
   ]
  },
  {
   "cell_type": "code",
   "execution_count": 7,
   "metadata": {},
   "outputs": [
    {
     "name": "stdout",
     "output_type": "stream",
     "text": [
      "Rate rock from 0 to 5:\n",
      "5\n"
     ]
    }
   ],
   "source": [
    "print('Rate rock from 0 to 5:')\n",
    "rock = int(input())"
   ]
  },
  {
   "cell_type": "code",
   "execution_count": 8,
   "metadata": {},
   "outputs": [
    {
     "name": "stdout",
     "output_type": "stream",
     "text": [
      "Rate jazz from 0 to 5:\n",
      "0\n"
     ]
    }
   ],
   "source": [
    "print('Rate jazz from 0 to 5:')\n",
    "jazz = int(input())"
   ]
  },
  {
   "cell_type": "code",
   "execution_count": 9,
   "metadata": {},
   "outputs": [
    {
     "name": "stdout",
     "output_type": "stream",
     "text": [
      "Rate techno from 0 to 5:\n",
      "0\n"
     ]
    }
   ],
   "source": [
    "print('Rate techno from 0 to 5:')\n",
    "techno = int(input())"
   ]
  },
  {
   "cell_type": "code",
   "execution_count": 10,
   "metadata": {},
   "outputs": [
    {
     "name": "stdout",
     "output_type": "stream",
     "text": [
      "Rate pop from 0 to 5:\n",
      "3\n"
     ]
    }
   ],
   "source": [
    "print('Rate pop from 0 to 5:')\n",
    "pop = int(input())"
   ]
  },
  {
   "cell_type": "code",
   "execution_count": 11,
   "metadata": {},
   "outputs": [
    {
     "name": "stdout",
     "output_type": "stream",
     "text": [
      "Rate indie from 0 to 5:\n",
      "4\n"
     ]
    }
   ],
   "source": [
    "print('Rate indie from 0 to 5:')\n",
    "indie = int(input())"
   ]
  },
  {
   "cell_type": "code",
   "execution_count": 12,
   "metadata": {},
   "outputs": [
    {
     "name": "stdout",
     "output_type": "stream",
     "text": [
      "Rate cinema from 0 to 5:\n",
      "1\n"
     ]
    }
   ],
   "source": [
    "print('Rate cinema from 0 to 5:')\n",
    "cinema = int(input())"
   ]
  },
  {
   "cell_type": "code",
   "execution_count": 13,
   "metadata": {},
   "outputs": [
    {
     "name": "stdout",
     "output_type": "stream",
     "text": [
      "Rate theater from 0 to 5:\n",
      "2\n"
     ]
    }
   ],
   "source": [
    "print('Rate theater from 0 to 5:')\n",
    "theater = int(input())"
   ]
  },
  {
   "cell_type": "code",
   "execution_count": 14,
   "metadata": {},
   "outputs": [
    {
     "name": "stdout",
     "output_type": "stream",
     "text": [
      "Rate beers from 0 to 5:\n",
      "1\n"
     ]
    }
   ],
   "source": [
    "print('Rate beers from 0 to 5:')\n",
    "beers = int(input())"
   ]
  },
  {
   "cell_type": "code",
   "execution_count": 17,
   "metadata": {},
   "outputs": [
    {
     "name": "stdout",
     "output_type": "stream",
     "text": [
      "Rate wine from 0 to 5:\n",
      "0\n"
     ]
    }
   ],
   "source": [
    "print('Rate wine from 0 to 5:')\n",
    "wine = int(input())"
   ]
  },
  {
   "cell_type": "code",
   "execution_count": 18,
   "metadata": {},
   "outputs": [
    {
     "name": "stdout",
     "output_type": "stream",
     "text": [
      "Rate party from 0 to 5:\n",
      "1\n"
     ]
    }
   ],
   "source": [
    "print('Rate party from 0 to 5:')\n",
    "party = int(input())"
   ]
  },
  {
   "cell_type": "code",
   "execution_count": 19,
   "metadata": {},
   "outputs": [
    {
     "name": "stdout",
     "output_type": "stream",
     "text": [
      "Rate trips from 0 to 5:\n",
      "1\n"
     ]
    }
   ],
   "source": [
    "print('Rate trips from 0 to 5:')\n",
    "trips = int(input())"
   ]
  },
  {
   "cell_type": "code",
   "execution_count": 20,
   "metadata": {},
   "outputs": [
    {
     "name": "stdout",
     "output_type": "stream",
     "text": [
      "Rate running from 0 to 5:\n",
      "5\n"
     ]
    }
   ],
   "source": [
    "print('Rate running from 0 to 5:')\n",
    "running = int(input())"
   ]
  },
  {
   "cell_type": "code",
   "execution_count": 21,
   "metadata": {},
   "outputs": [
    {
     "name": "stdout",
     "output_type": "stream",
     "text": [
      "Rate gym from 0 to 5:\n",
      "1\n"
     ]
    }
   ],
   "source": [
    "print('Rate gym from 0 to 5:')\n",
    "gym = int(input())"
   ]
  },
  {
   "cell_type": "code",
   "execution_count": 22,
   "metadata": {},
   "outputs": [
    {
     "name": "stdout",
     "output_type": "stream",
     "text": [
      "Rate golf from 0 to 5:\n",
      "2\n"
     ]
    }
   ],
   "source": [
    "print('Rate golf from 0 to 5:')\n",
    "golf = int(input())"
   ]
  },
  {
   "cell_type": "code",
   "execution_count": 23,
   "metadata": {},
   "outputs": [
    {
     "name": "stdout",
     "output_type": "stream",
     "text": [
      "Rate basket from 0 to 5:\n",
      "3\n"
     ]
    }
   ],
   "source": [
    "print('Rate basket from 0 to 5:')\n",
    "basket = int(input())"
   ]
  },
  {
   "cell_type": "code",
   "execution_count": 24,
   "metadata": {},
   "outputs": [
    {
     "name": "stdout",
     "output_type": "stream",
     "text": [
      "Rate football from 0 to 5:\n",
      "4\n"
     ]
    }
   ],
   "source": [
    "print('Rate football from 0 to 5:')\n",
    "football = int(input())"
   ]
  },
  {
   "cell_type": "code",
   "execution_count": 26,
   "metadata": {},
   "outputs": [
    {
     "name": "stdout",
     "output_type": "stream",
     "text": [
      "Rate yoga from 0 to 5:\n",
      "0\n"
     ]
    }
   ],
   "source": [
    "print('Rate yoga from 0 to 5:')\n",
    "yoga = int(input())"
   ]
  },
  {
   "cell_type": "code",
   "execution_count": null,
   "metadata": {},
   "outputs": [],
   "source": [
    "# metrics for squareform\n",
    "\n",
    "'''\n",
    "'euclidean', 'minkowski', 'cityblock', 'seuclidean', 'sqeuclidean', 'cosine', 'correlation'\n",
    "\n",
    "'hamming', 'jaccard', 'chebyshev', 'canberra', 'braycurtis', 'mahalanobis', 'yule'\n",
    "\n",
    "'matching', 'dice', 'kulsinski', 'rogerstanimoto', 'russellrao', 'sokalmichener'\n",
    "\n",
    "'sokalsneath', 'wminkowski'\n",
    "'''\n",
    "\n",
    "\n",
    "\n",
    "metric='euclidean'  "
   ]
  },
  {
   "cell_type": "code",
   "execution_count": 29,
   "metadata": {},
   "outputs": [],
   "source": [
    "plans=new_user(s_data, rb, rock, jazz, techno, pop, indie, cinema, theater, beers, wine,\n",
    "               party, trips, running, gym, golf, basket, football, yoga, metric)"
   ]
  },
  {
   "cell_type": "code",
   "execution_count": 30,
   "metadata": {},
   "outputs": [
    {
     "data": {
      "text/html": [
       "<div>\n",
       "<style scoped>\n",
       "    .dataframe tbody tr th:only-of-type {\n",
       "        vertical-align: middle;\n",
       "    }\n",
       "\n",
       "    .dataframe tbody tr th {\n",
       "        vertical-align: top;\n",
       "    }\n",
       "\n",
       "    .dataframe thead th {\n",
       "        text-align: right;\n",
       "    }\n",
       "</style>\n",
       "<table border=\"1\" class=\"dataframe\">\n",
       "  <thead>\n",
       "    <tr style=\"text-align: right;\">\n",
       "      <th></th>\n",
       "      <th>r&amp;b</th>\n",
       "      <th>rock</th>\n",
       "      <th>jazz</th>\n",
       "      <th>techno</th>\n",
       "      <th>pop</th>\n",
       "      <th>indie</th>\n",
       "      <th>cinema</th>\n",
       "      <th>theater</th>\n",
       "      <th>beers</th>\n",
       "      <th>wine</th>\n",
       "      <th>party</th>\n",
       "      <th>trips</th>\n",
       "      <th>running</th>\n",
       "      <th>gym</th>\n",
       "      <th>golf</th>\n",
       "      <th>basket</th>\n",
       "      <th>football</th>\n",
       "      <th>yoga</th>\n",
       "      <th>plan</th>\n",
       "      <th>id</th>\n",
       "    </tr>\n",
       "  </thead>\n",
       "  <tbody>\n",
       "    <tr>\n",
       "      <th>id__1543</th>\n",
       "      <td>5</td>\n",
       "      <td>3</td>\n",
       "      <td>1</td>\n",
       "      <td>1</td>\n",
       "      <td>5</td>\n",
       "      <td>1</td>\n",
       "      <td>3</td>\n",
       "      <td>4</td>\n",
       "      <td>2</td>\n",
       "      <td>0</td>\n",
       "      <td>0</td>\n",
       "      <td>1</td>\n",
       "      <td>4</td>\n",
       "      <td>1</td>\n",
       "      <td>3</td>\n",
       "      <td>3</td>\n",
       "      <td>2</td>\n",
       "      <td>0</td>\n",
       "      <td>1</td>\n",
       "      <td>1543</td>\n",
       "    </tr>\n",
       "    <tr>\n",
       "      <th>id__779</th>\n",
       "      <td>4</td>\n",
       "      <td>3</td>\n",
       "      <td>0</td>\n",
       "      <td>2</td>\n",
       "      <td>2</td>\n",
       "      <td>3</td>\n",
       "      <td>1</td>\n",
       "      <td>4</td>\n",
       "      <td>1</td>\n",
       "      <td>2</td>\n",
       "      <td>1</td>\n",
       "      <td>3</td>\n",
       "      <td>5</td>\n",
       "      <td>2</td>\n",
       "      <td>0</td>\n",
       "      <td>2</td>\n",
       "      <td>5</td>\n",
       "      <td>3</td>\n",
       "      <td>1</td>\n",
       "      <td>779</td>\n",
       "    </tr>\n",
       "    <tr>\n",
       "      <th>id__1889</th>\n",
       "      <td>3</td>\n",
       "      <td>5</td>\n",
       "      <td>3</td>\n",
       "      <td>0</td>\n",
       "      <td>0</td>\n",
       "      <td>1</td>\n",
       "      <td>0</td>\n",
       "      <td>2</td>\n",
       "      <td>3</td>\n",
       "      <td>0</td>\n",
       "      <td>0</td>\n",
       "      <td>1</td>\n",
       "      <td>5</td>\n",
       "      <td>1</td>\n",
       "      <td>2</td>\n",
       "      <td>1</td>\n",
       "      <td>4</td>\n",
       "      <td>0</td>\n",
       "      <td>1</td>\n",
       "      <td>1889</td>\n",
       "    </tr>\n",
       "    <tr>\n",
       "      <th>id__1843</th>\n",
       "      <td>3</td>\n",
       "      <td>4</td>\n",
       "      <td>0</td>\n",
       "      <td>1</td>\n",
       "      <td>3</td>\n",
       "      <td>3</td>\n",
       "      <td>2</td>\n",
       "      <td>5</td>\n",
       "      <td>1</td>\n",
       "      <td>0</td>\n",
       "      <td>2</td>\n",
       "      <td>4</td>\n",
       "      <td>3</td>\n",
       "      <td>4</td>\n",
       "      <td>2</td>\n",
       "      <td>4</td>\n",
       "      <td>3</td>\n",
       "      <td>1</td>\n",
       "      <td>1</td>\n",
       "      <td>1843</td>\n",
       "    </tr>\n",
       "    <tr>\n",
       "      <th>id__1909</th>\n",
       "      <td>4</td>\n",
       "      <td>3</td>\n",
       "      <td>2</td>\n",
       "      <td>1</td>\n",
       "      <td>2</td>\n",
       "      <td>5</td>\n",
       "      <td>1</td>\n",
       "      <td>2</td>\n",
       "      <td>2</td>\n",
       "      <td>2</td>\n",
       "      <td>1</td>\n",
       "      <td>1</td>\n",
       "      <td>4</td>\n",
       "      <td>0</td>\n",
       "      <td>0</td>\n",
       "      <td>3</td>\n",
       "      <td>0</td>\n",
       "      <td>2</td>\n",
       "      <td>1</td>\n",
       "      <td>1909</td>\n",
       "    </tr>\n",
       "    <tr>\n",
       "      <th>id__651</th>\n",
       "      <td>5</td>\n",
       "      <td>3</td>\n",
       "      <td>1</td>\n",
       "      <td>1</td>\n",
       "      <td>2</td>\n",
       "      <td>5</td>\n",
       "      <td>5</td>\n",
       "      <td>3</td>\n",
       "      <td>1</td>\n",
       "      <td>2</td>\n",
       "      <td>1</td>\n",
       "      <td>1</td>\n",
       "      <td>4</td>\n",
       "      <td>2</td>\n",
       "      <td>0</td>\n",
       "      <td>2</td>\n",
       "      <td>2</td>\n",
       "      <td>2</td>\n",
       "      <td>1</td>\n",
       "      <td>651</td>\n",
       "    </tr>\n",
       "    <tr>\n",
       "      <th>id__1972</th>\n",
       "      <td>4</td>\n",
       "      <td>3</td>\n",
       "      <td>1</td>\n",
       "      <td>3</td>\n",
       "      <td>1</td>\n",
       "      <td>4</td>\n",
       "      <td>4</td>\n",
       "      <td>3</td>\n",
       "      <td>0</td>\n",
       "      <td>1</td>\n",
       "      <td>0</td>\n",
       "      <td>0</td>\n",
       "      <td>2</td>\n",
       "      <td>2</td>\n",
       "      <td>3</td>\n",
       "      <td>2</td>\n",
       "      <td>4</td>\n",
       "      <td>0</td>\n",
       "      <td>1</td>\n",
       "      <td>1972</td>\n",
       "    </tr>\n",
       "    <tr>\n",
       "      <th>id__1955</th>\n",
       "      <td>3</td>\n",
       "      <td>5</td>\n",
       "      <td>3</td>\n",
       "      <td>0</td>\n",
       "      <td>3</td>\n",
       "      <td>4</td>\n",
       "      <td>3</td>\n",
       "      <td>2</td>\n",
       "      <td>1</td>\n",
       "      <td>1</td>\n",
       "      <td>3</td>\n",
       "      <td>4</td>\n",
       "      <td>5</td>\n",
       "      <td>2</td>\n",
       "      <td>3</td>\n",
       "      <td>0</td>\n",
       "      <td>2</td>\n",
       "      <td>1</td>\n",
       "      <td>1</td>\n",
       "      <td>1955</td>\n",
       "    </tr>\n",
       "    <tr>\n",
       "      <th>id__1705</th>\n",
       "      <td>5</td>\n",
       "      <td>3</td>\n",
       "      <td>2</td>\n",
       "      <td>2</td>\n",
       "      <td>3</td>\n",
       "      <td>0</td>\n",
       "      <td>1</td>\n",
       "      <td>3</td>\n",
       "      <td>3</td>\n",
       "      <td>3</td>\n",
       "      <td>2</td>\n",
       "      <td>1</td>\n",
       "      <td>4</td>\n",
       "      <td>1</td>\n",
       "      <td>1</td>\n",
       "      <td>3</td>\n",
       "      <td>3</td>\n",
       "      <td>1</td>\n",
       "      <td>1</td>\n",
       "      <td>1705</td>\n",
       "    </tr>\n",
       "    <tr>\n",
       "      <th>id__702</th>\n",
       "      <td>3</td>\n",
       "      <td>3</td>\n",
       "      <td>1</td>\n",
       "      <td>1</td>\n",
       "      <td>4</td>\n",
       "      <td>5</td>\n",
       "      <td>2</td>\n",
       "      <td>1</td>\n",
       "      <td>2</td>\n",
       "      <td>3</td>\n",
       "      <td>3</td>\n",
       "      <td>1</td>\n",
       "      <td>5</td>\n",
       "      <td>4</td>\n",
       "      <td>3</td>\n",
       "      <td>3</td>\n",
       "      <td>5</td>\n",
       "      <td>3</td>\n",
       "      <td>1</td>\n",
       "      <td>702</td>\n",
       "    </tr>\n",
       "  </tbody>\n",
       "</table>\n",
       "</div>"
      ],
      "text/plain": [
       "          r&b  rock  jazz  techno  pop  indie  cinema  theater  beers  wine  \\\n",
       "id__1543    5     3     1       1    5      1       3        4      2     0   \n",
       "id__779     4     3     0       2    2      3       1        4      1     2   \n",
       "id__1889    3     5     3       0    0      1       0        2      3     0   \n",
       "id__1843    3     4     0       1    3      3       2        5      1     0   \n",
       "id__1909    4     3     2       1    2      5       1        2      2     2   \n",
       "id__651     5     3     1       1    2      5       5        3      1     2   \n",
       "id__1972    4     3     1       3    1      4       4        3      0     1   \n",
       "id__1955    3     5     3       0    3      4       3        2      1     1   \n",
       "id__1705    5     3     2       2    3      0       1        3      3     3   \n",
       "id__702     3     3     1       1    4      5       2        1      2     3   \n",
       "\n",
       "          party  trips  running  gym  golf  basket  football  yoga  plan    id  \n",
       "id__1543      0      1        4    1     3       3         2     0     1  1543  \n",
       "id__779       1      3        5    2     0       2         5     3     1   779  \n",
       "id__1889      0      1        5    1     2       1         4     0     1  1889  \n",
       "id__1843      2      4        3    4     2       4         3     1     1  1843  \n",
       "id__1909      1      1        4    0     0       3         0     2     1  1909  \n",
       "id__651       1      1        4    2     0       2         2     2     1   651  \n",
       "id__1972      0      0        2    2     3       2         4     0     1  1972  \n",
       "id__1955      3      4        5    2     3       0         2     1     1  1955  \n",
       "id__1705      2      1        4    1     1       3         3     1     1  1705  \n",
       "id__702       3      1        5    4     3       3         5     3     1   702  "
      ]
     },
     "metadata": {},
     "output_type": "display_data"
    }
   ],
   "source": [
    "display(plans)"
   ]
  },
  {
   "cell_type": "code",
   "execution_count": null,
   "metadata": {},
   "outputs": [],
   "source": []
  },
  {
   "cell_type": "code",
   "execution_count": null,
   "metadata": {},
   "outputs": [],
   "source": []
  },
  {
   "cell_type": "code",
   "execution_count": null,
   "metadata": {},
   "outputs": [],
   "source": []
  }
 ],
 "metadata": {
  "kernelspec": {
   "display_name": "Python 3",
   "language": "python",
   "name": "python3"
  },
  "language_info": {
   "codemirror_mode": {
    "name": "ipython",
    "version": 3
   },
   "file_extension": ".py",
   "mimetype": "text/x-python",
   "name": "python",
   "nbconvert_exporter": "python",
   "pygments_lexer": "ipython3",
   "version": "3.7.2"
  }
 },
 "nbformat": 4,
 "nbformat_minor": 2
}
