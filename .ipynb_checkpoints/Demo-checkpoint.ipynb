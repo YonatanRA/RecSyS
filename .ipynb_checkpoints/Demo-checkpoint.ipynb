{
 "cells": [
  {
   "cell_type": "markdown",
   "metadata": {},
   "source": [
    "# Demo Synth Data"
   ]
  },
  {
   "cell_type": "code",
   "execution_count": 1,
   "metadata": {},
   "outputs": [],
   "source": [
    "# import libraries\n",
    "\n",
    "import warnings\n",
    "warnings.filterwarnings(\"ignore\",category=DeprecationWarning)\n",
    "import pandas as pd\n",
    "import numpy as np\n",
    "import matplotlib.pyplot as plt\n",
    "from scipy.spatial.distance import pdist, squareform"
   ]
  },
  {
   "cell_type": "code",
   "execution_count": 2,
   "metadata": {},
   "outputs": [],
   "source": [
    "# names and tags\n",
    "\n",
    "names=['id__'+str(i) for i in range(2000)]\n",
    "\n",
    "tags=['r&b', 'rock', 'jazz', 'techno', 'pop', 'indie',\n",
    "      'cinema', 'theater', 'beers', 'wine', 'party', 'trips',\n",
    "      'running', 'gym', 'golf', 'basket', 'football', 'yoga']"
   ]
  },
  {
   "cell_type": "code",
   "execution_count": 3,
   "metadata": {},
   "outputs": [
    {
     "data": {
      "text/plain": [
       "(2000, 20)"
      ]
     },
     "execution_count": 3,
     "metadata": {},
     "output_type": "execute_result"
    }
   ],
   "source": [
    "# synth data\n",
    "\n",
    "data=np.random.randint(0, 6, (len(names), len(tags)))\n",
    "s_data=pd.DataFrame(data, columns=tags, index=names)\n",
    "s_data['plan']=np.random.randint(0, 2, (len(names), 1))\n",
    "s_data['id']=[i for i in range(len(names))]\n",
    "s_data.shape"
   ]
  },
  {
   "cell_type": "code",
   "execution_count": 4,
   "metadata": {},
   "outputs": [],
   "source": [
    "# metrics for squareform\n",
    "\n",
    "'''\n",
    "'euclidean', 'minkowski', 'cityblock', 'seuclidean', 'sqeuclidean', 'cosine', 'correlation'\n",
    "\n",
    "'hamming', 'jaccard', 'chebyshev', 'canberra', 'braycurtis', 'mahalanobis', 'yule'\n",
    "\n",
    "'matching', 'dice', 'kulsinski', 'rogerstanimoto', 'russellrao', 'sokalmichener'\n",
    "\n",
    "'sokalsneath', 'wminkowski'\n",
    "'''\n",
    "\n",
    "\n",
    "\n",
    "metric='euclidean'  "
   ]
  },
  {
   "cell_type": "code",
   "execution_count": 5,
   "metadata": {},
   "outputs": [
    {
     "data": {
      "text/plain": [
       "array([[ 0.        ,  8.94427191,  9.64365076, ...,  9.64365076,\n",
       "        11.26942767,  9.53939201],\n",
       "       [ 8.94427191,  0.        , 10.14889157, ...,  9.43398113,\n",
       "        12.52996409, 10.81665383],\n",
       "       [ 9.64365076, 10.14889157,  0.        , ..., 10.19803903,\n",
       "        10.39230485, 11.3137085 ],\n",
       "       ...,\n",
       "       [ 9.64365076,  9.43398113, 10.19803903, ...,  0.        ,\n",
       "        11.13552873, 10.09950494],\n",
       "       [11.26942767, 12.52996409, 10.39230485, ..., 11.13552873,\n",
       "         0.        , 10.29563014],\n",
       "       [ 9.53939201, 10.81665383, 11.3137085 , ..., 10.09950494,\n",
       "        10.29563014,  0.        ]])"
      ]
     },
     "execution_count": 5,
     "metadata": {},
     "output_type": "execute_result"
    }
   ],
   "source": [
    "squareform(pdist(s_data.iloc[:, :-1], metric))"
   ]
  },
  {
   "cell_type": "code",
   "execution_count": 6,
   "metadata": {},
   "outputs": [
    {
     "data": {
      "text/html": [
       "<div>\n",
       "<style scoped>\n",
       "    .dataframe tbody tr th:only-of-type {\n",
       "        vertical-align: middle;\n",
       "    }\n",
       "\n",
       "    .dataframe tbody tr th {\n",
       "        vertical-align: top;\n",
       "    }\n",
       "\n",
       "    .dataframe thead th {\n",
       "        text-align: right;\n",
       "    }\n",
       "</style>\n",
       "<table border=\"1\" class=\"dataframe\">\n",
       "  <thead>\n",
       "    <tr style=\"text-align: right;\">\n",
       "      <th></th>\n",
       "      <th>id__0</th>\n",
       "      <th>id__1</th>\n",
       "      <th>id__2</th>\n",
       "      <th>id__3</th>\n",
       "      <th>id__4</th>\n",
       "      <th>id__5</th>\n",
       "      <th>id__6</th>\n",
       "      <th>id__7</th>\n",
       "      <th>id__8</th>\n",
       "      <th>id__9</th>\n",
       "      <th>...</th>\n",
       "      <th>id__1990</th>\n",
       "      <th>id__1991</th>\n",
       "      <th>id__1992</th>\n",
       "      <th>id__1993</th>\n",
       "      <th>id__1994</th>\n",
       "      <th>id__1995</th>\n",
       "      <th>id__1996</th>\n",
       "      <th>id__1997</th>\n",
       "      <th>id__1998</th>\n",
       "      <th>id__1999</th>\n",
       "    </tr>\n",
       "  </thead>\n",
       "  <tbody>\n",
       "    <tr>\n",
       "      <th>id__0</th>\n",
       "      <td>1.000000</td>\n",
       "      <td>0.100560</td>\n",
       "      <td>0.093953</td>\n",
       "      <td>0.088913</td>\n",
       "      <td>0.089301</td>\n",
       "      <td>0.094414</td>\n",
       "      <td>0.086688</td>\n",
       "      <td>0.084959</td>\n",
       "      <td>0.085638</td>\n",
       "      <td>0.083972</td>\n",
       "      <td>...</td>\n",
       "      <td>0.085638</td>\n",
       "      <td>0.118818</td>\n",
       "      <td>0.100000</td>\n",
       "      <td>0.105426</td>\n",
       "      <td>0.090909</td>\n",
       "      <td>0.096331</td>\n",
       "      <td>0.104141</td>\n",
       "      <td>0.093953</td>\n",
       "      <td>0.081503</td>\n",
       "      <td>0.094882</td>\n",
       "    </tr>\n",
       "    <tr>\n",
       "      <th>id__1</th>\n",
       "      <td>0.100560</td>\n",
       "      <td>1.000000</td>\n",
       "      <td>0.089695</td>\n",
       "      <td>0.074798</td>\n",
       "      <td>0.082403</td>\n",
       "      <td>0.087779</td>\n",
       "      <td>0.074798</td>\n",
       "      <td>0.072025</td>\n",
       "      <td>0.091747</td>\n",
       "      <td>0.085983</td>\n",
       "      <td>...</td>\n",
       "      <td>0.083020</td>\n",
       "      <td>0.118818</td>\n",
       "      <td>0.110348</td>\n",
       "      <td>0.090094</td>\n",
       "      <td>0.089301</td>\n",
       "      <td>0.078448</td>\n",
       "      <td>0.085638</td>\n",
       "      <td>0.095841</td>\n",
       "      <td>0.073910</td>\n",
       "      <td>0.084626</td>\n",
       "    </tr>\n",
       "    <tr>\n",
       "      <th>id__2</th>\n",
       "      <td>0.093953</td>\n",
       "      <td>0.089695</td>\n",
       "      <td>1.000000</td>\n",
       "      <td>0.067640</td>\n",
       "      <td>0.100000</td>\n",
       "      <td>0.093953</td>\n",
       "      <td>0.106762</td>\n",
       "      <td>0.093953</td>\n",
       "      <td>0.080920</td>\n",
       "      <td>0.084959</td>\n",
       "      <td>...</td>\n",
       "      <td>0.098908</td>\n",
       "      <td>0.105426</td>\n",
       "      <td>0.098375</td>\n",
       "      <td>0.096830</td>\n",
       "      <td>0.100000</td>\n",
       "      <td>0.101131</td>\n",
       "      <td>0.103517</td>\n",
       "      <td>0.089301</td>\n",
       "      <td>0.087779</td>\n",
       "      <td>0.081210</td>\n",
       "    </tr>\n",
       "    <tr>\n",
       "      <th>id__3</th>\n",
       "      <td>0.088913</td>\n",
       "      <td>0.074798</td>\n",
       "      <td>0.067640</td>\n",
       "      <td>1.000000</td>\n",
       "      <td>0.074798</td>\n",
       "      <td>0.088152</td>\n",
       "      <td>0.077421</td>\n",
       "      <td>0.071824</td>\n",
       "      <td>0.082100</td>\n",
       "      <td>0.080634</td>\n",
       "      <td>...</td>\n",
       "      <td>0.069545</td>\n",
       "      <td>0.086333</td>\n",
       "      <td>0.069010</td>\n",
       "      <td>0.107450</td>\n",
       "      <td>0.073054</td>\n",
       "      <td>0.085297</td>\n",
       "      <td>0.088913</td>\n",
       "      <td>0.083020</td>\n",
       "      <td>0.084297</td>\n",
       "      <td>0.072025</td>\n",
       "    </tr>\n",
       "    <tr>\n",
       "      <th>id__4</th>\n",
       "      <td>0.089301</td>\n",
       "      <td>0.082403</td>\n",
       "      <td>0.100000</td>\n",
       "      <td>0.074798</td>\n",
       "      <td>1.000000</td>\n",
       "      <td>0.088530</td>\n",
       "      <td>0.095841</td>\n",
       "      <td>0.097337</td>\n",
       "      <td>0.080070</td>\n",
       "      <td>0.082100</td>\n",
       "      <td>...</td>\n",
       "      <td>0.081210</td>\n",
       "      <td>0.079792</td>\n",
       "      <td>0.077171</td>\n",
       "      <td>0.086333</td>\n",
       "      <td>0.100560</td>\n",
       "      <td>0.094414</td>\n",
       "      <td>0.094414</td>\n",
       "      <td>0.083972</td>\n",
       "      <td>0.081503</td>\n",
       "      <td>0.076678</td>\n",
       "    </tr>\n",
       "  </tbody>\n",
       "</table>\n",
       "<p>5 rows × 2000 columns</p>\n",
       "</div>"
      ],
      "text/plain": [
       "          id__0     id__1     id__2     id__3     id__4     id__5     id__6  \\\n",
       "id__0  1.000000  0.100560  0.093953  0.088913  0.089301  0.094414  0.086688   \n",
       "id__1  0.100560  1.000000  0.089695  0.074798  0.082403  0.087779  0.074798   \n",
       "id__2  0.093953  0.089695  1.000000  0.067640  0.100000  0.093953  0.106762   \n",
       "id__3  0.088913  0.074798  0.067640  1.000000  0.074798  0.088152  0.077421   \n",
       "id__4  0.089301  0.082403  0.100000  0.074798  1.000000  0.088530  0.095841   \n",
       "\n",
       "          id__7     id__8     id__9  ...  id__1990  id__1991  id__1992  \\\n",
       "id__0  0.084959  0.085638  0.083972  ...  0.085638  0.118818  0.100000   \n",
       "id__1  0.072025  0.091747  0.085983  ...  0.083020  0.118818  0.110348   \n",
       "id__2  0.093953  0.080920  0.084959  ...  0.098908  0.105426  0.098375   \n",
       "id__3  0.071824  0.082100  0.080634  ...  0.069545  0.086333  0.069010   \n",
       "id__4  0.097337  0.080070  0.082100  ...  0.081210  0.079792  0.077171   \n",
       "\n",
       "       id__1993  id__1994  id__1995  id__1996  id__1997  id__1998  id__1999  \n",
       "id__0  0.105426  0.090909  0.096331  0.104141  0.093953  0.081503  0.094882  \n",
       "id__1  0.090094  0.089301  0.078448  0.085638  0.095841  0.073910  0.084626  \n",
       "id__2  0.096830  0.100000  0.101131  0.103517  0.089301  0.087779  0.081210  \n",
       "id__3  0.107450  0.073054  0.085297  0.088913  0.083020  0.084297  0.072025  \n",
       "id__4  0.086333  0.100560  0.094414  0.094414  0.083972  0.081503  0.076678  \n",
       "\n",
       "[5 rows x 2000 columns]"
      ]
     },
     "execution_count": 6,
     "metadata": {},
     "output_type": "execute_result"
    }
   ],
   "source": [
    "# similarity matrix\n",
    "\n",
    "similar=pd.DataFrame(1/(1 + squareform(pdist(s_data.iloc[:, :-1], metric))), \n",
    "                         index=s_data.index, columns=s_data.index)\n",
    "\n",
    "similar.head()"
   ]
  },
  {
   "cell_type": "code",
   "execution_count": 7,
   "metadata": {},
   "outputs": [
    {
     "data": {
      "text/plain": [
       "(2000, 2000)"
      ]
     },
     "execution_count": 7,
     "metadata": {},
     "output_type": "execute_result"
    }
   ],
   "source": [
    "similar.shape"
   ]
  },
  {
   "cell_type": "markdown",
   "metadata": {},
   "source": [
    "# New User"
   ]
  },
  {
   "cell_type": "code",
   "execution_count": 8,
   "metadata": {},
   "outputs": [
    {
     "data": {
      "text/plain": [
       "{'r&b': 1,\n",
       " 'rock': 1,\n",
       " 'jazz': 4,\n",
       " 'techno': 4,\n",
       " 'pop': 4,\n",
       " 'indie': 1,\n",
       " 'cinema': 4,\n",
       " 'theater': 0,\n",
       " 'beers': 1,\n",
       " 'wine': 3,\n",
       " 'party': 3,\n",
       " 'trips': 1,\n",
       " 'running': 5,\n",
       " 'gym': 0,\n",
       " 'golf': 1,\n",
       " 'basket': 3,\n",
       " 'football': 1,\n",
       " 'yoga': 1,\n",
       " 'id': 'id_2001',\n",
       " 'plan': 0}"
      ]
     },
     "execution_count": 8,
     "metadata": {},
     "output_type": "execute_result"
    }
   ],
   "source": [
    "# new fixed user\n",
    "\n",
    "n_rating=np.random.randint(0, 6, (1, len(tags)))\n",
    "n_user={k:v for k, v in list(zip(tags, n_rating[0]))}\n",
    "n_user['id']='id_2001'\n",
    "n_user['plan']=0\n",
    "\n",
    "n_user"
   ]
  },
  {
   "cell_type": "code",
   "execution_count": 9,
   "metadata": {},
   "outputs": [],
   "source": [
    "# new user introduced into system\n",
    "\n",
    "s_data=s_data.append(n_user, ignore_index=True)\n",
    "names.append(n_user['id'])\n",
    "s_data.index=names"
   ]
  },
  {
   "cell_type": "code",
   "execution_count": 10,
   "metadata": {},
   "outputs": [
    {
     "data": {
      "text/plain": [
       "['id__26',\n",
       " 'id__438',\n",
       " 'id__19',\n",
       " 'id__1308',\n",
       " 'id__630',\n",
       " 'id__334',\n",
       " 'id__813',\n",
       " 'id__1292',\n",
       " 'id__1145',\n",
       " 'id__619']"
      ]
     },
     "execution_count": 10,
     "metadata": {},
     "output_type": "execute_result"
    }
   ],
   "source": [
    "# similarity for new user\n",
    "\n",
    "similar = pd.DataFrame(1/(1 + squareform(pdist(s_data.iloc[:, :-1], metric))), \n",
    "                         index=s_data.index, columns=s_data.index)\n",
    "\n",
    "\n",
    "similarities = similar[n_user['id']].sort_values(ascending=False)\n",
    "\n",
    "\n",
    "\n",
    "closer_users=[]\n",
    "for e in similarities.index:\n",
    "    if s_data.ix[e].plan==1:\n",
    "        closer_users.append(e)\n",
    "   \n",
    "    \n",
    "# closer users with plan\n",
    "closer_users[:10]"
   ]
  },
  {
   "cell_type": "code",
   "execution_count": 11,
   "metadata": {},
   "outputs": [
    {
     "data": {
      "text/html": [
       "<div>\n",
       "<style scoped>\n",
       "    .dataframe tbody tr th:only-of-type {\n",
       "        vertical-align: middle;\n",
       "    }\n",
       "\n",
       "    .dataframe tbody tr th {\n",
       "        vertical-align: top;\n",
       "    }\n",
       "\n",
       "    .dataframe thead th {\n",
       "        text-align: right;\n",
       "    }\n",
       "</style>\n",
       "<table border=\"1\" class=\"dataframe\">\n",
       "  <thead>\n",
       "    <tr style=\"text-align: right;\">\n",
       "      <th></th>\n",
       "      <th>r&amp;b</th>\n",
       "      <th>rock</th>\n",
       "      <th>jazz</th>\n",
       "      <th>techno</th>\n",
       "      <th>pop</th>\n",
       "      <th>indie</th>\n",
       "      <th>cinema</th>\n",
       "      <th>theater</th>\n",
       "      <th>beers</th>\n",
       "      <th>wine</th>\n",
       "      <th>party</th>\n",
       "      <th>trips</th>\n",
       "      <th>running</th>\n",
       "      <th>gym</th>\n",
       "      <th>golf</th>\n",
       "      <th>basket</th>\n",
       "      <th>football</th>\n",
       "      <th>yoga</th>\n",
       "      <th>plan</th>\n",
       "      <th>id</th>\n",
       "    </tr>\n",
       "  </thead>\n",
       "  <tbody>\n",
       "    <tr>\n",
       "      <th>id__26</th>\n",
       "      <td>0</td>\n",
       "      <td>3</td>\n",
       "      <td>5</td>\n",
       "      <td>4</td>\n",
       "      <td>4</td>\n",
       "      <td>1</td>\n",
       "      <td>5</td>\n",
       "      <td>2</td>\n",
       "      <td>1</td>\n",
       "      <td>0</td>\n",
       "      <td>3</td>\n",
       "      <td>1</td>\n",
       "      <td>5</td>\n",
       "      <td>0</td>\n",
       "      <td>2</td>\n",
       "      <td>4</td>\n",
       "      <td>2</td>\n",
       "      <td>1</td>\n",
       "      <td>1</td>\n",
       "      <td>26</td>\n",
       "    </tr>\n",
       "    <tr>\n",
       "      <th>id__438</th>\n",
       "      <td>1</td>\n",
       "      <td>4</td>\n",
       "      <td>1</td>\n",
       "      <td>3</td>\n",
       "      <td>5</td>\n",
       "      <td>1</td>\n",
       "      <td>3</td>\n",
       "      <td>1</td>\n",
       "      <td>1</td>\n",
       "      <td>2</td>\n",
       "      <td>5</td>\n",
       "      <td>2</td>\n",
       "      <td>5</td>\n",
       "      <td>1</td>\n",
       "      <td>2</td>\n",
       "      <td>3</td>\n",
       "      <td>0</td>\n",
       "      <td>1</td>\n",
       "      <td>1</td>\n",
       "      <td>438</td>\n",
       "    </tr>\n",
       "    <tr>\n",
       "      <th>id__19</th>\n",
       "      <td>4</td>\n",
       "      <td>4</td>\n",
       "      <td>5</td>\n",
       "      <td>5</td>\n",
       "      <td>4</td>\n",
       "      <td>4</td>\n",
       "      <td>4</td>\n",
       "      <td>0</td>\n",
       "      <td>1</td>\n",
       "      <td>3</td>\n",
       "      <td>3</td>\n",
       "      <td>1</td>\n",
       "      <td>5</td>\n",
       "      <td>1</td>\n",
       "      <td>0</td>\n",
       "      <td>4</td>\n",
       "      <td>1</td>\n",
       "      <td>0</td>\n",
       "      <td>1</td>\n",
       "      <td>19</td>\n",
       "    </tr>\n",
       "    <tr>\n",
       "      <th>id__1308</th>\n",
       "      <td>2</td>\n",
       "      <td>3</td>\n",
       "      <td>3</td>\n",
       "      <td>5</td>\n",
       "      <td>5</td>\n",
       "      <td>2</td>\n",
       "      <td>5</td>\n",
       "      <td>0</td>\n",
       "      <td>2</td>\n",
       "      <td>2</td>\n",
       "      <td>0</td>\n",
       "      <td>1</td>\n",
       "      <td>3</td>\n",
       "      <td>0</td>\n",
       "      <td>1</td>\n",
       "      <td>1</td>\n",
       "      <td>3</td>\n",
       "      <td>0</td>\n",
       "      <td>1</td>\n",
       "      <td>1308</td>\n",
       "    </tr>\n",
       "    <tr>\n",
       "      <th>id__630</th>\n",
       "      <td>0</td>\n",
       "      <td>3</td>\n",
       "      <td>4</td>\n",
       "      <td>3</td>\n",
       "      <td>3</td>\n",
       "      <td>0</td>\n",
       "      <td>1</td>\n",
       "      <td>0</td>\n",
       "      <td>0</td>\n",
       "      <td>3</td>\n",
       "      <td>5</td>\n",
       "      <td>2</td>\n",
       "      <td>2</td>\n",
       "      <td>0</td>\n",
       "      <td>2</td>\n",
       "      <td>3</td>\n",
       "      <td>1</td>\n",
       "      <td>3</td>\n",
       "      <td>1</td>\n",
       "      <td>630</td>\n",
       "    </tr>\n",
       "    <tr>\n",
       "      <th>id__334</th>\n",
       "      <td>0</td>\n",
       "      <td>1</td>\n",
       "      <td>1</td>\n",
       "      <td>1</td>\n",
       "      <td>3</td>\n",
       "      <td>2</td>\n",
       "      <td>4</td>\n",
       "      <td>3</td>\n",
       "      <td>0</td>\n",
       "      <td>2</td>\n",
       "      <td>4</td>\n",
       "      <td>2</td>\n",
       "      <td>5</td>\n",
       "      <td>0</td>\n",
       "      <td>2</td>\n",
       "      <td>5</td>\n",
       "      <td>0</td>\n",
       "      <td>1</td>\n",
       "      <td>1</td>\n",
       "      <td>334</td>\n",
       "    </tr>\n",
       "    <tr>\n",
       "      <th>id__813</th>\n",
       "      <td>3</td>\n",
       "      <td>2</td>\n",
       "      <td>2</td>\n",
       "      <td>2</td>\n",
       "      <td>5</td>\n",
       "      <td>2</td>\n",
       "      <td>3</td>\n",
       "      <td>2</td>\n",
       "      <td>0</td>\n",
       "      <td>5</td>\n",
       "      <td>2</td>\n",
       "      <td>3</td>\n",
       "      <td>2</td>\n",
       "      <td>0</td>\n",
       "      <td>1</td>\n",
       "      <td>3</td>\n",
       "      <td>1</td>\n",
       "      <td>2</td>\n",
       "      <td>1</td>\n",
       "      <td>813</td>\n",
       "    </tr>\n",
       "    <tr>\n",
       "      <th>id__1292</th>\n",
       "      <td>4</td>\n",
       "      <td>0</td>\n",
       "      <td>5</td>\n",
       "      <td>3</td>\n",
       "      <td>4</td>\n",
       "      <td>1</td>\n",
       "      <td>2</td>\n",
       "      <td>0</td>\n",
       "      <td>0</td>\n",
       "      <td>3</td>\n",
       "      <td>2</td>\n",
       "      <td>1</td>\n",
       "      <td>3</td>\n",
       "      <td>2</td>\n",
       "      <td>1</td>\n",
       "      <td>5</td>\n",
       "      <td>2</td>\n",
       "      <td>4</td>\n",
       "      <td>1</td>\n",
       "      <td>1292</td>\n",
       "    </tr>\n",
       "    <tr>\n",
       "      <th>id__1145</th>\n",
       "      <td>2</td>\n",
       "      <td>2</td>\n",
       "      <td>1</td>\n",
       "      <td>4</td>\n",
       "      <td>5</td>\n",
       "      <td>0</td>\n",
       "      <td>4</td>\n",
       "      <td>2</td>\n",
       "      <td>1</td>\n",
       "      <td>1</td>\n",
       "      <td>5</td>\n",
       "      <td>1</td>\n",
       "      <td>2</td>\n",
       "      <td>2</td>\n",
       "      <td>0</td>\n",
       "      <td>2</td>\n",
       "      <td>1</td>\n",
       "      <td>2</td>\n",
       "      <td>1</td>\n",
       "      <td>1145</td>\n",
       "    </tr>\n",
       "    <tr>\n",
       "      <th>id__619</th>\n",
       "      <td>2</td>\n",
       "      <td>2</td>\n",
       "      <td>2</td>\n",
       "      <td>3</td>\n",
       "      <td>2</td>\n",
       "      <td>1</td>\n",
       "      <td>4</td>\n",
       "      <td>2</td>\n",
       "      <td>2</td>\n",
       "      <td>2</td>\n",
       "      <td>2</td>\n",
       "      <td>1</td>\n",
       "      <td>2</td>\n",
       "      <td>0</td>\n",
       "      <td>3</td>\n",
       "      <td>3</td>\n",
       "      <td>2</td>\n",
       "      <td>4</td>\n",
       "      <td>1</td>\n",
       "      <td>619</td>\n",
       "    </tr>\n",
       "  </tbody>\n",
       "</table>\n",
       "</div>"
      ],
      "text/plain": [
       "          r&b  rock  jazz  techno  pop  indie  cinema  theater  beers  wine  \\\n",
       "id__26      0     3     5       4    4      1       5        2      1     0   \n",
       "id__438     1     4     1       3    5      1       3        1      1     2   \n",
       "id__19      4     4     5       5    4      4       4        0      1     3   \n",
       "id__1308    2     3     3       5    5      2       5        0      2     2   \n",
       "id__630     0     3     4       3    3      0       1        0      0     3   \n",
       "id__334     0     1     1       1    3      2       4        3      0     2   \n",
       "id__813     3     2     2       2    5      2       3        2      0     5   \n",
       "id__1292    4     0     5       3    4      1       2        0      0     3   \n",
       "id__1145    2     2     1       4    5      0       4        2      1     1   \n",
       "id__619     2     2     2       3    2      1       4        2      2     2   \n",
       "\n",
       "          party  trips  running  gym  golf  basket  football  yoga  plan    id  \n",
       "id__26        3      1        5    0     2       4         2     1     1    26  \n",
       "id__438       5      2        5    1     2       3         0     1     1   438  \n",
       "id__19        3      1        5    1     0       4         1     0     1    19  \n",
       "id__1308      0      1        3    0     1       1         3     0     1  1308  \n",
       "id__630       5      2        2    0     2       3         1     3     1   630  \n",
       "id__334       4      2        5    0     2       5         0     1     1   334  \n",
       "id__813       2      3        2    0     1       3         1     2     1   813  \n",
       "id__1292      2      1        3    2     1       5         2     4     1  1292  \n",
       "id__1145      5      1        2    2     0       2         1     2     1  1145  \n",
       "id__619       2      1        2    0     3       3         2     4     1   619  "
      ]
     },
     "execution_count": 11,
     "metadata": {},
     "output_type": "execute_result"
    }
   ],
   "source": [
    "s_data.ix[closer_users[:10]]"
   ]
  },
  {
   "cell_type": "markdown",
   "metadata": {},
   "source": [
    "# New User Input"
   ]
  },
  {
   "cell_type": "code",
   "execution_count": 12,
   "metadata": {},
   "outputs": [],
   "source": [
    "# function for new users\n",
    "\n",
    "def new_user(df, rb, rock, jazz, techno, pop, indie, cinema, theater, beers, wine,\n",
    "             party, trips, running, gym, golf, basket, football, yoga, metric):\n",
    "    \n",
    "    \n",
    "    tags=['r&b', 'rock', 'jazz', 'techno', 'pop', 'indie',\n",
    "          'cinema', 'theater', 'beers', 'wine', 'party', 'trips',\n",
    "          'running', 'gym', 'golf', 'basket', 'football', 'yoga']\n",
    "    \n",
    "    \n",
    "    rating=[rb, rock, jazz, techno, pop, indie, cinema, theater, beers, wine,\n",
    "             party, trips, running, gym, golf, basket, football, yoga, metric]\n",
    "    \n",
    "    \n",
    "    \n",
    "    n_user={k:v for k, v in list(zip(tags, n_rating[0]))}\n",
    "    n_user['id']='id__'+str(len(s_data.id)+1)\n",
    "    n_user['plan']=0\n",
    "    \n",
    "    \n",
    "    names=list(df.index)\n",
    "    df=df.append(n_user, ignore_index=True)\n",
    "    names.append(n_user['id'])\n",
    "    df.index=names\n",
    "    \n",
    "    \n",
    "    \n",
    "    similar = pd.DataFrame(1/(1 + squareform(pdist(df.iloc[:, :-1], metric))), \n",
    "                         index=df.index, columns=df.index)\n",
    "\n",
    "\n",
    "    similarities = similar[n_user['id']].sort_values(ascending=False)\n",
    "\n",
    "\n",
    "\n",
    "    closer_users=[]\n",
    "    for e in similarities.index:\n",
    "        if df.ix[e].plan==1:\n",
    "            closer_users.append(e)\n",
    "    \n",
    "    \n",
    "    \n",
    "    return df.ix[closer_users[:10]]\n",
    "    \n",
    "    \n",
    "    \n",
    "    "
   ]
  },
  {
   "cell_type": "markdown",
   "metadata": {},
   "source": [
    "# Input"
   ]
  },
  {
   "cell_type": "code",
   "execution_count": 13,
   "metadata": {},
   "outputs": [
    {
     "name": "stdout",
     "output_type": "stream",
     "text": [
      "Rate r&b from 0 to 5:\n",
      "4\n"
     ]
    }
   ],
   "source": [
    "print('Rate r&b from 0 to 5:')\n",
    "rb = int(input())"
   ]
  },
  {
   "cell_type": "code",
   "execution_count": 14,
   "metadata": {},
   "outputs": [
    {
     "name": "stdout",
     "output_type": "stream",
     "text": [
      "Rate rock from 0 to 5:\n",
      "5\n"
     ]
    }
   ],
   "source": [
    "print('Rate rock from 0 to 5:')\n",
    "rock = int(input())"
   ]
  },
  {
   "cell_type": "code",
   "execution_count": 15,
   "metadata": {},
   "outputs": [
    {
     "name": "stdout",
     "output_type": "stream",
     "text": [
      "Rate jazz from 0 to 5:\n",
      "5\n"
     ]
    }
   ],
   "source": [
    "print('Rate jazz from 0 to 5:')\n",
    "jazz = int(input())"
   ]
  },
  {
   "cell_type": "code",
   "execution_count": 16,
   "metadata": {},
   "outputs": [
    {
     "name": "stdout",
     "output_type": "stream",
     "text": [
      "Rate techno from 0 to 5:\n",
      "0\n"
     ]
    }
   ],
   "source": [
    "print('Rate techno from 0 to 5:')\n",
    "techno = int(input())"
   ]
  },
  {
   "cell_type": "code",
   "execution_count": 17,
   "metadata": {},
   "outputs": [
    {
     "name": "stdout",
     "output_type": "stream",
     "text": [
      "Rate pop from 0 to 5:\n",
      "0\n"
     ]
    }
   ],
   "source": [
    "print('Rate pop from 0 to 5:')\n",
    "pop = int(input())"
   ]
  },
  {
   "cell_type": "code",
   "execution_count": 18,
   "metadata": {},
   "outputs": [
    {
     "name": "stdout",
     "output_type": "stream",
     "text": [
      "Rate indie from 0 to 5:\n",
      "0\n"
     ]
    }
   ],
   "source": [
    "print('Rate indie from 0 to 5:')\n",
    "indie = int(input())"
   ]
  },
  {
   "cell_type": "code",
   "execution_count": 19,
   "metadata": {},
   "outputs": [
    {
     "name": "stdout",
     "output_type": "stream",
     "text": [
      "Rate cinema from 0 to 5:\n",
      "3\n"
     ]
    }
   ],
   "source": [
    "print('Rate cinema from 0 to 5:')\n",
    "cinema = int(input())"
   ]
  },
  {
   "cell_type": "code",
   "execution_count": 20,
   "metadata": {},
   "outputs": [
    {
     "name": "stdout",
     "output_type": "stream",
     "text": [
      "Rate theater from 0 to 5:\n",
      "5\n"
     ]
    }
   ],
   "source": [
    "print('Rate theater from 0 to 5:')\n",
    "theater = int(input())"
   ]
  },
  {
   "cell_type": "code",
   "execution_count": 21,
   "metadata": {},
   "outputs": [
    {
     "name": "stdout",
     "output_type": "stream",
     "text": [
      "Rate beers from 0 to 5:\n",
      "5\n"
     ]
    }
   ],
   "source": [
    "print('Rate beers from 0 to 5:')\n",
    "beers = int(input())"
   ]
  },
  {
   "cell_type": "code",
   "execution_count": 22,
   "metadata": {},
   "outputs": [
    {
     "name": "stdout",
     "output_type": "stream",
     "text": [
      "Rate wine from 0 to 5:\n",
      "2\n"
     ]
    }
   ],
   "source": [
    "print('Rate wine from 0 to 5:')\n",
    "wine = int(input())"
   ]
  },
  {
   "cell_type": "code",
   "execution_count": 23,
   "metadata": {},
   "outputs": [
    {
     "name": "stdout",
     "output_type": "stream",
     "text": [
      "Rate party from 0 to 5:\n",
      "4\n"
     ]
    }
   ],
   "source": [
    "print('Rate party from 0 to 5:')\n",
    "party = int(input())"
   ]
  },
  {
   "cell_type": "code",
   "execution_count": 24,
   "metadata": {},
   "outputs": [
    {
     "name": "stdout",
     "output_type": "stream",
     "text": [
      "Rate trips from 0 to 5:\n",
      "1\n"
     ]
    }
   ],
   "source": [
    "print('Rate trips from 0 to 5:')\n",
    "trips = int(input())"
   ]
  },
  {
   "cell_type": "code",
   "execution_count": 25,
   "metadata": {},
   "outputs": [
    {
     "name": "stdout",
     "output_type": "stream",
     "text": [
      "Rate running from 0 to 5:\n",
      "0\n"
     ]
    }
   ],
   "source": [
    "print('Rate running from 0 to 5:')\n",
    "running = int(input())"
   ]
  },
  {
   "cell_type": "code",
   "execution_count": 26,
   "metadata": {},
   "outputs": [
    {
     "name": "stdout",
     "output_type": "stream",
     "text": [
      "Rate gym from 0 to 5:\n",
      "0\n"
     ]
    }
   ],
   "source": [
    "print('Rate gym from 0 to 5:')\n",
    "gym = int(input())"
   ]
  },
  {
   "cell_type": "code",
   "execution_count": 27,
   "metadata": {},
   "outputs": [
    {
     "name": "stdout",
     "output_type": "stream",
     "text": [
      "Rate golf from 0 to 5:\n",
      "0\n"
     ]
    }
   ],
   "source": [
    "print('Rate golf from 0 to 5:')\n",
    "golf = int(input())"
   ]
  },
  {
   "cell_type": "code",
   "execution_count": 28,
   "metadata": {},
   "outputs": [
    {
     "name": "stdout",
     "output_type": "stream",
     "text": [
      "Rate basket from 0 to 5:\n",
      "2\n"
     ]
    }
   ],
   "source": [
    "print('Rate basket from 0 to 5:')\n",
    "basket = int(input())"
   ]
  },
  {
   "cell_type": "code",
   "execution_count": 29,
   "metadata": {},
   "outputs": [
    {
     "name": "stdout",
     "output_type": "stream",
     "text": [
      "Rate football from 0 to 5:\n",
      "0\n"
     ]
    }
   ],
   "source": [
    "print('Rate football from 0 to 5:')\n",
    "football = int(input())"
   ]
  },
  {
   "cell_type": "code",
   "execution_count": 30,
   "metadata": {},
   "outputs": [
    {
     "name": "stdout",
     "output_type": "stream",
     "text": [
      "Rate yoga from 0 to 5:\n",
      "1\n"
     ]
    }
   ],
   "source": [
    "print('Rate yoga from 0 to 5:')\n",
    "yoga = int(input())"
   ]
  },
  {
   "cell_type": "code",
   "execution_count": 31,
   "metadata": {},
   "outputs": [],
   "source": [
    "# metrics for squareform\n",
    "\n",
    "'''\n",
    "'euclidean', 'minkowski', 'cityblock', 'seuclidean', 'sqeuclidean', 'cosine', 'correlation'\n",
    "\n",
    "'hamming', 'jaccard', 'chebyshev', 'canberra', 'braycurtis', 'mahalanobis', 'yule'\n",
    "\n",
    "'matching', 'dice', 'kulsinski', 'rogerstanimoto', 'russellrao', 'sokalmichener'\n",
    "\n",
    "'sokalsneath', 'wminkowski'\n",
    "'''\n",
    "\n",
    "\n",
    "\n",
    "metric='cosine'  "
   ]
  },
  {
   "cell_type": "code",
   "execution_count": 32,
   "metadata": {},
   "outputs": [],
   "source": [
    "plans=new_user(s_data, rb, rock, jazz, techno, pop, indie, cinema, theater, beers, wine,\n",
    "               party, trips, running, gym, golf, basket, football, yoga, metric)"
   ]
  },
  {
   "cell_type": "code",
   "execution_count": 33,
   "metadata": {},
   "outputs": [
    {
     "data": {
      "text/html": [
       "<div>\n",
       "<style scoped>\n",
       "    .dataframe tbody tr th:only-of-type {\n",
       "        vertical-align: middle;\n",
       "    }\n",
       "\n",
       "    .dataframe tbody tr th {\n",
       "        vertical-align: top;\n",
       "    }\n",
       "\n",
       "    .dataframe thead th {\n",
       "        text-align: right;\n",
       "    }\n",
       "</style>\n",
       "<table border=\"1\" class=\"dataframe\">\n",
       "  <thead>\n",
       "    <tr style=\"text-align: right;\">\n",
       "      <th></th>\n",
       "      <th>r&amp;b</th>\n",
       "      <th>rock</th>\n",
       "      <th>jazz</th>\n",
       "      <th>techno</th>\n",
       "      <th>pop</th>\n",
       "      <th>indie</th>\n",
       "      <th>cinema</th>\n",
       "      <th>theater</th>\n",
       "      <th>beers</th>\n",
       "      <th>wine</th>\n",
       "      <th>party</th>\n",
       "      <th>trips</th>\n",
       "      <th>running</th>\n",
       "      <th>gym</th>\n",
       "      <th>golf</th>\n",
       "      <th>basket</th>\n",
       "      <th>football</th>\n",
       "      <th>yoga</th>\n",
       "      <th>plan</th>\n",
       "      <th>id</th>\n",
       "    </tr>\n",
       "  </thead>\n",
       "  <tbody>\n",
       "    <tr>\n",
       "      <th>id__26</th>\n",
       "      <td>0</td>\n",
       "      <td>3</td>\n",
       "      <td>5</td>\n",
       "      <td>4</td>\n",
       "      <td>4</td>\n",
       "      <td>1</td>\n",
       "      <td>5</td>\n",
       "      <td>2</td>\n",
       "      <td>1</td>\n",
       "      <td>0</td>\n",
       "      <td>3</td>\n",
       "      <td>1</td>\n",
       "      <td>5</td>\n",
       "      <td>0</td>\n",
       "      <td>2</td>\n",
       "      <td>4</td>\n",
       "      <td>2</td>\n",
       "      <td>1</td>\n",
       "      <td>1</td>\n",
       "      <td>26</td>\n",
       "    </tr>\n",
       "    <tr>\n",
       "      <th>id__19</th>\n",
       "      <td>4</td>\n",
       "      <td>4</td>\n",
       "      <td>5</td>\n",
       "      <td>5</td>\n",
       "      <td>4</td>\n",
       "      <td>4</td>\n",
       "      <td>4</td>\n",
       "      <td>0</td>\n",
       "      <td>1</td>\n",
       "      <td>3</td>\n",
       "      <td>3</td>\n",
       "      <td>1</td>\n",
       "      <td>5</td>\n",
       "      <td>1</td>\n",
       "      <td>0</td>\n",
       "      <td>4</td>\n",
       "      <td>1</td>\n",
       "      <td>0</td>\n",
       "      <td>1</td>\n",
       "      <td>19</td>\n",
       "    </tr>\n",
       "    <tr>\n",
       "      <th>id__438</th>\n",
       "      <td>1</td>\n",
       "      <td>4</td>\n",
       "      <td>1</td>\n",
       "      <td>3</td>\n",
       "      <td>5</td>\n",
       "      <td>1</td>\n",
       "      <td>3</td>\n",
       "      <td>1</td>\n",
       "      <td>1</td>\n",
       "      <td>2</td>\n",
       "      <td>5</td>\n",
       "      <td>2</td>\n",
       "      <td>5</td>\n",
       "      <td>1</td>\n",
       "      <td>2</td>\n",
       "      <td>3</td>\n",
       "      <td>0</td>\n",
       "      <td>1</td>\n",
       "      <td>1</td>\n",
       "      <td>438</td>\n",
       "    </tr>\n",
       "    <tr>\n",
       "      <th>id__782</th>\n",
       "      <td>2</td>\n",
       "      <td>1</td>\n",
       "      <td>5</td>\n",
       "      <td>4</td>\n",
       "      <td>3</td>\n",
       "      <td>1</td>\n",
       "      <td>5</td>\n",
       "      <td>0</td>\n",
       "      <td>4</td>\n",
       "      <td>2</td>\n",
       "      <td>4</td>\n",
       "      <td>0</td>\n",
       "      <td>4</td>\n",
       "      <td>1</td>\n",
       "      <td>3</td>\n",
       "      <td>1</td>\n",
       "      <td>2</td>\n",
       "      <td>5</td>\n",
       "      <td>1</td>\n",
       "      <td>782</td>\n",
       "    </tr>\n",
       "    <tr>\n",
       "      <th>id__1308</th>\n",
       "      <td>2</td>\n",
       "      <td>3</td>\n",
       "      <td>3</td>\n",
       "      <td>5</td>\n",
       "      <td>5</td>\n",
       "      <td>2</td>\n",
       "      <td>5</td>\n",
       "      <td>0</td>\n",
       "      <td>2</td>\n",
       "      <td>2</td>\n",
       "      <td>0</td>\n",
       "      <td>1</td>\n",
       "      <td>3</td>\n",
       "      <td>0</td>\n",
       "      <td>1</td>\n",
       "      <td>1</td>\n",
       "      <td>3</td>\n",
       "      <td>0</td>\n",
       "      <td>1</td>\n",
       "      <td>1308</td>\n",
       "    </tr>\n",
       "    <tr>\n",
       "      <th>id__303</th>\n",
       "      <td>1</td>\n",
       "      <td>2</td>\n",
       "      <td>3</td>\n",
       "      <td>4</td>\n",
       "      <td>3</td>\n",
       "      <td>4</td>\n",
       "      <td>5</td>\n",
       "      <td>1</td>\n",
       "      <td>2</td>\n",
       "      <td>4</td>\n",
       "      <td>4</td>\n",
       "      <td>1</td>\n",
       "      <td>4</td>\n",
       "      <td>5</td>\n",
       "      <td>0</td>\n",
       "      <td>5</td>\n",
       "      <td>1</td>\n",
       "      <td>2</td>\n",
       "      <td>1</td>\n",
       "      <td>303</td>\n",
       "    </tr>\n",
       "    <tr>\n",
       "      <th>id__1388</th>\n",
       "      <td>3</td>\n",
       "      <td>1</td>\n",
       "      <td>3</td>\n",
       "      <td>5</td>\n",
       "      <td>2</td>\n",
       "      <td>1</td>\n",
       "      <td>5</td>\n",
       "      <td>2</td>\n",
       "      <td>2</td>\n",
       "      <td>1</td>\n",
       "      <td>4</td>\n",
       "      <td>5</td>\n",
       "      <td>5</td>\n",
       "      <td>1</td>\n",
       "      <td>3</td>\n",
       "      <td>4</td>\n",
       "      <td>0</td>\n",
       "      <td>0</td>\n",
       "      <td>1</td>\n",
       "      <td>1388</td>\n",
       "    </tr>\n",
       "    <tr>\n",
       "      <th>id__1334</th>\n",
       "      <td>1</td>\n",
       "      <td>1</td>\n",
       "      <td>5</td>\n",
       "      <td>5</td>\n",
       "      <td>2</td>\n",
       "      <td>2</td>\n",
       "      <td>5</td>\n",
       "      <td>3</td>\n",
       "      <td>0</td>\n",
       "      <td>2</td>\n",
       "      <td>4</td>\n",
       "      <td>3</td>\n",
       "      <td>5</td>\n",
       "      <td>1</td>\n",
       "      <td>5</td>\n",
       "      <td>4</td>\n",
       "      <td>5</td>\n",
       "      <td>0</td>\n",
       "      <td>1</td>\n",
       "      <td>1334</td>\n",
       "    </tr>\n",
       "    <tr>\n",
       "      <th>id__163</th>\n",
       "      <td>2</td>\n",
       "      <td>2</td>\n",
       "      <td>3</td>\n",
       "      <td>3</td>\n",
       "      <td>4</td>\n",
       "      <td>4</td>\n",
       "      <td>4</td>\n",
       "      <td>0</td>\n",
       "      <td>5</td>\n",
       "      <td>4</td>\n",
       "      <td>2</td>\n",
       "      <td>2</td>\n",
       "      <td>3</td>\n",
       "      <td>1</td>\n",
       "      <td>2</td>\n",
       "      <td>3</td>\n",
       "      <td>3</td>\n",
       "      <td>1</td>\n",
       "      <td>1</td>\n",
       "      <td>163</td>\n",
       "    </tr>\n",
       "    <tr>\n",
       "      <th>id__1292</th>\n",
       "      <td>4</td>\n",
       "      <td>0</td>\n",
       "      <td>5</td>\n",
       "      <td>3</td>\n",
       "      <td>4</td>\n",
       "      <td>1</td>\n",
       "      <td>2</td>\n",
       "      <td>0</td>\n",
       "      <td>0</td>\n",
       "      <td>3</td>\n",
       "      <td>2</td>\n",
       "      <td>1</td>\n",
       "      <td>3</td>\n",
       "      <td>2</td>\n",
       "      <td>1</td>\n",
       "      <td>5</td>\n",
       "      <td>2</td>\n",
       "      <td>4</td>\n",
       "      <td>1</td>\n",
       "      <td>1292</td>\n",
       "    </tr>\n",
       "  </tbody>\n",
       "</table>\n",
       "</div>"
      ],
      "text/plain": [
       "          r&b  rock  jazz  techno  pop  indie  cinema  theater  beers  wine  \\\n",
       "id__26      0     3     5       4    4      1       5        2      1     0   \n",
       "id__19      4     4     5       5    4      4       4        0      1     3   \n",
       "id__438     1     4     1       3    5      1       3        1      1     2   \n",
       "id__782     2     1     5       4    3      1       5        0      4     2   \n",
       "id__1308    2     3     3       5    5      2       5        0      2     2   \n",
       "id__303     1     2     3       4    3      4       5        1      2     4   \n",
       "id__1388    3     1     3       5    2      1       5        2      2     1   \n",
       "id__1334    1     1     5       5    2      2       5        3      0     2   \n",
       "id__163     2     2     3       3    4      4       4        0      5     4   \n",
       "id__1292    4     0     5       3    4      1       2        0      0     3   \n",
       "\n",
       "          party  trips  running  gym  golf  basket  football  yoga  plan    id  \n",
       "id__26        3      1        5    0     2       4         2     1     1    26  \n",
       "id__19        3      1        5    1     0       4         1     0     1    19  \n",
       "id__438       5      2        5    1     2       3         0     1     1   438  \n",
       "id__782       4      0        4    1     3       1         2     5     1   782  \n",
       "id__1308      0      1        3    0     1       1         3     0     1  1308  \n",
       "id__303       4      1        4    5     0       5         1     2     1   303  \n",
       "id__1388      4      5        5    1     3       4         0     0     1  1388  \n",
       "id__1334      4      3        5    1     5       4         5     0     1  1334  \n",
       "id__163       2      2        3    1     2       3         3     1     1   163  \n",
       "id__1292      2      1        3    2     1       5         2     4     1  1292  "
      ]
     },
     "metadata": {},
     "output_type": "display_data"
    }
   ],
   "source": [
    "display(plans)"
   ]
  },
  {
   "cell_type": "code",
   "execution_count": null,
   "metadata": {},
   "outputs": [],
   "source": []
  },
  {
   "cell_type": "code",
   "execution_count": null,
   "metadata": {},
   "outputs": [],
   "source": []
  },
  {
   "cell_type": "code",
   "execution_count": null,
   "metadata": {},
   "outputs": [],
   "source": []
  }
 ],
 "metadata": {
  "kernelspec": {
   "display_name": "Python 3",
   "language": "python",
   "name": "python3"
  },
  "language_info": {
   "codemirror_mode": {
    "name": "ipython",
    "version": 3
   },
   "file_extension": ".py",
   "mimetype": "text/x-python",
   "name": "python",
   "nbconvert_exporter": "python",
   "pygments_lexer": "ipython3",
   "version": "3.7.2"
  }
 },
 "nbformat": 4,
 "nbformat_minor": 2
}
