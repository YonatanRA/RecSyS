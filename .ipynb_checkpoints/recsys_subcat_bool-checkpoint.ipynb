{
 "cells": [
  {
   "cell_type": "code",
   "execution_count": 1,
   "metadata": {},
   "outputs": [
    {
     "data": {
      "text/html": [
       "        <script type=\"text/javascript\">\n",
       "        window.PlotlyConfig = {MathJaxConfig: 'local'};\n",
       "        if (window.MathJax) {MathJax.Hub.Config({SVG: {font: \"STIX-Web\"}});}\n",
       "        if (typeof require !== 'undefined') {\n",
       "        require.undef(\"plotly\");\n",
       "        requirejs.config({\n",
       "            paths: {\n",
       "                'plotly': ['https://cdn.plot.ly/plotly-latest.min']\n",
       "            }\n",
       "        });\n",
       "        require(['plotly'], function(Plotly) {\n",
       "            window._Plotly = Plotly;\n",
       "        });\n",
       "        }\n",
       "        </script>\n",
       "        "
      ]
     },
     "metadata": {},
     "output_type": "display_data"
    }
   ],
   "source": [
    "# Demo recsys boolean (0-1)\n",
    "\n",
    "# import libraries\n",
    "\n",
    "import warnings\n",
    "warnings.filterwarnings(\"ignore\",category=DeprecationWarning)\n",
    "import pandas as pd\n",
    "import numpy as np\n",
    "import matplotlib.pyplot as plt\n",
    "from scipy.spatial.distance import pdist, squareform\n",
    "from operator import itemgetter\n",
    "import plotly.plotly as py\n",
    "import cufflinks as cf\n",
    "cf.go_offline()"
   ]
  },
  {
   "cell_type": "code",
   "execution_count": 2,
   "metadata": {},
   "outputs": [],
   "source": [
    "# names and tags\n",
    "\n",
    "names=['id__'+str(i) for i in range(3000)]\n",
    "\n",
    "tags=['r&b', 'rock', 'jazz', 'electronic', 'pop', 'indie',\n",
    "      'cinema', 'theater', 'beers', 'wine', 'party', 'trips',\n",
    "      'running', 'gym', 'golf', 'basket', 'football', 'yoga']\n",
    "\n",
    "\n",
    "sub_tags_elec=['techno', 'electro_funky', 'house', 'minimal', 'dubstep', 'DandB']"
   ]
  },
  {
   "cell_type": "code",
   "execution_count": 3,
   "metadata": {},
   "outputs": [],
   "source": [
    "# synth data\n",
    "\n",
    "data=np.random.randint(0, 2, (len(names), len(tags)))*0.8\n",
    "sub_data=np.random.randint(0, 1, (len(names), len(sub_tags_elec)))\n",
    "\n",
    "s_data=pd.DataFrame(data, columns=tags, index=names)\n",
    "s_sub_data=pd.DataFrame(sub_data, columns=sub_tags_elec, index=names)\n",
    "\n",
    "s_data=pd.concat([s_data, s_sub_data], axis=1)\n",
    "\n",
    "s_data['plan']=np.random.randint(0, 2, (len(names), 1))\n",
    "s_data['id']=[i for i in range(len(names))]\n",
    "\n",
    "\n",
    "for i in range(len(s_data)):\n",
    "    if s_data.electronic[i]!=0:\n",
    "        s_data.techno[i]=np.random.randint(0, 2)\n",
    "        s_data.electro_funky[i]=np.random.randint(0, 2)\n",
    "        s_data.house[i]=np.random.randint(0, 2)\n",
    "        s_data.minimal[i]=np.random.randint(0, 2)\n",
    "        s_data.dubstep[i]=np.random.randint(0, 2)\n",
    "        s_data.DandB[i]=np.random.randint(0, 2)"
   ]
  },
  {
   "cell_type": "code",
   "execution_count": 4,
   "metadata": {},
   "outputs": [
    {
     "data": {
      "text/html": [
       "<div>\n",
       "<style scoped>\n",
       "    .dataframe tbody tr th:only-of-type {\n",
       "        vertical-align: middle;\n",
       "    }\n",
       "\n",
       "    .dataframe tbody tr th {\n",
       "        vertical-align: top;\n",
       "    }\n",
       "\n",
       "    .dataframe thead th {\n",
       "        text-align: right;\n",
       "    }\n",
       "</style>\n",
       "<table border=\"1\" class=\"dataframe\">\n",
       "  <thead>\n",
       "    <tr style=\"text-align: right;\">\n",
       "      <th></th>\n",
       "      <th>r&amp;b</th>\n",
       "      <th>rock</th>\n",
       "      <th>jazz</th>\n",
       "      <th>electronic</th>\n",
       "      <th>pop</th>\n",
       "      <th>indie</th>\n",
       "      <th>cinema</th>\n",
       "      <th>theater</th>\n",
       "      <th>beers</th>\n",
       "      <th>wine</th>\n",
       "      <th>...</th>\n",
       "      <th>football</th>\n",
       "      <th>yoga</th>\n",
       "      <th>techno</th>\n",
       "      <th>electro_funky</th>\n",
       "      <th>house</th>\n",
       "      <th>minimal</th>\n",
       "      <th>dubstep</th>\n",
       "      <th>DandB</th>\n",
       "      <th>plan</th>\n",
       "      <th>id</th>\n",
       "    </tr>\n",
       "  </thead>\n",
       "  <tbody>\n",
       "    <tr>\n",
       "      <th>id__2995</th>\n",
       "      <td>0.000000</td>\n",
       "      <td>0.533333</td>\n",
       "      <td>0.533333</td>\n",
       "      <td>0.533333</td>\n",
       "      <td>0.533333</td>\n",
       "      <td>0.000000</td>\n",
       "      <td>0.000000</td>\n",
       "      <td>0.533333</td>\n",
       "      <td>0.000000</td>\n",
       "      <td>0.000000</td>\n",
       "      <td>...</td>\n",
       "      <td>0.000000</td>\n",
       "      <td>0.533333</td>\n",
       "      <td>0.333333</td>\n",
       "      <td>0.000000</td>\n",
       "      <td>0.000000</td>\n",
       "      <td>0.333333</td>\n",
       "      <td>0.333333</td>\n",
       "      <td>0.333333</td>\n",
       "      <td>1</td>\n",
       "      <td>2995</td>\n",
       "    </tr>\n",
       "    <tr>\n",
       "      <th>id__2996</th>\n",
       "      <td>0.533333</td>\n",
       "      <td>0.533333</td>\n",
       "      <td>0.000000</td>\n",
       "      <td>0.000000</td>\n",
       "      <td>0.000000</td>\n",
       "      <td>0.000000</td>\n",
       "      <td>0.533333</td>\n",
       "      <td>0.000000</td>\n",
       "      <td>0.000000</td>\n",
       "      <td>0.000000</td>\n",
       "      <td>...</td>\n",
       "      <td>0.533333</td>\n",
       "      <td>0.533333</td>\n",
       "      <td>0.000000</td>\n",
       "      <td>0.000000</td>\n",
       "      <td>0.000000</td>\n",
       "      <td>0.000000</td>\n",
       "      <td>0.000000</td>\n",
       "      <td>0.000000</td>\n",
       "      <td>0</td>\n",
       "      <td>2996</td>\n",
       "    </tr>\n",
       "    <tr>\n",
       "      <th>id__2997</th>\n",
       "      <td>0.000000</td>\n",
       "      <td>0.533333</td>\n",
       "      <td>0.533333</td>\n",
       "      <td>0.533333</td>\n",
       "      <td>0.533333</td>\n",
       "      <td>0.533333</td>\n",
       "      <td>0.000000</td>\n",
       "      <td>0.000000</td>\n",
       "      <td>0.000000</td>\n",
       "      <td>0.533333</td>\n",
       "      <td>...</td>\n",
       "      <td>0.533333</td>\n",
       "      <td>0.533333</td>\n",
       "      <td>0.333333</td>\n",
       "      <td>0.000000</td>\n",
       "      <td>0.000000</td>\n",
       "      <td>0.000000</td>\n",
       "      <td>0.333333</td>\n",
       "      <td>0.333333</td>\n",
       "      <td>1</td>\n",
       "      <td>2997</td>\n",
       "    </tr>\n",
       "    <tr>\n",
       "      <th>id__2998</th>\n",
       "      <td>0.000000</td>\n",
       "      <td>0.000000</td>\n",
       "      <td>0.000000</td>\n",
       "      <td>0.000000</td>\n",
       "      <td>0.000000</td>\n",
       "      <td>0.000000</td>\n",
       "      <td>0.000000</td>\n",
       "      <td>0.533333</td>\n",
       "      <td>0.000000</td>\n",
       "      <td>0.000000</td>\n",
       "      <td>...</td>\n",
       "      <td>0.533333</td>\n",
       "      <td>0.533333</td>\n",
       "      <td>0.000000</td>\n",
       "      <td>0.000000</td>\n",
       "      <td>0.000000</td>\n",
       "      <td>0.000000</td>\n",
       "      <td>0.000000</td>\n",
       "      <td>0.000000</td>\n",
       "      <td>1</td>\n",
       "      <td>2998</td>\n",
       "    </tr>\n",
       "    <tr>\n",
       "      <th>id__2999</th>\n",
       "      <td>0.000000</td>\n",
       "      <td>0.533333</td>\n",
       "      <td>0.000000</td>\n",
       "      <td>0.533333</td>\n",
       "      <td>0.533333</td>\n",
       "      <td>0.533333</td>\n",
       "      <td>0.000000</td>\n",
       "      <td>0.533333</td>\n",
       "      <td>0.533333</td>\n",
       "      <td>0.533333</td>\n",
       "      <td>...</td>\n",
       "      <td>0.533333</td>\n",
       "      <td>0.000000</td>\n",
       "      <td>0.333333</td>\n",
       "      <td>0.333333</td>\n",
       "      <td>0.333333</td>\n",
       "      <td>0.333333</td>\n",
       "      <td>0.000000</td>\n",
       "      <td>0.000000</td>\n",
       "      <td>0</td>\n",
       "      <td>2999</td>\n",
       "    </tr>\n",
       "  </tbody>\n",
       "</table>\n",
       "<p>5 rows × 26 columns</p>\n",
       "</div>"
      ],
      "text/plain": [
       "               r&b      rock      jazz  electronic       pop     indie  \\\n",
       "id__2995  0.000000  0.533333  0.533333    0.533333  0.533333  0.000000   \n",
       "id__2996  0.533333  0.533333  0.000000    0.000000  0.000000  0.000000   \n",
       "id__2997  0.000000  0.533333  0.533333    0.533333  0.533333  0.533333   \n",
       "id__2998  0.000000  0.000000  0.000000    0.000000  0.000000  0.000000   \n",
       "id__2999  0.000000  0.533333  0.000000    0.533333  0.533333  0.533333   \n",
       "\n",
       "            cinema   theater     beers      wine  ...  football      yoga  \\\n",
       "id__2995  0.000000  0.533333  0.000000  0.000000  ...  0.000000  0.533333   \n",
       "id__2996  0.533333  0.000000  0.000000  0.000000  ...  0.533333  0.533333   \n",
       "id__2997  0.000000  0.000000  0.000000  0.533333  ...  0.533333  0.533333   \n",
       "id__2998  0.000000  0.533333  0.000000  0.000000  ...  0.533333  0.533333   \n",
       "id__2999  0.000000  0.533333  0.533333  0.533333  ...  0.533333  0.000000   \n",
       "\n",
       "            techno  electro_funky     house   minimal   dubstep     DandB  \\\n",
       "id__2995  0.333333       0.000000  0.000000  0.333333  0.333333  0.333333   \n",
       "id__2996  0.000000       0.000000  0.000000  0.000000  0.000000  0.000000   \n",
       "id__2997  0.333333       0.000000  0.000000  0.000000  0.333333  0.333333   \n",
       "id__2998  0.000000       0.000000  0.000000  0.000000  0.000000  0.000000   \n",
       "id__2999  0.333333       0.333333  0.333333  0.333333  0.000000  0.000000   \n",
       "\n",
       "          plan    id  \n",
       "id__2995     1  2995  \n",
       "id__2996     0  2996  \n",
       "id__2997     1  2997  \n",
       "id__2998     1  2998  \n",
       "id__2999     0  2999  \n",
       "\n",
       "[5 rows x 26 columns]"
      ]
     },
     "metadata": {},
     "output_type": "display_data"
    }
   ],
   "source": [
    "#  weighing\n",
    "\n",
    "for e in tags:\n",
    "    s_data[e]=s_data[e]*2/3\n",
    "\n",
    "for e in sub_tags_elec:\n",
    "    s_data[e]=s_data[e]*1/3\n",
    "    \n",
    "display(s_data.tail())"
   ]
  },
  {
   "cell_type": "code",
   "execution_count": 33,
   "metadata": {},
   "outputs": [],
   "source": [
    "# new user function\n",
    "\n",
    "\n",
    "def new_user(df, rb, rock, jazz, electronic, pop, indie, cinema, theater, beers, wine,\n",
    "             party, trips, running, gym, golf, basket, football, yoga,\n",
    "             techno, electro_funky, house, minimal, dubstep, DandB, metric):\n",
    "    \n",
    "    \n",
    "    tags=['r&b', 'rock', 'jazz', 'electronic', 'pop', 'indie',\n",
    "          'cinema', 'theater', 'beers', 'wine', 'party', 'trips',\n",
    "          'running', 'gym', 'golf', 'basket', 'football', 'yoga',\n",
    "          'techno', 'electro_funky', 'house', 'minimal', 'dubstep', 'DandB']\n",
    "    \n",
    "    \n",
    "    \n",
    "    rating=[rb, rock, jazz, electronic, pop, indie, cinema, theater, beers, wine,\n",
    "            party, trips, running, gym, golf, basket, football, yoga, \n",
    "            techno, electro_funky, house, minimal, dubstep, DandB]\n",
    "    \n",
    "    \n",
    "    n_user={k:v for k, v in list(zip(tags, rating))}\n",
    "    n_user['id']=len(s_data.id)\n",
    "    n_user['plan']=0\n",
    "    \n",
    "    names=list(df.index)\n",
    "    df=df.append(n_user, ignore_index=True)\n",
    "    names.append(n_user['id'])\n",
    "    df.index=names\n",
    "    \n",
    "    similar = pd.DataFrame(0.8/(1 + squareform(pdist(df.iloc[:, :-2], metric))), \n",
    "                         index=df.index, columns=df.index)\n",
    "\n",
    "    similarities = similar[n_user['id']].sort_values(ascending=False)\n",
    "    \n",
    "    closer_users=[]\n",
    "    for e in similarities.index:\n",
    "        if df.ix[e].plan==1:\n",
    "            closer_users.append(e)\n",
    "    \n",
    "    return list(map(list, zip(closer_users[:10], similarities.ix[closer_users[:10]])))#df.ix[closer_users[:10]][['id', 'plan']]"
   ]
  },
  {
   "cell_type": "code",
   "execution_count": 6,
   "metadata": {},
   "outputs": [
    {
     "name": "stdout",
     "output_type": "stream",
     "text": [
      "Rate r&b :\n",
      "1\n"
     ]
    }
   ],
   "source": [
    "print('Rate r&b :')\n",
    "rb = int(input())*1.6/3"
   ]
  },
  {
   "cell_type": "code",
   "execution_count": 7,
   "metadata": {},
   "outputs": [
    {
     "name": "stdout",
     "output_type": "stream",
     "text": [
      "Rate rock :\n",
      "1\n"
     ]
    }
   ],
   "source": [
    "print('Rate rock :')\n",
    "rock = int(input())*1.6/3  "
   ]
  },
  {
   "cell_type": "code",
   "execution_count": 8,
   "metadata": {},
   "outputs": [
    {
     "name": "stdout",
     "output_type": "stream",
     "text": [
      "Rate jazz :\n",
      "0\n"
     ]
    }
   ],
   "source": [
    "print('Rate jazz :')\n",
    "jazz = int(input())*1.6/3 "
   ]
  },
  {
   "cell_type": "code",
   "execution_count": 9,
   "metadata": {},
   "outputs": [
    {
     "name": "stdout",
     "output_type": "stream",
     "text": [
      "Rate electronic :\n",
      "1\n"
     ]
    }
   ],
   "source": [
    "print('Rate electronic :')\n",
    "electronic = int(input())*1.6/3  "
   ]
  },
  {
   "cell_type": "code",
   "execution_count": 10,
   "metadata": {},
   "outputs": [
    {
     "name": "stdout",
     "output_type": "stream",
     "text": [
      "Rate techno :\n",
      "0\n",
      "Rate electro-funky :\n",
      "1\n",
      "Rate house :\n",
      "0\n",
      "Rate minimal :\n",
      "0\n",
      "Rate dubstep :\n",
      "0\n",
      "Rate D&B :\n",
      "1\n"
     ]
    }
   ],
   "source": [
    "if electronic!=0:\n",
    "    print('Rate techno :')\n",
    "    techno = int(input())*0.8/3\n",
    "    \n",
    "    print('Rate electro-funky :')\n",
    "    electro_funky = int(input())*0.8/3\n",
    " \n",
    "    print('Rate house :')\n",
    "    house = int(input())*0.8/3\n",
    " \n",
    "    print('Rate minimal :')\n",
    "    minimal = int(input())*0.8/3\n",
    " \n",
    "    print('Rate dubstep :')\n",
    "    dubstep = int(input())*0.8/3\n",
    " \n",
    "    print('Rate D&B :')\n",
    "    DandB = int(input())*0.8/3\n",
    "\n",
    "\n",
    "else:\n",
    "    techno = 0\n",
    "    electro_funky = 0\n",
    "    house = 0\n",
    "    minimal = 0\n",
    "    dubstep = 0\n",
    "    DandB = 0"
   ]
  },
  {
   "cell_type": "code",
   "execution_count": 11,
   "metadata": {},
   "outputs": [
    {
     "name": "stdout",
     "output_type": "stream",
     "text": [
      "Rate pop from :\n",
      "1\n"
     ]
    }
   ],
   "source": [
    "print('Rate pop from :')\n",
    "pop = int(input())*1.6/3 "
   ]
  },
  {
   "cell_type": "code",
   "execution_count": 12,
   "metadata": {},
   "outputs": [
    {
     "name": "stdout",
     "output_type": "stream",
     "text": [
      "Rate indie :\n",
      "1\n"
     ]
    }
   ],
   "source": [
    "print('Rate indie :')\n",
    "indie = int(input())*1.6/3 "
   ]
  },
  {
   "cell_type": "code",
   "execution_count": 13,
   "metadata": {},
   "outputs": [
    {
     "name": "stdout",
     "output_type": "stream",
     "text": [
      "Rate cinema :\n",
      "0\n"
     ]
    }
   ],
   "source": [
    "print('Rate cinema :')\n",
    "cinema = int(input())*1.6/3 "
   ]
  },
  {
   "cell_type": "code",
   "execution_count": 14,
   "metadata": {},
   "outputs": [
    {
     "name": "stdout",
     "output_type": "stream",
     "text": [
      "Rate theater :\n",
      "1\n"
     ]
    }
   ],
   "source": [
    "print('Rate theater :')\n",
    "theater = int(input())*1.6/3 "
   ]
  },
  {
   "cell_type": "code",
   "execution_count": 15,
   "metadata": {},
   "outputs": [
    {
     "name": "stdout",
     "output_type": "stream",
     "text": [
      "Rate beers :\n",
      "0\n"
     ]
    }
   ],
   "source": [
    "print('Rate beers :')\n",
    "beers = int(input())*1.6/3 "
   ]
  },
  {
   "cell_type": "code",
   "execution_count": 16,
   "metadata": {},
   "outputs": [
    {
     "name": "stdout",
     "output_type": "stream",
     "text": [
      "Rate wine :\n",
      "1\n"
     ]
    }
   ],
   "source": [
    "print('Rate wine :')\n",
    "wine = int(input())*1.6/3 "
   ]
  },
  {
   "cell_type": "code",
   "execution_count": 17,
   "metadata": {},
   "outputs": [
    {
     "name": "stdout",
     "output_type": "stream",
     "text": [
      "Rate party :\n",
      "0\n"
     ]
    }
   ],
   "source": [
    "print('Rate party :')\n",
    "party = int(input())*1.6/3 "
   ]
  },
  {
   "cell_type": "code",
   "execution_count": 18,
   "metadata": {},
   "outputs": [
    {
     "name": "stdout",
     "output_type": "stream",
     "text": [
      "Rate trips :\n",
      "1\n"
     ]
    }
   ],
   "source": [
    "print('Rate trips :')\n",
    "trips = int(input())*1.6/3 "
   ]
  },
  {
   "cell_type": "code",
   "execution_count": 19,
   "metadata": {},
   "outputs": [
    {
     "name": "stdout",
     "output_type": "stream",
     "text": [
      "Rate running :\n",
      "0\n"
     ]
    }
   ],
   "source": [
    "print('Rate running :')\n",
    "running = int(input())*1.6/3 "
   ]
  },
  {
   "cell_type": "code",
   "execution_count": 20,
   "metadata": {},
   "outputs": [
    {
     "name": "stdout",
     "output_type": "stream",
     "text": [
      "Rate gym :\n",
      "0\n"
     ]
    }
   ],
   "source": [
    "print('Rate gym :')\n",
    "gym = int(input())*1.6/3 "
   ]
  },
  {
   "cell_type": "code",
   "execution_count": 21,
   "metadata": {},
   "outputs": [
    {
     "name": "stdout",
     "output_type": "stream",
     "text": [
      "Rate golf :\n",
      "0\n"
     ]
    }
   ],
   "source": [
    "print('Rate golf :')\n",
    "golf = int(input())*1.6/3 "
   ]
  },
  {
   "cell_type": "code",
   "execution_count": 22,
   "metadata": {},
   "outputs": [
    {
     "name": "stdout",
     "output_type": "stream",
     "text": [
      "Rate basket :\n",
      "1\n"
     ]
    }
   ],
   "source": [
    "print('Rate basket :')\n",
    "basket = int(input())*1.6/3 "
   ]
  },
  {
   "cell_type": "code",
   "execution_count": 23,
   "metadata": {},
   "outputs": [
    {
     "name": "stdout",
     "output_type": "stream",
     "text": [
      "Rate football :\n",
      "0\n"
     ]
    }
   ],
   "source": [
    "print('Rate football :')\n",
    "football = int(input())*1.6/3 "
   ]
  },
  {
   "cell_type": "code",
   "execution_count": 24,
   "metadata": {},
   "outputs": [
    {
     "name": "stdout",
     "output_type": "stream",
     "text": [
      "Rate yoga :\n",
      "1\n"
     ]
    }
   ],
   "source": [
    "print('Rate yoga :')\n",
    "yoga = int(input())*1.6/3 "
   ]
  },
  {
   "cell_type": "code",
   "execution_count": 25,
   "metadata": {},
   "outputs": [],
   "source": [
    "# metrics for squareform\n",
    "\n",
    "'''\n",
    "'euclidean', 'minkowski', 'cityblock', 'seuclidean', 'sqeuclidean', 'cosine', 'correlation'\n",
    "\n",
    "'hamming', 'jaccard', 'chebyshev', 'canberra', 'braycurtis', 'mahalanobis', 'yule'\n",
    "\n",
    "'matching', 'dice', 'kulsinski', 'rogerstanimoto', 'russellrao', 'sokalmichener'\n",
    "\n",
    "'sokalsneath', 'wminkowski'\n",
    "'''\n",
    "\n",
    "\n",
    "metric='cosine' "
   ]
  },
  {
   "cell_type": "code",
   "execution_count": 34,
   "metadata": {},
   "outputs": [
    {
     "name": "stdout",
     "output_type": "stream",
     "text": [
      "Similar users with plan : \n",
      "id__590\n",
      "id__2560\n",
      "id__2557\n",
      "id__184\n",
      "id__2778\n",
      "id__488\n",
      "id__2487\n",
      "id__2366\n",
      "id__855\n",
      "id__1514\n"
     ]
    }
   ],
   "source": [
    "# plans (users)\n",
    "\n",
    "plans=new_user(s_data, rb, rock, jazz, electronic, pop, indie, cinema, theater, beers, wine,\n",
    "               party, trips, running, gym, golf, basket, football, yoga, \n",
    "               techno, electro_funky, house, minimal, dubstep, DandB, metric)\n",
    "\n",
    "\n",
    "print ('Similar users with plan : ')\n",
    "for e in plans:\n",
    "    print (e[0])\n",
    "    \n",
    "final=pd.DataFrame()\n",
    "final['plan_ori_id']=[e[0] for e in plans]\n",
    "final['original_similarity']=[e[1] for e in plans]"
   ]
  },
  {
   "cell_type": "code",
   "execution_count": 35,
   "metadata": {},
   "outputs": [
    {
     "name": "stdout",
     "output_type": "stream",
     "text": [
      "\n",
      "Follow user id__590?\n",
      "1\n",
      "\n",
      "Follow user id__2560?\n",
      "0\n",
      "\n",
      "Follow user id__2557?\n",
      "1\n",
      "\n",
      "Follow user id__184?\n",
      "0\n",
      "\n",
      "Follow user id__2778?\n",
      "0\n",
      "\n",
      "Follow user id__488?\n",
      "0\n",
      "\n",
      "Follow user id__2487?\n",
      "0\n",
      "\n",
      "Follow user id__2366?\n",
      "0\n",
      "\n",
      "Follow user id__855?\n",
      "1\n",
      "\n",
      "Follow user id__1514?\n",
      "0\n",
      "\n",
      "\n",
      "Unfollow user id__590?\n",
      "0\n",
      "\n",
      "Unfollow user id__2560?\n",
      "0\n",
      "\n",
      "Unfollow user id__2557?\n",
      "0\n",
      "\n",
      "Unfollow user id__184?\n",
      "0\n",
      "\n",
      "Unfollow user id__2778?\n",
      "0\n",
      "\n",
      "Unfollow user id__488?\n",
      "0\n",
      "\n",
      "Unfollow user id__2487?\n",
      "0\n",
      "\n",
      "Unfollow user id__2366?\n",
      "0\n",
      "\n",
      "Unfollow user id__855?\n",
      "1\n",
      "\n",
      "Unfollow user id__1514?\n",
      "0\n",
      "\n"
     ]
    },
    {
     "data": {
      "text/html": [
       "<div>\n",
       "<style scoped>\n",
       "    .dataframe tbody tr th:only-of-type {\n",
       "        vertical-align: middle;\n",
       "    }\n",
       "\n",
       "    .dataframe tbody tr th {\n",
       "        vertical-align: top;\n",
       "    }\n",
       "\n",
       "    .dataframe thead th {\n",
       "        text-align: right;\n",
       "    }\n",
       "</style>\n",
       "<table border=\"1\" class=\"dataframe\">\n",
       "  <thead>\n",
       "    <tr style=\"text-align: right;\">\n",
       "      <th></th>\n",
       "      <th>plan_ori_id</th>\n",
       "      <th>original_similarity</th>\n",
       "      <th>after_follow_similarity</th>\n",
       "      <th>after_unfollow_similarity</th>\n",
       "    </tr>\n",
       "  </thead>\n",
       "  <tbody>\n",
       "    <tr>\n",
       "      <th>0</th>\n",
       "      <td>id__590</td>\n",
       "      <td>0.717878</td>\n",
       "      <td>0.825560</td>\n",
       "      <td>0.825560</td>\n",
       "    </tr>\n",
       "    <tr>\n",
       "      <th>1</th>\n",
       "      <td>id__2560</td>\n",
       "      <td>0.702218</td>\n",
       "      <td>0.702218</td>\n",
       "      <td>0.702218</td>\n",
       "    </tr>\n",
       "    <tr>\n",
       "      <th>2</th>\n",
       "      <td>id__2557</td>\n",
       "      <td>0.677066</td>\n",
       "      <td>0.778626</td>\n",
       "      <td>0.778626</td>\n",
       "    </tr>\n",
       "    <tr>\n",
       "      <th>3</th>\n",
       "      <td>id__184</td>\n",
       "      <td>0.672633</td>\n",
       "      <td>0.672633</td>\n",
       "      <td>0.672633</td>\n",
       "    </tr>\n",
       "    <tr>\n",
       "      <th>4</th>\n",
       "      <td>id__2778</td>\n",
       "      <td>0.671813</td>\n",
       "      <td>0.671813</td>\n",
       "      <td>0.671813</td>\n",
       "    </tr>\n",
       "    <tr>\n",
       "      <th>5</th>\n",
       "      <td>id__488</td>\n",
       "      <td>0.671813</td>\n",
       "      <td>0.671813</td>\n",
       "      <td>0.671813</td>\n",
       "    </tr>\n",
       "    <tr>\n",
       "      <th>6</th>\n",
       "      <td>id__2487</td>\n",
       "      <td>0.671702</td>\n",
       "      <td>0.671702</td>\n",
       "      <td>0.671702</td>\n",
       "    </tr>\n",
       "    <tr>\n",
       "      <th>7</th>\n",
       "      <td>id__2366</td>\n",
       "      <td>0.669822</td>\n",
       "      <td>0.669822</td>\n",
       "      <td>0.669822</td>\n",
       "    </tr>\n",
       "    <tr>\n",
       "      <th>8</th>\n",
       "      <td>id__855</td>\n",
       "      <td>0.669083</td>\n",
       "      <td>0.769446</td>\n",
       "      <td>0.654029</td>\n",
       "    </tr>\n",
       "    <tr>\n",
       "      <th>9</th>\n",
       "      <td>id__1514</td>\n",
       "      <td>0.668823</td>\n",
       "      <td>0.668823</td>\n",
       "      <td>0.668823</td>\n",
       "    </tr>\n",
       "  </tbody>\n",
       "</table>\n",
       "</div>"
      ],
      "text/plain": [
       "  plan_ori_id  original_similarity  after_follow_similarity  \\\n",
       "0     id__590             0.717878                 0.825560   \n",
       "1    id__2560             0.702218                 0.702218   \n",
       "2    id__2557             0.677066                 0.778626   \n",
       "3     id__184             0.672633                 0.672633   \n",
       "4    id__2778             0.671813                 0.671813   \n",
       "5     id__488             0.671813                 0.671813   \n",
       "6    id__2487             0.671702                 0.671702   \n",
       "7    id__2366             0.669822                 0.669822   \n",
       "8     id__855             0.669083                 0.769446   \n",
       "9    id__1514             0.668823                 0.668823   \n",
       "\n",
       "   after_unfollow_similarity  \n",
       "0                   0.825560  \n",
       "1                   0.702218  \n",
       "2                   0.778626  \n",
       "3                   0.672633  \n",
       "4                   0.671813  \n",
       "5                   0.671813  \n",
       "6                   0.671702  \n",
       "7                   0.669822  \n",
       "8                   0.654029  \n",
       "9                   0.668823  "
      ]
     },
     "metadata": {},
     "output_type": "display_data"
    }
   ],
   "source": [
    "# follow-unfollow users\n",
    "foll=plans\n",
    "def follow(_id, b, foll):\n",
    "    if b==0: return foll\n",
    "    elif b==1:\n",
    "        for e in foll:\n",
    "            if _id==e[0]:\n",
    "                e[1]+=e[1]*0.15\n",
    "        for e in foll:\n",
    "            if e[1]>1:e[1]=1\n",
    "        return foll#sorted(foll, key=itemgetter(1), reverse=True)\n",
    "\n",
    "print ()\n",
    "for e in foll:\n",
    "    print ('Follow user {}?'.format(e[0]))\n",
    "    b=int(input())\n",
    "    f=follow(e[0], b, foll)\n",
    "    #print (f)\n",
    "    print()\n",
    "#final['follow_id']=[e[0] for e in f]\n",
    "final['after_follow_similarity']=[e[1] for e in f]\n",
    "\n",
    "\n",
    "\n",
    "unfoll=foll\n",
    "def unfollow(_id, b, unfoll):\n",
    "    if b==0: return unfoll\n",
    "    elif b==1:\n",
    "        for e in unfoll:\n",
    "            if _id==e[0]:\n",
    "                e[1]-=e[1]*0.15\n",
    "        for e in unfoll:\n",
    "            if e[1]<0:e[1]=0\n",
    "        return unfoll#sorted(unfoll, key=itemgetter(1), reverse=True)\n",
    "\n",
    "print ()\n",
    "for e in unfoll:\n",
    "    print ('Unfollow user {}?'.format(e[0]))\n",
    "    b=int(input())\n",
    "    u=unfollow(e[0], b, unfoll)\n",
    "    #print (u)\n",
    "    print()\n",
    "#final['unfollow_id']=[e[0] for e in u]\n",
    "final['after_unfollow_similarity']=[e[1] for e in u]\n",
    "display (final)"
   ]
  },
  {
   "cell_type": "code",
   "execution_count": null,
   "metadata": {},
   "outputs": [],
   "source": [
    "#def like():"
   ]
  },
  {
   "cell_type": "code",
   "execution_count": 36,
   "metadata": {
    "scrolled": false
   },
   "outputs": [
    {
     "data": {
      "application/vnd.plotly.v1+json": {
       "config": {
        "linkText": "Export to plot.ly",
        "plotlyServerURL": "https://plot.ly",
        "responsive": true,
        "showLink": true
       },
       "data": [
        {
         "marker": {
          "color": "rgba(255, 153, 51, 0.6)",
          "line": {
           "color": "rgba(255, 153, 51, 1.0)",
           "width": 1
          }
         },
         "name": "original_similarity",
         "orientation": "v",
         "text": "",
         "type": "bar",
         "uid": "489f297a-af62-4f13-bfeb-efd9163f1dd0",
         "x": [
          "id__590",
          "id__2560",
          "id__2557",
          "id__184",
          "id__2778",
          "id__488",
          "id__2487",
          "id__2366",
          "id__855",
          "id__1514"
         ],
         "y": [
          0.7178780388347621,
          0.7022184457003249,
          0.6770660683956123,
          0.6726326285006647,
          0.6718133761714551,
          0.6718133761714551,
          0.6717023736322321,
          0.6698221491336742,
          0.6690832490940346,
          0.6688227431671027
         ]
        },
        {
         "marker": {
          "color": "rgba(55, 128, 191, 0.6)",
          "line": {
           "color": "rgba(55, 128, 191, 1.0)",
           "width": 1
          }
         },
         "name": "after_follow_similarity",
         "orientation": "v",
         "text": "",
         "type": "bar",
         "uid": "5f48d39c-0587-49b5-8472-96904fe67b9f",
         "x": [
          "id__590",
          "id__2560",
          "id__2557",
          "id__184",
          "id__2778",
          "id__488",
          "id__2487",
          "id__2366",
          "id__855",
          "id__1514"
         ],
         "y": [
          0.8255597446599764,
          0.7022184457003249,
          0.7786259786549542,
          0.6726326285006647,
          0.6718133761714551,
          0.6718133761714551,
          0.6717023736322321,
          0.6698221491336742,
          0.7694457364581397,
          0.6688227431671027
         ]
        },
        {
         "marker": {
          "color": "rgba(50, 171, 96, 0.6)",
          "line": {
           "color": "rgba(50, 171, 96, 1.0)",
           "width": 1
          }
         },
         "name": "after_unfollow_similarity",
         "orientation": "v",
         "text": "",
         "type": "bar",
         "uid": "179a2ac5-c14b-468f-8af3-750ccc1f3779",
         "x": [
          "id__590",
          "id__2560",
          "id__2557",
          "id__184",
          "id__2778",
          "id__488",
          "id__2487",
          "id__2366",
          "id__855",
          "id__1514"
         ],
         "y": [
          0.8255597446599764,
          0.7022184457003249,
          0.7786259786549542,
          0.6726326285006647,
          0.6718133761714551,
          0.6718133761714551,
          0.6717023736322321,
          0.6698221491336742,
          0.6540288759894188,
          0.6688227431671027
         ]
        }
       ],
       "layout": {
        "legend": {
         "bgcolor": "#F5F6F9",
         "font": {
          "color": "#4D5663"
         }
        },
        "paper_bgcolor": "#F5F6F9",
        "plot_bgcolor": "#F5F6F9",
        "title": {
         "font": {
          "color": "#4D5663"
         },
         "text": "Similarities with user id_3000"
        },
        "xaxis": {
         "gridcolor": "#E1E5ED",
         "showgrid": true,
         "tickfont": {
          "color": "#4D5663"
         },
         "title": {
          "font": {
           "color": "#4D5663"
          },
          "text": "Users"
         },
         "zerolinecolor": "#E1E5ED"
        },
        "yaxis": {
         "gridcolor": "#E1E5ED",
         "showgrid": true,
         "tickfont": {
          "color": "#4D5663"
         },
         "title": {
          "font": {
           "color": "#4D5663"
          },
          "text": "Similarity"
         },
         "zerolinecolor": "#E1E5ED"
        }
       }
      },
      "text/html": [
       "<div>\n",
       "        \n",
       "        \n",
       "            <div id=\"200be67f-a474-48ed-b785-1c488a3b023e\" class=\"plotly-graph-div\" style=\"height:525px; width:100%;\"></div>\n",
       "            <script type=\"text/javascript\">\n",
       "                require([\"plotly\"], function(Plotly) {\n",
       "                    window.PLOTLYENV=window.PLOTLYENV || {};\n",
       "                    window.PLOTLYENV.BASE_URL='https://plot.ly';\n",
       "                    \n",
       "                if (document.getElementById(\"200be67f-a474-48ed-b785-1c488a3b023e\")) {\n",
       "                    Plotly.newPlot(\n",
       "                        '200be67f-a474-48ed-b785-1c488a3b023e',\n",
       "                        [{\"marker\": {\"color\": \"rgba(255, 153, 51, 0.6)\", \"line\": {\"color\": \"rgba(255, 153, 51, 1.0)\", \"width\": 1}}, \"name\": \"original_similarity\", \"orientation\": \"v\", \"text\": \"\", \"type\": \"bar\", \"uid\": \"ed4432b8-7ab9-4b58-b464-b4a238212cb8\", \"x\": [\"id__590\", \"id__2560\", \"id__2557\", \"id__184\", \"id__2778\", \"id__488\", \"id__2487\", \"id__2366\", \"id__855\", \"id__1514\"], \"y\": [0.7178780388347621, 0.7022184457003249, 0.6770660683956123, 0.6726326285006647, 0.6718133761714551, 0.6718133761714551, 0.6717023736322321, 0.6698221491336742, 0.6690832490940346, 0.6688227431671027]}, {\"marker\": {\"color\": \"rgba(55, 128, 191, 0.6)\", \"line\": {\"color\": \"rgba(55, 128, 191, 1.0)\", \"width\": 1}}, \"name\": \"after_follow_similarity\", \"orientation\": \"v\", \"text\": \"\", \"type\": \"bar\", \"uid\": \"9236b772-d7df-4071-8c89-af133d688558\", \"x\": [\"id__590\", \"id__2560\", \"id__2557\", \"id__184\", \"id__2778\", \"id__488\", \"id__2487\", \"id__2366\", \"id__855\", \"id__1514\"], \"y\": [0.8255597446599764, 0.7022184457003249, 0.7786259786549542, 0.6726326285006647, 0.6718133761714551, 0.6718133761714551, 0.6717023736322321, 0.6698221491336742, 0.7694457364581397, 0.6688227431671027]}, {\"marker\": {\"color\": \"rgba(50, 171, 96, 0.6)\", \"line\": {\"color\": \"rgba(50, 171, 96, 1.0)\", \"width\": 1}}, \"name\": \"after_unfollow_similarity\", \"orientation\": \"v\", \"text\": \"\", \"type\": \"bar\", \"uid\": \"899f2892-9235-46c9-af46-a383eb627a65\", \"x\": [\"id__590\", \"id__2560\", \"id__2557\", \"id__184\", \"id__2778\", \"id__488\", \"id__2487\", \"id__2366\", \"id__855\", \"id__1514\"], \"y\": [0.8255597446599764, 0.7022184457003249, 0.7786259786549542, 0.6726326285006647, 0.6718133761714551, 0.6718133761714551, 0.6717023736322321, 0.6698221491336742, 0.6540288759894188, 0.6688227431671027]}],\n",
       "                        {\"legend\": {\"bgcolor\": \"#F5F6F9\", \"font\": {\"color\": \"#4D5663\"}}, \"paper_bgcolor\": \"#F5F6F9\", \"plot_bgcolor\": \"#F5F6F9\", \"title\": {\"font\": {\"color\": \"#4D5663\"}, \"text\": \"Similarities with user id_3000\"}, \"xaxis\": {\"gridcolor\": \"#E1E5ED\", \"showgrid\": true, \"tickfont\": {\"color\": \"#4D5663\"}, \"title\": {\"font\": {\"color\": \"#4D5663\"}, \"text\": \"Users\"}, \"zerolinecolor\": \"#E1E5ED\"}, \"yaxis\": {\"gridcolor\": \"#E1E5ED\", \"showgrid\": true, \"tickfont\": {\"color\": \"#4D5663\"}, \"title\": {\"font\": {\"color\": \"#4D5663\"}, \"text\": \"Similarity\"}, \"zerolinecolor\": \"#E1E5ED\"}},\n",
       "                        {\"showLink\": true, \"linkText\": \"Export to plot.ly\", \"plotlyServerURL\": \"https://plot.ly\", \"responsive\": true}\n",
       "                    ).then(function(){\n",
       "                            \n",
       "var gd = document.getElementById('200be67f-a474-48ed-b785-1c488a3b023e');\n",
       "var x = new MutationObserver(function (mutations, observer) {{\n",
       "        var display = window.getComputedStyle(gd).display;\n",
       "        if (!display || display === 'none') {{\n",
       "            console.log([gd, 'removed!']);\n",
       "            Plotly.purge(gd);\n",
       "            observer.disconnect();\n",
       "        }}\n",
       "}});\n",
       "\n",
       "// Listen for the removal of the full notebook cells\n",
       "var notebookContainer = gd.closest('#notebook-container');\n",
       "if (notebookContainer) {{\n",
       "    x.observe(notebookContainer, {childList: true});\n",
       "}}\n",
       "\n",
       "// Listen for the clearing of the current output cell\n",
       "var outputEl = gd.closest('.output');\n",
       "if (outputEl) {{\n",
       "    x.observe(outputEl, {childList: true});\n",
       "}}\n",
       "\n",
       "                        })\n",
       "                };\n",
       "                });\n",
       "            </script>\n",
       "        </div>"
      ]
     },
     "metadata": {},
     "output_type": "display_data"
    }
   ],
   "source": [
    "final.iplot(kind='bar', x='plan_ori_id', title='Similarities with user id_3000', \n",
    "            yTitle='Similarity', xTitle='Users')"
   ]
  },
  {
   "cell_type": "code",
   "execution_count": null,
   "metadata": {},
   "outputs": [],
   "source": []
  }
 ],
 "metadata": {
  "kernelspec": {
   "display_name": "Python 3",
   "language": "python",
   "name": "python3"
  },
  "language_info": {
   "codemirror_mode": {
    "name": "ipython",
    "version": 3
   },
   "file_extension": ".py",
   "mimetype": "text/x-python",
   "name": "python",
   "nbconvert_exporter": "python",
   "pygments_lexer": "ipython3",
   "version": "3.7.2"
  }
 },
 "nbformat": 4,
 "nbformat_minor": 2
}
