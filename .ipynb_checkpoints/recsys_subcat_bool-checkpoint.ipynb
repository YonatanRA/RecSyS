{
 "cells": [
  {
   "cell_type": "code",
   "execution_count": 1,
   "metadata": {},
   "outputs": [
    {
     "data": {
      "text/html": [
       "        <script type=\"text/javascript\">\n",
       "        window.PlotlyConfig = {MathJaxConfig: 'local'};\n",
       "        if (window.MathJax) {MathJax.Hub.Config({SVG: {font: \"STIX-Web\"}});}\n",
       "        if (typeof require !== 'undefined') {\n",
       "        require.undef(\"plotly\");\n",
       "        requirejs.config({\n",
       "            paths: {\n",
       "                'plotly': ['https://cdn.plot.ly/plotly-latest.min']\n",
       "            }\n",
       "        });\n",
       "        require(['plotly'], function(Plotly) {\n",
       "            window._Plotly = Plotly;\n",
       "        });\n",
       "        }\n",
       "        </script>\n",
       "        "
      ]
     },
     "metadata": {},
     "output_type": "display_data"
    }
   ],
   "source": [
    "# Demo recsys boolean (0-1)\n",
    "\n",
    "# import libraries\n",
    "\n",
    "\n",
    "%matplotlib inline\n",
    "import seaborn as sns\n",
    "import warnings\n",
    "warnings.filterwarnings(\"ignore\",category=DeprecationWarning)\n",
    "import pandas as pd\n",
    "import numpy as np\n",
    "import matplotlib.pyplot as plt\n",
    "from scipy.spatial.distance import pdist, squareform\n",
    "from operator import itemgetter\n",
    "import plotly.plotly as py\n",
    "import cufflinks as cf\n",
    "cf.go_offline()"
   ]
  },
  {
   "cell_type": "code",
   "execution_count": 2,
   "metadata": {},
   "outputs": [],
   "source": [
    "# names and tags\n",
    "\n",
    "names=['id__'+str(i) for i in range(3000)]\n",
    "\n",
    "tags=['r&b', 'rock', 'jazz', 'electronic', 'pop', 'indie',\n",
    "      'cinema', 'theater', 'beers', 'wine', 'party', 'trips',\n",
    "      'running', 'gym', 'golf', 'basket', 'football', 'yoga']\n",
    "\n",
    "\n",
    "sub_tags_elec=['techno', 'electro_funky', 'house', 'minimal', 'dubstep', 'DandB']"
   ]
  },
  {
   "cell_type": "code",
   "execution_count": 3,
   "metadata": {},
   "outputs": [],
   "source": [
    "# synth data\n",
    "\n",
    "data=np.random.randint(0, 2, (len(names), len(tags)))*0.8\n",
    "sub_data=np.random.randint(0, 1, (len(names), len(sub_tags_elec)))\n",
    "\n",
    "s_data=pd.DataFrame(data, columns=tags, index=names)\n",
    "s_sub_data=pd.DataFrame(sub_data, columns=sub_tags_elec, index=names)\n",
    "\n",
    "s_data=pd.concat([s_data, s_sub_data], axis=1)\n",
    "\n",
    "s_data['plan']=np.random.randint(0, 2, (len(names), 1))\n",
    "s_data['id']=[i for i in range(len(names))]\n",
    "\n",
    "\n",
    "for i in range(len(s_data)):\n",
    "    if s_data.electronic[i]!=0:\n",
    "        s_data.techno[i]=np.random.randint(0, 2)\n",
    "        s_data.electro_funky[i]=np.random.randint(0, 2)\n",
    "        s_data.house[i]=np.random.randint(0, 2)\n",
    "        s_data.minimal[i]=np.random.randint(0, 2)\n",
    "        s_data.dubstep[i]=np.random.randint(0, 2)\n",
    "        s_data.DandB[i]=np.random.randint(0, 2)"
   ]
  },
  {
   "cell_type": "code",
   "execution_count": 4,
   "metadata": {},
   "outputs": [
    {
     "data": {
      "text/html": [
       "<div>\n",
       "<style scoped>\n",
       "    .dataframe tbody tr th:only-of-type {\n",
       "        vertical-align: middle;\n",
       "    }\n",
       "\n",
       "    .dataframe tbody tr th {\n",
       "        vertical-align: top;\n",
       "    }\n",
       "\n",
       "    .dataframe thead th {\n",
       "        text-align: right;\n",
       "    }\n",
       "</style>\n",
       "<table border=\"1\" class=\"dataframe\">\n",
       "  <thead>\n",
       "    <tr style=\"text-align: right;\">\n",
       "      <th></th>\n",
       "      <th>r&amp;b</th>\n",
       "      <th>rock</th>\n",
       "      <th>jazz</th>\n",
       "      <th>electronic</th>\n",
       "      <th>pop</th>\n",
       "      <th>indie</th>\n",
       "      <th>cinema</th>\n",
       "      <th>theater</th>\n",
       "      <th>beers</th>\n",
       "      <th>wine</th>\n",
       "      <th>...</th>\n",
       "      <th>football</th>\n",
       "      <th>yoga</th>\n",
       "      <th>techno</th>\n",
       "      <th>electro_funky</th>\n",
       "      <th>house</th>\n",
       "      <th>minimal</th>\n",
       "      <th>dubstep</th>\n",
       "      <th>DandB</th>\n",
       "      <th>plan</th>\n",
       "      <th>id</th>\n",
       "    </tr>\n",
       "  </thead>\n",
       "  <tbody>\n",
       "    <tr>\n",
       "      <th>id__2995</th>\n",
       "      <td>0.533333</td>\n",
       "      <td>0.000000</td>\n",
       "      <td>0.000000</td>\n",
       "      <td>0.533333</td>\n",
       "      <td>0.000000</td>\n",
       "      <td>0.000000</td>\n",
       "      <td>0.533333</td>\n",
       "      <td>0.533333</td>\n",
       "      <td>0.000000</td>\n",
       "      <td>0.000000</td>\n",
       "      <td>...</td>\n",
       "      <td>0.000000</td>\n",
       "      <td>0.000000</td>\n",
       "      <td>0.0</td>\n",
       "      <td>0.0</td>\n",
       "      <td>0.0</td>\n",
       "      <td>0.333333</td>\n",
       "      <td>0.0</td>\n",
       "      <td>0.000000</td>\n",
       "      <td>0</td>\n",
       "      <td>2995</td>\n",
       "    </tr>\n",
       "    <tr>\n",
       "      <th>id__2996</th>\n",
       "      <td>0.000000</td>\n",
       "      <td>0.000000</td>\n",
       "      <td>0.000000</td>\n",
       "      <td>0.000000</td>\n",
       "      <td>0.000000</td>\n",
       "      <td>0.000000</td>\n",
       "      <td>0.000000</td>\n",
       "      <td>0.000000</td>\n",
       "      <td>0.000000</td>\n",
       "      <td>0.000000</td>\n",
       "      <td>...</td>\n",
       "      <td>0.000000</td>\n",
       "      <td>0.533333</td>\n",
       "      <td>0.0</td>\n",
       "      <td>0.0</td>\n",
       "      <td>0.0</td>\n",
       "      <td>0.000000</td>\n",
       "      <td>0.0</td>\n",
       "      <td>0.000000</td>\n",
       "      <td>0</td>\n",
       "      <td>2996</td>\n",
       "    </tr>\n",
       "    <tr>\n",
       "      <th>id__2997</th>\n",
       "      <td>0.000000</td>\n",
       "      <td>0.533333</td>\n",
       "      <td>0.533333</td>\n",
       "      <td>0.000000</td>\n",
       "      <td>0.533333</td>\n",
       "      <td>0.000000</td>\n",
       "      <td>0.000000</td>\n",
       "      <td>0.000000</td>\n",
       "      <td>0.533333</td>\n",
       "      <td>0.533333</td>\n",
       "      <td>...</td>\n",
       "      <td>0.000000</td>\n",
       "      <td>0.000000</td>\n",
       "      <td>0.0</td>\n",
       "      <td>0.0</td>\n",
       "      <td>0.0</td>\n",
       "      <td>0.000000</td>\n",
       "      <td>0.0</td>\n",
       "      <td>0.000000</td>\n",
       "      <td>0</td>\n",
       "      <td>2997</td>\n",
       "    </tr>\n",
       "    <tr>\n",
       "      <th>id__2998</th>\n",
       "      <td>0.533333</td>\n",
       "      <td>0.000000</td>\n",
       "      <td>0.533333</td>\n",
       "      <td>0.000000</td>\n",
       "      <td>0.533333</td>\n",
       "      <td>0.533333</td>\n",
       "      <td>0.533333</td>\n",
       "      <td>0.000000</td>\n",
       "      <td>0.000000</td>\n",
       "      <td>0.000000</td>\n",
       "      <td>...</td>\n",
       "      <td>0.533333</td>\n",
       "      <td>0.000000</td>\n",
       "      <td>0.0</td>\n",
       "      <td>0.0</td>\n",
       "      <td>0.0</td>\n",
       "      <td>0.000000</td>\n",
       "      <td>0.0</td>\n",
       "      <td>0.000000</td>\n",
       "      <td>1</td>\n",
       "      <td>2998</td>\n",
       "    </tr>\n",
       "    <tr>\n",
       "      <th>id__2999</th>\n",
       "      <td>0.000000</td>\n",
       "      <td>0.000000</td>\n",
       "      <td>0.533333</td>\n",
       "      <td>0.533333</td>\n",
       "      <td>0.533333</td>\n",
       "      <td>0.533333</td>\n",
       "      <td>0.000000</td>\n",
       "      <td>0.533333</td>\n",
       "      <td>0.533333</td>\n",
       "      <td>0.533333</td>\n",
       "      <td>...</td>\n",
       "      <td>0.000000</td>\n",
       "      <td>0.000000</td>\n",
       "      <td>0.0</td>\n",
       "      <td>0.0</td>\n",
       "      <td>0.0</td>\n",
       "      <td>0.000000</td>\n",
       "      <td>0.0</td>\n",
       "      <td>0.333333</td>\n",
       "      <td>0</td>\n",
       "      <td>2999</td>\n",
       "    </tr>\n",
       "  </tbody>\n",
       "</table>\n",
       "<p>5 rows × 26 columns</p>\n",
       "</div>"
      ],
      "text/plain": [
       "               r&b      rock      jazz  electronic       pop     indie  \\\n",
       "id__2995  0.533333  0.000000  0.000000    0.533333  0.000000  0.000000   \n",
       "id__2996  0.000000  0.000000  0.000000    0.000000  0.000000  0.000000   \n",
       "id__2997  0.000000  0.533333  0.533333    0.000000  0.533333  0.000000   \n",
       "id__2998  0.533333  0.000000  0.533333    0.000000  0.533333  0.533333   \n",
       "id__2999  0.000000  0.000000  0.533333    0.533333  0.533333  0.533333   \n",
       "\n",
       "            cinema   theater     beers      wine  ...  football      yoga  \\\n",
       "id__2995  0.533333  0.533333  0.000000  0.000000  ...  0.000000  0.000000   \n",
       "id__2996  0.000000  0.000000  0.000000  0.000000  ...  0.000000  0.533333   \n",
       "id__2997  0.000000  0.000000  0.533333  0.533333  ...  0.000000  0.000000   \n",
       "id__2998  0.533333  0.000000  0.000000  0.000000  ...  0.533333  0.000000   \n",
       "id__2999  0.000000  0.533333  0.533333  0.533333  ...  0.000000  0.000000   \n",
       "\n",
       "          techno  electro_funky  house   minimal  dubstep     DandB  plan  \\\n",
       "id__2995     0.0            0.0    0.0  0.333333      0.0  0.000000     0   \n",
       "id__2996     0.0            0.0    0.0  0.000000      0.0  0.000000     0   \n",
       "id__2997     0.0            0.0    0.0  0.000000      0.0  0.000000     0   \n",
       "id__2998     0.0            0.0    0.0  0.000000      0.0  0.000000     1   \n",
       "id__2999     0.0            0.0    0.0  0.000000      0.0  0.333333     0   \n",
       "\n",
       "            id  \n",
       "id__2995  2995  \n",
       "id__2996  2996  \n",
       "id__2997  2997  \n",
       "id__2998  2998  \n",
       "id__2999  2999  \n",
       "\n",
       "[5 rows x 26 columns]"
      ]
     },
     "metadata": {},
     "output_type": "display_data"
    }
   ],
   "source": [
    "#  weighing\n",
    "\n",
    "for e in tags:\n",
    "    s_data[e]=s_data[e]*2/3\n",
    "\n",
    "for e in sub_tags_elec:\n",
    "    s_data[e]=s_data[e]*1/3\n",
    "    \n",
    "display(s_data.tail())"
   ]
  },
  {
   "cell_type": "code",
   "execution_count": 5,
   "metadata": {},
   "outputs": [],
   "source": [
    "# new user function\n",
    "\n",
    "\n",
    "def new_user(df, rb, rock, jazz, electronic, pop, indie, cinema, theater, beers, wine,\n",
    "             party, trips, running, gym, golf, basket, football, yoga,\n",
    "             techno, electro_funky, house, minimal, dubstep, DandB, metric):\n",
    "    \n",
    "    \n",
    "    tags=['r&b', 'rock', 'jazz', 'electronic', 'pop', 'indie',\n",
    "          'cinema', 'theater', 'beers', 'wine', 'party', 'trips',\n",
    "          'running', 'gym', 'golf', 'basket', 'football', 'yoga',\n",
    "          'techno', 'electro_funky', 'house', 'minimal', 'dubstep', 'DandB']\n",
    "    \n",
    "    \n",
    "    \n",
    "    rating=[rb, rock, jazz, electronic, pop, indie, cinema, theater, beers, wine,\n",
    "            party, trips, running, gym, golf, basket, football, yoga, \n",
    "            techno, electro_funky, house, minimal, dubstep, DandB]\n",
    "    \n",
    "    \n",
    "    n_user={k:v for k, v in list(zip(tags, rating))}\n",
    "    n_user['id']=len(s_data.id)\n",
    "    n_user['plan']=0\n",
    "    \n",
    "    names=list(df.index)\n",
    "    df=df.append(n_user, ignore_index=True)\n",
    "    names.append(n_user['id'])\n",
    "    df.index=names\n",
    "    \n",
    "    similar = pd.DataFrame(0.8/(1 + squareform(pdist(df.iloc[:, :-2], metric))), \n",
    "                         index=df.index, columns=df.index)\n",
    "\n",
    "    similarities = similar[n_user['id']].sort_values(ascending=False)\n",
    "    \n",
    "    closer_users=[]\n",
    "    for e in similarities.index:\n",
    "        if df.ix[e].plan==1:\n",
    "            closer_users.append(e)\n",
    "    \n",
    "    return list(map(list, zip(closer_users[:10], similarities.ix[closer_users[:10]])))#df.ix[closer_users[:10]][['id', 'plan']]"
   ]
  },
  {
   "cell_type": "code",
   "execution_count": 6,
   "metadata": {},
   "outputs": [
    {
     "name": "stdout",
     "output_type": "stream",
     "text": [
      "Rate r&b :\n",
      "1\n"
     ]
    }
   ],
   "source": [
    "print('Rate r&b :')\n",
    "rb = int(input())*1.6/3"
   ]
  },
  {
   "cell_type": "code",
   "execution_count": 7,
   "metadata": {},
   "outputs": [
    {
     "name": "stdout",
     "output_type": "stream",
     "text": [
      "Rate rock :\n",
      "1\n"
     ]
    }
   ],
   "source": [
    "print('Rate rock :')\n",
    "rock = int(input())*1.6/3  "
   ]
  },
  {
   "cell_type": "code",
   "execution_count": 8,
   "metadata": {},
   "outputs": [
    {
     "name": "stdout",
     "output_type": "stream",
     "text": [
      "Rate jazz :\n",
      "0\n"
     ]
    }
   ],
   "source": [
    "print('Rate jazz :')\n",
    "jazz = int(input())*1.6/3 "
   ]
  },
  {
   "cell_type": "code",
   "execution_count": 9,
   "metadata": {},
   "outputs": [
    {
     "name": "stdout",
     "output_type": "stream",
     "text": [
      "Rate electronic :\n",
      "0\n"
     ]
    }
   ],
   "source": [
    "print('Rate electronic :')\n",
    "electronic = int(input())*1.6/3  "
   ]
  },
  {
   "cell_type": "code",
   "execution_count": 10,
   "metadata": {},
   "outputs": [],
   "source": [
    "if electronic!=0:\n",
    "    print('Rate techno :')\n",
    "    techno = int(input())*0.8/3\n",
    "    \n",
    "    print('Rate electro-funky :')\n",
    "    electro_funky = int(input())*0.8/3\n",
    " \n",
    "    print('Rate house :')\n",
    "    house = int(input())*0.8/3\n",
    " \n",
    "    print('Rate minimal :')\n",
    "    minimal = int(input())*0.8/3\n",
    " \n",
    "    print('Rate dubstep :')\n",
    "    dubstep = int(input())*0.8/3\n",
    " \n",
    "    print('Rate D&B :')\n",
    "    DandB = int(input())*0.8/3\n",
    "\n",
    "\n",
    "else:\n",
    "    techno = 0\n",
    "    electro_funky = 0\n",
    "    house = 0\n",
    "    minimal = 0\n",
    "    dubstep = 0\n",
    "    DandB = 0"
   ]
  },
  {
   "cell_type": "code",
   "execution_count": 11,
   "metadata": {},
   "outputs": [
    {
     "name": "stdout",
     "output_type": "stream",
     "text": [
      "Rate pop from :\n",
      "1\n"
     ]
    }
   ],
   "source": [
    "print('Rate pop from :')\n",
    "pop = int(input())*1.6/3 "
   ]
  },
  {
   "cell_type": "code",
   "execution_count": 12,
   "metadata": {},
   "outputs": [
    {
     "name": "stdout",
     "output_type": "stream",
     "text": [
      "Rate indie :\n",
      "1\n"
     ]
    }
   ],
   "source": [
    "print('Rate indie :')\n",
    "indie = int(input())*1.6/3 "
   ]
  },
  {
   "cell_type": "code",
   "execution_count": 13,
   "metadata": {},
   "outputs": [
    {
     "name": "stdout",
     "output_type": "stream",
     "text": [
      "Rate cinema :\n",
      "1\n"
     ]
    }
   ],
   "source": [
    "print('Rate cinema :')\n",
    "cinema = int(input())*1.6/3 "
   ]
  },
  {
   "cell_type": "code",
   "execution_count": 14,
   "metadata": {},
   "outputs": [
    {
     "name": "stdout",
     "output_type": "stream",
     "text": [
      "Rate theater :\n",
      "1\n"
     ]
    }
   ],
   "source": [
    "print('Rate theater :')\n",
    "theater = int(input())*1.6/3 "
   ]
  },
  {
   "cell_type": "code",
   "execution_count": 15,
   "metadata": {},
   "outputs": [
    {
     "name": "stdout",
     "output_type": "stream",
     "text": [
      "Rate beers :\n",
      "0\n"
     ]
    }
   ],
   "source": [
    "print('Rate beers :')\n",
    "beers = int(input())*1.6/3 "
   ]
  },
  {
   "cell_type": "code",
   "execution_count": 16,
   "metadata": {},
   "outputs": [
    {
     "name": "stdout",
     "output_type": "stream",
     "text": [
      "Rate wine :\n",
      "0\n"
     ]
    }
   ],
   "source": [
    "print('Rate wine :')\n",
    "wine = int(input())*1.6/3 "
   ]
  },
  {
   "cell_type": "code",
   "execution_count": 17,
   "metadata": {},
   "outputs": [
    {
     "name": "stdout",
     "output_type": "stream",
     "text": [
      "Rate party :\n",
      "0\n"
     ]
    }
   ],
   "source": [
    "print('Rate party :')\n",
    "party = int(input())*1.6/3 "
   ]
  },
  {
   "cell_type": "code",
   "execution_count": 18,
   "metadata": {},
   "outputs": [
    {
     "name": "stdout",
     "output_type": "stream",
     "text": [
      "Rate trips :\n",
      "1\n"
     ]
    }
   ],
   "source": [
    "print('Rate trips :')\n",
    "trips = int(input())*1.6/3 "
   ]
  },
  {
   "cell_type": "code",
   "execution_count": 19,
   "metadata": {},
   "outputs": [
    {
     "name": "stdout",
     "output_type": "stream",
     "text": [
      "Rate running :\n",
      "0\n"
     ]
    }
   ],
   "source": [
    "print('Rate running :')\n",
    "running = int(input())*1.6/3 "
   ]
  },
  {
   "cell_type": "code",
   "execution_count": 20,
   "metadata": {},
   "outputs": [
    {
     "name": "stdout",
     "output_type": "stream",
     "text": [
      "Rate gym :\n",
      "0\n"
     ]
    }
   ],
   "source": [
    "print('Rate gym :')\n",
    "gym = int(input())*1.6/3 "
   ]
  },
  {
   "cell_type": "code",
   "execution_count": 21,
   "metadata": {},
   "outputs": [
    {
     "name": "stdout",
     "output_type": "stream",
     "text": [
      "Rate golf :\n",
      "0\n"
     ]
    }
   ],
   "source": [
    "print('Rate golf :')\n",
    "golf = int(input())*1.6/3 "
   ]
  },
  {
   "cell_type": "code",
   "execution_count": 22,
   "metadata": {},
   "outputs": [
    {
     "name": "stdout",
     "output_type": "stream",
     "text": [
      "Rate basket :\n",
      "1\n"
     ]
    }
   ],
   "source": [
    "print('Rate basket :')\n",
    "basket = int(input())*1.6/3 "
   ]
  },
  {
   "cell_type": "code",
   "execution_count": 23,
   "metadata": {},
   "outputs": [
    {
     "name": "stdout",
     "output_type": "stream",
     "text": [
      "Rate football :\n",
      "1\n"
     ]
    }
   ],
   "source": [
    "print('Rate football :')\n",
    "football = int(input())*1.6/3 "
   ]
  },
  {
   "cell_type": "code",
   "execution_count": 24,
   "metadata": {},
   "outputs": [
    {
     "name": "stdout",
     "output_type": "stream",
     "text": [
      "Rate yoga :\n",
      "1\n"
     ]
    }
   ],
   "source": [
    "print('Rate yoga :')\n",
    "yoga = int(input())*1.6/3 "
   ]
  },
  {
   "cell_type": "code",
   "execution_count": 25,
   "metadata": {},
   "outputs": [],
   "source": [
    "# metrics for squareform\n",
    "\n",
    "'''\n",
    "'euclidean', 'minkowski', 'cityblock', 'seuclidean', 'sqeuclidean', 'cosine', 'correlation'\n",
    "\n",
    "'hamming', 'jaccard', 'chebyshev', 'canberra', 'braycurtis', 'mahalanobis', 'yule'\n",
    "\n",
    "'matching', 'dice', 'kulsinski', 'rogerstanimoto', 'russellrao', 'sokalmichener'\n",
    "\n",
    "'sokalsneath', 'wminkowski'\n",
    "'''\n",
    "\n",
    "\n",
    "metric='cosine' "
   ]
  },
  {
   "cell_type": "code",
   "execution_count": 26,
   "metadata": {},
   "outputs": [
    {
     "name": "stdout",
     "output_type": "stream",
     "text": [
      "Similar users with plan : \n",
      "id__883\n",
      "id__2896\n",
      "id__197\n",
      "id__1864\n",
      "id__865\n",
      "id__936\n",
      "id__2786\n",
      "id__1524\n",
      "id__2261\n",
      "id__399\n"
     ]
    }
   ],
   "source": [
    "# plans (users)\n",
    "\n",
    "plans=new_user(s_data, rb, rock, jazz, electronic, pop, indie, cinema, theater, beers, wine,\n",
    "               party, trips, running, gym, golf, basket, football, yoga, \n",
    "               techno, electro_funky, house, minimal, dubstep, DandB, metric)\n",
    "\n",
    "\n",
    "print ('Similar users with plan : ')\n",
    "for e in plans:\n",
    "    print (e[0])\n",
    "    \n",
    "final=pd.DataFrame()\n",
    "final['plan_ori_id']=[e[0] for e in plans]\n",
    "final['original_similarity']=[e[1] for e in plans]"
   ]
  },
  {
   "cell_type": "code",
   "execution_count": 27,
   "metadata": {},
   "outputs": [
    {
     "name": "stdout",
     "output_type": "stream",
     "text": [
      "\n",
      "Follow user id__883?\n",
      "1\n",
      "\n",
      "Follow user id__2896?\n",
      "1\n",
      "\n",
      "Follow user id__197?\n",
      "1\n",
      "\n",
      "Follow user id__1864?\n",
      "0\n",
      "\n",
      "Follow user id__865?\n",
      "0\n",
      "\n",
      "Follow user id__936?\n",
      "0\n",
      "\n",
      "Follow user id__2786?\n",
      "0\n",
      "\n",
      "Follow user id__1524?\n",
      "0\n",
      "\n",
      "Follow user id__2261?\n",
      "0\n",
      "\n",
      "Follow user id__399?\n",
      "0\n",
      "\n"
     ]
    }
   ],
   "source": [
    "# follow-unfollow users\n",
    "foll=plans\n",
    "def follow(_id, b, foll):\n",
    "    if b==0: return foll\n",
    "    elif b==1:\n",
    "        for e in foll:\n",
    "            if _id==e[0]:\n",
    "                e[1]+=e[1]*0.15\n",
    "        for e in foll:\n",
    "            if e[1]>1:e[1]=1\n",
    "        return foll#sorted(foll, key=itemgetter(1), reverse=True)\n",
    "\n",
    "print ()\n",
    "for e in foll:\n",
    "    print ('Follow user {}?'.format(e[0]))\n",
    "    b=int(input())\n",
    "    f=follow(e[0], b, foll)\n",
    "    #print (f)\n",
    "    print()\n",
    "#final['follow_id']=[e[0] for e in f]\n",
    "final['after_follow_similarity']=[e[1] for e in f]\n",
    "\n"
   ]
  },
  {
   "cell_type": "code",
   "execution_count": 28,
   "metadata": {},
   "outputs": [
    {
     "name": "stdout",
     "output_type": "stream",
     "text": [
      "\n",
      "Do you like the user id__883 plan?\n",
      "1\n",
      "\n",
      "Do you like the user id__2896 plan?\n",
      "0\n",
      "\n",
      "Do you like the user id__197 plan?\n",
      "1\n",
      "\n",
      "Do you like the user id__1864 plan?\n",
      "0\n",
      "\n",
      "Do you like the user id__865 plan?\n",
      "0\n",
      "\n",
      "Do you like the user id__936 plan?\n",
      "0\n",
      "\n",
      "Do you like the user id__2786 plan?\n",
      "0\n",
      "\n",
      "Do you like the user id__1524 plan?\n",
      "0\n",
      "\n",
      "Do you like the user id__2261 plan?\n",
      "0\n",
      "\n",
      "Do you like the user id__399 plan?\n",
      "0\n",
      "\n"
     ]
    }
   ],
   "source": [
    "w_likes=foll\n",
    "def like(_id, b, serie_like):\n",
    "    if b==0: return serie_like\n",
    "    elif b==1:\n",
    "        for e in serie_like:\n",
    "            if _id==e[0]:\n",
    "                e[1]+=0.01\n",
    "        for e in serie_like:\n",
    "            if e[1]>1:e[1]=1\n",
    "        return serie_like\n",
    "\n",
    "print ()\n",
    "for e in w_likes:\n",
    "    print ('Do you like the user {} plan?'.format(e[0]))\n",
    "    b=int(input())\n",
    "    l=like(e[0], b, w_likes)\n",
    "    print()\n",
    "final['with likes after follow']=[e[1] for e in f]"
   ]
  },
  {
   "cell_type": "code",
   "execution_count": 29,
   "metadata": {},
   "outputs": [
    {
     "name": "stdout",
     "output_type": "stream",
     "text": [
      "\n",
      "Unfollow user id__883?\n",
      "1\n",
      "\n",
      "Unfollow user id__2896?\n",
      "1\n",
      "\n",
      "Unfollow user id__197?\n",
      "1\n",
      "\n",
      "Unfollow user id__1864?\n",
      "0\n",
      "\n",
      "Unfollow user id__865?\n",
      "0\n",
      "\n",
      "Unfollow user id__936?\n",
      "0\n",
      "\n",
      "Unfollow user id__2786?\n",
      "0\n",
      "\n",
      "Unfollow user id__1524?\n",
      "0\n",
      "\n",
      "Unfollow user id__2261?\n",
      "0\n",
      "\n",
      "Unfollow user id__399?\n",
      "0\n",
      "\n"
     ]
    },
    {
     "data": {
      "text/html": [
       "<div>\n",
       "<style scoped>\n",
       "    .dataframe tbody tr th:only-of-type {\n",
       "        vertical-align: middle;\n",
       "    }\n",
       "\n",
       "    .dataframe tbody tr th {\n",
       "        vertical-align: top;\n",
       "    }\n",
       "\n",
       "    .dataframe thead th {\n",
       "        text-align: right;\n",
       "    }\n",
       "</style>\n",
       "<table border=\"1\" class=\"dataframe\">\n",
       "  <thead>\n",
       "    <tr style=\"text-align: right;\">\n",
       "      <th></th>\n",
       "      <th>plan_ori_id</th>\n",
       "      <th>original_similarity</th>\n",
       "      <th>after_follow_similarity</th>\n",
       "      <th>with likes after follow</th>\n",
       "      <th>after_unfollow_similarity</th>\n",
       "    </tr>\n",
       "  </thead>\n",
       "  <tbody>\n",
       "    <tr>\n",
       "      <th>0</th>\n",
       "      <td>id__883</td>\n",
       "      <td>0.691607</td>\n",
       "      <td>0.795348</td>\n",
       "      <td>0.805348</td>\n",
       "      <td>0.684546</td>\n",
       "    </tr>\n",
       "    <tr>\n",
       "      <th>1</th>\n",
       "      <td>id__2896</td>\n",
       "      <td>0.691607</td>\n",
       "      <td>0.795348</td>\n",
       "      <td>0.795348</td>\n",
       "      <td>0.676046</td>\n",
       "    </tr>\n",
       "    <tr>\n",
       "      <th>2</th>\n",
       "      <td>id__197</td>\n",
       "      <td>0.691607</td>\n",
       "      <td>0.795348</td>\n",
       "      <td>0.805348</td>\n",
       "      <td>0.684546</td>\n",
       "    </tr>\n",
       "    <tr>\n",
       "      <th>3</th>\n",
       "      <td>id__1864</td>\n",
       "      <td>0.689663</td>\n",
       "      <td>0.689663</td>\n",
       "      <td>0.689663</td>\n",
       "      <td>0.689663</td>\n",
       "    </tr>\n",
       "    <tr>\n",
       "      <th>4</th>\n",
       "      <td>id__865</td>\n",
       "      <td>0.678877</td>\n",
       "      <td>0.678877</td>\n",
       "      <td>0.678877</td>\n",
       "      <td>0.678877</td>\n",
       "    </tr>\n",
       "    <tr>\n",
       "      <th>5</th>\n",
       "      <td>id__936</td>\n",
       "      <td>0.678877</td>\n",
       "      <td>0.678877</td>\n",
       "      <td>0.678877</td>\n",
       "      <td>0.678877</td>\n",
       "    </tr>\n",
       "    <tr>\n",
       "      <th>6</th>\n",
       "      <td>id__2786</td>\n",
       "      <td>0.678877</td>\n",
       "      <td>0.678877</td>\n",
       "      <td>0.678877</td>\n",
       "      <td>0.678877</td>\n",
       "    </tr>\n",
       "    <tr>\n",
       "      <th>7</th>\n",
       "      <td>id__1524</td>\n",
       "      <td>0.678877</td>\n",
       "      <td>0.678877</td>\n",
       "      <td>0.678877</td>\n",
       "      <td>0.678877</td>\n",
       "    </tr>\n",
       "    <tr>\n",
       "      <th>8</th>\n",
       "      <td>id__2261</td>\n",
       "      <td>0.666667</td>\n",
       "      <td>0.666667</td>\n",
       "      <td>0.666667</td>\n",
       "      <td>0.666667</td>\n",
       "    </tr>\n",
       "    <tr>\n",
       "      <th>9</th>\n",
       "      <td>id__399</td>\n",
       "      <td>0.666667</td>\n",
       "      <td>0.666667</td>\n",
       "      <td>0.666667</td>\n",
       "      <td>0.666667</td>\n",
       "    </tr>\n",
       "  </tbody>\n",
       "</table>\n",
       "</div>"
      ],
      "text/plain": [
       "  plan_ori_id  original_similarity  after_follow_similarity  \\\n",
       "0     id__883             0.691607                 0.795348   \n",
       "1    id__2896             0.691607                 0.795348   \n",
       "2     id__197             0.691607                 0.795348   \n",
       "3    id__1864             0.689663                 0.689663   \n",
       "4     id__865             0.678877                 0.678877   \n",
       "5     id__936             0.678877                 0.678877   \n",
       "6    id__2786             0.678877                 0.678877   \n",
       "7    id__1524             0.678877                 0.678877   \n",
       "8    id__2261             0.666667                 0.666667   \n",
       "9     id__399             0.666667                 0.666667   \n",
       "\n",
       "   with likes after follow  after_unfollow_similarity  \n",
       "0                 0.805348                   0.684546  \n",
       "1                 0.795348                   0.676046  \n",
       "2                 0.805348                   0.684546  \n",
       "3                 0.689663                   0.689663  \n",
       "4                 0.678877                   0.678877  \n",
       "5                 0.678877                   0.678877  \n",
       "6                 0.678877                   0.678877  \n",
       "7                 0.678877                   0.678877  \n",
       "8                 0.666667                   0.666667  \n",
       "9                 0.666667                   0.666667  "
      ]
     },
     "metadata": {},
     "output_type": "display_data"
    }
   ],
   "source": [
    "unfoll=w_likes\n",
    "def unfollow(_id, b, unfoll):\n",
    "    if b==0: return unfoll\n",
    "    elif b==1:\n",
    "        for e in unfoll:\n",
    "            if _id==e[0]:\n",
    "                e[1]-=e[1]*0.15\n",
    "        for e in unfoll:\n",
    "            if e[1]<0:e[1]=0\n",
    "        return unfoll#sorted(unfoll, key=itemgetter(1), reverse=True)\n",
    "\n",
    "print ()\n",
    "for e in unfoll:\n",
    "    print ('Unfollow user {}?'.format(e[0]))\n",
    "    b=int(input())\n",
    "    u=unfollow(e[0], b, unfoll)\n",
    "    #print (u)\n",
    "    print()\n",
    "#final['unfollow_id']=[e[0] for e in u]\n",
    "final['after_unfollow_similarity']=[e[1] for e in u]\n",
    "display (final)"
   ]
  },
  {
   "cell_type": "code",
   "execution_count": 30,
   "metadata": {},
   "outputs": [
    {
     "name": "stdout",
     "output_type": "stream",
     "text": [
      "\n",
      "Do you like the user id__883 plan?\n",
      "0\n",
      "\n",
      "Do you like the user id__2896 plan?\n",
      "0\n",
      "\n",
      "Do you like the user id__197 plan?\n",
      "0\n",
      "\n",
      "Do you like the user id__1864 plan?\n",
      "0\n",
      "\n",
      "Do you like the user id__865 plan?\n",
      "0\n",
      "\n",
      "Do you like the user id__936 plan?\n",
      "1\n",
      "\n",
      "Do you like the user id__2786 plan?\n",
      "0\n",
      "\n",
      "Do you like the user id__1524 plan?\n",
      "0\n",
      "\n",
      "Do you like the user id__2261 plan?\n",
      "0\n",
      "\n",
      "Do you like the user id__399 plan?\n",
      "0\n",
      "\n"
     ]
    }
   ],
   "source": [
    "w_likes_un=unfoll\n",
    "def like_un(_id, b, serie_like):\n",
    "    if b==0: return serie_like\n",
    "    elif b==1:\n",
    "        for e in serie_like:\n",
    "            if _id==e[0]:\n",
    "                e[1]+=0.01\n",
    "        for e in serie_like:\n",
    "            if e[1]>1:e[1]=1\n",
    "        return serie_like\n",
    "\n",
    "print ()\n",
    "for e in w_likes_un:\n",
    "    print ('Do you like the user {} plan?'.format(e[0]))\n",
    "    b=int(input())\n",
    "    l=like_un(e[0], b, w_likes_un)\n",
    "    print()\n",
    "final['with likes after unfollow']=[e[1] for e in f]"
   ]
  },
  {
   "cell_type": "code",
   "execution_count": 31,
   "metadata": {
    "scrolled": false
   },
   "outputs": [
    {
     "data": {
      "application/vnd.plotly.v1+json": {
       "config": {
        "linkText": "Export to plot.ly",
        "plotlyServerURL": "https://plot.ly",
        "responsive": true,
        "showLink": true
       },
       "data": [
        {
         "marker": {
          "color": "rgba(255, 153, 51, 0.6)",
          "line": {
           "color": "rgba(255, 153, 51, 1.0)",
           "width": 1
          }
         },
         "name": "original_similarity",
         "orientation": "v",
         "text": "",
         "type": "bar",
         "uid": "d0752d62-f759-4d7f-b2c7-6743c20a3ebf",
         "x": [
          "id__883",
          "id__2896",
          "id__197",
          "id__1864",
          "id__865",
          "id__936",
          "id__2786",
          "id__1524",
          "id__2261",
          "id__399"
         ],
         "y": [
          0.6916071995784895,
          0.6916071995784895,
          0.6916071995784895,
          0.689663288045993,
          0.6788773139868269,
          0.6788773139868269,
          0.6788773139868269,
          0.6788773139868269,
          0.6666666666666666,
          0.6666666666666666
         ]
        },
        {
         "marker": {
          "color": "rgba(55, 128, 191, 0.6)",
          "line": {
           "color": "rgba(55, 128, 191, 1.0)",
           "width": 1
          }
         },
         "name": "after_follow_similarity",
         "orientation": "v",
         "text": "",
         "type": "bar",
         "uid": "7528187e-d5c1-4cc4-bc9b-1ddbaf8b27cf",
         "x": [
          "id__883",
          "id__2896",
          "id__197",
          "id__1864",
          "id__865",
          "id__936",
          "id__2786",
          "id__1524",
          "id__2261",
          "id__399"
         ],
         "y": [
          0.7953482795152629,
          0.7953482795152629,
          0.7953482795152629,
          0.689663288045993,
          0.6788773139868269,
          0.6788773139868269,
          0.6788773139868269,
          0.6788773139868269,
          0.6666666666666666,
          0.6666666666666666
         ]
        },
        {
         "marker": {
          "color": "rgba(50, 171, 96, 0.6)",
          "line": {
           "color": "rgba(50, 171, 96, 1.0)",
           "width": 1
          }
         },
         "name": "with likes after follow",
         "orientation": "v",
         "text": "",
         "type": "bar",
         "uid": "95831d32-9004-4e22-92a6-035486868d1f",
         "x": [
          "id__883",
          "id__2896",
          "id__197",
          "id__1864",
          "id__865",
          "id__936",
          "id__2786",
          "id__1524",
          "id__2261",
          "id__399"
         ],
         "y": [
          0.8053482795152629,
          0.7953482795152629,
          0.8053482795152629,
          0.689663288045993,
          0.6788773139868269,
          0.6788773139868269,
          0.6788773139868269,
          0.6788773139868269,
          0.6666666666666666,
          0.6666666666666666
         ]
        },
        {
         "marker": {
          "color": "rgba(128, 0, 128, 0.6)",
          "line": {
           "color": "rgba(128, 0, 128, 1.0)",
           "width": 1
          }
         },
         "name": "after_unfollow_similarity",
         "orientation": "v",
         "text": "",
         "type": "bar",
         "uid": "f2e4b7ff-7364-4d17-8227-58a112a9584a",
         "x": [
          "id__883",
          "id__2896",
          "id__197",
          "id__1864",
          "id__865",
          "id__936",
          "id__2786",
          "id__1524",
          "id__2261",
          "id__399"
         ],
         "y": [
          0.6845460375879735,
          0.6760460375879734,
          0.6845460375879735,
          0.689663288045993,
          0.6788773139868269,
          0.6788773139868269,
          0.6788773139868269,
          0.6788773139868269,
          0.6666666666666666,
          0.6666666666666666
         ]
        },
        {
         "marker": {
          "color": "rgba(219, 64, 82, 0.6)",
          "line": {
           "color": "rgba(219, 64, 82, 1.0)",
           "width": 1
          }
         },
         "name": "with likes after unfollow",
         "orientation": "v",
         "text": "",
         "type": "bar",
         "uid": "4aec02c8-14de-4b6c-b133-1339f776687a",
         "x": [
          "id__883",
          "id__2896",
          "id__197",
          "id__1864",
          "id__865",
          "id__936",
          "id__2786",
          "id__1524",
          "id__2261",
          "id__399"
         ],
         "y": [
          0.6845460375879735,
          0.6760460375879734,
          0.6845460375879735,
          0.689663288045993,
          0.6788773139868269,
          0.688877313986827,
          0.6788773139868269,
          0.6788773139868269,
          0.6666666666666666,
          0.6666666666666666
         ]
        }
       ],
       "layout": {
        "legend": {
         "bgcolor": "#F5F6F9",
         "font": {
          "color": "#4D5663"
         }
        },
        "paper_bgcolor": "#F5F6F9",
        "plot_bgcolor": "#F5F6F9",
        "title": {
         "font": {
          "color": "#4D5663"
         },
         "text": "Similarities with user id_3000"
        },
        "xaxis": {
         "gridcolor": "#E1E5ED",
         "showgrid": true,
         "tickfont": {
          "color": "#4D5663"
         },
         "title": {
          "font": {
           "color": "#4D5663"
          },
          "text": "Users"
         },
         "zerolinecolor": "#E1E5ED"
        },
        "yaxis": {
         "gridcolor": "#E1E5ED",
         "showgrid": true,
         "tickfont": {
          "color": "#4D5663"
         },
         "title": {
          "font": {
           "color": "#4D5663"
          },
          "text": "Similarity"
         },
         "zerolinecolor": "#E1E5ED"
        }
       }
      },
      "text/html": [
       "<div>\n",
       "        \n",
       "        \n",
       "            <div id=\"65d20062-bf63-4da8-b768-128e5bbc1cfb\" class=\"plotly-graph-div\" style=\"height:525px; width:100%;\"></div>\n",
       "            <script type=\"text/javascript\">\n",
       "                require([\"plotly\"], function(Plotly) {\n",
       "                    window.PLOTLYENV=window.PLOTLYENV || {};\n",
       "                    window.PLOTLYENV.BASE_URL='https://plot.ly';\n",
       "                    \n",
       "                if (document.getElementById(\"65d20062-bf63-4da8-b768-128e5bbc1cfb\")) {\n",
       "                    Plotly.newPlot(\n",
       "                        '65d20062-bf63-4da8-b768-128e5bbc1cfb',\n",
       "                        [{\"marker\": {\"color\": \"rgba(255, 153, 51, 0.6)\", \"line\": {\"color\": \"rgba(255, 153, 51, 1.0)\", \"width\": 1}}, \"name\": \"original_similarity\", \"orientation\": \"v\", \"text\": \"\", \"type\": \"bar\", \"uid\": \"33bec52b-2120-4482-8bf4-922f23a76055\", \"x\": [\"id__883\", \"id__2896\", \"id__197\", \"id__1864\", \"id__865\", \"id__936\", \"id__2786\", \"id__1524\", \"id__2261\", \"id__399\"], \"y\": [0.6916071995784895, 0.6916071995784895, 0.6916071995784895, 0.689663288045993, 0.6788773139868269, 0.6788773139868269, 0.6788773139868269, 0.6788773139868269, 0.6666666666666666, 0.6666666666666666]}, {\"marker\": {\"color\": \"rgba(55, 128, 191, 0.6)\", \"line\": {\"color\": \"rgba(55, 128, 191, 1.0)\", \"width\": 1}}, \"name\": \"after_follow_similarity\", \"orientation\": \"v\", \"text\": \"\", \"type\": \"bar\", \"uid\": \"89f83dfb-ea74-46b7-9309-708e563ff421\", \"x\": [\"id__883\", \"id__2896\", \"id__197\", \"id__1864\", \"id__865\", \"id__936\", \"id__2786\", \"id__1524\", \"id__2261\", \"id__399\"], \"y\": [0.7953482795152629, 0.7953482795152629, 0.7953482795152629, 0.689663288045993, 0.6788773139868269, 0.6788773139868269, 0.6788773139868269, 0.6788773139868269, 0.6666666666666666, 0.6666666666666666]}, {\"marker\": {\"color\": \"rgba(50, 171, 96, 0.6)\", \"line\": {\"color\": \"rgba(50, 171, 96, 1.0)\", \"width\": 1}}, \"name\": \"with likes after follow\", \"orientation\": \"v\", \"text\": \"\", \"type\": \"bar\", \"uid\": \"c98f36b6-c74b-4dfa-b8b1-8615a623bac5\", \"x\": [\"id__883\", \"id__2896\", \"id__197\", \"id__1864\", \"id__865\", \"id__936\", \"id__2786\", \"id__1524\", \"id__2261\", \"id__399\"], \"y\": [0.8053482795152629, 0.7953482795152629, 0.8053482795152629, 0.689663288045993, 0.6788773139868269, 0.6788773139868269, 0.6788773139868269, 0.6788773139868269, 0.6666666666666666, 0.6666666666666666]}, {\"marker\": {\"color\": \"rgba(128, 0, 128, 0.6)\", \"line\": {\"color\": \"rgba(128, 0, 128, 1.0)\", \"width\": 1}}, \"name\": \"after_unfollow_similarity\", \"orientation\": \"v\", \"text\": \"\", \"type\": \"bar\", \"uid\": \"2ec32e59-dbbc-48d1-8ab9-6edaea8c64fd\", \"x\": [\"id__883\", \"id__2896\", \"id__197\", \"id__1864\", \"id__865\", \"id__936\", \"id__2786\", \"id__1524\", \"id__2261\", \"id__399\"], \"y\": [0.6845460375879735, 0.6760460375879734, 0.6845460375879735, 0.689663288045993, 0.6788773139868269, 0.6788773139868269, 0.6788773139868269, 0.6788773139868269, 0.6666666666666666, 0.6666666666666666]}, {\"marker\": {\"color\": \"rgba(219, 64, 82, 0.6)\", \"line\": {\"color\": \"rgba(219, 64, 82, 1.0)\", \"width\": 1}}, \"name\": \"with likes after unfollow\", \"orientation\": \"v\", \"text\": \"\", \"type\": \"bar\", \"uid\": \"d46dd5bf-9591-418f-8148-a3b8c0fed88b\", \"x\": [\"id__883\", \"id__2896\", \"id__197\", \"id__1864\", \"id__865\", \"id__936\", \"id__2786\", \"id__1524\", \"id__2261\", \"id__399\"], \"y\": [0.6845460375879735, 0.6760460375879734, 0.6845460375879735, 0.689663288045993, 0.6788773139868269, 0.688877313986827, 0.6788773139868269, 0.6788773139868269, 0.6666666666666666, 0.6666666666666666]}],\n",
       "                        {\"legend\": {\"bgcolor\": \"#F5F6F9\", \"font\": {\"color\": \"#4D5663\"}}, \"paper_bgcolor\": \"#F5F6F9\", \"plot_bgcolor\": \"#F5F6F9\", \"title\": {\"font\": {\"color\": \"#4D5663\"}, \"text\": \"Similarities with user id_3000\"}, \"xaxis\": {\"gridcolor\": \"#E1E5ED\", \"showgrid\": true, \"tickfont\": {\"color\": \"#4D5663\"}, \"title\": {\"font\": {\"color\": \"#4D5663\"}, \"text\": \"Users\"}, \"zerolinecolor\": \"#E1E5ED\"}, \"yaxis\": {\"gridcolor\": \"#E1E5ED\", \"showgrid\": true, \"tickfont\": {\"color\": \"#4D5663\"}, \"title\": {\"font\": {\"color\": \"#4D5663\"}, \"text\": \"Similarity\"}, \"zerolinecolor\": \"#E1E5ED\"}},\n",
       "                        {\"showLink\": true, \"linkText\": \"Export to plot.ly\", \"plotlyServerURL\": \"https://plot.ly\", \"responsive\": true}\n",
       "                    ).then(function(){\n",
       "                            \n",
       "var gd = document.getElementById('65d20062-bf63-4da8-b768-128e5bbc1cfb');\n",
       "var x = new MutationObserver(function (mutations, observer) {{\n",
       "        var display = window.getComputedStyle(gd).display;\n",
       "        if (!display || display === 'none') {{\n",
       "            console.log([gd, 'removed!']);\n",
       "            Plotly.purge(gd);\n",
       "            observer.disconnect();\n",
       "        }}\n",
       "}});\n",
       "\n",
       "// Listen for the removal of the full notebook cells\n",
       "var notebookContainer = gd.closest('#notebook-container');\n",
       "if (notebookContainer) {{\n",
       "    x.observe(notebookContainer, {childList: true});\n",
       "}}\n",
       "\n",
       "// Listen for the clearing of the current output cell\n",
       "var outputEl = gd.closest('.output');\n",
       "if (outputEl) {{\n",
       "    x.observe(outputEl, {childList: true});\n",
       "}}\n",
       "\n",
       "                        })\n",
       "                };\n",
       "                });\n",
       "            </script>\n",
       "        </div>"
      ]
     },
     "metadata": {},
     "output_type": "display_data"
    }
   ],
   "source": [
    "final.iplot(kind='bar', x='plan_ori_id', title='Similarities with user id_3000', \n",
    "            yTitle='Similarity', xTitle='Users')"
   ]
  },
  {
   "cell_type": "code",
   "execution_count": 32,
   "metadata": {},
   "outputs": [],
   "source": [
    "#final.head()"
   ]
  },
  {
   "cell_type": "code",
   "execution_count": 33,
   "metadata": {},
   "outputs": [],
   "source": [
    "end_similarity=final.sort_values(by=['with likes after unfollow'], ascending=False)\n",
    "#end_similarity"
   ]
  },
  {
   "cell_type": "code",
   "execution_count": 34,
   "metadata": {},
   "outputs": [
    {
     "data": {
      "application/vnd.plotly.v1+json": {
       "config": {
        "linkText": "Export to plot.ly",
        "plotlyServerURL": "https://plot.ly",
        "responsive": true,
        "showLink": true
       },
       "data": [
        {
         "marker": {
          "color": "rgba(255, 153, 51, 0.6)",
          "line": {
           "color": "rgba(255, 153, 51, 1.0)",
           "width": 1
          }
         },
         "name": "original_similarity",
         "orientation": "v",
         "text": "",
         "type": "bar",
         "uid": "44affc1b-9d32-4790-b303-9867937bf730",
         "x": [
          "id__1864",
          "id__936",
          "id__883",
          "id__197",
          "id__865",
          "id__2786",
          "id__1524",
          "id__2896",
          "id__2261",
          "id__399"
         ],
         "y": [
          0.689663288045993,
          0.6788773139868269,
          0.6916071995784895,
          0.6916071995784895,
          0.6788773139868269,
          0.6788773139868269,
          0.6788773139868269,
          0.6916071995784895,
          0.6666666666666666,
          0.6666666666666666
         ]
        },
        {
         "marker": {
          "color": "rgba(55, 128, 191, 0.6)",
          "line": {
           "color": "rgba(55, 128, 191, 1.0)",
           "width": 1
          }
         },
         "name": "after_follow_similarity",
         "orientation": "v",
         "text": "",
         "type": "bar",
         "uid": "4a2d6194-b8dd-41e8-9ec2-4fd066b16649",
         "x": [
          "id__1864",
          "id__936",
          "id__883",
          "id__197",
          "id__865",
          "id__2786",
          "id__1524",
          "id__2896",
          "id__2261",
          "id__399"
         ],
         "y": [
          0.689663288045993,
          0.6788773139868269,
          0.7953482795152629,
          0.7953482795152629,
          0.6788773139868269,
          0.6788773139868269,
          0.6788773139868269,
          0.7953482795152629,
          0.6666666666666666,
          0.6666666666666666
         ]
        },
        {
         "marker": {
          "color": "rgba(50, 171, 96, 0.6)",
          "line": {
           "color": "rgba(50, 171, 96, 1.0)",
           "width": 1
          }
         },
         "name": "with likes after follow",
         "orientation": "v",
         "text": "",
         "type": "bar",
         "uid": "c9beca00-c7d8-4e28-8403-ec46a6b29a0c",
         "x": [
          "id__1864",
          "id__936",
          "id__883",
          "id__197",
          "id__865",
          "id__2786",
          "id__1524",
          "id__2896",
          "id__2261",
          "id__399"
         ],
         "y": [
          0.689663288045993,
          0.6788773139868269,
          0.8053482795152629,
          0.8053482795152629,
          0.6788773139868269,
          0.6788773139868269,
          0.6788773139868269,
          0.7953482795152629,
          0.6666666666666666,
          0.6666666666666666
         ]
        },
        {
         "marker": {
          "color": "rgba(128, 0, 128, 0.6)",
          "line": {
           "color": "rgba(128, 0, 128, 1.0)",
           "width": 1
          }
         },
         "name": "after_unfollow_similarity",
         "orientation": "v",
         "text": "",
         "type": "bar",
         "uid": "4eea15f8-ed17-4577-bb9c-d9d92dad74fc",
         "x": [
          "id__1864",
          "id__936",
          "id__883",
          "id__197",
          "id__865",
          "id__2786",
          "id__1524",
          "id__2896",
          "id__2261",
          "id__399"
         ],
         "y": [
          0.689663288045993,
          0.6788773139868269,
          0.6845460375879735,
          0.6845460375879735,
          0.6788773139868269,
          0.6788773139868269,
          0.6788773139868269,
          0.6760460375879734,
          0.6666666666666666,
          0.6666666666666666
         ]
        },
        {
         "marker": {
          "color": "rgba(219, 64, 82, 0.6)",
          "line": {
           "color": "rgba(219, 64, 82, 1.0)",
           "width": 1
          }
         },
         "name": "with likes after unfollow",
         "orientation": "v",
         "text": "",
         "type": "bar",
         "uid": "c0ba001e-ae4a-4757-be3a-362a3212bddb",
         "x": [
          "id__1864",
          "id__936",
          "id__883",
          "id__197",
          "id__865",
          "id__2786",
          "id__1524",
          "id__2896",
          "id__2261",
          "id__399"
         ],
         "y": [
          0.689663288045993,
          0.688877313986827,
          0.6845460375879735,
          0.6845460375879735,
          0.6788773139868269,
          0.6788773139868269,
          0.6788773139868269,
          0.6760460375879734,
          0.6666666666666666,
          0.6666666666666666
         ]
        }
       ],
       "layout": {
        "legend": {
         "bgcolor": "#F5F6F9",
         "font": {
          "color": "#4D5663"
         }
        },
        "paper_bgcolor": "#F5F6F9",
        "plot_bgcolor": "#F5F6F9",
        "title": {
         "font": {
          "color": "#4D5663"
         },
         "text": "Final similarities with user id_3000"
        },
        "xaxis": {
         "gridcolor": "#E1E5ED",
         "showgrid": true,
         "tickfont": {
          "color": "#4D5663"
         },
         "title": {
          "font": {
           "color": "#4D5663"
          },
          "text": "Users"
         },
         "zerolinecolor": "#E1E5ED"
        },
        "yaxis": {
         "gridcolor": "#E1E5ED",
         "showgrid": true,
         "tickfont": {
          "color": "#4D5663"
         },
         "title": {
          "font": {
           "color": "#4D5663"
          },
          "text": "Similarity"
         },
         "zerolinecolor": "#E1E5ED"
        }
       }
      },
      "text/html": [
       "<div>\n",
       "        \n",
       "        \n",
       "            <div id=\"c4180626-a36a-40fd-bca8-465be2fb09d2\" class=\"plotly-graph-div\" style=\"height:525px; width:100%;\"></div>\n",
       "            <script type=\"text/javascript\">\n",
       "                require([\"plotly\"], function(Plotly) {\n",
       "                    window.PLOTLYENV=window.PLOTLYENV || {};\n",
       "                    window.PLOTLYENV.BASE_URL='https://plot.ly';\n",
       "                    \n",
       "                if (document.getElementById(\"c4180626-a36a-40fd-bca8-465be2fb09d2\")) {\n",
       "                    Plotly.newPlot(\n",
       "                        'c4180626-a36a-40fd-bca8-465be2fb09d2',\n",
       "                        [{\"marker\": {\"color\": \"rgba(255, 153, 51, 0.6)\", \"line\": {\"color\": \"rgba(255, 153, 51, 1.0)\", \"width\": 1}}, \"name\": \"original_similarity\", \"orientation\": \"v\", \"text\": \"\", \"type\": \"bar\", \"uid\": \"194120b5-6d47-4d1c-b779-62982ab6b308\", \"x\": [\"id__1864\", \"id__936\", \"id__883\", \"id__197\", \"id__865\", \"id__2786\", \"id__1524\", \"id__2896\", \"id__2261\", \"id__399\"], \"y\": [0.689663288045993, 0.6788773139868269, 0.6916071995784895, 0.6916071995784895, 0.6788773139868269, 0.6788773139868269, 0.6788773139868269, 0.6916071995784895, 0.6666666666666666, 0.6666666666666666]}, {\"marker\": {\"color\": \"rgba(55, 128, 191, 0.6)\", \"line\": {\"color\": \"rgba(55, 128, 191, 1.0)\", \"width\": 1}}, \"name\": \"after_follow_similarity\", \"orientation\": \"v\", \"text\": \"\", \"type\": \"bar\", \"uid\": \"38ccd410-f2f1-4eee-bfc1-1f88de6a9f25\", \"x\": [\"id__1864\", \"id__936\", \"id__883\", \"id__197\", \"id__865\", \"id__2786\", \"id__1524\", \"id__2896\", \"id__2261\", \"id__399\"], \"y\": [0.689663288045993, 0.6788773139868269, 0.7953482795152629, 0.7953482795152629, 0.6788773139868269, 0.6788773139868269, 0.6788773139868269, 0.7953482795152629, 0.6666666666666666, 0.6666666666666666]}, {\"marker\": {\"color\": \"rgba(50, 171, 96, 0.6)\", \"line\": {\"color\": \"rgba(50, 171, 96, 1.0)\", \"width\": 1}}, \"name\": \"with likes after follow\", \"orientation\": \"v\", \"text\": \"\", \"type\": \"bar\", \"uid\": \"a9a91925-7747-4eff-9eec-cf352b60888e\", \"x\": [\"id__1864\", \"id__936\", \"id__883\", \"id__197\", \"id__865\", \"id__2786\", \"id__1524\", \"id__2896\", \"id__2261\", \"id__399\"], \"y\": [0.689663288045993, 0.6788773139868269, 0.8053482795152629, 0.8053482795152629, 0.6788773139868269, 0.6788773139868269, 0.6788773139868269, 0.7953482795152629, 0.6666666666666666, 0.6666666666666666]}, {\"marker\": {\"color\": \"rgba(128, 0, 128, 0.6)\", \"line\": {\"color\": \"rgba(128, 0, 128, 1.0)\", \"width\": 1}}, \"name\": \"after_unfollow_similarity\", \"orientation\": \"v\", \"text\": \"\", \"type\": \"bar\", \"uid\": \"1d180e90-7f38-4d47-bf13-8e74c163c605\", \"x\": [\"id__1864\", \"id__936\", \"id__883\", \"id__197\", \"id__865\", \"id__2786\", \"id__1524\", \"id__2896\", \"id__2261\", \"id__399\"], \"y\": [0.689663288045993, 0.6788773139868269, 0.6845460375879735, 0.6845460375879735, 0.6788773139868269, 0.6788773139868269, 0.6788773139868269, 0.6760460375879734, 0.6666666666666666, 0.6666666666666666]}, {\"marker\": {\"color\": \"rgba(219, 64, 82, 0.6)\", \"line\": {\"color\": \"rgba(219, 64, 82, 1.0)\", \"width\": 1}}, \"name\": \"with likes after unfollow\", \"orientation\": \"v\", \"text\": \"\", \"type\": \"bar\", \"uid\": \"ed9adf4c-808a-42b8-897f-592a1b9af9de\", \"x\": [\"id__1864\", \"id__936\", \"id__883\", \"id__197\", \"id__865\", \"id__2786\", \"id__1524\", \"id__2896\", \"id__2261\", \"id__399\"], \"y\": [0.689663288045993, 0.688877313986827, 0.6845460375879735, 0.6845460375879735, 0.6788773139868269, 0.6788773139868269, 0.6788773139868269, 0.6760460375879734, 0.6666666666666666, 0.6666666666666666]}],\n",
       "                        {\"legend\": {\"bgcolor\": \"#F5F6F9\", \"font\": {\"color\": \"#4D5663\"}}, \"paper_bgcolor\": \"#F5F6F9\", \"plot_bgcolor\": \"#F5F6F9\", \"title\": {\"font\": {\"color\": \"#4D5663\"}, \"text\": \"Final similarities with user id_3000\"}, \"xaxis\": {\"gridcolor\": \"#E1E5ED\", \"showgrid\": true, \"tickfont\": {\"color\": \"#4D5663\"}, \"title\": {\"font\": {\"color\": \"#4D5663\"}, \"text\": \"Users\"}, \"zerolinecolor\": \"#E1E5ED\"}, \"yaxis\": {\"gridcolor\": \"#E1E5ED\", \"showgrid\": true, \"tickfont\": {\"color\": \"#4D5663\"}, \"title\": {\"font\": {\"color\": \"#4D5663\"}, \"text\": \"Similarity\"}, \"zerolinecolor\": \"#E1E5ED\"}},\n",
       "                        {\"showLink\": true, \"linkText\": \"Export to plot.ly\", \"plotlyServerURL\": \"https://plot.ly\", \"responsive\": true}\n",
       "                    ).then(function(){\n",
       "                            \n",
       "var gd = document.getElementById('c4180626-a36a-40fd-bca8-465be2fb09d2');\n",
       "var x = new MutationObserver(function (mutations, observer) {{\n",
       "        var display = window.getComputedStyle(gd).display;\n",
       "        if (!display || display === 'none') {{\n",
       "            console.log([gd, 'removed!']);\n",
       "            Plotly.purge(gd);\n",
       "            observer.disconnect();\n",
       "        }}\n",
       "}});\n",
       "\n",
       "// Listen for the removal of the full notebook cells\n",
       "var notebookContainer = gd.closest('#notebook-container');\n",
       "if (notebookContainer) {{\n",
       "    x.observe(notebookContainer, {childList: true});\n",
       "}}\n",
       "\n",
       "// Listen for the clearing of the current output cell\n",
       "var outputEl = gd.closest('.output');\n",
       "if (outputEl) {{\n",
       "    x.observe(outputEl, {childList: true});\n",
       "}}\n",
       "\n",
       "                        })\n",
       "                };\n",
       "                });\n",
       "            </script>\n",
       "        </div>"
      ]
     },
     "metadata": {},
     "output_type": "display_data"
    }
   ],
   "source": [
    "end_similarity.iplot(kind='bar', x='plan_ori_id', title='Final similarities with user id_3000', \n",
    "            yTitle='Similarity', xTitle='Users')"
   ]
  },
  {
   "cell_type": "code",
   "execution_count": 35,
   "metadata": {},
   "outputs": [
    {
     "data": {
      "image/png": "[encoded data removed]",
      "text/plain": [
       "<Figure size 864x864 with 1 Axes>"
      ]
     },
     "metadata": {
      "needs_background": "light"
     },
     "output_type": "display_data"
    }
   ],
   "source": [
    "fig=plt.figure(figsize=(12,12))\n",
    "ax = fig.add_subplot(111, polar=True)\n",
    "ax.plot(final['plan_ori_id'].head(6), final['original_similarity'].head(6), 'o-', linewidth=2)\n",
    "ax.fill(final['plan_ori_id'].head(6), final['original_similarity'].head(6), alpha=0.25)\n",
    "ax.set_title('Distances between users before')\n",
    "ax.grid(True)"
   ]
  },
  {
   "cell_type": "code",
   "execution_count": 36,
   "metadata": {},
   "outputs": [
    {
     "data": {
      "image/png": "[encoded data removed]",
      "text/plain": [
       "<Figure size 864x864 with 1 Axes>"
      ]
     },
     "metadata": {
      "needs_background": "light"
     },
     "output_type": "display_data"
    }
   ],
   "source": [
    "fig=plt.figure(figsize=(12,12))\n",
    "ax = fig.add_subplot(111, polar=True)\n",
    "ax.plot(final['plan_ori_id'].head(6), final['with likes after unfollow'].head(6), 'o-', linewidth=2)\n",
    "ax.fill(final['plan_ori_id'].head(6), final['with likes after unfollow'].head(6), alpha=0.25)\n",
    "ax.set_title('Distances between users after')\n",
    "ax.grid(True)"
   ]
  },
  {
   "cell_type": "code",
   "execution_count": null,
   "metadata": {},
   "outputs": [],
   "source": []
  }
 ],
 "metadata": {
  "kernelspec": {
   "display_name": "Python 3",
   "language": "python",
   "name": "python3"
  },
  "language_info": {
   "codemirror_mode": {
    "name": "ipython",
    "version": 3
   },
   "file_extension": ".py",
   "mimetype": "text/x-python",
   "name": "python",
   "nbconvert_exporter": "python",
   "pygments_lexer": "ipython3",
   "version": "3.7.2"
  }
 },
 "nbformat": 4,
 "nbformat_minor": 2
}
