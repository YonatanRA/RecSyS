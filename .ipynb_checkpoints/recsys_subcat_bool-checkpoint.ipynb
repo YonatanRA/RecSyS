{
 "cells": [
  {
   "cell_type": "code",
   "execution_count": 1,
   "metadata": {},
   "outputs": [],
   "source": [
    "# Demo recsys boolean (0-1)\n",
    "\n",
    "# import libraries\n",
    "\n",
    "import warnings\n",
    "warnings.filterwarnings(\"ignore\",category=DeprecationWarning)\n",
    "import pandas as pd\n",
    "import numpy as np\n",
    "import matplotlib.pyplot as plt\n",
    "from scipy.spatial.distance import pdist, squareform"
   ]
  },
  {
   "cell_type": "code",
   "execution_count": 2,
   "metadata": {},
   "outputs": [],
   "source": [
    "# names and tags\n",
    "\n",
    "names=['id__'+str(i) for i in range(3000)]\n",
    "\n",
    "tags=['r&b', 'rock', 'jazz', 'electronic', 'pop', 'indie',\n",
    "      'cinema', 'theater', 'beers', 'wine', 'party', 'trips',\n",
    "      'running', 'gym', 'golf', 'basket', 'football', 'yoga']\n",
    "\n",
    "\n",
    "sub_tags_elec=['techno', 'electro_funky', 'house', 'minimal', 'dubstep', 'DandB']"
   ]
  },
  {
   "cell_type": "code",
   "execution_count": 3,
   "metadata": {},
   "outputs": [],
   "source": [
    "# synth data\n",
    "\n",
    "data=np.random.randint(0, 2, (len(names), len(tags)))\n",
    "sub_data=np.random.randint(0, 1, (len(names), len(sub_tags_elec)))\n",
    "\n",
    "s_data=pd.DataFrame(data, columns=tags, index=names)\n",
    "s_sub_data=pd.DataFrame(sub_data, columns=sub_tags_elec, index=names)\n",
    "\n",
    "s_data=pd.concat([s_data, s_sub_data], axis=1)\n",
    "\n",
    "s_data['plan']=np.random.randint(0, 2, (len(names), 1))\n",
    "s_data['id']=[i for i in range(len(names))]\n",
    "\n",
    "\n",
    "for i in range(len(s_data)):\n",
    "    if s_data.electronic[i]!=0:\n",
    "        s_data.techno[i]=np.random.randint(0, 2)\n",
    "        s_data.electro_funky[i]=np.random.randint(0, 2)\n",
    "        s_data.house[i]=np.random.randint(0, 2)\n",
    "        s_data.minimal[i]=np.random.randint(0, 2)\n",
    "        s_data.dubstep[i]=np.random.randint(0, 2)\n",
    "        s_data.DandB[i]=np.random.randint(0, 2)"
   ]
  },
  {
   "cell_type": "code",
   "execution_count": 4,
   "metadata": {},
   "outputs": [],
   "source": [
    "#  weighing\n",
    "\n",
    "for e in tags:\n",
    "    s_data[e]=s_data[e]*2/3\n",
    "\n",
    "for e in sub_tags_elec:\n",
    "    s_data[e]=s_data[e]*1/3"
   ]
  },
  {
   "cell_type": "code",
   "execution_count": 5,
   "metadata": {},
   "outputs": [],
   "source": [
    "# new user function\n",
    "\n",
    "\n",
    "def new_user(df, rb, rock, jazz, electronic, pop, indie, cinema, theater, beers, wine,\n",
    "             party, trips, running, gym, golf, basket, football, yoga,\n",
    "             techno, electro_funky, house, minimal, dubstep, DandB, metric):\n",
    "    \n",
    "    \n",
    "    tags=['r&b', 'rock', 'jazz', 'electronic', 'pop', 'indie',\n",
    "          'cinema', 'theater', 'beers', 'wine', 'party', 'trips',\n",
    "          'running', 'gym', 'golf', 'basket', 'football', 'yoga',\n",
    "          'techno', 'electro_funky', 'house', 'minimal', 'dubstep', 'DandB']\n",
    "    \n",
    "    \n",
    "    \n",
    "    rating=[rb, rock, jazz, electronic, pop, indie, cinema, theater, beers, wine,\n",
    "            party, trips, running, gym, golf, basket, football, yoga, \n",
    "            techno, electro_funky, house, minimal, dubstep, DandB]\n",
    "    \n",
    "    \n",
    "    n_user={k:v for k, v in list(zip(tags, rating))}\n",
    "    n_user['id']='id__'+str(len(s_data.id)+1)\n",
    "    n_user['plan']=0\n",
    "    \n",
    "    names=list(df.index)\n",
    "    df=df.append(n_user, ignore_index=True)\n",
    "    names.append(n_user['id'])\n",
    "    df.index=names\n",
    "    \n",
    "    similar = pd.DataFrame(1/(1 + squareform(pdist(df.iloc[:, :-2], metric))), \n",
    "                         index=df.index, columns=df.index)\n",
    "\n",
    "    similarities = similar[n_user['id']].sort_values(ascending=False)\n",
    "    \n",
    "    closer_users=[]\n",
    "    for e in similarities.index:\n",
    "        if df.ix[e].plan==1:\n",
    "            closer_users.append(e)\n",
    "    \n",
    "    return df.ix[closer_users[:10]]"
   ]
  },
  {
   "cell_type": "code",
   "execution_count": null,
   "metadata": {},
   "outputs": [],
   "source": [
    "print('Rate r&b :')\n",
    "rb = int(input())*2/3"
   ]
  },
  {
   "cell_type": "code",
   "execution_count": null,
   "metadata": {},
   "outputs": [],
   "source": [
    "print('Rate rock :')\n",
    "rock = int(input())*2/3  "
   ]
  },
  {
   "cell_type": "code",
   "execution_count": null,
   "metadata": {},
   "outputs": [],
   "source": [
    "print('Rate jazz :')\n",
    "jazz = int(input())*2/3"
   ]
  },
  {
   "cell_type": "code",
   "execution_count": null,
   "metadata": {},
   "outputs": [],
   "source": [
    "print('Rate electronic :')\n",
    "electronic = int(input())*2/3  "
   ]
  },
  {
   "cell_type": "code",
   "execution_count": null,
   "metadata": {},
   "outputs": [],
   "source": [
    "if electronic!=0:\n",
    "    print('Rate techno :')\n",
    "    techno = int(input())*1/3\n",
    "    \n",
    "    print('Rate electro-funky :')\n",
    "    electro_funky = int(input())*1/3\n",
    " \n",
    "    print('Rate house :')\n",
    "    house = int(input())*1/3\n",
    " \n",
    "    print('Rate minimal :')\n",
    "    minimal = int(input())*1/3\n",
    " \n",
    "    print('Rate dubstep :')\n",
    "    dubstep = int(input())*1/3\n",
    " \n",
    "    print('Rate D&B :')\n",
    "    DandB = int(input())*1/3\n",
    "\n",
    "\n",
    "else:\n",
    "    techno = 0\n",
    "    electro_funky = 0\n",
    "    house = 0\n",
    "    minimal = 0\n",
    "    dubstep = 0\n",
    "    DandB = 0"
   ]
  },
  {
   "cell_type": "code",
   "execution_count": null,
   "metadata": {},
   "outputs": [],
   "source": [
    "print('Rate pop from :')\n",
    "pop = int(input())*2/3"
   ]
  },
  {
   "cell_type": "code",
   "execution_count": null,
   "metadata": {},
   "outputs": [],
   "source": [
    "print('Rate indie :')\n",
    "indie = int(input())*2/3"
   ]
  },
  {
   "cell_type": "code",
   "execution_count": null,
   "metadata": {},
   "outputs": [],
   "source": [
    "print('Rate cinema :')\n",
    "cinema = int(input())*2/3"
   ]
  },
  {
   "cell_type": "code",
   "execution_count": null,
   "metadata": {},
   "outputs": [],
   "source": [
    "print('Rate theater :')\n",
    "theater = int(input())*2/3"
   ]
  },
  {
   "cell_type": "code",
   "execution_count": null,
   "metadata": {},
   "outputs": [],
   "source": [
    "print('Rate beers :')\n",
    "beers = int(input())*2/3"
   ]
  },
  {
   "cell_type": "code",
   "execution_count": null,
   "metadata": {},
   "outputs": [],
   "source": [
    "print('Rate wine :')\n",
    "wine = int(input())*2/3"
   ]
  },
  {
   "cell_type": "code",
   "execution_count": null,
   "metadata": {},
   "outputs": [],
   "source": [
    "print('Rate party :')\n",
    "party = int(input())*2/3"
   ]
  },
  {
   "cell_type": "code",
   "execution_count": null,
   "metadata": {},
   "outputs": [],
   "source": [
    "print('Rate trips :')\n",
    "trips = int(input())*2/3"
   ]
  },
  {
   "cell_type": "code",
   "execution_count": null,
   "metadata": {},
   "outputs": [],
   "source": []
  },
  {
   "cell_type": "code",
   "execution_count": null,
   "metadata": {},
   "outputs": [],
   "source": []
  },
  {
   "cell_type": "code",
   "execution_count": null,
   "metadata": {},
   "outputs": [],
   "source": []
  },
  {
   "cell_type": "code",
   "execution_count": null,
   "metadata": {},
   "outputs": [],
   "source": []
  }
 ],
 "metadata": {
  "kernelspec": {
   "display_name": "Python 3",
   "language": "python",
   "name": "python3"
  },
  "language_info": {
   "codemirror_mode": {
    "name": "ipython",
    "version": 3
   },
   "file_extension": ".py",
   "mimetype": "text/x-python",
   "name": "python",
   "nbconvert_exporter": "python",
   "pygments_lexer": "ipython3",
   "version": "3.7.2"
  }
 },
 "nbformat": 4,
 "nbformat_minor": 2
}
