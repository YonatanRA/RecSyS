{
 "cells": [
  {
   "cell_type": "code",
   "execution_count": 1,
   "metadata": {},
   "outputs": [
    {
     "data": {
      "text/html": [
       "        <script type=\"text/javascript\">\n",
       "        window.PlotlyConfig = {MathJaxConfig: 'local'};\n",
       "        if (window.MathJax) {MathJax.Hub.Config({SVG: {font: \"STIX-Web\"}});}\n",
       "        if (typeof require !== 'undefined') {\n",
       "        require.undef(\"plotly\");\n",
       "        requirejs.config({\n",
       "            paths: {\n",
       "                'plotly': ['https://cdn.plot.ly/plotly-latest.min']\n",
       "            }\n",
       "        });\n",
       "        require(['plotly'], function(Plotly) {\n",
       "            window._Plotly = Plotly;\n",
       "        });\n",
       "        }\n",
       "        </script>\n",
       "        "
      ]
     },
     "metadata": {},
     "output_type": "display_data"
    }
   ],
   "source": [
    "# Demo recsys boolean (0-1)\n",
    "\n",
    "# import libraries\n",
    "\n",
    "\n",
    "%matplotlib inline\n",
    "import seaborn as sns\n",
    "import warnings\n",
    "warnings.filterwarnings(\"ignore\",category=DeprecationWarning)\n",
    "import pandas as pd\n",
    "import numpy as np\n",
    "import matplotlib.pyplot as plt\n",
    "from scipy.spatial.distance import pdist, squareform\n",
    "from operator import itemgetter\n",
    "import plotly.plotly as py\n",
    "import cufflinks as cf\n",
    "cf.go_offline()"
   ]
  },
  {
   "cell_type": "code",
   "execution_count": 2,
   "metadata": {},
   "outputs": [],
   "source": [
    "# names and tags\n",
    "\n",
    "names=['id__'+str(i) for i in range(3000)]\n",
    "\n",
    "tags=['r&b', 'rock', 'jazz', 'electronic', 'pop', 'indie',\n",
    "      'cinema', 'theater', 'beers', 'wine', 'party', 'trips',\n",
    "      'running', 'gym', 'golf', 'basket', 'football', 'yoga']\n",
    "\n",
    "\n",
    "sub_tags_elec=['techno', 'electro_funky', 'house', 'minimal', 'dubstep', 'DandB']"
   ]
  },
  {
   "cell_type": "code",
   "execution_count": 3,
   "metadata": {},
   "outputs": [],
   "source": [
    "# synth data\n",
    "\n",
    "data=np.random.randint(0, 2, (len(names), len(tags)))*0.8\n",
    "sub_data=np.random.randint(0, 1, (len(names), len(sub_tags_elec)))\n",
    "\n",
    "s_data=pd.DataFrame(data, columns=tags, index=names)\n",
    "s_sub_data=pd.DataFrame(sub_data, columns=sub_tags_elec, index=names)\n",
    "\n",
    "s_data=pd.concat([s_data, s_sub_data], axis=1)\n",
    "\n",
    "s_data['plan']=np.random.randint(0, 2, (len(names), 1))\n",
    "s_data['id']=[i for i in range(len(names))]\n",
    "\n",
    "\n",
    "for i in range(len(s_data)):\n",
    "    if s_data.electronic[i]!=0:\n",
    "        s_data.techno[i]=np.random.randint(0, 2)\n",
    "        s_data.electro_funky[i]=np.random.randint(0, 2)\n",
    "        s_data.house[i]=np.random.randint(0, 2)\n",
    "        s_data.minimal[i]=np.random.randint(0, 2)\n",
    "        s_data.dubstep[i]=np.random.randint(0, 2)\n",
    "        s_data.DandB[i]=np.random.randint(0, 2)"
   ]
  },
  {
   "cell_type": "code",
   "execution_count": 4,
   "metadata": {},
   "outputs": [
    {
     "data": {
      "text/html": [
       "<div>\n",
       "<style scoped>\n",
       "    .dataframe tbody tr th:only-of-type {\n",
       "        vertical-align: middle;\n",
       "    }\n",
       "\n",
       "    .dataframe tbody tr th {\n",
       "        vertical-align: top;\n",
       "    }\n",
       "\n",
       "    .dataframe thead th {\n",
       "        text-align: right;\n",
       "    }\n",
       "</style>\n",
       "<table border=\"1\" class=\"dataframe\">\n",
       "  <thead>\n",
       "    <tr style=\"text-align: right;\">\n",
       "      <th></th>\n",
       "      <th>r&amp;b</th>\n",
       "      <th>rock</th>\n",
       "      <th>jazz</th>\n",
       "      <th>electronic</th>\n",
       "      <th>pop</th>\n",
       "      <th>indie</th>\n",
       "      <th>cinema</th>\n",
       "      <th>theater</th>\n",
       "      <th>beers</th>\n",
       "      <th>wine</th>\n",
       "      <th>...</th>\n",
       "      <th>football</th>\n",
       "      <th>yoga</th>\n",
       "      <th>techno</th>\n",
       "      <th>electro_funky</th>\n",
       "      <th>house</th>\n",
       "      <th>minimal</th>\n",
       "      <th>dubstep</th>\n",
       "      <th>DandB</th>\n",
       "      <th>plan</th>\n",
       "      <th>id</th>\n",
       "    </tr>\n",
       "  </thead>\n",
       "  <tbody>\n",
       "    <tr>\n",
       "      <th>id__2995</th>\n",
       "      <td>0.533333</td>\n",
       "      <td>0.533333</td>\n",
       "      <td>0.000000</td>\n",
       "      <td>0.000000</td>\n",
       "      <td>0.533333</td>\n",
       "      <td>0.533333</td>\n",
       "      <td>0.533333</td>\n",
       "      <td>0.533333</td>\n",
       "      <td>0.533333</td>\n",
       "      <td>0.000000</td>\n",
       "      <td>...</td>\n",
       "      <td>0.533333</td>\n",
       "      <td>0.000000</td>\n",
       "      <td>0.000000</td>\n",
       "      <td>0.000000</td>\n",
       "      <td>0.000000</td>\n",
       "      <td>0.000000</td>\n",
       "      <td>0.000000</td>\n",
       "      <td>0.000000</td>\n",
       "      <td>1</td>\n",
       "      <td>2995</td>\n",
       "    </tr>\n",
       "    <tr>\n",
       "      <th>id__2996</th>\n",
       "      <td>0.533333</td>\n",
       "      <td>0.533333</td>\n",
       "      <td>0.533333</td>\n",
       "      <td>0.533333</td>\n",
       "      <td>0.000000</td>\n",
       "      <td>0.000000</td>\n",
       "      <td>0.000000</td>\n",
       "      <td>0.000000</td>\n",
       "      <td>0.533333</td>\n",
       "      <td>0.000000</td>\n",
       "      <td>...</td>\n",
       "      <td>0.533333</td>\n",
       "      <td>0.533333</td>\n",
       "      <td>0.000000</td>\n",
       "      <td>0.333333</td>\n",
       "      <td>0.000000</td>\n",
       "      <td>0.000000</td>\n",
       "      <td>0.333333</td>\n",
       "      <td>0.333333</td>\n",
       "      <td>0</td>\n",
       "      <td>2996</td>\n",
       "    </tr>\n",
       "    <tr>\n",
       "      <th>id__2997</th>\n",
       "      <td>0.000000</td>\n",
       "      <td>0.000000</td>\n",
       "      <td>0.000000</td>\n",
       "      <td>0.533333</td>\n",
       "      <td>0.000000</td>\n",
       "      <td>0.533333</td>\n",
       "      <td>0.533333</td>\n",
       "      <td>0.000000</td>\n",
       "      <td>0.000000</td>\n",
       "      <td>0.533333</td>\n",
       "      <td>...</td>\n",
       "      <td>0.000000</td>\n",
       "      <td>0.533333</td>\n",
       "      <td>0.333333</td>\n",
       "      <td>0.000000</td>\n",
       "      <td>0.333333</td>\n",
       "      <td>0.333333</td>\n",
       "      <td>0.000000</td>\n",
       "      <td>0.333333</td>\n",
       "      <td>1</td>\n",
       "      <td>2997</td>\n",
       "    </tr>\n",
       "    <tr>\n",
       "      <th>id__2998</th>\n",
       "      <td>0.000000</td>\n",
       "      <td>0.000000</td>\n",
       "      <td>0.533333</td>\n",
       "      <td>0.000000</td>\n",
       "      <td>0.533333</td>\n",
       "      <td>0.000000</td>\n",
       "      <td>0.000000</td>\n",
       "      <td>0.533333</td>\n",
       "      <td>0.533333</td>\n",
       "      <td>0.533333</td>\n",
       "      <td>...</td>\n",
       "      <td>0.000000</td>\n",
       "      <td>0.000000</td>\n",
       "      <td>0.000000</td>\n",
       "      <td>0.000000</td>\n",
       "      <td>0.000000</td>\n",
       "      <td>0.000000</td>\n",
       "      <td>0.000000</td>\n",
       "      <td>0.000000</td>\n",
       "      <td>1</td>\n",
       "      <td>2998</td>\n",
       "    </tr>\n",
       "    <tr>\n",
       "      <th>id__2999</th>\n",
       "      <td>0.533333</td>\n",
       "      <td>0.000000</td>\n",
       "      <td>0.533333</td>\n",
       "      <td>0.000000</td>\n",
       "      <td>0.533333</td>\n",
       "      <td>0.000000</td>\n",
       "      <td>0.533333</td>\n",
       "      <td>0.000000</td>\n",
       "      <td>0.000000</td>\n",
       "      <td>0.000000</td>\n",
       "      <td>...</td>\n",
       "      <td>0.533333</td>\n",
       "      <td>0.533333</td>\n",
       "      <td>0.000000</td>\n",
       "      <td>0.000000</td>\n",
       "      <td>0.000000</td>\n",
       "      <td>0.000000</td>\n",
       "      <td>0.000000</td>\n",
       "      <td>0.000000</td>\n",
       "      <td>0</td>\n",
       "      <td>2999</td>\n",
       "    </tr>\n",
       "  </tbody>\n",
       "</table>\n",
       "<p>5 rows × 26 columns</p>\n",
       "</div>"
      ],
      "text/plain": [
       "               r&b      rock      jazz  electronic       pop     indie  \\\n",
       "id__2995  0.533333  0.533333  0.000000    0.000000  0.533333  0.533333   \n",
       "id__2996  0.533333  0.533333  0.533333    0.533333  0.000000  0.000000   \n",
       "id__2997  0.000000  0.000000  0.000000    0.533333  0.000000  0.533333   \n",
       "id__2998  0.000000  0.000000  0.533333    0.000000  0.533333  0.000000   \n",
       "id__2999  0.533333  0.000000  0.533333    0.000000  0.533333  0.000000   \n",
       "\n",
       "            cinema   theater     beers      wine  ...  football      yoga  \\\n",
       "id__2995  0.533333  0.533333  0.533333  0.000000  ...  0.533333  0.000000   \n",
       "id__2996  0.000000  0.000000  0.533333  0.000000  ...  0.533333  0.533333   \n",
       "id__2997  0.533333  0.000000  0.000000  0.533333  ...  0.000000  0.533333   \n",
       "id__2998  0.000000  0.533333  0.533333  0.533333  ...  0.000000  0.000000   \n",
       "id__2999  0.533333  0.000000  0.000000  0.000000  ...  0.533333  0.533333   \n",
       "\n",
       "            techno  electro_funky     house   minimal   dubstep     DandB  \\\n",
       "id__2995  0.000000       0.000000  0.000000  0.000000  0.000000  0.000000   \n",
       "id__2996  0.000000       0.333333  0.000000  0.000000  0.333333  0.333333   \n",
       "id__2997  0.333333       0.000000  0.333333  0.333333  0.000000  0.333333   \n",
       "id__2998  0.000000       0.000000  0.000000  0.000000  0.000000  0.000000   \n",
       "id__2999  0.000000       0.000000  0.000000  0.000000  0.000000  0.000000   \n",
       "\n",
       "          plan    id  \n",
       "id__2995     1  2995  \n",
       "id__2996     0  2996  \n",
       "id__2997     1  2997  \n",
       "id__2998     1  2998  \n",
       "id__2999     0  2999  \n",
       "\n",
       "[5 rows x 26 columns]"
      ]
     },
     "metadata": {},
     "output_type": "display_data"
    }
   ],
   "source": [
    "#  weighing\n",
    "\n",
    "for e in tags:\n",
    "    s_data[e]=s_data[e]*2/3\n",
    "\n",
    "for e in sub_tags_elec:\n",
    "    s_data[e]=s_data[e]*1/3\n",
    "    \n",
    "display(s_data.tail())"
   ]
  },
  {
   "cell_type": "code",
   "execution_count": 5,
   "metadata": {},
   "outputs": [],
   "source": [
    "# new user function\n",
    "\n",
    "\n",
    "def new_user(df, rb, rock, jazz, electronic, pop, indie, cinema, theater, beers, wine,\n",
    "             party, trips, running, gym, golf, basket, football, yoga,\n",
    "             techno, electro_funky, house, minimal, dubstep, DandB, metric):\n",
    "    \n",
    "    \n",
    "    tags=['r&b', 'rock', 'jazz', 'electronic', 'pop', 'indie',\n",
    "          'cinema', 'theater', 'beers', 'wine', 'party', 'trips',\n",
    "          'running', 'gym', 'golf', 'basket', 'football', 'yoga',\n",
    "          'techno', 'electro_funky', 'house', 'minimal', 'dubstep', 'DandB']\n",
    "    \n",
    "    \n",
    "    \n",
    "    rating=[rb, rock, jazz, electronic, pop, indie, cinema, theater, beers, wine,\n",
    "            party, trips, running, gym, golf, basket, football, yoga, \n",
    "            techno, electro_funky, house, minimal, dubstep, DandB]\n",
    "    \n",
    "    \n",
    "    n_user={k:v for k, v in list(zip(tags, rating))}\n",
    "    n_user['id']=len(s_data.id)\n",
    "    n_user['plan']=0\n",
    "    \n",
    "    names=list(df.index)\n",
    "    df=df.append(n_user, ignore_index=True)\n",
    "    names.append(n_user['id'])\n",
    "    df.index=names\n",
    "    \n",
    "    similar = pd.DataFrame(0.8/(1 + squareform(pdist(df.iloc[:, :-2], metric))), \n",
    "                         index=df.index, columns=df.index)\n",
    "\n",
    "    similarities = similar[n_user['id']].sort_values(ascending=False)\n",
    "    \n",
    "    closer_users=[]\n",
    "    for e in similarities.index:\n",
    "        if df.ix[e].plan==1:\n",
    "            closer_users.append(e)\n",
    "    \n",
    "    return list(map(list, zip(closer_users[:10], similarities.ix[closer_users[:10]])))#df.ix[closer_users[:10]][['id', 'plan']]"
   ]
  },
  {
   "cell_type": "code",
   "execution_count": 6,
   "metadata": {},
   "outputs": [
    {
     "name": "stdout",
     "output_type": "stream",
     "text": [
      "Rate r&b :\n",
      "1\n"
     ]
    }
   ],
   "source": [
    "print('Rate r&b :')\n",
    "rb = int(input())*2/3"
   ]
  },
  {
   "cell_type": "code",
   "execution_count": 7,
   "metadata": {},
   "outputs": [
    {
     "name": "stdout",
     "output_type": "stream",
     "text": [
      "Rate rock :\n",
      "0\n"
     ]
    }
   ],
   "source": [
    "print('Rate rock :')\n",
    "rock = int(input())*2/3  "
   ]
  },
  {
   "cell_type": "code",
   "execution_count": 8,
   "metadata": {},
   "outputs": [
    {
     "name": "stdout",
     "output_type": "stream",
     "text": [
      "Rate jazz :\n",
      "1\n"
     ]
    }
   ],
   "source": [
    "print('Rate jazz :')\n",
    "jazz = int(input())*2/3 "
   ]
  },
  {
   "cell_type": "code",
   "execution_count": 9,
   "metadata": {},
   "outputs": [
    {
     "name": "stdout",
     "output_type": "stream",
     "text": [
      "Rate electronic :\n",
      "1\n"
     ]
    }
   ],
   "source": [
    "print('Rate electronic :')\n",
    "electronic = int(input())*2/3  "
   ]
  },
  {
   "cell_type": "code",
   "execution_count": 10,
   "metadata": {},
   "outputs": [
    {
     "name": "stdout",
     "output_type": "stream",
     "text": [
      "Rate techno :\n",
      "1\n",
      "Rate electro-funky :\n",
      "1\n",
      "Rate house :\n",
      "0\n",
      "Rate minimal :\n",
      "1\n",
      "Rate dubstep :\n",
      "0\n",
      "Rate D&B :\n",
      "1\n"
     ]
    }
   ],
   "source": [
    "if electronic!=0:\n",
    "    print('Rate techno :')\n",
    "    techno = int(input())*1/3\n",
    "    \n",
    "    print('Rate electro-funky :')\n",
    "    electro_funky = int(input())*1/3\n",
    " \n",
    "    print('Rate house :')\n",
    "    house = int(input())*1/3\n",
    " \n",
    "    print('Rate minimal :')\n",
    "    minimal = int(input())*1/3\n",
    " \n",
    "    print('Rate dubstep :')\n",
    "    dubstep = int(input())*1/3\n",
    " \n",
    "    print('Rate D&B :')\n",
    "    DandB = int(input())*1/3\n",
    "\n",
    "\n",
    "else:\n",
    "    techno = 0\n",
    "    electro_funky = 0\n",
    "    house = 0\n",
    "    minimal = 0\n",
    "    dubstep = 0\n",
    "    DandB = 0"
   ]
  },
  {
   "cell_type": "code",
   "execution_count": 11,
   "metadata": {},
   "outputs": [
    {
     "name": "stdout",
     "output_type": "stream",
     "text": [
      "Rate pop from :\n",
      "0\n"
     ]
    }
   ],
   "source": [
    "print('Rate pop from :')\n",
    "pop = int(input())*2/3 "
   ]
  },
  {
   "cell_type": "code",
   "execution_count": 12,
   "metadata": {},
   "outputs": [
    {
     "name": "stdout",
     "output_type": "stream",
     "text": [
      "Rate indie :\n",
      "0\n"
     ]
    }
   ],
   "source": [
    "print('Rate indie :')\n",
    "indie = int(input())*2/3 "
   ]
  },
  {
   "cell_type": "code",
   "execution_count": 13,
   "metadata": {},
   "outputs": [
    {
     "name": "stdout",
     "output_type": "stream",
     "text": [
      "Rate cinema :\n",
      "1\n"
     ]
    }
   ],
   "source": [
    "print('Rate cinema :')\n",
    "cinema = int(input())*2/3 "
   ]
  },
  {
   "cell_type": "code",
   "execution_count": 14,
   "metadata": {},
   "outputs": [
    {
     "name": "stdout",
     "output_type": "stream",
     "text": [
      "Rate theater :\n",
      "1\n"
     ]
    }
   ],
   "source": [
    "print('Rate theater :')\n",
    "theater = int(input())*2/3 "
   ]
  },
  {
   "cell_type": "code",
   "execution_count": 15,
   "metadata": {},
   "outputs": [
    {
     "name": "stdout",
     "output_type": "stream",
     "text": [
      "Rate beers :\n",
      "1\n"
     ]
    }
   ],
   "source": [
    "print('Rate beers :')\n",
    "beers = int(input())*2/3 "
   ]
  },
  {
   "cell_type": "code",
   "execution_count": 16,
   "metadata": {},
   "outputs": [
    {
     "name": "stdout",
     "output_type": "stream",
     "text": [
      "Rate wine :\n",
      "1\n"
     ]
    }
   ],
   "source": [
    "print('Rate wine :')\n",
    "wine = int(input())*2/3 "
   ]
  },
  {
   "cell_type": "code",
   "execution_count": 17,
   "metadata": {},
   "outputs": [
    {
     "name": "stdout",
     "output_type": "stream",
     "text": [
      "Rate party :\n",
      "0\n"
     ]
    }
   ],
   "source": [
    "print('Rate party :')\n",
    "party = int(input())*2/3 "
   ]
  },
  {
   "cell_type": "code",
   "execution_count": 18,
   "metadata": {},
   "outputs": [
    {
     "name": "stdout",
     "output_type": "stream",
     "text": [
      "Rate trips :\n",
      "1\n"
     ]
    }
   ],
   "source": [
    "print('Rate trips :')\n",
    "trips = int(input())*2/3 "
   ]
  },
  {
   "cell_type": "code",
   "execution_count": 19,
   "metadata": {},
   "outputs": [
    {
     "name": "stdout",
     "output_type": "stream",
     "text": [
      "Rate running :\n",
      "0\n"
     ]
    }
   ],
   "source": [
    "print('Rate running :')\n",
    "running = int(input())*2/3 "
   ]
  },
  {
   "cell_type": "code",
   "execution_count": 20,
   "metadata": {},
   "outputs": [
    {
     "name": "stdout",
     "output_type": "stream",
     "text": [
      "Rate gym :\n",
      "1\n"
     ]
    }
   ],
   "source": [
    "print('Rate gym :')\n",
    "gym = int(input())*2/3 "
   ]
  },
  {
   "cell_type": "code",
   "execution_count": 21,
   "metadata": {},
   "outputs": [
    {
     "name": "stdout",
     "output_type": "stream",
     "text": [
      "Rate golf :\n",
      "0\n"
     ]
    }
   ],
   "source": [
    "print('Rate golf :')\n",
    "golf = int(input())*2/3 "
   ]
  },
  {
   "cell_type": "code",
   "execution_count": 22,
   "metadata": {},
   "outputs": [
    {
     "name": "stdout",
     "output_type": "stream",
     "text": [
      "Rate basket :\n",
      "0\n"
     ]
    }
   ],
   "source": [
    "print('Rate basket :')\n",
    "basket = int(input())*2/3 "
   ]
  },
  {
   "cell_type": "code",
   "execution_count": 23,
   "metadata": {},
   "outputs": [
    {
     "name": "stdout",
     "output_type": "stream",
     "text": [
      "Rate football :\n",
      "0\n"
     ]
    }
   ],
   "source": [
    "print('Rate football :')\n",
    "football = int(input())*2/3 "
   ]
  },
  {
   "cell_type": "code",
   "execution_count": 24,
   "metadata": {},
   "outputs": [
    {
     "name": "stdout",
     "output_type": "stream",
     "text": [
      "Rate yoga :\n",
      "1\n"
     ]
    }
   ],
   "source": [
    "print('Rate yoga :')\n",
    "yoga = int(input())*2/3 "
   ]
  },
  {
   "cell_type": "code",
   "execution_count": 25,
   "metadata": {},
   "outputs": [],
   "source": [
    "# metrics for squareform\n",
    "\n",
    "'''\n",
    "'euclidean', 'minkowski', 'cityblock', 'seuclidean', 'sqeuclidean', 'cosine', 'correlation'\n",
    "\n",
    "'hamming', 'jaccard', 'chebyshev', 'canberra', 'braycurtis', 'mahalanobis', 'yule'\n",
    "\n",
    "'matching', 'dice', 'kulsinski', 'rogerstanimoto', 'russellrao', 'sokalmichener'\n",
    "\n",
    "'sokalsneath', 'wminkowski'\n",
    "'''\n",
    "\n",
    "\n",
    "metric='cosine' "
   ]
  },
  {
   "cell_type": "code",
   "execution_count": 26,
   "metadata": {},
   "outputs": [
    {
     "name": "stdout",
     "output_type": "stream",
     "text": [
      "Similar users with plan : \n",
      "id__2964\n",
      "id__1378\n",
      "id__2850\n",
      "id__2497\n",
      "id__1152\n",
      "id__2953\n",
      "id__2824\n",
      "id__1293\n",
      "id__2113\n",
      "id__2088\n"
     ]
    }
   ],
   "source": [
    "# plans (users)\n",
    "\n",
    "plans=new_user(s_data, rb, rock, jazz, electronic, pop, indie, cinema, theater, beers, wine,\n",
    "               party, trips, running, gym, golf, basket, football, yoga, \n",
    "               techno, electro_funky, house, minimal, dubstep, DandB, metric)\n",
    "\n",
    "\n",
    "print ('Similar users with plan : ')\n",
    "for e in plans:\n",
    "    print (e[0])\n",
    "    \n",
    "final=pd.DataFrame()\n",
    "final['plan_ori_id']=[e[0] for e in plans]\n",
    "final['original_similarity']=[e[1] for e in plans]"
   ]
  },
  {
   "cell_type": "code",
   "execution_count": 27,
   "metadata": {},
   "outputs": [
    {
     "name": "stdout",
     "output_type": "stream",
     "text": [
      "\n",
      "Follow user id__2964?\n",
      "1\n",
      "\n",
      "Follow user id__1378?\n",
      "1\n",
      "\n",
      "Follow user id__2850?\n",
      "0\n",
      "\n",
      "Follow user id__2497?\n",
      "0\n",
      "\n",
      "Follow user id__1152?\n",
      "0\n",
      "\n",
      "Follow user id__2953?\n",
      "0\n",
      "\n",
      "Follow user id__2824?\n",
      "0\n",
      "\n",
      "Follow user id__1293?\n",
      "1\n",
      "\n",
      "Follow user id__2113?\n",
      "1\n",
      "\n",
      "Follow user id__2088?\n",
      "1\n",
      "\n"
     ]
    }
   ],
   "source": [
    "# follow-unfollow users\n",
    "foll=plans\n",
    "def follow(_id, b, foll):\n",
    "    if b==0: return foll\n",
    "    elif b==1:\n",
    "        for e in foll:\n",
    "            if _id==e[0]:\n",
    "                e[1]+=e[1]*0.15\n",
    "        for e in foll:\n",
    "            if e[1]>1:e[1]=1\n",
    "        return foll#sorted(foll, key=itemgetter(1), reverse=True)\n",
    "\n",
    "print ()\n",
    "for e in foll:\n",
    "    print ('Follow user {}?'.format(e[0]))\n",
    "    b=int(input())\n",
    "    f=follow(e[0], b, foll)\n",
    "    #print (f)\n",
    "    print()\n",
    "#final['follow_id']=[e[0] for e in f]\n",
    "final['after_follow_similarity']=[e[1] for e in f]\n",
    "\n"
   ]
  },
  {
   "cell_type": "code",
   "execution_count": 28,
   "metadata": {},
   "outputs": [
    {
     "name": "stdout",
     "output_type": "stream",
     "text": [
      "\n",
      "Do you like the user id__2964 plan?\n",
      "0\n",
      "\n",
      "Do you like the user id__1378 plan?\n",
      "0\n",
      "\n",
      "Do you like the user id__2850 plan?\n",
      "0\n",
      "\n",
      "Do you like the user id__2497 plan?\n",
      "0\n",
      "\n",
      "Do you like the user id__1152 plan?\n",
      "0\n",
      "\n",
      "Do you like the user id__2953 plan?\n",
      "1\n",
      "\n",
      "Do you like the user id__2824 plan?\n",
      "1\n",
      "\n",
      "Do you like the user id__1293 plan?\n",
      "1\n",
      "\n",
      "Do you like the user id__2113 plan?\n",
      "1\n",
      "\n",
      "Do you like the user id__2088 plan?\n",
      "1\n",
      "\n"
     ]
    }
   ],
   "source": [
    "w_likes=foll\n",
    "def like(_id, b, serie_like):\n",
    "    if b==0: return serie_like\n",
    "    elif b==1:\n",
    "        for e in serie_like:\n",
    "            if _id==e[0]:\n",
    "                e[1]+=0.01\n",
    "        for e in serie_like:\n",
    "            if e[1]>1:e[1]=1\n",
    "        return serie_like\n",
    "\n",
    "print ()\n",
    "for e in w_likes:\n",
    "    print ('Do you like the user {} plan?'.format(e[0]))\n",
    "    b=int(input())\n",
    "    l=like(e[0], b, w_likes)\n",
    "    print()\n",
    "final['with likes after follow']=[e[1] for e in f]"
   ]
  },
  {
   "cell_type": "code",
   "execution_count": 29,
   "metadata": {},
   "outputs": [
    {
     "name": "stdout",
     "output_type": "stream",
     "text": [
      "\n",
      "Unfollow user id__2964?\n",
      "0\n",
      "\n",
      "Unfollow user id__1378?\n",
      "1\n",
      "\n",
      "Unfollow user id__2850?\n",
      "1\n",
      "\n",
      "Unfollow user id__2497?\n",
      "1\n",
      "\n",
      "Unfollow user id__1152?\n",
      "1\n",
      "\n",
      "Unfollow user id__2953?\n",
      "0\n",
      "\n",
      "Unfollow user id__2824?\n",
      "0\n",
      "\n",
      "Unfollow user id__1293?\n",
      "0\n",
      "\n",
      "Unfollow user id__2113?\n",
      "0\n",
      "\n",
      "Unfollow user id__2088?\n",
      "0\n",
      "\n"
     ]
    },
    {
     "data": {
      "text/html": [
       "<div>\n",
       "<style scoped>\n",
       "    .dataframe tbody tr th:only-of-type {\n",
       "        vertical-align: middle;\n",
       "    }\n",
       "\n",
       "    .dataframe tbody tr th {\n",
       "        vertical-align: top;\n",
       "    }\n",
       "\n",
       "    .dataframe thead th {\n",
       "        text-align: right;\n",
       "    }\n",
       "</style>\n",
       "<table border=\"1\" class=\"dataframe\">\n",
       "  <thead>\n",
       "    <tr style=\"text-align: right;\">\n",
       "      <th></th>\n",
       "      <th>plan_ori_id</th>\n",
       "      <th>original_similarity</th>\n",
       "      <th>after_follow_similarity</th>\n",
       "      <th>with likes after follow</th>\n",
       "      <th>after_unfollow_similarity</th>\n",
       "    </tr>\n",
       "  </thead>\n",
       "  <tbody>\n",
       "    <tr>\n",
       "      <th>0</th>\n",
       "      <td>id__2964</td>\n",
       "      <td>0.685235</td>\n",
       "      <td>0.788021</td>\n",
       "      <td>0.788021</td>\n",
       "      <td>0.788021</td>\n",
       "    </tr>\n",
       "    <tr>\n",
       "      <th>1</th>\n",
       "      <td>id__1378</td>\n",
       "      <td>0.676923</td>\n",
       "      <td>0.778462</td>\n",
       "      <td>0.778462</td>\n",
       "      <td>0.661692</td>\n",
       "    </tr>\n",
       "    <tr>\n",
       "      <th>2</th>\n",
       "      <td>id__2850</td>\n",
       "      <td>0.676842</td>\n",
       "      <td>0.676842</td>\n",
       "      <td>0.676842</td>\n",
       "      <td>0.575315</td>\n",
       "    </tr>\n",
       "    <tr>\n",
       "      <th>3</th>\n",
       "      <td>id__2497</td>\n",
       "      <td>0.675324</td>\n",
       "      <td>0.675324</td>\n",
       "      <td>0.675324</td>\n",
       "      <td>0.574026</td>\n",
       "    </tr>\n",
       "    <tr>\n",
       "      <th>4</th>\n",
       "      <td>id__1152</td>\n",
       "      <td>0.670143</td>\n",
       "      <td>0.670143</td>\n",
       "      <td>0.670143</td>\n",
       "      <td>0.569622</td>\n",
       "    </tr>\n",
       "    <tr>\n",
       "      <th>5</th>\n",
       "      <td>id__2953</td>\n",
       "      <td>0.666453</td>\n",
       "      <td>0.666453</td>\n",
       "      <td>0.676453</td>\n",
       "      <td>0.676453</td>\n",
       "    </tr>\n",
       "    <tr>\n",
       "      <th>6</th>\n",
       "      <td>id__2824</td>\n",
       "      <td>0.662255</td>\n",
       "      <td>0.662255</td>\n",
       "      <td>0.672255</td>\n",
       "      <td>0.672255</td>\n",
       "    </tr>\n",
       "    <tr>\n",
       "      <th>7</th>\n",
       "      <td>id__1293</td>\n",
       "      <td>0.661288</td>\n",
       "      <td>0.760481</td>\n",
       "      <td>0.770481</td>\n",
       "      <td>0.770481</td>\n",
       "    </tr>\n",
       "    <tr>\n",
       "      <th>8</th>\n",
       "      <td>id__2113</td>\n",
       "      <td>0.658892</td>\n",
       "      <td>0.757726</td>\n",
       "      <td>0.767726</td>\n",
       "      <td>0.767726</td>\n",
       "    </tr>\n",
       "    <tr>\n",
       "      <th>9</th>\n",
       "      <td>id__2088</td>\n",
       "      <td>0.658528</td>\n",
       "      <td>0.757307</td>\n",
       "      <td>0.767307</td>\n",
       "      <td>0.767307</td>\n",
       "    </tr>\n",
       "  </tbody>\n",
       "</table>\n",
       "</div>"
      ],
      "text/plain": [
       "  plan_ori_id  original_similarity  after_follow_similarity  \\\n",
       "0    id__2964             0.685235                 0.788021   \n",
       "1    id__1378             0.676923                 0.778462   \n",
       "2    id__2850             0.676842                 0.676842   \n",
       "3    id__2497             0.675324                 0.675324   \n",
       "4    id__1152             0.670143                 0.670143   \n",
       "5    id__2953             0.666453                 0.666453   \n",
       "6    id__2824             0.662255                 0.662255   \n",
       "7    id__1293             0.661288                 0.760481   \n",
       "8    id__2113             0.658892                 0.757726   \n",
       "9    id__2088             0.658528                 0.757307   \n",
       "\n",
       "   with likes after follow  after_unfollow_similarity  \n",
       "0                 0.788021                   0.788021  \n",
       "1                 0.778462                   0.661692  \n",
       "2                 0.676842                   0.575315  \n",
       "3                 0.675324                   0.574026  \n",
       "4                 0.670143                   0.569622  \n",
       "5                 0.676453                   0.676453  \n",
       "6                 0.672255                   0.672255  \n",
       "7                 0.770481                   0.770481  \n",
       "8                 0.767726                   0.767726  \n",
       "9                 0.767307                   0.767307  "
      ]
     },
     "metadata": {},
     "output_type": "display_data"
    }
   ],
   "source": [
    "unfoll=w_likes\n",
    "def unfollow(_id, b, unfoll):\n",
    "    if b==0: return unfoll\n",
    "    elif b==1:\n",
    "        for e in unfoll:\n",
    "            if _id==e[0]:\n",
    "                e[1]-=e[1]*0.15\n",
    "        for e in unfoll:\n",
    "            if e[1]<0:e[1]=0\n",
    "        return unfoll#sorted(unfoll, key=itemgetter(1), reverse=True)\n",
    "\n",
    "print ()\n",
    "for e in unfoll:\n",
    "    print ('Unfollow user {}?'.format(e[0]))\n",
    "    b=int(input())\n",
    "    u=unfollow(e[0], b, unfoll)\n",
    "    #print (u)\n",
    "    print()\n",
    "#final['unfollow_id']=[e[0] for e in u]\n",
    "final['after_unfollow_similarity']=[e[1] for e in u]\n",
    "display (final)"
   ]
  },
  {
   "cell_type": "code",
   "execution_count": 30,
   "metadata": {},
   "outputs": [
    {
     "name": "stdout",
     "output_type": "stream",
     "text": [
      "\n",
      "Do you like the user id__2964 plan?\n",
      "0\n",
      "\n",
      "Do you like the user id__1378 plan?\n",
      "0\n",
      "\n",
      "Do you like the user id__2850 plan?\n",
      "0\n",
      "\n",
      "Do you like the user id__2497 plan?\n",
      "1\n",
      "\n",
      "Do you like the user id__1152 plan?\n",
      "0\n",
      "\n",
      "Do you like the user id__2953 plan?\n",
      "1\n",
      "\n",
      "Do you like the user id__2824 plan?\n",
      "0\n",
      "\n",
      "Do you like the user id__1293 plan?\n",
      "1\n",
      "\n",
      "Do you like the user id__2113 plan?\n",
      "0\n",
      "\n",
      "Do you like the user id__2088 plan?\n",
      "1\n",
      "\n"
     ]
    }
   ],
   "source": [
    "w_likes_un=unfoll\n",
    "def like_un(_id, b, serie_like):\n",
    "    if b==0: return serie_like\n",
    "    elif b==1:\n",
    "        for e in serie_like:\n",
    "            if _id==e[0]:\n",
    "                e[1]+=0.01\n",
    "        for e in serie_like:\n",
    "            if e[1]>1:e[1]=1\n",
    "        return serie_like\n",
    "\n",
    "print ()\n",
    "for e in w_likes_un:\n",
    "    print ('Do you like the user {} plan?'.format(e[0]))\n",
    "    b=int(input())\n",
    "    l=like_un(e[0], b, w_likes_un)\n",
    "    print()\n",
    "final['with likes after unfollow']=[e[1] for e in f]"
   ]
  },
  {
   "cell_type": "code",
   "execution_count": 31,
   "metadata": {
    "scrolled": false
   },
   "outputs": [
    {
     "data": {
      "application/vnd.plotly.v1+json": {
       "config": {
        "linkText": "Export to plot.ly",
        "plotlyServerURL": "https://plot.ly",
        "responsive": true,
        "showLink": true
       },
       "data": [
        {
         "marker": {
          "color": "rgba(255, 153, 51, 0.6)",
          "line": {
           "color": "rgba(255, 153, 51, 1.0)",
           "width": 1
          }
         },
         "name": "original_similarity",
         "orientation": "v",
         "text": "",
         "type": "bar",
         "uid": "0af2fae3-2e34-44b2-8598-ddffc015564e",
         "x": [
          "id__2964",
          "id__1378",
          "id__2850",
          "id__2497",
          "id__1152",
          "id__2953",
          "id__2824",
          "id__1293",
          "id__2113",
          "id__2088"
         ],
         "y": [
          0.6852352786904865,
          0.6769230769230768,
          0.6768415508498086,
          0.6753243980223269,
          0.6701434686160846,
          0.66645250170191,
          0.6622546761369229,
          0.6612875162924945,
          0.6588924092595669,
          0.6585275033964851
         ]
        },
        {
         "marker": {
          "color": "rgba(55, 128, 191, 0.6)",
          "line": {
           "color": "rgba(55, 128, 191, 1.0)",
           "width": 1
          }
         },
         "name": "after_follow_similarity",
         "orientation": "v",
         "text": "",
         "type": "bar",
         "uid": "ace650cc-bc1e-4d18-897d-413dadd64df0",
         "x": [
          "id__2964",
          "id__1378",
          "id__2850",
          "id__2497",
          "id__1152",
          "id__2953",
          "id__2824",
          "id__1293",
          "id__2113",
          "id__2088"
         ],
         "y": [
          0.7880205704940595,
          0.7784615384615383,
          0.6768415508498086,
          0.6753243980223269,
          0.6701434686160846,
          0.66645250170191,
          0.6622546761369229,
          0.7604806437363687,
          0.757726270648502,
          0.7573066289059579
         ]
        },
        {
         "marker": {
          "color": "rgba(50, 171, 96, 0.6)",
          "line": {
           "color": "rgba(50, 171, 96, 1.0)",
           "width": 1
          }
         },
         "name": "with likes after follow",
         "orientation": "v",
         "text": "",
         "type": "bar",
         "uid": "7a28816b-1748-4e16-ada5-b3619bdfde7e",
         "x": [
          "id__2964",
          "id__1378",
          "id__2850",
          "id__2497",
          "id__1152",
          "id__2953",
          "id__2824",
          "id__1293",
          "id__2113",
          "id__2088"
         ],
         "y": [
          0.7880205704940595,
          0.7784615384615383,
          0.6768415508498086,
          0.6753243980223269,
          0.6701434686160846,
          0.67645250170191,
          0.6722546761369229,
          0.7704806437363687,
          0.767726270648502,
          0.7673066289059579
         ]
        },
        {
         "marker": {
          "color": "rgba(128, 0, 128, 0.6)",
          "line": {
           "color": "rgba(128, 0, 128, 1.0)",
           "width": 1
          }
         },
         "name": "after_unfollow_similarity",
         "orientation": "v",
         "text": "",
         "type": "bar",
         "uid": "4c38c157-b008-4553-918f-c3bdc94f42b9",
         "x": [
          "id__2964",
          "id__1378",
          "id__2850",
          "id__2497",
          "id__1152",
          "id__2953",
          "id__2824",
          "id__1293",
          "id__2113",
          "id__2088"
         ],
         "y": [
          0.7880205704940595,
          0.6616923076923076,
          0.5753153182223373,
          0.5740257383189779,
          0.569621948323672,
          0.67645250170191,
          0.6722546761369229,
          0.7704806437363687,
          0.767726270648502,
          0.7673066289059579
         ]
        },
        {
         "marker": {
          "color": "rgba(219, 64, 82, 0.6)",
          "line": {
           "color": "rgba(219, 64, 82, 1.0)",
           "width": 1
          }
         },
         "name": "with likes after unfollow",
         "orientation": "v",
         "text": "",
         "type": "bar",
         "uid": "92738c6c-fdf2-48b0-af14-b456557ca790",
         "x": [
          "id__2964",
          "id__1378",
          "id__2850",
          "id__2497",
          "id__1152",
          "id__2953",
          "id__2824",
          "id__1293",
          "id__2113",
          "id__2088"
         ],
         "y": [
          0.7880205704940595,
          0.6616923076923076,
          0.5753153182223373,
          0.5840257383189779,
          0.569621948323672,
          0.68645250170191,
          0.6722546761369229,
          0.7804806437363687,
          0.767726270648502,
          0.7773066289059579
         ]
        }
       ],
       "layout": {
        "legend": {
         "bgcolor": "#F5F6F9",
         "font": {
          "color": "#4D5663"
         }
        },
        "paper_bgcolor": "#F5F6F9",
        "plot_bgcolor": "#F5F6F9",
        "title": {
         "font": {
          "color": "#4D5663"
         },
         "text": "Similarities with user id_3000"
        },
        "xaxis": {
         "gridcolor": "#E1E5ED",
         "showgrid": true,
         "tickfont": {
          "color": "#4D5663"
         },
         "title": {
          "font": {
           "color": "#4D5663"
          },
          "text": "Users"
         },
         "zerolinecolor": "#E1E5ED"
        },
        "yaxis": {
         "gridcolor": "#E1E5ED",
         "showgrid": true,
         "tickfont": {
          "color": "#4D5663"
         },
         "title": {
          "font": {
           "color": "#4D5663"
          },
          "text": "Similarity"
         },
         "zerolinecolor": "#E1E5ED"
        }
       }
      },
      "text/html": [
       "<div>\n",
       "        \n",
       "        \n",
       "            <div id=\"2fd8795d-b698-4125-ac4c-f6d0322c1f57\" class=\"plotly-graph-div\" style=\"height:525px; width:100%;\"></div>\n",
       "            <script type=\"text/javascript\">\n",
       "                require([\"plotly\"], function(Plotly) {\n",
       "                    window.PLOTLYENV=window.PLOTLYENV || {};\n",
       "                    window.PLOTLYENV.BASE_URL='https://plot.ly';\n",
       "                    \n",
       "                if (document.getElementById(\"2fd8795d-b698-4125-ac4c-f6d0322c1f57\")) {\n",
       "                    Plotly.newPlot(\n",
       "                        '2fd8795d-b698-4125-ac4c-f6d0322c1f57',\n",
       "                        [{\"marker\": {\"color\": \"rgba(255, 153, 51, 0.6)\", \"line\": {\"color\": \"rgba(255, 153, 51, 1.0)\", \"width\": 1}}, \"name\": \"original_similarity\", \"orientation\": \"v\", \"text\": \"\", \"type\": \"bar\", \"uid\": \"36eb0d03-e6b5-4608-a0e8-94250d7183bb\", \"x\": [\"id__2964\", \"id__1378\", \"id__2850\", \"id__2497\", \"id__1152\", \"id__2953\", \"id__2824\", \"id__1293\", \"id__2113\", \"id__2088\"], \"y\": [0.6852352786904865, 0.6769230769230768, 0.6768415508498086, 0.6753243980223269, 0.6701434686160846, 0.66645250170191, 0.6622546761369229, 0.6612875162924945, 0.6588924092595669, 0.6585275033964851]}, {\"marker\": {\"color\": \"rgba(55, 128, 191, 0.6)\", \"line\": {\"color\": \"rgba(55, 128, 191, 1.0)\", \"width\": 1}}, \"name\": \"after_follow_similarity\", \"orientation\": \"v\", \"text\": \"\", \"type\": \"bar\", \"uid\": \"2d71b2df-96be-40d6-82ce-01de4df0533e\", \"x\": [\"id__2964\", \"id__1378\", \"id__2850\", \"id__2497\", \"id__1152\", \"id__2953\", \"id__2824\", \"id__1293\", \"id__2113\", \"id__2088\"], \"y\": [0.7880205704940595, 0.7784615384615383, 0.6768415508498086, 0.6753243980223269, 0.6701434686160846, 0.66645250170191, 0.6622546761369229, 0.7604806437363687, 0.757726270648502, 0.7573066289059579]}, {\"marker\": {\"color\": \"rgba(50, 171, 96, 0.6)\", \"line\": {\"color\": \"rgba(50, 171, 96, 1.0)\", \"width\": 1}}, \"name\": \"with likes after follow\", \"orientation\": \"v\", \"text\": \"\", \"type\": \"bar\", \"uid\": \"99a8d57f-fd21-4bd6-ad9a-d92dcf291252\", \"x\": [\"id__2964\", \"id__1378\", \"id__2850\", \"id__2497\", \"id__1152\", \"id__2953\", \"id__2824\", \"id__1293\", \"id__2113\", \"id__2088\"], \"y\": [0.7880205704940595, 0.7784615384615383, 0.6768415508498086, 0.6753243980223269, 0.6701434686160846, 0.67645250170191, 0.6722546761369229, 0.7704806437363687, 0.767726270648502, 0.7673066289059579]}, {\"marker\": {\"color\": \"rgba(128, 0, 128, 0.6)\", \"line\": {\"color\": \"rgba(128, 0, 128, 1.0)\", \"width\": 1}}, \"name\": \"after_unfollow_similarity\", \"orientation\": \"v\", \"text\": \"\", \"type\": \"bar\", \"uid\": \"eb1f34c7-3f75-4145-a123-dc4b4e45e14b\", \"x\": [\"id__2964\", \"id__1378\", \"id__2850\", \"id__2497\", \"id__1152\", \"id__2953\", \"id__2824\", \"id__1293\", \"id__2113\", \"id__2088\"], \"y\": [0.7880205704940595, 0.6616923076923076, 0.5753153182223373, 0.5740257383189779, 0.569621948323672, 0.67645250170191, 0.6722546761369229, 0.7704806437363687, 0.767726270648502, 0.7673066289059579]}, {\"marker\": {\"color\": \"rgba(219, 64, 82, 0.6)\", \"line\": {\"color\": \"rgba(219, 64, 82, 1.0)\", \"width\": 1}}, \"name\": \"with likes after unfollow\", \"orientation\": \"v\", \"text\": \"\", \"type\": \"bar\", \"uid\": \"fca65df5-367c-4a01-b934-58393838a990\", \"x\": [\"id__2964\", \"id__1378\", \"id__2850\", \"id__2497\", \"id__1152\", \"id__2953\", \"id__2824\", \"id__1293\", \"id__2113\", \"id__2088\"], \"y\": [0.7880205704940595, 0.6616923076923076, 0.5753153182223373, 0.5840257383189779, 0.569621948323672, 0.68645250170191, 0.6722546761369229, 0.7804806437363687, 0.767726270648502, 0.7773066289059579]}],\n",
       "                        {\"legend\": {\"bgcolor\": \"#F5F6F9\", \"font\": {\"color\": \"#4D5663\"}}, \"paper_bgcolor\": \"#F5F6F9\", \"plot_bgcolor\": \"#F5F6F9\", \"title\": {\"font\": {\"color\": \"#4D5663\"}, \"text\": \"Similarities with user id_3000\"}, \"xaxis\": {\"gridcolor\": \"#E1E5ED\", \"showgrid\": true, \"tickfont\": {\"color\": \"#4D5663\"}, \"title\": {\"font\": {\"color\": \"#4D5663\"}, \"text\": \"Users\"}, \"zerolinecolor\": \"#E1E5ED\"}, \"yaxis\": {\"gridcolor\": \"#E1E5ED\", \"showgrid\": true, \"tickfont\": {\"color\": \"#4D5663\"}, \"title\": {\"font\": {\"color\": \"#4D5663\"}, \"text\": \"Similarity\"}, \"zerolinecolor\": \"#E1E5ED\"}},\n",
       "                        {\"showLink\": true, \"linkText\": \"Export to plot.ly\", \"plotlyServerURL\": \"https://plot.ly\", \"responsive\": true}\n",
       "                    ).then(function(){\n",
       "                            \n",
       "var gd = document.getElementById('2fd8795d-b698-4125-ac4c-f6d0322c1f57');\n",
       "var x = new MutationObserver(function (mutations, observer) {{\n",
       "        var display = window.getComputedStyle(gd).display;\n",
       "        if (!display || display === 'none') {{\n",
       "            console.log([gd, 'removed!']);\n",
       "            Plotly.purge(gd);\n",
       "            observer.disconnect();\n",
       "        }}\n",
       "}});\n",
       "\n",
       "// Listen for the removal of the full notebook cells\n",
       "var notebookContainer = gd.closest('#notebook-container');\n",
       "if (notebookContainer) {{\n",
       "    x.observe(notebookContainer, {childList: true});\n",
       "}}\n",
       "\n",
       "// Listen for the clearing of the current output cell\n",
       "var outputEl = gd.closest('.output');\n",
       "if (outputEl) {{\n",
       "    x.observe(outputEl, {childList: true});\n",
       "}}\n",
       "\n",
       "                        })\n",
       "                };\n",
       "                });\n",
       "            </script>\n",
       "        </div>"
      ]
     },
     "metadata": {},
     "output_type": "display_data"
    }
   ],
   "source": [
    "final.iplot(kind='bar', x='plan_ori_id', title='Similarities with user id_3000', \n",
    "            yTitle='Similarity', xTitle='Users')"
   ]
  },
  {
   "cell_type": "code",
   "execution_count": 32,
   "metadata": {},
   "outputs": [],
   "source": [
    "#final.head()"
   ]
  },
  {
   "cell_type": "code",
   "execution_count": 33,
   "metadata": {},
   "outputs": [],
   "source": [
    "end_similarity=final.sort_values(by=['with likes after unfollow'], ascending=False)\n",
    "#end_similarity"
   ]
  },
  {
   "cell_type": "code",
   "execution_count": 34,
   "metadata": {},
   "outputs": [
    {
     "data": {
      "application/vnd.plotly.v1+json": {
       "config": {
        "linkText": "Export to plot.ly",
        "plotlyServerURL": "https://plot.ly",
        "responsive": true,
        "showLink": true
       },
       "data": [
        {
         "marker": {
          "color": "rgba(255, 153, 51, 0.6)",
          "line": {
           "color": "rgba(255, 153, 51, 1.0)",
           "width": 1
          }
         },
         "name": "original_similarity",
         "orientation": "v",
         "text": "",
         "type": "bar",
         "uid": "2cc8fb18-190d-40ce-a278-49f2e8db4124",
         "x": [
          "id__2964",
          "id__1293",
          "id__2088",
          "id__2113",
          "id__2953",
          "id__2824",
          "id__1378",
          "id__2497",
          "id__2850",
          "id__1152"
         ],
         "y": [
          0.6852352786904865,
          0.6612875162924945,
          0.6585275033964851,
          0.6588924092595669,
          0.66645250170191,
          0.6622546761369229,
          0.6769230769230768,
          0.6753243980223269,
          0.6768415508498086,
          0.6701434686160846
         ]
        },
        {
         "marker": {
          "color": "rgba(55, 128, 191, 0.6)",
          "line": {
           "color": "rgba(55, 128, 191, 1.0)",
           "width": 1
          }
         },
         "name": "after_follow_similarity",
         "orientation": "v",
         "text": "",
         "type": "bar",
         "uid": "e668f336-86e3-4d3d-a6f7-b9b5758d012e",
         "x": [
          "id__2964",
          "id__1293",
          "id__2088",
          "id__2113",
          "id__2953",
          "id__2824",
          "id__1378",
          "id__2497",
          "id__2850",
          "id__1152"
         ],
         "y": [
          0.7880205704940595,
          0.7604806437363687,
          0.7573066289059579,
          0.757726270648502,
          0.66645250170191,
          0.6622546761369229,
          0.7784615384615383,
          0.6753243980223269,
          0.6768415508498086,
          0.6701434686160846
         ]
        },
        {
         "marker": {
          "color": "rgba(50, 171, 96, 0.6)",
          "line": {
           "color": "rgba(50, 171, 96, 1.0)",
           "width": 1
          }
         },
         "name": "with likes after follow",
         "orientation": "v",
         "text": "",
         "type": "bar",
         "uid": "5ba7c237-bdbb-44ce-afad-30e6d03cb8a7",
         "x": [
          "id__2964",
          "id__1293",
          "id__2088",
          "id__2113",
          "id__2953",
          "id__2824",
          "id__1378",
          "id__2497",
          "id__2850",
          "id__1152"
         ],
         "y": [
          0.7880205704940595,
          0.7704806437363687,
          0.7673066289059579,
          0.767726270648502,
          0.67645250170191,
          0.6722546761369229,
          0.7784615384615383,
          0.6753243980223269,
          0.6768415508498086,
          0.6701434686160846
         ]
        },
        {
         "marker": {
          "color": "rgba(128, 0, 128, 0.6)",
          "line": {
           "color": "rgba(128, 0, 128, 1.0)",
           "width": 1
          }
         },
         "name": "after_unfollow_similarity",
         "orientation": "v",
         "text": "",
         "type": "bar",
         "uid": "9e8b036f-f195-4827-9467-726c918191ae",
         "x": [
          "id__2964",
          "id__1293",
          "id__2088",
          "id__2113",
          "id__2953",
          "id__2824",
          "id__1378",
          "id__2497",
          "id__2850",
          "id__1152"
         ],
         "y": [
          0.7880205704940595,
          0.7704806437363687,
          0.7673066289059579,
          0.767726270648502,
          0.67645250170191,
          0.6722546761369229,
          0.6616923076923076,
          0.5740257383189779,
          0.5753153182223373,
          0.569621948323672
         ]
        },
        {
         "marker": {
          "color": "rgba(219, 64, 82, 0.6)",
          "line": {
           "color": "rgba(219, 64, 82, 1.0)",
           "width": 1
          }
         },
         "name": "with likes after unfollow",
         "orientation": "v",
         "text": "",
         "type": "bar",
         "uid": "214a1183-945d-4ff3-ab39-0aa5570a3746",
         "x": [
          "id__2964",
          "id__1293",
          "id__2088",
          "id__2113",
          "id__2953",
          "id__2824",
          "id__1378",
          "id__2497",
          "id__2850",
          "id__1152"
         ],
         "y": [
          0.7880205704940595,
          0.7804806437363687,
          0.7773066289059579,
          0.767726270648502,
          0.68645250170191,
          0.6722546761369229,
          0.6616923076923076,
          0.5840257383189779,
          0.5753153182223373,
          0.569621948323672
         ]
        }
       ],
       "layout": {
        "legend": {
         "bgcolor": "#F5F6F9",
         "font": {
          "color": "#4D5663"
         }
        },
        "paper_bgcolor": "#F5F6F9",
        "plot_bgcolor": "#F5F6F9",
        "title": {
         "font": {
          "color": "#4D5663"
         },
         "text": "Final similarities with user id_3000"
        },
        "xaxis": {
         "gridcolor": "#E1E5ED",
         "showgrid": true,
         "tickfont": {
          "color": "#4D5663"
         },
         "title": {
          "font": {
           "color": "#4D5663"
          },
          "text": "Users"
         },
         "zerolinecolor": "#E1E5ED"
        },
        "yaxis": {
         "gridcolor": "#E1E5ED",
         "showgrid": true,
         "tickfont": {
          "color": "#4D5663"
         },
         "title": {
          "font": {
           "color": "#4D5663"
          },
          "text": "Similarity"
         },
         "zerolinecolor": "#E1E5ED"
        }
       }
      },
      "text/html": [
       "<div>\n",
       "        \n",
       "        \n",
       "            <div id=\"83ec7153-255c-4f39-89bf-418834da4ff7\" class=\"plotly-graph-div\" style=\"height:525px; width:100%;\"></div>\n",
       "            <script type=\"text/javascript\">\n",
       "                require([\"plotly\"], function(Plotly) {\n",
       "                    window.PLOTLYENV=window.PLOTLYENV || {};\n",
       "                    window.PLOTLYENV.BASE_URL='https://plot.ly';\n",
       "                    \n",
       "                if (document.getElementById(\"83ec7153-255c-4f39-89bf-418834da4ff7\")) {\n",
       "                    Plotly.newPlot(\n",
       "                        '83ec7153-255c-4f39-89bf-418834da4ff7',\n",
       "                        [{\"marker\": {\"color\": \"rgba(255, 153, 51, 0.6)\", \"line\": {\"color\": \"rgba(255, 153, 51, 1.0)\", \"width\": 1}}, \"name\": \"original_similarity\", \"orientation\": \"v\", \"text\": \"\", \"type\": \"bar\", \"uid\": \"801525e8-9e9f-432d-a146-767fcc3982db\", \"x\": [\"id__2964\", \"id__1293\", \"id__2088\", \"id__2113\", \"id__2953\", \"id__2824\", \"id__1378\", \"id__2497\", \"id__2850\", \"id__1152\"], \"y\": [0.6852352786904865, 0.6612875162924945, 0.6585275033964851, 0.6588924092595669, 0.66645250170191, 0.6622546761369229, 0.6769230769230768, 0.6753243980223269, 0.6768415508498086, 0.6701434686160846]}, {\"marker\": {\"color\": \"rgba(55, 128, 191, 0.6)\", \"line\": {\"color\": \"rgba(55, 128, 191, 1.0)\", \"width\": 1}}, \"name\": \"after_follow_similarity\", \"orientation\": \"v\", \"text\": \"\", \"type\": \"bar\", \"uid\": \"3872d0a4-26a0-499f-a994-296eb772bf5d\", \"x\": [\"id__2964\", \"id__1293\", \"id__2088\", \"id__2113\", \"id__2953\", \"id__2824\", \"id__1378\", \"id__2497\", \"id__2850\", \"id__1152\"], \"y\": [0.7880205704940595, 0.7604806437363687, 0.7573066289059579, 0.757726270648502, 0.66645250170191, 0.6622546761369229, 0.7784615384615383, 0.6753243980223269, 0.6768415508498086, 0.6701434686160846]}, {\"marker\": {\"color\": \"rgba(50, 171, 96, 0.6)\", \"line\": {\"color\": \"rgba(50, 171, 96, 1.0)\", \"width\": 1}}, \"name\": \"with likes after follow\", \"orientation\": \"v\", \"text\": \"\", \"type\": \"bar\", \"uid\": \"3e9fd3e1-f714-4448-b672-a90ea27556c1\", \"x\": [\"id__2964\", \"id__1293\", \"id__2088\", \"id__2113\", \"id__2953\", \"id__2824\", \"id__1378\", \"id__2497\", \"id__2850\", \"id__1152\"], \"y\": [0.7880205704940595, 0.7704806437363687, 0.7673066289059579, 0.767726270648502, 0.67645250170191, 0.6722546761369229, 0.7784615384615383, 0.6753243980223269, 0.6768415508498086, 0.6701434686160846]}, {\"marker\": {\"color\": \"rgba(128, 0, 128, 0.6)\", \"line\": {\"color\": \"rgba(128, 0, 128, 1.0)\", \"width\": 1}}, \"name\": \"after_unfollow_similarity\", \"orientation\": \"v\", \"text\": \"\", \"type\": \"bar\", \"uid\": \"2b0ec414-f58b-473b-bf46-444eb42c487f\", \"x\": [\"id__2964\", \"id__1293\", \"id__2088\", \"id__2113\", \"id__2953\", \"id__2824\", \"id__1378\", \"id__2497\", \"id__2850\", \"id__1152\"], \"y\": [0.7880205704940595, 0.7704806437363687, 0.7673066289059579, 0.767726270648502, 0.67645250170191, 0.6722546761369229, 0.6616923076923076, 0.5740257383189779, 0.5753153182223373, 0.569621948323672]}, {\"marker\": {\"color\": \"rgba(219, 64, 82, 0.6)\", \"line\": {\"color\": \"rgba(219, 64, 82, 1.0)\", \"width\": 1}}, \"name\": \"with likes after unfollow\", \"orientation\": \"v\", \"text\": \"\", \"type\": \"bar\", \"uid\": \"48fe8fa3-a24b-47ec-90a6-6d785e9784dc\", \"x\": [\"id__2964\", \"id__1293\", \"id__2088\", \"id__2113\", \"id__2953\", \"id__2824\", \"id__1378\", \"id__2497\", \"id__2850\", \"id__1152\"], \"y\": [0.7880205704940595, 0.7804806437363687, 0.7773066289059579, 0.767726270648502, 0.68645250170191, 0.6722546761369229, 0.6616923076923076, 0.5840257383189779, 0.5753153182223373, 0.569621948323672]}],\n",
       "                        {\"legend\": {\"bgcolor\": \"#F5F6F9\", \"font\": {\"color\": \"#4D5663\"}}, \"paper_bgcolor\": \"#F5F6F9\", \"plot_bgcolor\": \"#F5F6F9\", \"title\": {\"font\": {\"color\": \"#4D5663\"}, \"text\": \"Final similarities with user id_3000\"}, \"xaxis\": {\"gridcolor\": \"#E1E5ED\", \"showgrid\": true, \"tickfont\": {\"color\": \"#4D5663\"}, \"title\": {\"font\": {\"color\": \"#4D5663\"}, \"text\": \"Users\"}, \"zerolinecolor\": \"#E1E5ED\"}, \"yaxis\": {\"gridcolor\": \"#E1E5ED\", \"showgrid\": true, \"tickfont\": {\"color\": \"#4D5663\"}, \"title\": {\"font\": {\"color\": \"#4D5663\"}, \"text\": \"Similarity\"}, \"zerolinecolor\": \"#E1E5ED\"}},\n",
       "                        {\"showLink\": true, \"linkText\": \"Export to plot.ly\", \"plotlyServerURL\": \"https://plot.ly\", \"responsive\": true}\n",
       "                    ).then(function(){\n",
       "                            \n",
       "var gd = document.getElementById('83ec7153-255c-4f39-89bf-418834da4ff7');\n",
       "var x = new MutationObserver(function (mutations, observer) {{\n",
       "        var display = window.getComputedStyle(gd).display;\n",
       "        if (!display || display === 'none') {{\n",
       "            console.log([gd, 'removed!']);\n",
       "            Plotly.purge(gd);\n",
       "            observer.disconnect();\n",
       "        }}\n",
       "}});\n",
       "\n",
       "// Listen for the removal of the full notebook cells\n",
       "var notebookContainer = gd.closest('#notebook-container');\n",
       "if (notebookContainer) {{\n",
       "    x.observe(notebookContainer, {childList: true});\n",
       "}}\n",
       "\n",
       "// Listen for the clearing of the current output cell\n",
       "var outputEl = gd.closest('.output');\n",
       "if (outputEl) {{\n",
       "    x.observe(outputEl, {childList: true});\n",
       "}}\n",
       "\n",
       "                        })\n",
       "                };\n",
       "                });\n",
       "            </script>\n",
       "        </div>"
      ]
     },
     "metadata": {},
     "output_type": "display_data"
    }
   ],
   "source": [
    "end_similarity.iplot(kind='bar', x='plan_ori_id', title='Final similarities with user id_3000', \n",
    "            yTitle='Similarity', xTitle='Users')"
   ]
  },
  {
   "cell_type": "code",
   "execution_count": 35,
   "metadata": {},
   "outputs": [
    {
     "data": {
      "image/png": "[encoded data removed]",
      "text/plain": [
       "<Figure size 864x864 with 1 Axes>"
      ]
     },
     "metadata": {
      "needs_background": "light"
     },
     "output_type": "display_data"
    }
   ],
   "source": [
    "fig=plt.figure(figsize=(12,12))\n",
    "ax = fig.add_subplot(111, polar=True)\n",
    "ax.plot(final['plan_ori_id'].head(6), final['original_similarity'].head(6), 'o-', linewidth=2)\n",
    "ax.fill(final['plan_ori_id'].head(6), final['original_similarity'].head(6), alpha=0.25)\n",
    "ax.set_title('Distances between users before')\n",
    "ax.grid(True)"
   ]
  },
  {
   "cell_type": "code",
   "execution_count": 36,
   "metadata": {},
   "outputs": [
    {
     "data": {
      "image/png": "[encoded data removed]",
      "text/plain": [
       "<Figure size 864x864 with 1 Axes>"
      ]
     },
     "metadata": {
      "needs_background": "light"
     },
     "output_type": "display_data"
    }
   ],
   "source": [
    "fig=plt.figure(figsize=(12,12))\n",
    "ax = fig.add_subplot(111, polar=True)\n",
    "ax.plot(final['plan_ori_id'].head(6), final['with likes after unfollow'].head(6), 'o-', linewidth=2)\n",
    "ax.fill(final['plan_ori_id'].head(6), final['with likes after unfollow'].head(6), alpha=0.25)\n",
    "ax.set_title('Distances between users after')\n",
    "ax.grid(True)"
   ]
  },
  {
   "cell_type": "code",
   "execution_count": null,
   "metadata": {},
   "outputs": [],
   "source": []
  }
 ],
 "metadata": {
  "kernelspec": {
   "display_name": "Python 3",
   "language": "python",
   "name": "python3"
  },
  "language_info": {
   "codemirror_mode": {
    "name": "ipython",
    "version": 3
   },
   "file_extension": ".py",
   "mimetype": "text/x-python",
   "name": "python",
   "nbconvert_exporter": "python",
   "pygments_lexer": "ipython3",
   "version": "3.7.2"
  }
 },
 "nbformat": 4,
 "nbformat_minor": 2
}
