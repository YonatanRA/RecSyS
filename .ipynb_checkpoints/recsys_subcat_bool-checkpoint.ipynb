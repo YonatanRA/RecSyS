{
 "cells": [
  {
   "cell_type": "code",
   "execution_count": 1,
   "metadata": {},
   "outputs": [
    {
     "data": {
      "text/html": [
       "        <script type=\"text/javascript\">\n",
       "        window.PlotlyConfig = {MathJaxConfig: 'local'};\n",
       "        if (window.MathJax) {MathJax.Hub.Config({SVG: {font: \"STIX-Web\"}});}\n",
       "        if (typeof require !== 'undefined') {\n",
       "        require.undef(\"plotly\");\n",
       "        requirejs.config({\n",
       "            paths: {\n",
       "                'plotly': ['https://cdn.plot.ly/plotly-latest.min']\n",
       "            }\n",
       "        });\n",
       "        require(['plotly'], function(Plotly) {\n",
       "            window._Plotly = Plotly;\n",
       "        });\n",
       "        }\n",
       "        </script>\n",
       "        "
      ]
     },
     "metadata": {},
     "output_type": "display_data"
    }
   ],
   "source": [
    "# Demo recsys boolean (0-1)\n",
    "\n",
    "# import libraries\n",
    "\n",
    "import warnings\n",
    "warnings.filterwarnings(\"ignore\",category=DeprecationWarning)\n",
    "import pandas as pd\n",
    "import numpy as np\n",
    "import matplotlib.pyplot as plt\n",
    "from scipy.spatial.distance import pdist, squareform\n",
    "from operator import itemgetter\n",
    "import plotly.plotly as py\n",
    "import cufflinks as cf\n",
    "cf.go_offline()"
   ]
  },
  {
   "cell_type": "code",
   "execution_count": 2,
   "metadata": {},
   "outputs": [],
   "source": [
    "# names and tags\n",
    "\n",
    "names=['id__'+str(i) for i in range(3000)]\n",
    "\n",
    "tags=['r&b', 'rock', 'jazz', 'electronic', 'pop', 'indie',\n",
    "      'cinema', 'theater', 'beers', 'wine', 'party', 'trips',\n",
    "      'running', 'gym', 'golf', 'basket', 'football', 'yoga']\n",
    "\n",
    "\n",
    "sub_tags_elec=['techno', 'electro_funky', 'house', 'minimal', 'dubstep', 'DandB']"
   ]
  },
  {
   "cell_type": "code",
   "execution_count": 3,
   "metadata": {},
   "outputs": [],
   "source": [
    "# synth data\n",
    "\n",
    "data=np.random.randint(0, 2, (len(names), len(tags)))\n",
    "sub_data=np.random.randint(0, 1, (len(names), len(sub_tags_elec)))\n",
    "\n",
    "s_data=pd.DataFrame(data, columns=tags, index=names)\n",
    "s_sub_data=pd.DataFrame(sub_data, columns=sub_tags_elec, index=names)\n",
    "\n",
    "s_data=pd.concat([s_data, s_sub_data], axis=1)\n",
    "\n",
    "s_data['plan']=np.random.randint(0, 2, (len(names), 1))\n",
    "s_data['id']=[i for i in range(len(names))]\n",
    "\n",
    "\n",
    "for i in range(len(s_data)):\n",
    "    if s_data.electronic[i]!=0:\n",
    "        s_data.techno[i]=np.random.randint(0, 2)\n",
    "        s_data.electro_funky[i]=np.random.randint(0, 2)\n",
    "        s_data.house[i]=np.random.randint(0, 2)\n",
    "        s_data.minimal[i]=np.random.randint(0, 2)\n",
    "        s_data.dubstep[i]=np.random.randint(0, 2)\n",
    "        s_data.DandB[i]=np.random.randint(0, 2)"
   ]
  },
  {
   "cell_type": "code",
   "execution_count": 4,
   "metadata": {},
   "outputs": [],
   "source": [
    "#  weighing\n",
    "\n",
    "for e in tags:\n",
    "    s_data[e]=s_data[e]*2/3\n",
    "\n",
    "for e in sub_tags_elec:\n",
    "    s_data[e]=s_data[e]*1/3"
   ]
  },
  {
   "cell_type": "code",
   "execution_count": 5,
   "metadata": {},
   "outputs": [],
   "source": [
    "# new user function\n",
    "\n",
    "\n",
    "def new_user(df, rb, rock, jazz, electronic, pop, indie, cinema, theater, beers, wine,\n",
    "             party, trips, running, gym, golf, basket, football, yoga,\n",
    "             techno, electro_funky, house, minimal, dubstep, DandB, metric):\n",
    "    \n",
    "    \n",
    "    tags=['r&b', 'rock', 'jazz', 'electronic', 'pop', 'indie',\n",
    "          'cinema', 'theater', 'beers', 'wine', 'party', 'trips',\n",
    "          'running', 'gym', 'golf', 'basket', 'football', 'yoga',\n",
    "          'techno', 'electro_funky', 'house', 'minimal', 'dubstep', 'DandB']\n",
    "    \n",
    "    \n",
    "    \n",
    "    rating=[rb, rock, jazz, electronic, pop, indie, cinema, theater, beers, wine,\n",
    "            party, trips, running, gym, golf, basket, football, yoga, \n",
    "            techno, electro_funky, house, minimal, dubstep, DandB]\n",
    "    \n",
    "    \n",
    "    n_user={k:v for k, v in list(zip(tags, rating))}\n",
    "    n_user['id']='id__'+str(len(s_data.id)+1)\n",
    "    n_user['plan']=0\n",
    "    \n",
    "    names=list(df.index)\n",
    "    df=df.append(n_user, ignore_index=True)\n",
    "    names.append(n_user['id'])\n",
    "    df.index=names\n",
    "    \n",
    "    similar = pd.DataFrame(1/(1 + squareform(pdist(df.iloc[:, :-2], metric))), \n",
    "                         index=df.index, columns=df.index)\n",
    "\n",
    "    similarities = similar[n_user['id']].sort_values(ascending=False)\n",
    "    \n",
    "    closer_users=[]\n",
    "    for e in similarities.index:\n",
    "        if df.ix[e].plan==1:\n",
    "            closer_users.append(e)\n",
    "    \n",
    "    return list(map(list, zip(closer_users[:10], similarities.ix[closer_users[:10]])))#df.ix[closer_users[:10]][['id', 'plan']]"
   ]
  },
  {
   "cell_type": "code",
   "execution_count": 6,
   "metadata": {},
   "outputs": [
    {
     "name": "stdout",
     "output_type": "stream",
     "text": [
      "Rate r&b :\n",
      "1\n"
     ]
    }
   ],
   "source": [
    "print('Rate r&b :')\n",
    "rb = int(input())*2/3"
   ]
  },
  {
   "cell_type": "code",
   "execution_count": 7,
   "metadata": {},
   "outputs": [
    {
     "name": "stdout",
     "output_type": "stream",
     "text": [
      "Rate rock :\n",
      "1\n"
     ]
    }
   ],
   "source": [
    "print('Rate rock :')\n",
    "rock = int(input())*2/3  "
   ]
  },
  {
   "cell_type": "code",
   "execution_count": 8,
   "metadata": {},
   "outputs": [
    {
     "name": "stdout",
     "output_type": "stream",
     "text": [
      "Rate jazz :\n",
      "1\n"
     ]
    }
   ],
   "source": [
    "print('Rate jazz :')\n",
    "jazz = int(input())*2/3"
   ]
  },
  {
   "cell_type": "code",
   "execution_count": 9,
   "metadata": {},
   "outputs": [
    {
     "name": "stdout",
     "output_type": "stream",
     "text": [
      "Rate electronic :\n",
      "0\n"
     ]
    }
   ],
   "source": [
    "print('Rate electronic :')\n",
    "electronic = int(input())*2/3  "
   ]
  },
  {
   "cell_type": "code",
   "execution_count": 10,
   "metadata": {},
   "outputs": [],
   "source": [
    "if electronic!=0:\n",
    "    print('Rate techno :')\n",
    "    techno = int(input())*1/3\n",
    "    \n",
    "    print('Rate electro-funky :')\n",
    "    electro_funky = int(input())*1/3\n",
    " \n",
    "    print('Rate house :')\n",
    "    house = int(input())*1/3\n",
    " \n",
    "    print('Rate minimal :')\n",
    "    minimal = int(input())*1/3\n",
    " \n",
    "    print('Rate dubstep :')\n",
    "    dubstep = int(input())*1/3\n",
    " \n",
    "    print('Rate D&B :')\n",
    "    DandB = int(input())*1/3\n",
    "\n",
    "\n",
    "else:\n",
    "    techno = 0\n",
    "    electro_funky = 0\n",
    "    house = 0\n",
    "    minimal = 0\n",
    "    dubstep = 0\n",
    "    DandB = 0"
   ]
  },
  {
   "cell_type": "code",
   "execution_count": 11,
   "metadata": {},
   "outputs": [
    {
     "name": "stdout",
     "output_type": "stream",
     "text": [
      "Rate pop from :\n",
      "0\n"
     ]
    }
   ],
   "source": [
    "print('Rate pop from :')\n",
    "pop = int(input())*2/3"
   ]
  },
  {
   "cell_type": "code",
   "execution_count": 12,
   "metadata": {},
   "outputs": [
    {
     "name": "stdout",
     "output_type": "stream",
     "text": [
      "Rate indie :\n",
      "1\n"
     ]
    }
   ],
   "source": [
    "print('Rate indie :')\n",
    "indie = int(input())*2/3"
   ]
  },
  {
   "cell_type": "code",
   "execution_count": 13,
   "metadata": {},
   "outputs": [
    {
     "name": "stdout",
     "output_type": "stream",
     "text": [
      "Rate cinema :\n",
      "1\n"
     ]
    }
   ],
   "source": [
    "print('Rate cinema :')\n",
    "cinema = int(input())*2/3"
   ]
  },
  {
   "cell_type": "code",
   "execution_count": 14,
   "metadata": {},
   "outputs": [
    {
     "name": "stdout",
     "output_type": "stream",
     "text": [
      "Rate theater :\n",
      "1\n"
     ]
    }
   ],
   "source": [
    "print('Rate theater :')\n",
    "theater = int(input())*2/3"
   ]
  },
  {
   "cell_type": "code",
   "execution_count": 15,
   "metadata": {},
   "outputs": [
    {
     "name": "stdout",
     "output_type": "stream",
     "text": [
      "Rate beers :\n",
      "1\n"
     ]
    }
   ],
   "source": [
    "print('Rate beers :')\n",
    "beers = int(input())*2/3"
   ]
  },
  {
   "cell_type": "code",
   "execution_count": 16,
   "metadata": {},
   "outputs": [
    {
     "name": "stdout",
     "output_type": "stream",
     "text": [
      "Rate wine :\n",
      "0\n"
     ]
    }
   ],
   "source": [
    "print('Rate wine :')\n",
    "wine = int(input())*2/3"
   ]
  },
  {
   "cell_type": "code",
   "execution_count": 17,
   "metadata": {},
   "outputs": [
    {
     "name": "stdout",
     "output_type": "stream",
     "text": [
      "Rate party :\n",
      "0\n"
     ]
    }
   ],
   "source": [
    "print('Rate party :')\n",
    "party = int(input())*2/3"
   ]
  },
  {
   "cell_type": "code",
   "execution_count": 18,
   "metadata": {},
   "outputs": [
    {
     "name": "stdout",
     "output_type": "stream",
     "text": [
      "Rate trips :\n",
      "0\n"
     ]
    }
   ],
   "source": [
    "print('Rate trips :')\n",
    "trips = int(input())*2/3"
   ]
  },
  {
   "cell_type": "code",
   "execution_count": 19,
   "metadata": {},
   "outputs": [
    {
     "name": "stdout",
     "output_type": "stream",
     "text": [
      "Rate running :\n",
      "0\n"
     ]
    }
   ],
   "source": [
    "print('Rate running :')\n",
    "running = int(input())*2/3"
   ]
  },
  {
   "cell_type": "code",
   "execution_count": 20,
   "metadata": {},
   "outputs": [
    {
     "name": "stdout",
     "output_type": "stream",
     "text": [
      "Rate gym :\n",
      "1\n"
     ]
    }
   ],
   "source": [
    "print('Rate gym :')\n",
    "gym = int(input())*2/3"
   ]
  },
  {
   "cell_type": "code",
   "execution_count": 21,
   "metadata": {},
   "outputs": [
    {
     "name": "stdout",
     "output_type": "stream",
     "text": [
      "Rate golf :\n",
      "0\n"
     ]
    }
   ],
   "source": [
    "print('Rate golf :')\n",
    "golf = int(input())*2/3"
   ]
  },
  {
   "cell_type": "code",
   "execution_count": 22,
   "metadata": {},
   "outputs": [
    {
     "name": "stdout",
     "output_type": "stream",
     "text": [
      "Rate basket :\n",
      "1\n"
     ]
    }
   ],
   "source": [
    "print('Rate basket :')\n",
    "basket = int(input())*2/3"
   ]
  },
  {
   "cell_type": "code",
   "execution_count": 23,
   "metadata": {},
   "outputs": [
    {
     "name": "stdout",
     "output_type": "stream",
     "text": [
      "Rate football :\n",
      "1\n"
     ]
    }
   ],
   "source": [
    "print('Rate football :')\n",
    "football = int(input())*2/3"
   ]
  },
  {
   "cell_type": "code",
   "execution_count": 24,
   "metadata": {},
   "outputs": [
    {
     "name": "stdout",
     "output_type": "stream",
     "text": [
      "Rate yoga :\n",
      "0\n"
     ]
    }
   ],
   "source": [
    "print('Rate yoga :')\n",
    "yoga = int(input())*2/3"
   ]
  },
  {
   "cell_type": "code",
   "execution_count": 25,
   "metadata": {},
   "outputs": [],
   "source": [
    "# metrics for squareform\n",
    "\n",
    "'''\n",
    "'euclidean', 'minkowski', 'cityblock', 'seuclidean', 'sqeuclidean', 'cosine', 'correlation'\n",
    "\n",
    "'hamming', 'jaccard', 'chebyshev', 'canberra', 'braycurtis', 'mahalanobis', 'yule'\n",
    "\n",
    "'matching', 'dice', 'kulsinski', 'rogerstanimoto', 'russellrao', 'sokalmichener'\n",
    "\n",
    "'sokalsneath', 'wminkowski'\n",
    "'''\n",
    "\n",
    "\n",
    "metric='cosine' "
   ]
  },
  {
   "cell_type": "code",
   "execution_count": 26,
   "metadata": {},
   "outputs": [
    {
     "name": "stdout",
     "output_type": "stream",
     "text": [
      "Users with plan : \n",
      "['id__1515', 0.9198539776342977]\n",
      "['id__708', 0.9090909090909091]\n",
      "['id__2051', 0.8905179583569376]\n",
      "['id__445', 0.8684537004341029]\n",
      "['id__2102', 0.8645089994731118]\n",
      "['id__565', 0.8645089994731118]\n",
      "['id__2476', 0.861515165311009]\n",
      "['id__2873', 0.8595939474345684]\n",
      "['id__1823', 0.8485966424835335]\n",
      "['id__1291', 0.8485966424835335]\n"
     ]
    }
   ],
   "source": [
    "# plans (users)\n",
    "\n",
    "plans=new_user(s_data, rb, rock, jazz, electronic, pop, indie, cinema, theater, beers, wine,\n",
    "               party, trips, running, gym, golf, basket, football, yoga, \n",
    "               techno, electro_funky, house, minimal, dubstep, DandB, metric)\n",
    "\n",
    "\n",
    "print ('Similar users with plan : ')\n",
    "for e in plans:\n",
    "    print (e[0])\n",
    "    \n",
    "final=pd.DataFrame()\n",
    "final['plan_ori_id']=[e[0] for e in plans]\n",
    "final['plan_ori_rate']=[e[1] for e in plans]"
   ]
  },
  {
   "cell_type": "code",
   "execution_count": 27,
   "metadata": {},
   "outputs": [
    {
     "name": "stdout",
     "output_type": "stream",
     "text": [
      "\n",
      "Follow user id__1515?\n",
      "0\n",
      "[['id__1515', 0.9198539776342977], ['id__708', 0.9090909090909091], ['id__2051', 0.8905179583569376], ['id__445', 0.8684537004341029], ['id__2102', 0.8645089994731118], ['id__565', 0.8645089994731118], ['id__2476', 0.861515165311009], ['id__2873', 0.8595939474345684], ['id__1823', 0.8485966424835335], ['id__1291', 0.8485966424835335]]\n",
      "\n",
      "Follow user id__708?\n",
      "0\n",
      "[['id__1515', 0.9198539776342977], ['id__708', 0.9090909090909091], ['id__2051', 0.8905179583569376], ['id__445', 0.8684537004341029], ['id__2102', 0.8645089994731118], ['id__565', 0.8645089994731118], ['id__2476', 0.861515165311009], ['id__2873', 0.8595939474345684], ['id__1823', 0.8485966424835335], ['id__1291', 0.8485966424835335]]\n",
      "\n",
      "Follow user id__2051?\n",
      "1\n",
      "[['id__1515', 0.9198539776342977], ['id__708', 0.9090909090909091], ['id__2051', 1], ['id__445', 0.8684537004341029], ['id__2102', 0.8645089994731118], ['id__565', 0.8645089994731118], ['id__2476', 0.861515165311009], ['id__2873', 0.8595939474345684], ['id__1823', 0.8485966424835335], ['id__1291', 0.8485966424835335]]\n",
      "\n",
      "Follow user id__445?\n",
      "0\n",
      "[['id__1515', 0.9198539776342977], ['id__708', 0.9090909090909091], ['id__2051', 1], ['id__445', 0.8684537004341029], ['id__2102', 0.8645089994731118], ['id__565', 0.8645089994731118], ['id__2476', 0.861515165311009], ['id__2873', 0.8595939474345684], ['id__1823', 0.8485966424835335], ['id__1291', 0.8485966424835335]]\n",
      "\n",
      "Follow user id__2102?\n",
      "1\n",
      "[['id__1515', 0.9198539776342977], ['id__708', 0.9090909090909091], ['id__2051', 1], ['id__445', 0.8684537004341029], ['id__2102', 0.9941853493940785], ['id__565', 0.8645089994731118], ['id__2476', 0.861515165311009], ['id__2873', 0.8595939474345684], ['id__1823', 0.8485966424835335], ['id__1291', 0.8485966424835335]]\n",
      "\n",
      "Follow user id__565?\n",
      "0\n",
      "[['id__1515', 0.9198539776342977], ['id__708', 0.9090909090909091], ['id__2051', 1], ['id__445', 0.8684537004341029], ['id__2102', 0.9941853493940785], ['id__565', 0.8645089994731118], ['id__2476', 0.861515165311009], ['id__2873', 0.8595939474345684], ['id__1823', 0.8485966424835335], ['id__1291', 0.8485966424835335]]\n",
      "\n",
      "Follow user id__2476?\n",
      "0\n",
      "[['id__1515', 0.9198539776342977], ['id__708', 0.9090909090909091], ['id__2051', 1], ['id__445', 0.8684537004341029], ['id__2102', 0.9941853493940785], ['id__565', 0.8645089994731118], ['id__2476', 0.861515165311009], ['id__2873', 0.8595939474345684], ['id__1823', 0.8485966424835335], ['id__1291', 0.8485966424835335]]\n",
      "\n",
      "Follow user id__2873?\n",
      "0\n",
      "[['id__1515', 0.9198539776342977], ['id__708', 0.9090909090909091], ['id__2051', 1], ['id__445', 0.8684537004341029], ['id__2102', 0.9941853493940785], ['id__565', 0.8645089994731118], ['id__2476', 0.861515165311009], ['id__2873', 0.8595939474345684], ['id__1823', 0.8485966424835335], ['id__1291', 0.8485966424835335]]\n",
      "\n",
      "Follow user id__1823?\n",
      "0\n",
      "[['id__1515', 0.9198539776342977], ['id__708', 0.9090909090909091], ['id__2051', 1], ['id__445', 0.8684537004341029], ['id__2102', 0.9941853493940785], ['id__565', 0.8645089994731118], ['id__2476', 0.861515165311009], ['id__2873', 0.8595939474345684], ['id__1823', 0.8485966424835335], ['id__1291', 0.8485966424835335]]\n",
      "\n",
      "Follow user id__1291?\n",
      "0\n",
      "[['id__1515', 0.9198539776342977], ['id__708', 0.9090909090909091], ['id__2051', 1], ['id__445', 0.8684537004341029], ['id__2102', 0.9941853493940785], ['id__565', 0.8645089994731118], ['id__2476', 0.861515165311009], ['id__2873', 0.8595939474345684], ['id__1823', 0.8485966424835335], ['id__1291', 0.8485966424835335]]\n",
      "\n",
      "\n",
      "Unfollow user id__1515?\n",
      "0\n",
      "[['id__1515', 0.9198539776342977], ['id__708', 0.9090909090909091], ['id__2051', 1], ['id__445', 0.8684537004341029], ['id__2102', 0.9941853493940785], ['id__565', 0.8645089994731118], ['id__2476', 0.861515165311009], ['id__2873', 0.8595939474345684], ['id__1823', 0.8485966424835335], ['id__1291', 0.8485966424835335]]\n",
      "\n",
      "Unfollow user id__708?\n",
      "1\n",
      "[['id__1515', 0.9198539776342977], ['id__708', 0.7727272727272727], ['id__2051', 1], ['id__445', 0.8684537004341029], ['id__2102', 0.9941853493940785], ['id__565', 0.8645089994731118], ['id__2476', 0.861515165311009], ['id__2873', 0.8595939474345684], ['id__1823', 0.8485966424835335], ['id__1291', 0.8485966424835335]]\n",
      "\n",
      "Unfollow user id__2051?\n",
      "1\n",
      "[['id__1515', 0.9198539776342977], ['id__708', 0.7727272727272727], ['id__2051', 0.85], ['id__445', 0.8684537004341029], ['id__2102', 0.9941853493940785], ['id__565', 0.8645089994731118], ['id__2476', 0.861515165311009], ['id__2873', 0.8595939474345684], ['id__1823', 0.8485966424835335], ['id__1291', 0.8485966424835335]]\n",
      "\n",
      "Unfollow user id__445?\n",
      "1\n",
      "[['id__1515', 0.9198539776342977], ['id__708', 0.7727272727272727], ['id__2051', 0.85], ['id__445', 0.7381856453689875], ['id__2102', 0.9941853493940785], ['id__565', 0.8645089994731118], ['id__2476', 0.861515165311009], ['id__2873', 0.8595939474345684], ['id__1823', 0.8485966424835335], ['id__1291', 0.8485966424835335]]\n",
      "\n",
      "Unfollow user id__2102?\n",
      "0\n",
      "[['id__1515', 0.9198539776342977], ['id__708', 0.7727272727272727], ['id__2051', 0.85], ['id__445', 0.7381856453689875], ['id__2102', 0.9941853493940785], ['id__565', 0.8645089994731118], ['id__2476', 0.861515165311009], ['id__2873', 0.8595939474345684], ['id__1823', 0.8485966424835335], ['id__1291', 0.8485966424835335]]\n",
      "\n",
      "Unfollow user id__565?\n",
      "1\n",
      "[['id__1515', 0.9198539776342977], ['id__708', 0.7727272727272727], ['id__2051', 0.85], ['id__445', 0.7381856453689875], ['id__2102', 0.9941853493940785], ['id__565', 0.734832649552145], ['id__2476', 0.861515165311009], ['id__2873', 0.8595939474345684], ['id__1823', 0.8485966424835335], ['id__1291', 0.8485966424835335]]\n",
      "\n",
      "Unfollow user id__2476?\n",
      "1\n",
      "[['id__1515', 0.9198539776342977], ['id__708', 0.7727272727272727], ['id__2051', 0.85], ['id__445', 0.7381856453689875], ['id__2102', 0.9941853493940785], ['id__565', 0.734832649552145], ['id__2476', 0.7322878905143577], ['id__2873', 0.8595939474345684], ['id__1823', 0.8485966424835335], ['id__1291', 0.8485966424835335]]\n",
      "\n",
      "Unfollow user id__2873?\n",
      "1\n",
      "[['id__1515', 0.9198539776342977], ['id__708', 0.7727272727272727], ['id__2051', 0.85], ['id__445', 0.7381856453689875], ['id__2102', 0.9941853493940785], ['id__565', 0.734832649552145], ['id__2476', 0.7322878905143577], ['id__2873', 0.7306548553193831], ['id__1823', 0.8485966424835335], ['id__1291', 0.8485966424835335]]\n",
      "\n",
      "Unfollow user id__1823?\n",
      "0\n",
      "[['id__1515', 0.9198539776342977], ['id__708', 0.7727272727272727], ['id__2051', 0.85], ['id__445', 0.7381856453689875], ['id__2102', 0.9941853493940785], ['id__565', 0.734832649552145], ['id__2476', 0.7322878905143577], ['id__2873', 0.7306548553193831], ['id__1823', 0.8485966424835335], ['id__1291', 0.8485966424835335]]\n",
      "\n",
      "Unfollow user id__1291?\n",
      "1\n",
      "[['id__1515', 0.9198539776342977], ['id__708', 0.7727272727272727], ['id__2051', 0.85], ['id__445', 0.7381856453689875], ['id__2102', 0.9941853493940785], ['id__565', 0.734832649552145], ['id__2476', 0.7322878905143577], ['id__2873', 0.7306548553193831], ['id__1823', 0.8485966424835335], ['id__1291', 0.7213071461110034]]\n",
      "\n",
      "  plan_ori_id  plan_ori_rate  follow_rate  unfollow_rate\n",
      "0    id__1515       0.919854     0.919854       0.919854\n",
      "1     id__708       0.909091     0.909091       0.772727\n",
      "2    id__2051       0.890518     1.000000       0.850000\n",
      "3     id__445       0.868454     0.868454       0.738186\n",
      "4    id__2102       0.864509     0.994185       0.994185\n",
      "5     id__565       0.864509     0.864509       0.734833\n",
      "6    id__2476       0.861515     0.861515       0.732288\n",
      "7    id__2873       0.859594     0.859594       0.730655\n",
      "8    id__1823       0.848597     0.848597       0.848597\n",
      "9    id__1291       0.848597     0.848597       0.721307\n"
     ]
    }
   ],
   "source": [
    "# follow-unfollow users\n",
    "foll=plans\n",
    "def follow(_id, b, foll):\n",
    "    if b==0: return foll\n",
    "    elif b==1:\n",
    "        for e in foll:\n",
    "            if _id==e[0]:\n",
    "                e[1]+=e[1]*0.15\n",
    "        for e in foll:\n",
    "            if e[1]>1:e[1]=1\n",
    "        return foll#sorted(foll, key=itemgetter(1), reverse=True)\n",
    "\n",
    "print ()\n",
    "for e in foll:\n",
    "    print ('Follow user {}?'.format(e[0]))\n",
    "    b=int(input())\n",
    "    f=follow(e[0], b, foll)\n",
    "    #print (f)\n",
    "    print()\n",
    "#final['follow_id']=[e[0] for e in f]\n",
    "final['follow_rate']=[e[1] for e in f]\n",
    "\n",
    "\n",
    "\n",
    "unfoll=foll\n",
    "def unfollow(_id, b, unfoll):\n",
    "    if b==0: return unfoll\n",
    "    elif b==1:\n",
    "        for e in unfoll:\n",
    "            if _id==e[0]:\n",
    "                e[1]-=e[1]*0.15\n",
    "        for e in unfoll:\n",
    "            if e[1]<0:e[1]=0\n",
    "        return unfoll#sorted(unfoll, key=itemgetter(1), reverse=True)\n",
    "\n",
    "print ()\n",
    "for e in unfoll:\n",
    "    print ('Unfollow user {}?'.format(e[0]))\n",
    "    b=int(input())\n",
    "    u=unfollow(e[0], b, unfoll)\n",
    "    #print (u)\n",
    "    print()\n",
    "#final['unfollow_id']=[e[0] for e in u]\n",
    "final['unfollow_rate']=[e[1] for e in u]\n",
    "print (final)"
   ]
  },
  {
   "cell_type": "code",
   "execution_count": 28,
   "metadata": {},
   "outputs": [
    {
     "data": {
      "application/vnd.plotly.v1+json": {
       "config": {
        "linkText": "Export to plot.ly",
        "plotlyServerURL": "https://plot.ly",
        "responsive": true,
        "showLink": true
       },
       "data": [
        {
         "marker": {
          "color": "rgba(255, 153, 51, 0.6)",
          "line": {
           "color": "rgba(255, 153, 51, 1.0)",
           "width": 1
          }
         },
         "name": "plan_ori_rate",
         "orientation": "v",
         "text": "",
         "type": "bar",
         "uid": "154b7b4f-acaf-4be0-a1b6-183a94efaf77",
         "x": [
          "id__1515",
          "id__708",
          "id__2051",
          "id__445",
          "id__2102",
          "id__565",
          "id__2476",
          "id__2873",
          "id__1823",
          "id__1291"
         ],
         "y": [
          0.9198539776342977,
          0.9090909090909091,
          0.8905179583569376,
          0.8684537004341029,
          0.8645089994731118,
          0.8645089994731118,
          0.861515165311009,
          0.8595939474345684,
          0.8485966424835335,
          0.8485966424835335
         ]
        },
        {
         "marker": {
          "color": "rgba(55, 128, 191, 0.6)",
          "line": {
           "color": "rgba(55, 128, 191, 1.0)",
           "width": 1
          }
         },
         "name": "follow_rate",
         "orientation": "v",
         "text": "",
         "type": "bar",
         "uid": "17fd9ae6-fde2-4baf-bf19-48e7eea192f2",
         "x": [
          "id__1515",
          "id__708",
          "id__2051",
          "id__445",
          "id__2102",
          "id__565",
          "id__2476",
          "id__2873",
          "id__1823",
          "id__1291"
         ],
         "y": [
          0.9198539776342977,
          0.9090909090909091,
          1,
          0.8684537004341029,
          0.9941853493940785,
          0.8645089994731118,
          0.861515165311009,
          0.8595939474345684,
          0.8485966424835335,
          0.8485966424835335
         ]
        },
        {
         "marker": {
          "color": "rgba(50, 171, 96, 0.6)",
          "line": {
           "color": "rgba(50, 171, 96, 1.0)",
           "width": 1
          }
         },
         "name": "unfollow_rate",
         "orientation": "v",
         "text": "",
         "type": "bar",
         "uid": "a94050b9-6e80-40a7-b103-436f0ca333fb",
         "x": [
          "id__1515",
          "id__708",
          "id__2051",
          "id__445",
          "id__2102",
          "id__565",
          "id__2476",
          "id__2873",
          "id__1823",
          "id__1291"
         ],
         "y": [
          0.9198539776342977,
          0.7727272727272727,
          0.85,
          0.7381856453689875,
          0.9941853493940785,
          0.734832649552145,
          0.7322878905143577,
          0.7306548553193831,
          0.8485966424835335,
          0.7213071461110034
         ]
        }
       ],
       "layout": {
        "legend": {
         "bgcolor": "#F5F6F9",
         "font": {
          "color": "#4D5663"
         }
        },
        "paper_bgcolor": "#F5F6F9",
        "plot_bgcolor": "#F5F6F9",
        "title": {
         "font": {
          "color": "#4D5663"
         }
        },
        "xaxis": {
         "gridcolor": "#E1E5ED",
         "showgrid": true,
         "tickfont": {
          "color": "#4D5663"
         },
         "title": {
          "font": {
           "color": "#4D5663"
          },
          "text": ""
         },
         "zerolinecolor": "#E1E5ED"
        },
        "yaxis": {
         "gridcolor": "#E1E5ED",
         "showgrid": true,
         "tickfont": {
          "color": "#4D5663"
         },
         "title": {
          "font": {
           "color": "#4D5663"
          },
          "text": ""
         },
         "zerolinecolor": "#E1E5ED"
        }
       }
      },
      "text/html": [
       "<div>\n",
       "        \n",
       "        \n",
       "            <div id=\"b398169b-100e-47cc-9033-aee545c4d8e7\" class=\"plotly-graph-div\" style=\"height:525px; width:100%;\"></div>\n",
       "            <script type=\"text/javascript\">\n",
       "                require([\"plotly\"], function(Plotly) {\n",
       "                    window.PLOTLYENV=window.PLOTLYENV || {};\n",
       "                    window.PLOTLYENV.BASE_URL='https://plot.ly';\n",
       "                    \n",
       "                if (document.getElementById(\"b398169b-100e-47cc-9033-aee545c4d8e7\")) {\n",
       "                    Plotly.newPlot(\n",
       "                        'b398169b-100e-47cc-9033-aee545c4d8e7',\n",
       "                        [{\"marker\": {\"color\": \"rgba(255, 153, 51, 0.6)\", \"line\": {\"color\": \"rgba(255, 153, 51, 1.0)\", \"width\": 1}}, \"name\": \"plan_ori_rate\", \"orientation\": \"v\", \"text\": \"\", \"type\": \"bar\", \"uid\": \"6003fb65-9c60-44c5-a425-5958fdc10257\", \"x\": [\"id__1515\", \"id__708\", \"id__2051\", \"id__445\", \"id__2102\", \"id__565\", \"id__2476\", \"id__2873\", \"id__1823\", \"id__1291\"], \"y\": [0.9198539776342977, 0.9090909090909091, 0.8905179583569376, 0.8684537004341029, 0.8645089994731118, 0.8645089994731118, 0.861515165311009, 0.8595939474345684, 0.8485966424835335, 0.8485966424835335]}, {\"marker\": {\"color\": \"rgba(55, 128, 191, 0.6)\", \"line\": {\"color\": \"rgba(55, 128, 191, 1.0)\", \"width\": 1}}, \"name\": \"follow_rate\", \"orientation\": \"v\", \"text\": \"\", \"type\": \"bar\", \"uid\": \"afd5fca6-9558-443b-bf0e-dce9b6b1f35a\", \"x\": [\"id__1515\", \"id__708\", \"id__2051\", \"id__445\", \"id__2102\", \"id__565\", \"id__2476\", \"id__2873\", \"id__1823\", \"id__1291\"], \"y\": [0.9198539776342977, 0.9090909090909091, 1.0, 0.8684537004341029, 0.9941853493940785, 0.8645089994731118, 0.861515165311009, 0.8595939474345684, 0.8485966424835335, 0.8485966424835335]}, {\"marker\": {\"color\": \"rgba(50, 171, 96, 0.6)\", \"line\": {\"color\": \"rgba(50, 171, 96, 1.0)\", \"width\": 1}}, \"name\": \"unfollow_rate\", \"orientation\": \"v\", \"text\": \"\", \"type\": \"bar\", \"uid\": \"b05083c3-444f-4a29-ae34-b64047ef477e\", \"x\": [\"id__1515\", \"id__708\", \"id__2051\", \"id__445\", \"id__2102\", \"id__565\", \"id__2476\", \"id__2873\", \"id__1823\", \"id__1291\"], \"y\": [0.9198539776342977, 0.7727272727272727, 0.85, 0.7381856453689875, 0.9941853493940785, 0.734832649552145, 0.7322878905143577, 0.7306548553193831, 0.8485966424835335, 0.7213071461110034]}],\n",
       "                        {\"legend\": {\"bgcolor\": \"#F5F6F9\", \"font\": {\"color\": \"#4D5663\"}}, \"paper_bgcolor\": \"#F5F6F9\", \"plot_bgcolor\": \"#F5F6F9\", \"title\": {\"font\": {\"color\": \"#4D5663\"}}, \"xaxis\": {\"gridcolor\": \"#E1E5ED\", \"showgrid\": true, \"tickfont\": {\"color\": \"#4D5663\"}, \"title\": {\"font\": {\"color\": \"#4D5663\"}, \"text\": \"\"}, \"zerolinecolor\": \"#E1E5ED\"}, \"yaxis\": {\"gridcolor\": \"#E1E5ED\", \"showgrid\": true, \"tickfont\": {\"color\": \"#4D5663\"}, \"title\": {\"font\": {\"color\": \"#4D5663\"}, \"text\": \"\"}, \"zerolinecolor\": \"#E1E5ED\"}},\n",
       "                        {\"showLink\": true, \"linkText\": \"Export to plot.ly\", \"plotlyServerURL\": \"https://plot.ly\", \"responsive\": true}\n",
       "                    ).then(function(){\n",
       "                            \n",
       "var gd = document.getElementById('b398169b-100e-47cc-9033-aee545c4d8e7');\n",
       "var x = new MutationObserver(function (mutations, observer) {{\n",
       "        var display = window.getComputedStyle(gd).display;\n",
       "        if (!display || display === 'none') {{\n",
       "            console.log([gd, 'removed!']);\n",
       "            Plotly.purge(gd);\n",
       "            observer.disconnect();\n",
       "        }}\n",
       "}});\n",
       "\n",
       "// Listen for the removal of the full notebook cells\n",
       "var notebookContainer = gd.closest('#notebook-container');\n",
       "if (notebookContainer) {{\n",
       "    x.observe(notebookContainer, {childList: true});\n",
       "}}\n",
       "\n",
       "// Listen for the clearing of the current output cell\n",
       "var outputEl = gd.closest('.output');\n",
       "if (outputEl) {{\n",
       "    x.observe(outputEl, {childList: true});\n",
       "}}\n",
       "\n",
       "                        })\n",
       "                };\n",
       "                });\n",
       "            </script>\n",
       "        </div>"
      ]
     },
     "metadata": {},
     "output_type": "display_data"
    }
   ],
   "source": [
    "final.iplot(kind='bar', x='plan_ori_id')"
   ]
  }
 ],
 "metadata": {
  "kernelspec": {
   "display_name": "Python 3",
   "language": "python",
   "name": "python3"
  },
  "language_info": {
   "codemirror_mode": {
    "name": "ipython",
    "version": 3
   },
   "file_extension": ".py",
   "mimetype": "text/x-python",
   "name": "python",
   "nbconvert_exporter": "python",
   "pygments_lexer": "ipython3",
   "version": "3.7.2"
  }
 },
 "nbformat": 4,
 "nbformat_minor": 2
}
