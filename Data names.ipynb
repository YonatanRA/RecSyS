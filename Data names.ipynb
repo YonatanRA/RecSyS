{
 "cells": [
  {
   "cell_type": "markdown",
   "metadata": {},
   "source": [
    "# RecSys Utoppia"
   ]
  },
  {
   "cell_type": "code",
   "execution_count": null,
   "metadata": {},
   "outputs": [],
   "source": [
    "# Demo recsys boolean (0-1)\n",
    "\n",
    "# import libraries\n",
    "\n",
    "\n",
    "%matplotlib inline\n",
    "import seaborn as sns\n",
    "import warnings\n",
    "warnings.filterwarnings(\"ignore\",category=DeprecationWarning)\n",
    "import pandas as pd\n",
    "import numpy as np\n",
    "import matplotlib.pyplot as plt\n",
    "from scipy.spatial.distance import pdist, squareform\n",
    "from operator import itemgetter\n",
    "import plotly.plotly as py\n",
    "import cufflinks as cf\n",
    "cf.go_offline()"
   ]
  },
  {
   "cell_type": "code",
   "execution_count": null,
   "metadata": {},
   "outputs": [],
   "source": [
    "# tags\n",
    "\n",
    "tags=['Cine', 'Teatro', 'Cervezas', 'Vino', 'Fiesta', 'Viajes', 'Rock' ,'Pop',\n",
    "      'Jazz', 'Techno', 'RAP', 'Indie', 'Correr', 'Gym', 'Golf', 'Basket', 'Football', 'Yoga']"
   ]
  },
  {
   "cell_type": "code",
   "execution_count": null,
   "metadata": {},
   "outputs": [],
   "source": [
    "# subtags\n",
    "\n",
    "st_cine=['Drama', 'Comedia', 'Terror', 'Anime']"
   ]
  },
  {
   "cell_type": "code",
   "execution_count": null,
   "metadata": {},
   "outputs": [],
   "source": [
    "st_teatro=['Tragedia', 'Comedia', 'Mímica', 'Dramático']"
   ]
  },
  {
   "cell_type": "code",
   "execution_count": null,
   "metadata": {},
   "outputs": [],
   "source": [
    "st_cerveza=['Lager', 'Pale Ale', 'Artesanas', 'Pilsener']"
   ]
  },
  {
   "cell_type": "code",
   "execution_count": null,
   "metadata": {},
   "outputs": [],
   "source": [
    "st_vino=['Blanco', 'Tinto', 'Rosado', 'Espumoso']"
   ]
  },
  {
   "cell_type": "code",
   "execution_count": null,
   "metadata": {},
   "outputs": [],
   "source": [
    "st_viajes=['En grupo', 'Solo']"
   ]
  },
  {
   "cell_type": "code",
   "execution_count": null,
   "metadata": {},
   "outputs": [],
   "source": [
    "st_rock=['Alternativo', 'Heavy', 'Country', 'Grunge']"
   ]
  },
  {
   "cell_type": "code",
   "execution_count": null,
   "metadata": {},
   "outputs": [],
   "source": [
    "st_pop=['Latino', 'Punk', 'Hard', 'Folk']"
   ]
  },
  {
   "cell_type": "code",
   "execution_count": null,
   "metadata": {},
   "outputs": [],
   "source": [
    "st_jazz=['Cool', 'Free', 'Smooth', 'Acid']"
   ]
  },
  {
   "cell_type": "code",
   "execution_count": null,
   "metadata": {},
   "outputs": [],
   "source": [
    "st_techno=['Minimal', 'House' ,'Hardcore', 'Acid']"
   ]
  },
  {
   "cell_type": "code",
   "execution_count": null,
   "metadata": {},
   "outputs": [],
   "source": [
    "st_rap=['Gangsta', 'Poético', 'Político' ,'Instrumental']"
   ]
  },
  {
   "cell_type": "code",
   "execution_count": null,
   "metadata": {},
   "outputs": [],
   "source": [
    "st_indie=['Alternativo', 'Electrónico', 'Folk', 'Griendie']"
   ]
  },
  {
   "cell_type": "code",
   "execution_count": null,
   "metadata": {},
   "outputs": [],
   "source": [
    "st_football=['Sala', '7', '11']"
   ]
  },
  {
   "cell_type": "code",
   "execution_count": null,
   "metadata": {},
   "outputs": [],
   "source": [
    "st_yoga=['Vinyasa', 'Kundalini', 'Bikram', 'Nidra']"
   ]
  },
  {
   "cell_type": "code",
   "execution_count": null,
   "metadata": {},
   "outputs": [],
   "source": [
    "# empty dataframe\n",
    "\n",
    "columnas=['Nombre', 'Id', 'Plan']+tags+st_cine+st_teatro+st_cerveza+st_vino+st_viajes+st_rock+st_pop+st_jazz+\\\n",
    "        st_techno+st_rap+st_indie+st_football+st_yoga\n",
    "\n",
    "data=pd.DataFrame(columns=columnas)\n",
    "data"
   ]
  },
  {
   "cell_type": "code",
   "execution_count": null,
   "metadata": {},
   "outputs": [],
   "source": [
    "# users\n",
    "\n",
    "user1={columnas[0]:'Marta', columnas[1]:1, columnas[2]: 1, \n",
    "       \n",
    "       columnas[3]:2/3, columnas[4]:0, columnas[5]:2/3, columnas[6]:2/3, columnas[7]:0, columnas[8]:2/3,\n",
    "       columnas[9]:0 ,columnas[10]:2/3, columnas[11]:0, columnas[12]:2/3, columnas[13]:0, columnas[14]:2/3,\n",
    "       columnas[15]:0, columnas[16]:2/3, columnas[17]:2/3, columnas[18]:0, columnas[19]:0, columnas[20]:2/3,\n",
    "       \n",
    "       columnas[21]:1/3, columnas[22]:1/3, columnas[23]:0, columnas[24]:0, \n",
    "       columnas[25]:0, columnas[26]:0, columnas[27]:0, columnas[28]:0, \n",
    "       columnas[29]:1/3, columnas[30]:1/3, columnas[31]:1/3, columnas[32]:0,\n",
    "       columnas[33]:1/3, columnas[34]:1/3, columnas[35]:0, columnas[36]:0, \n",
    "       columnas[37]:1/3, columnas[38]:1/3, \n",
    "       columnas[39]:0, columnas[40]:0, columnas[41]:0, columnas[42]:0, \n",
    "       columnas[43]:1/3, columnas[44]:0, columnas[45]:0, columnas[46]: 1/3, \n",
    "       columnas[47]:0, columnas[48]:0, columnas[49]:0, columnas[50]:0, \n",
    "       columnas[51]:0, columnas[52]:1/3, columnas[53]:0, columnas[54]:0, \n",
    "       columnas[55]:0, columnas[56]:0, columnas[57]:0, columnas[58]:0, \n",
    "       columnas[59]:1/3, columnas[60]:1/3, columnas[61]:0, columnas[62]:0, \n",
    "       columnas[63]:0, columnas[64]:0, columnas[65]:0, \n",
    "       columnas[66]:1/3, columnas[67]:0, columnas[68]:0, columnas[69]:0}"
   ]
  },
  {
   "cell_type": "code",
   "execution_count": null,
   "metadata": {},
   "outputs": [],
   "source": [
    "user2={columnas[0]:'Juan', columnas[1]:2, columnas[2]: 1, \n",
    "       \n",
    "       columnas[3]:2/3, columnas[4]:2/3, columnas[5]:0, columnas[6]:2/3, columnas[7]:2/3, columnas[8]:0,\n",
    "       columnas[9]:0 ,columnas[10]:2/3, columnas[11]:0, columnas[12]:2/3, columnas[13]:2/3, columnas[14]:0,\n",
    "       columnas[15]:0, columnas[16]:2/3, columnas[17]:2/3, columnas[18]:0, columnas[19]:2/3, columnas[20]:0,\n",
    "       \n",
    "       columnas[21]:1/3, columnas[22]:0, columnas[23]:0, columnas[24]:1/3, \n",
    "       columnas[25]:1/3, columnas[26]:0, columnas[27]:0, columnas[28]:1/3, \n",
    "       columnas[29]:0, columnas[30]:0, columnas[31]:0, columnas[32]:0,\n",
    "       columnas[33]:0, columnas[34]:1/3, columnas[35]:0, columnas[36]:1/3, \n",
    "       columnas[37]:0, columnas[38]:0, \n",
    "       columnas[39]:0, columnas[40]:0, columnas[41]:0, columnas[42]:0, \n",
    "       columnas[43]:0, columnas[44]:1/3, columnas[45]:1/3, columnas[46]:0, \n",
    "       columnas[47]:0, columnas[48]:0, columnas[49]:0, columnas[50]:0, \n",
    "       columnas[51]:1/3, columnas[52]:1/3, columnas[53]:0, columnas[54]:0, \n",
    "       columnas[55]:1/3, columnas[56]:1/3, columnas[57]:0, columnas[58]:0, \n",
    "       columnas[59]:0, columnas[60]:0, columnas[61]:0, columnas[62]:0, \n",
    "       columnas[63]:0, columnas[64]:0, columnas[65]:1/3, \n",
    "       columnas[66]:0, columnas[67]:0, columnas[68]:0, columnas[69]:0}"
   ]
  },
  {
   "cell_type": "code",
   "execution_count": null,
   "metadata": {},
   "outputs": [],
   "source": [
    "user3={columnas[0]:'Monica', columnas[1]:3, columnas[2]: 1, \n",
    "       \n",
    "       columnas[3]:2/3, columnas[4]:2/3, columnas[5]:0, columnas[6]:0, columnas[7]:0, columnas[8]:0,\n",
    "       columnas[9]:0 ,columnas[10]:0, columnas[11]:0, columnas[12]:0, columnas[13]:2/3, columnas[14]:2/3,\n",
    "       columnas[15]:0, columnas[16]:0, columnas[17]:0, columnas[18]:0, columnas[19]:2/3, columnas[20]:2/3,\n",
    "       \n",
    "       columnas[21]:1/3, columnas[22]:1/3, columnas[23]:0, columnas[24]:0, \n",
    "       columnas[25]:0, columnas[26]:1/3, columnas[27]:0, columnas[28]:1/3, \n",
    "       columnas[29]:0, columnas[30]:0, columnas[31]:0, columnas[32]:0,\n",
    "       columnas[33]:0, columnas[34]:0, columnas[35]:0, columnas[36]:0, \n",
    "       columnas[37]:0, columnas[38]:0, \n",
    "       columnas[39]:0, columnas[40]:0, columnas[41]:0, columnas[42]:0, \n",
    "       columnas[43]:0, columnas[44]:0, columnas[45]:0, columnas[46]:0, \n",
    "       columnas[47]:0, columnas[48]:0, columnas[49]:0, columnas[50]:0, \n",
    "       columnas[51]:0, columnas[52]:0, columnas[53]:0, columnas[54]:0, \n",
    "       columnas[55]:1/3, columnas[56]:1/3, columnas[57]:1/3, columnas[58]:1/3, \n",
    "       columnas[59]:1/3, columnas[60]:1/3, columnas[61]:0, columnas[62]:0, \n",
    "       columnas[63]:1/3, columnas[64]:0, columnas[65]:1/3, \n",
    "       columnas[66]:1/3, columnas[67]:1/3, columnas[68]:0, columnas[69]:0}"
   ]
  },
  {
   "cell_type": "code",
   "execution_count": null,
   "metadata": {},
   "outputs": [],
   "source": [
    "user4={columnas[0]:'Alvaro', columnas[1]:4, columnas[2]: 1, \n",
    "       \n",
    "       columnas[3]:2/3, columnas[4]:2/3, columnas[5]:2/3, columnas[6]:2/3, columnas[7]:0, columnas[8]:2/3,\n",
    "       columnas[9]:0 ,columnas[10]:0, columnas[11]:0, columnas[12]:0, columnas[13]:0, columnas[14]:2/3,\n",
    "       columnas[15]:2/3, columnas[16]:2/3, columnas[17]:2/3, columnas[18]:0, columnas[19]:2/3, columnas[20]:2/3,\n",
    "       \n",
    "       columnas[21]:0, columnas[22]:0, columnas[23]:1/3, columnas[24]:1/3, \n",
    "       columnas[25]:0, columnas[26]:0, columnas[27]:1/3, columnas[28]:1/3, \n",
    "       columnas[29]:1/3, columnas[30]:0, columnas[31]:0, columnas[32]:1/3,\n",
    "       columnas[33]:0, columnas[34]:1/3, columnas[35]:1/3, columnas[36]:0, \n",
    "       columnas[37]:1/3, columnas[38]:1/3, \n",
    "       columnas[39]:0, columnas[40]:0, columnas[41]:0, columnas[42]:0, \n",
    "       columnas[43]:0, columnas[44]:0, columnas[45]:0, columnas[46]:0, \n",
    "       columnas[47]:0, columnas[48]:0, columnas[49]:0, columnas[50]:0, \n",
    "       columnas[51]:0, columnas[52]:0, columnas[53]:0, columnas[54]:0, \n",
    "       columnas[55]:0, columnas[56]:0, columnas[57]:0, columnas[58]:0, \n",
    "       columnas[59]:0, columnas[60]:0, columnas[61]:1/3, columnas[62]:1/3, \n",
    "       columnas[63]:1/3, columnas[64]:0, columnas[65]:0, \n",
    "       columnas[66]:0, columnas[67]:0, columnas[68]:1/3, columnas[69]:1/3}"
   ]
  },
  {
   "cell_type": "code",
   "execution_count": null,
   "metadata": {},
   "outputs": [],
   "source": [
    "user5={columnas[0]:'Maria', columnas[1]:5, columnas[2]: 1, \n",
    "       \n",
    "       columnas[3]:0, columnas[4]:0, columnas[5]:0, columnas[6]:0, columnas[7]:2/3, columnas[8]:2/3,\n",
    "       columnas[9]:2/3 ,columnas[10]:2/3, columnas[11]:2/3, columnas[12]:0, columnas[13]:0, columnas[14]:0,\n",
    "       columnas[15]:0, columnas[16]:0, columnas[17]:2/3, columnas[18]:2/3, columnas[19]:2/3, columnas[20]:2/3,\n",
    "       \n",
    "       columnas[21]:0, columnas[22]:0, columnas[23]:0, columnas[24]:0, \n",
    "       columnas[25]:0, columnas[26]:0, columnas[27]:0, columnas[28]:0, \n",
    "       columnas[29]:0, columnas[30]:0, columnas[31]:0, columnas[32]:0,\n",
    "       columnas[33]:0, columnas[34]:0, columnas[35]:0, columnas[36]:0, \n",
    "       columnas[37]:1/3, columnas[38]:1/3, \n",
    "       columnas[39]:1/3, columnas[40]:0, columnas[41]:0, columnas[42]:1/3, \n",
    "       columnas[43]:1/3, columnas[44]:0, columnas[45]:0, columnas[46]:0, \n",
    "       columnas[47]:1/3, columnas[48]:0, columnas[49]:0, columnas[50]:1/3, \n",
    "       columnas[51]:0, columnas[52]:0, columnas[53]:0, columnas[54]:0, \n",
    "       columnas[55]:0, columnas[56]:0, columnas[57]:0, columnas[58]:0, \n",
    "       columnas[59]:0, columnas[60]:0, columnas[61]:0, columnas[62]:0, \n",
    "       columnas[63]:0, columnas[64]:0, columnas[65]:1/3, \n",
    "       columnas[66]:0, columnas[67]:0, columnas[68]:0, columnas[69]:1/3}"
   ]
  },
  {
   "cell_type": "code",
   "execution_count": null,
   "metadata": {},
   "outputs": [],
   "source": [
    "user6={columnas[0]:'Jesus', columnas[1]:6, columnas[2]: 1, \n",
    "       \n",
    "       columnas[3]:2/3, columnas[4]:0, columnas[5]:2/3, columnas[6]:2/3, columnas[7]:0, columnas[8]:2/3,\n",
    "       columnas[9]:2/3, columnas[10]:0, columnas[11]:2/3, columnas[12]:2/3, columnas[13]:0, columnas[14]:2/3,\n",
    "       columnas[15]:0, columnas[16]:2/3, columnas[17]:0, columnas[18]:2/3, columnas[19]:2/3, columnas[20]:2/3,\n",
    "       \n",
    "       columnas[21]:0, columnas[22]:0, columnas[23]:1/3, columnas[24]:1/3, \n",
    "       columnas[25]:0, columnas[26]:0, columnas[27]:0, columnas[28]:0, \n",
    "       columnas[29]:0, columnas[30]:0, columnas[31]:0, columnas[32]:1/3,\n",
    "       columnas[33]:0, columnas[34]:0, columnas[35]:0, columnas[36]:1/3, \n",
    "       columnas[37]:0, columnas[38]:1/3, \n",
    "       columnas[39]:1/3, columnas[40]:1/3, columnas[41]:0, columnas[42]:1/3, \n",
    "       columnas[43]:0, columnas[44]:0, columnas[45]:0, columnas[46]:0, \n",
    "       columnas[47]:0, columnas[48]:0, columnas[49]:0, columnas[50]:1/3, \n",
    "       columnas[51]:1/3, columnas[52]:0, columnas[53]:0, columnas[54]:1/3, \n",
    "       columnas[55]:0, columnas[56]:0, columnas[57]:0, columnas[58]:0, \n",
    "       columnas[59]:1/3, columnas[60]:0, columnas[61]:0, columnas[62]:1/3, \n",
    "       columnas[63]:0, columnas[64]:0, columnas[65]:1/3, \n",
    "       columnas[66]:1/3, columnas[67]:0, columnas[68]:0, columnas[69]:1/3}"
   ]
  },
  {
   "cell_type": "code",
   "execution_count": null,
   "metadata": {},
   "outputs": [],
   "source": [
    "user7={columnas[0]:'Alba', columnas[1]:7, columnas[2]: 1, \n",
    "       \n",
    "       columnas[3]:2/3, columnas[4]:0, columnas[5]:2/3, columnas[6]:2/3, columnas[7]:2/3, columnas[8]:2/3,\n",
    "       columnas[9]:0 ,columnas[10]:2/3, columnas[11]:2/3, columnas[12]:2/3, columnas[13]:2/3, columnas[14]:0,\n",
    "       columnas[15]:2/3, columnas[16]:2/3, columnas[17]:0, columnas[18]:0, columnas[19]:0, columnas[20]:2/3,\n",
    "       \n",
    "       columnas[21]:1/3, columnas[22]:1/3, columnas[23]:0, columnas[24]:0, \n",
    "       columnas[25]:0, columnas[26]:0, columnas[27]:0, columnas[28]:0, \n",
    "       columnas[29]:1/3, columnas[30]:0, columnas[31]:0, columnas[32]:1/3,\n",
    "       columnas[33]:1/3, columnas[34]:0, columnas[35]:1/3, columnas[36]:1/3, \n",
    "       columnas[37]:1/3, columnas[38]:0, \n",
    "       columnas[39]:0, columnas[40]:0, columnas[41]:0, columnas[42]:0, \n",
    "       columnas[43]:1/3, columnas[44]:0, columnas[45]:0, columnas[46]:0, \n",
    "       columnas[47]:1/3, columnas[48]:0, columnas[49]:0, columnas[50]:1/3, \n",
    "       columnas[51]:0, columnas[52]:0, columnas[53]:0, columnas[54]:1/3, \n",
    "       columnas[55]:0, columnas[56]:0, columnas[57]:0, columnas[58]:1/3, \n",
    "       columnas[59]:0, columnas[60]:0, columnas[61]:0, columnas[62]:0, \n",
    "       columnas[63]:0, columnas[64]:0, columnas[65]:0, \n",
    "       columnas[66]:1/3, columnas[67]:0, columnas[68]:1/3, columnas[69]:0}"
   ]
  },
  {
   "cell_type": "code",
   "execution_count": null,
   "metadata": {},
   "outputs": [],
   "source": [
    "user8={columnas[0]:'Adolfo', columnas[1]:8, columnas[2]: 1, \n",
    "       \n",
    "       columnas[3]:2/3, columnas[4]:0, columnas[5]:0, columnas[6]:2/3, columnas[7]:0, columnas[8]:2/3,\n",
    "       columnas[9]:2/3 ,columnas[10]:0, columnas[11]:2/3, columnas[12]:2/3, columnas[13]:0, columnas[14]:0,\n",
    "       columnas[15]:2/3, columnas[16]:2/3, columnas[17]:2/3, columnas[18]:2/3, columnas[19]:2/3, columnas[20]:0,\n",
    "       \n",
    "       columnas[21]:1/3, columnas[22]:0, columnas[23]:0, columnas[24]:1/3, \n",
    "       columnas[25]:0, columnas[26]:0, columnas[27]:0, columnas[28]:0, \n",
    "       columnas[29]:0, columnas[30]:0, columnas[31]:0, columnas[32]:0,\n",
    "       columnas[33]:0, columnas[34]:0, columnas[35]:1/3, columnas[36]:1/3, \n",
    "       columnas[37]:1/3, columnas[38]:1/3, \n",
    "       columnas[39]:1/3, columnas[40]:0, columnas[41]:0, columnas[42]:1/3, \n",
    "       columnas[43]:0, columnas[44]:0, columnas[45]:0, columnas[46]:0, \n",
    "       columnas[47]:0, columnas[48]:0, columnas[49]:1/3, columnas[50]:0, \n",
    "       columnas[51]:0, columnas[52]:0, columnas[53]:1/3, columnas[54]:1/3, \n",
    "       columnas[55]:0, columnas[56]:0, columnas[57]:0, columnas[58]:0, \n",
    "       columnas[59]:0, columnas[60]:0, columnas[61]:0, columnas[62]:0, \n",
    "       columnas[63]:0, columnas[64]:1/3, columnas[65]:1/3, \n",
    "       columnas[66]:0, columnas[67]:0, columnas[68]:0, columnas[69]:0}"
   ]
  },
  {
   "cell_type": "code",
   "execution_count": null,
   "metadata": {},
   "outputs": [],
   "source": [
    "user9={columnas[0]:'Nuria', columnas[1]:9, columnas[2]: 1, \n",
    "       \n",
    "       columnas[3]:2/3, columnas[4]:2/3, columnas[5]:0, columnas[6]:2/3, columnas[7]:0, columnas[8]:2/3,\n",
    "       columnas[9]:2/3 ,columnas[10]:0, columnas[11]:0, columnas[12]:0, columnas[13]:0, columnas[14]:2/3,\n",
    "       columnas[15]:2/3, columnas[16]:2/3, columnas[17]:0, columnas[18]:0, columnas[19]:2/3, columnas[20]:0,\n",
    "       \n",
    "       columnas[21]:1/3, columnas[22]:1/3, columnas[23]:0, columnas[24]:0, \n",
    "       columnas[25]:0, columnas[26]:0, columnas[27]:1/3, columnas[28]:1/3, \n",
    "       columnas[29]:0, columnas[30]:0, columnas[31]:0, columnas[32]:0,\n",
    "       columnas[33]:1/3, columnas[34]:0, columnas[35]:0, columnas[36]:0, \n",
    "       columnas[37]:1/3, columnas[38]:1/3, \n",
    "       columnas[39]:0, columnas[40]:1/3, columnas[41]:0, columnas[42]:1/3, \n",
    "       columnas[43]:0, columnas[44]:0, columnas[45]:0, columnas[46]:0, \n",
    "       columnas[47]:0, columnas[48]:0, columnas[49]:0, columnas[50]:0, \n",
    "       columnas[51]:0, columnas[52]:0, columnas[53]:0, columnas[54]:0, \n",
    "       columnas[55]:0, columnas[56]:0, columnas[57]:0, columnas[58]:0, \n",
    "       columnas[59]:1/3, columnas[60]:1/3, columnas[61]:0, columnas[62]:0, \n",
    "       columnas[63]:1/3, columnas[64]:0, columnas[65]:1/3, \n",
    "       columnas[66]:0, columnas[67]:0, columnas[68]:0, columnas[69]:0}"
   ]
  },
  {
   "cell_type": "code",
   "execution_count": null,
   "metadata": {},
   "outputs": [],
   "source": [
    "user10={columnas[0]:'Jaime', columnas[1]:10, columnas[2]: 1, \n",
    "       \n",
    "       columnas[3]:2/3, columnas[4]:0, columnas[5]:2/3, columnas[6]:2/3, columnas[7]:2/3, columnas[8]:2/3,\n",
    "       columnas[9]:0 ,columnas[10]:0, columnas[11]:2/3, columnas[12]:0, columnas[13]:0, columnas[14]:0,\n",
    "       columnas[15]:0, columnas[16]:2/3, columnas[17]:2/3, columnas[18]:0, columnas[19]:2/3, columnas[20]:0,\n",
    "       \n",
    "       columnas[21]:1/3, columnas[22]:1/3, columnas[23]:1/3, columnas[24]:0, \n",
    "       columnas[25]:0, columnas[26]:0, columnas[27]:0, columnas[28]:0, \n",
    "       columnas[29]:1/3, columnas[30]:0, columnas[31]:0, columnas[32]:1/3,\n",
    "       columnas[33]:0, columnas[34]:0, columnas[35]:0, columnas[36]:1/3, \n",
    "       columnas[37]:1/3, columnas[38]:1/3, \n",
    "       columnas[39]:0, columnas[40]:0, columnas[41]:0, columnas[42]:0, \n",
    "       columnas[43]:0, columnas[44]:0, columnas[45]:0, columnas[46]:0, \n",
    "       columnas[47]:0, columnas[48]:0, columnas[49]:0, columnas[50]:0, \n",
    "       columnas[51]:0, columnas[52]:0, columnas[53]:0, columnas[54]:0, \n",
    "       columnas[55]:0, columnas[56]:0, columnas[57]:0, columnas[58]:0, \n",
    "       columnas[59]:0, columnas[60]:0, columnas[61]:0, columnas[62]:0, \n",
    "       columnas[63]:1/3, columnas[64]:1/3, columnas[65]:1/3, \n",
    "       columnas[66]:0, columnas[67]:0, columnas[68]:0, columnas[69]:0}"
   ]
  },
  {
   "cell_type": "code",
   "execution_count": null,
   "metadata": {},
   "outputs": [],
   "source": [
    "user_list=[user1, user2, user3, user4, user5, user6, user7, user8, user9, user10]\n",
    "\n",
    "for e in user_list:\n",
    "    data=data.append(other=e, ignore_index=True)\n",
    "data"
   ]
  },
  {
   "cell_type": "code",
   "execution_count": null,
   "metadata": {},
   "outputs": [],
   "source": [
    "#data.set_index('Nombre', inplace=True)\n",
    "#data"
   ]
  },
  {
   "cell_type": "code",
   "execution_count": null,
   "metadata": {},
   "outputs": [],
   "source": [
    "# new user function\n",
    "\n",
    "\n",
    "def new_user(df, tags, metric='euclidean', Nombre, Cine, Teatro, Cervezas, Vino, Fiesta, Viajes, Rock, Pop, Jazz, Techno,\n",
    "            RAP, Indie, Correr, Gym, Golf, Basket, Football, Yoga, Drama, Comedia_c, Terror, Anime,\n",
    "            Tragedia, Comedia_t, Mimica, Dramatico, Lager, PaleAle, Artesanas, Pilsener, Blanco,\n",
    "            Tinto, Rosado, Espumoso, Engrupo, Solo, Alternativo, Heavy, Country, Grunge, Latino,\n",
    "            Punk, Hard, Folk, Cool, Free, Smooth, Acid_j, Minimal, House, Hardcore, Acid_t, Gangsta,\n",
    "            Poetico, Politico, Instrumental, Alternativo, Electronico, Folk, Griendie,\n",
    "            Sala, Siete, Once, Vinyasa, Kundalini, Bikram, Nidra):\n",
    "    \n",
    "    \n",
    "    rating=[Nombre, len(df)+1, 0, Cine, Teatro, Cervezas, Vino, Fiesta, Viajes, Rock, Pop, Jazz, Techno,\n",
    "            RAP, Indie, Correr, Gym, Golf, Basket, Football, Yoga, Drama, Comedia_c, Terror, Anime,\n",
    "            Tragedia, Comedia_t, Mimica, Dramatico, Lager, PaleAle, Artesanas, Pilsener, Blanco,\n",
    "            Tinto, Rosado, Espumoso, Engrupo, Solo, Alternativo, Heavy, Country, Grunge, Latino,\n",
    "            Punk, Hard, Folk, Cool, Free, Smooth, Acid_j, Minimal, House, Hardcore, Acid_t, Gangsta,\n",
    "            Poetico, Politico, Instrumental, Alternativo, Electronico, Folk, Griendie,\n",
    "            Sala, Siete, Once, Vinyasa, Kundalini, Bikram, Nidra]\n",
    "    \n",
    "    \n",
    "    n_user={k:v for k, v in list(zip(tags, rating))}\n",
    "    \n",
    "    \n",
    "    similar = pd.DataFrame(0.8/(1 + squareform(pdist(df.iloc[:, 3:], metric))), \n",
    "                         index=df.index, columns=df.index)\n",
    "\n",
    "    similarities = similar[n_user['Id']].sort_values(ascending=False)\n",
    "    \n",
    "    closer_users=[]\n",
    "    for e in similarities.index:\n",
    "        if df.ix[e].plan==1:\n",
    "            closer_users.append(e)\n",
    "    \n",
    "    return list(map(list, zip(closer_users[:10], similarities.ix[closer_users[:10]])))#df.ix[closer_users[:10]][['id', 'plan']]"
   ]
  },
  {
   "cell_type": "code",
   "execution_count": null,
   "metadata": {},
   "outputs": [],
   "source": [
    "# new users ratings\n",
    "\n",
    "print ('Your name is:')\n",
    "Nombre=str(input())"
   ]
  },
  {
   "cell_type": "code",
   "execution_count": null,
   "metadata": {},
   "outputs": [],
   "source": [
    "print('Rate cine :')\n",
    "Cine = int(input())*2/3 \n",
    "if Cine!=0:\n",
    "    print('Rate drama :')\n",
    "    Drama = int(input())*1/3\n",
    "    \n",
    "    print('Rate comedy :')\n",
    "    Comedia_c = int(input())*1/3\n",
    " \n",
    "    print('Rate terror :')\n",
    "    Terror = int(input())*1/3\n",
    " \n",
    "    print('Rate anime :')\n",
    "    Anime = int(input())*1/3\n",
    "\n",
    "else:\n",
    "    Drama = 0\n",
    "    Comedia_c = 0\n",
    "    Terror = 0\n",
    "    Anime = 0\n"
   ]
  },
  {
   "cell_type": "code",
   "execution_count": null,
   "metadata": {},
   "outputs": [],
   "source": [
    "print('Rate theater :')\n",
    "Teatro = int(input())*2/3 \n",
    "if Teatro!=0:\n",
    "    print('Rate tragedia :')\n",
    "    Tragedia = int(input())*1/3\n",
    "    \n",
    "    print('Rate comedy :')\n",
    "    Comedia_t = int(input())*1/3\n",
    " \n",
    "    print('Rate mimics :')\n",
    "    Mimica = int(input())*1/3\n",
    " \n",
    "    print('Rate drama :')\n",
    "    Dramatico = int(input())*1/3\n",
    "\n",
    "else:\n",
    "    Tragedia = 0\n",
    "    Comedia_t = 0\n",
    "    Mimica = 0\n",
    "    Dramatico = 0\n"
   ]
  },
  {
   "cell_type": "code",
   "execution_count": null,
   "metadata": {},
   "outputs": [],
   "source": [
    "print('Rate beers :')\n",
    "Cervezas = int(input())*2/3 \n",
    "if Cervezas!=0:\n",
    "    print('Rate lager :')\n",
    "    Lager = int(input())*1/3\n",
    "    \n",
    "    print('Rate pale ale :')\n",
    "    PaleAle = int(input())*1/3\n",
    " \n",
    "    print('Rate home made beer :')\n",
    "    Artesanas = int(input())*1/3\n",
    " \n",
    "    print('Rate pilsener :')\n",
    "    Pilsener = int(input())*1/3\n",
    "\n",
    "else:\n",
    "    Lager = 0\n",
    "    PaleAle = 0\n",
    "    Artesanas = 0\n",
    "    Pilsener = 0\n"
   ]
  },
  {
   "cell_type": "code",
   "execution_count": null,
   "metadata": {},
   "outputs": [],
   "source": [
    "print('Rate wine :')\n",
    "Vino = int(input())*2/3 \n",
    "if Vino!=0:\n",
    "    print('Rate white wine :')\n",
    "    Blanco = int(input())*1/3\n",
    "    \n",
    "    print('Rate red wine :')\n",
    "    Tinto = int(input())*1/3\n",
    " \n",
    "    print('Rate pink wine :')\n",
    "    Rosado = int(input())*1/3\n",
    " \n",
    "    print('Rate sparkling wine :')\n",
    "    Espumoso = int(input())*1/3\n",
    "\n",
    "else:\n",
    "    Blanco = 0\n",
    "    Tinto = 0\n",
    "    Rosado = 0\n",
    "    Espumoso = 0\n"
   ]
  },
  {
   "cell_type": "code",
   "execution_count": null,
   "metadata": {},
   "outputs": [],
   "source": [
    "print('Rate party :')\n",
    "Fiesta = int(input())*2/3 "
   ]
  },
  {
   "cell_type": "code",
   "execution_count": null,
   "metadata": {},
   "outputs": [],
   "source": [
    "print('Rate trips :')\n",
    "Viajes = int(input())*2/3 \n",
    "if Viajes!=0:\n",
    "    print('Rate trips in group :')\n",
    "    Engrupo = int(input())*1/3\n",
    "    \n",
    "    print('Rate trips alone :')\n",
    "    Solo = int(input())*1/3\n",
    "\n",
    "\n",
    "else:\n",
    "    Engrupo = 0\n",
    "    Solo = 0\n"
   ]
  },
  {
   "cell_type": "code",
   "execution_count": null,
   "metadata": {},
   "outputs": [],
   "source": [
    "print('Rate rock :')\n",
    "Rock = int(input())*2/3 \n",
    "if Rock!=0:\n",
    "    print('Rate alternative rock :')\n",
    "    Alternativo = int(input())*1/3\n",
    "    \n",
    "    print('Rate heavy :')\n",
    "    Heavy = int(input())*1/3\n",
    " \n",
    "    print('Rate country :')\n",
    "    Country = int(input())*1/3\n",
    " \n",
    "    print('Rate Grunge :')\n",
    "    Grunge = int(input())*1/3\n",
    "\n",
    "else:\n",
    "    Alternativo = 0\n",
    "    Heavy = 0\n",
    "    Country = 0\n",
    "    Grunge = 0\n"
   ]
  }
 ],
 "metadata": {
  "kernelspec": {
   "display_name": "Python 3",
   "language": "python",
   "name": "python3"
  },
  "language_info": {
   "codemirror_mode": {
    "name": "ipython",
    "version": 3
   },
   "file_extension": ".py",
   "mimetype": "text/x-python",
   "name": "python",
   "nbconvert_exporter": "python",
   "pygments_lexer": "ipython3",
   "version": "3.7.2"
  }
 },
 "nbformat": 4,
 "nbformat_minor": 2
}
