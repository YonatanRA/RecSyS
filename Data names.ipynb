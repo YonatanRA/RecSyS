{
 "cells": [
  {
   "cell_type": "markdown",
   "metadata": {},
   "source": [
    "# RecSys Utoppia"
   ]
  },
  {
   "cell_type": "code",
   "execution_count": 2,
   "metadata": {},
   "outputs": [
    {
     "data": {
      "text/html": [
       "        <script type=\"text/javascript\">\n",
       "        window.PlotlyConfig = {MathJaxConfig: 'local'};\n",
       "        if (window.MathJax) {MathJax.Hub.Config({SVG: {font: \"STIX-Web\"}});}\n",
       "        if (typeof require !== 'undefined') {\n",
       "        require.undef(\"plotly\");\n",
       "        requirejs.config({\n",
       "            paths: {\n",
       "                'plotly': ['https://cdn.plot.ly/plotly-latest.min']\n",
       "            }\n",
       "        });\n",
       "        require(['plotly'], function(Plotly) {\n",
       "            window._Plotly = Plotly;\n",
       "        });\n",
       "        }\n",
       "        </script>\n",
       "        "
      ]
     },
     "metadata": {},
     "output_type": "display_data"
    }
   ],
   "source": [
    "# Demo recsys boolean (0-1)\n",
    "\n",
    "# import libraries\n",
    "\n",
    "\n",
    "%matplotlib inline\n",
    "import seaborn as sns\n",
    "import warnings\n",
    "warnings.filterwarnings(\"ignore\",category=DeprecationWarning)\n",
    "import pandas as pd\n",
    "import numpy as np\n",
    "import matplotlib.pyplot as plt\n",
    "from scipy.spatial.distance import pdist, squareform\n",
    "from operator import itemgetter\n",
    "#import plotly.plotly as py\n",
    "import chart_studio.plotly as py\n",
    "import cufflinks as cf\n",
    "cf.go_offline()"
   ]
  },
  {
   "cell_type": "code",
   "execution_count": 2,
   "metadata": {},
   "outputs": [],
   "source": [
    "# tags\n",
    "\n",
    "tags=['Cine', 'Teatro', 'Cervezas', 'Vino', 'Fiesta', 'Viajes', 'Rock' ,'Pop',\n",
    "      'Jazz', 'Techno', 'RAP', 'Indie', 'Correr', 'Gym', 'Golf', 'Basket', 'Football', 'Yoga']"
   ]
  },
  {
   "cell_type": "code",
   "execution_count": 3,
   "metadata": {},
   "outputs": [],
   "source": [
    "# subtags\n",
    "\n",
    "st_cine=['Drama', 'Comedia_c', 'Terror', 'Anime']"
   ]
  },
  {
   "cell_type": "code",
   "execution_count": 4,
   "metadata": {},
   "outputs": [],
   "source": [
    "st_teatro=['Tragedia', 'Comedia_t', 'Mimica', 'Dramatico']"
   ]
  },
  {
   "cell_type": "code",
   "execution_count": 5,
   "metadata": {},
   "outputs": [],
   "source": [
    "st_cerveza=['Lager', 'Pale Ale', 'Artesanas', 'Pilsener']"
   ]
  },
  {
   "cell_type": "code",
   "execution_count": 6,
   "metadata": {},
   "outputs": [],
   "source": [
    "st_vino=['Blanco', 'Tinto', 'Rosado', 'Espumoso']"
   ]
  },
  {
   "cell_type": "code",
   "execution_count": 7,
   "metadata": {},
   "outputs": [],
   "source": [
    "st_viajes=['En grupo', 'Solo']"
   ]
  },
  {
   "cell_type": "code",
   "execution_count": 8,
   "metadata": {},
   "outputs": [],
   "source": [
    "st_rock=['Alternativo_r', 'Heavy', 'Country', 'Grunge']"
   ]
  },
  {
   "cell_type": "code",
   "execution_count": 9,
   "metadata": {},
   "outputs": [],
   "source": [
    "st_pop=['Latino', 'Punk', 'Hard', 'Folk_p']"
   ]
  },
  {
   "cell_type": "code",
   "execution_count": 10,
   "metadata": {},
   "outputs": [],
   "source": [
    "st_jazz=['Cool', 'Free', 'Smooth', 'Acid_j']"
   ]
  },
  {
   "cell_type": "code",
   "execution_count": 11,
   "metadata": {},
   "outputs": [],
   "source": [
    "st_techno=['Minimal', 'House' ,'Hardcore', 'Acid_t']"
   ]
  },
  {
   "cell_type": "code",
   "execution_count": 12,
   "metadata": {},
   "outputs": [],
   "source": [
    "st_rap=['Gangsta', 'Poetico', 'Politico' ,'Instrumental']"
   ]
  },
  {
   "cell_type": "code",
   "execution_count": 13,
   "metadata": {},
   "outputs": [],
   "source": [
    "st_indie=['Alternativo_i', 'Electronico', 'Folk_i', 'Griendie']"
   ]
  },
  {
   "cell_type": "code",
   "execution_count": 14,
   "metadata": {},
   "outputs": [],
   "source": [
    "st_football=['Sala', '7', '11']"
   ]
  },
  {
   "cell_type": "code",
   "execution_count": 15,
   "metadata": {},
   "outputs": [],
   "source": [
    "st_yoga=['Vinyasa', 'Kundalini', 'Bikram', 'Nidra']"
   ]
  },
  {
   "cell_type": "code",
   "execution_count": 16,
   "metadata": {},
   "outputs": [
    {
     "data": {
      "text/html": [
       "<div>\n",
       "<style scoped>\n",
       "    .dataframe tbody tr th:only-of-type {\n",
       "        vertical-align: middle;\n",
       "    }\n",
       "\n",
       "    .dataframe tbody tr th {\n",
       "        vertical-align: top;\n",
       "    }\n",
       "\n",
       "    .dataframe thead th {\n",
       "        text-align: right;\n",
       "    }\n",
       "</style>\n",
       "<table border=\"1\" class=\"dataframe\">\n",
       "  <thead>\n",
       "    <tr style=\"text-align: right;\">\n",
       "      <th></th>\n",
       "      <th>Nombre</th>\n",
       "      <th>Id</th>\n",
       "      <th>Plan</th>\n",
       "      <th>Cine</th>\n",
       "      <th>Teatro</th>\n",
       "      <th>Cervezas</th>\n",
       "      <th>Vino</th>\n",
       "      <th>Fiesta</th>\n",
       "      <th>Viajes</th>\n",
       "      <th>Rock</th>\n",
       "      <th>...</th>\n",
       "      <th>Electronico</th>\n",
       "      <th>Folk_i</th>\n",
       "      <th>Griendie</th>\n",
       "      <th>Sala</th>\n",
       "      <th>7</th>\n",
       "      <th>11</th>\n",
       "      <th>Vinyasa</th>\n",
       "      <th>Kundalini</th>\n",
       "      <th>Bikram</th>\n",
       "      <th>Nidra</th>\n",
       "    </tr>\n",
       "  </thead>\n",
       "  <tbody>\n",
       "  </tbody>\n",
       "</table>\n",
       "<p>0 rows × 70 columns</p>\n",
       "</div>"
      ],
      "text/plain": [
       "Empty DataFrame\n",
       "Columns: [Nombre, Id, Plan, Cine, Teatro, Cervezas, Vino, Fiesta, Viajes, Rock, Pop, Jazz, Techno, RAP, Indie, Correr, Gym, Golf, Basket, Football, Yoga, Drama, Comedia_c, Terror, Anime, Tragedia, Comedia_t, Mimica, Dramatico, Lager, Pale Ale, Artesanas, Pilsener, Blanco, Tinto, Rosado, Espumoso, En grupo, Solo, Alternativo_r, Heavy, Country, Grunge, Latino, Punk, Hard, Folk_p, Cool, Free, Smooth, Acid_j, Minimal, House, Hardcore, Acid_t, Gangsta, Poetico, Politico, Instrumental, Alternativo_i, Electronico, Folk_i, Griendie, Sala, 7, 11, Vinyasa, Kundalini, Bikram, Nidra]\n",
       "Index: []\n",
       "\n",
       "[0 rows x 70 columns]"
      ]
     },
     "execution_count": 16,
     "metadata": {},
     "output_type": "execute_result"
    }
   ],
   "source": [
    "# empty dataframe\n",
    "\n",
    "columnas=['Nombre', 'Id', 'Plan']+tags+st_cine+st_teatro+st_cerveza+st_vino+st_viajes+st_rock+st_pop+st_jazz+\\\n",
    "        st_techno+st_rap+st_indie+st_football+st_yoga\n",
    "\n",
    "data=pd.DataFrame(columns=columnas)\n",
    "data"
   ]
  },
  {
   "cell_type": "code",
   "execution_count": 17,
   "metadata": {},
   "outputs": [],
   "source": [
    "# users\n",
    "\n",
    "user1={columnas[0]:'Marta', columnas[1]:1, columnas[2]: 1, \n",
    "       \n",
    "       columnas[3]:2/3, columnas[4]:0, columnas[5]:2/3, columnas[6]:2/3, columnas[7]:0, columnas[8]:2/3,\n",
    "       columnas[9]:0 ,columnas[10]:2/3, columnas[11]:0, columnas[12]:2/3, columnas[13]:0, columnas[14]:2/3,\n",
    "       columnas[15]:0, columnas[16]:2/3, columnas[17]:2/3, columnas[18]:0, columnas[19]:0, columnas[20]:2/3,\n",
    "       \n",
    "       columnas[21]:1/3, columnas[22]:1/3, columnas[23]:0, columnas[24]:0, \n",
    "       columnas[25]:0, columnas[26]:0, columnas[27]:0, columnas[28]:0, \n",
    "       columnas[29]:1/3, columnas[30]:1/3, columnas[31]:1/3, columnas[32]:0,\n",
    "       columnas[33]:1/3, columnas[34]:1/3, columnas[35]:0, columnas[36]:0, \n",
    "       columnas[37]:1/3, columnas[38]:1/3, \n",
    "       columnas[39]:0, columnas[40]:0, columnas[41]:0, columnas[42]:0, \n",
    "       columnas[43]:1/3, columnas[44]:0, columnas[45]:0, columnas[46]: 1/3, \n",
    "       columnas[47]:0, columnas[48]:0, columnas[49]:0, columnas[50]:0, \n",
    "       columnas[51]:0, columnas[52]:1/3, columnas[53]:0, columnas[54]:0, \n",
    "       columnas[55]:0, columnas[56]:0, columnas[57]:0, columnas[58]:0, \n",
    "       columnas[59]:1/3, columnas[60]:1/3, columnas[61]:0, columnas[62]:0, \n",
    "       columnas[63]:0, columnas[64]:0, columnas[65]:0, \n",
    "       columnas[66]:1/3, columnas[67]:0, columnas[68]:0, columnas[69]:0}"
   ]
  },
  {
   "cell_type": "code",
   "execution_count": 18,
   "metadata": {},
   "outputs": [],
   "source": [
    "user2={columnas[0]:'Juan', columnas[1]:2, columnas[2]: 1, \n",
    "       \n",
    "       columnas[3]:2/3, columnas[4]:2/3, columnas[5]:0, columnas[6]:2/3, columnas[7]:2/3, columnas[8]:0,\n",
    "       columnas[9]:0 ,columnas[10]:2/3, columnas[11]:0, columnas[12]:2/3, columnas[13]:2/3, columnas[14]:0,\n",
    "       columnas[15]:0, columnas[16]:2/3, columnas[17]:2/3, columnas[18]:0, columnas[19]:2/3, columnas[20]:0,\n",
    "       \n",
    "       columnas[21]:1/3, columnas[22]:0, columnas[23]:0, columnas[24]:1/3, \n",
    "       columnas[25]:1/3, columnas[26]:0, columnas[27]:0, columnas[28]:1/3, \n",
    "       columnas[29]:0, columnas[30]:0, columnas[31]:0, columnas[32]:0,\n",
    "       columnas[33]:0, columnas[34]:1/3, columnas[35]:0, columnas[36]:1/3, \n",
    "       columnas[37]:0, columnas[38]:0, \n",
    "       columnas[39]:0, columnas[40]:0, columnas[41]:0, columnas[42]:0, \n",
    "       columnas[43]:0, columnas[44]:1/3, columnas[45]:1/3, columnas[46]:0, \n",
    "       columnas[47]:0, columnas[48]:0, columnas[49]:0, columnas[50]:0, \n",
    "       columnas[51]:1/3, columnas[52]:1/3, columnas[53]:0, columnas[54]:0, \n",
    "       columnas[55]:1/3, columnas[56]:1/3, columnas[57]:0, columnas[58]:0, \n",
    "       columnas[59]:0, columnas[60]:0, columnas[61]:0, columnas[62]:0, \n",
    "       columnas[63]:0, columnas[64]:0, columnas[65]:1/3, \n",
    "       columnas[66]:0, columnas[67]:0, columnas[68]:0, columnas[69]:0}"
   ]
  },
  {
   "cell_type": "code",
   "execution_count": 19,
   "metadata": {},
   "outputs": [],
   "source": [
    "user3={columnas[0]:'Monica', columnas[1]:3, columnas[2]: 1, \n",
    "       \n",
    "       columnas[3]:2/3, columnas[4]:2/3, columnas[5]:0, columnas[6]:0, columnas[7]:0, columnas[8]:0,\n",
    "       columnas[9]:0 ,columnas[10]:0, columnas[11]:0, columnas[12]:0, columnas[13]:2/3, columnas[14]:2/3,\n",
    "       columnas[15]:0, columnas[16]:0, columnas[17]:0, columnas[18]:0, columnas[19]:2/3, columnas[20]:2/3,\n",
    "       \n",
    "       columnas[21]:1/3, columnas[22]:1/3, columnas[23]:0, columnas[24]:0, \n",
    "       columnas[25]:0, columnas[26]:1/3, columnas[27]:0, columnas[28]:1/3, \n",
    "       columnas[29]:0, columnas[30]:0, columnas[31]:0, columnas[32]:0,\n",
    "       columnas[33]:0, columnas[34]:0, columnas[35]:0, columnas[36]:0, \n",
    "       columnas[37]:0, columnas[38]:0, \n",
    "       columnas[39]:0, columnas[40]:0, columnas[41]:0, columnas[42]:0, \n",
    "       columnas[43]:0, columnas[44]:0, columnas[45]:0, columnas[46]:0, \n",
    "       columnas[47]:0, columnas[48]:0, columnas[49]:0, columnas[50]:0, \n",
    "       columnas[51]:0, columnas[52]:0, columnas[53]:0, columnas[54]:0, \n",
    "       columnas[55]:1/3, columnas[56]:1/3, columnas[57]:1/3, columnas[58]:1/3, \n",
    "       columnas[59]:1/3, columnas[60]:1/3, columnas[61]:0, columnas[62]:0, \n",
    "       columnas[63]:1/3, columnas[64]:0, columnas[65]:1/3, \n",
    "       columnas[66]:1/3, columnas[67]:1/3, columnas[68]:0, columnas[69]:0}"
   ]
  },
  {
   "cell_type": "code",
   "execution_count": 20,
   "metadata": {},
   "outputs": [],
   "source": [
    "user4={columnas[0]:'Alvaro', columnas[1]:4, columnas[2]: 1, \n",
    "       \n",
    "       columnas[3]:2/3, columnas[4]:2/3, columnas[5]:2/3, columnas[6]:2/3, columnas[7]:0, columnas[8]:2/3,\n",
    "       columnas[9]:0 ,columnas[10]:0, columnas[11]:0, columnas[12]:0, columnas[13]:0, columnas[14]:2/3,\n",
    "       columnas[15]:2/3, columnas[16]:2/3, columnas[17]:2/3, columnas[18]:0, columnas[19]:2/3, columnas[20]:2/3,\n",
    "       \n",
    "       columnas[21]:0, columnas[22]:0, columnas[23]:1/3, columnas[24]:1/3, \n",
    "       columnas[25]:0, columnas[26]:0, columnas[27]:1/3, columnas[28]:1/3, \n",
    "       columnas[29]:1/3, columnas[30]:0, columnas[31]:0, columnas[32]:1/3,\n",
    "       columnas[33]:0, columnas[34]:1/3, columnas[35]:1/3, columnas[36]:0, \n",
    "       columnas[37]:1/3, columnas[38]:1/3, \n",
    "       columnas[39]:0, columnas[40]:0, columnas[41]:0, columnas[42]:0, \n",
    "       columnas[43]:0, columnas[44]:0, columnas[45]:0, columnas[46]:0, \n",
    "       columnas[47]:0, columnas[48]:0, columnas[49]:0, columnas[50]:0, \n",
    "       columnas[51]:0, columnas[52]:0, columnas[53]:0, columnas[54]:0, \n",
    "       columnas[55]:0, columnas[56]:0, columnas[57]:0, columnas[58]:0, \n",
    "       columnas[59]:0, columnas[60]:0, columnas[61]:1/3, columnas[62]:1/3, \n",
    "       columnas[63]:1/3, columnas[64]:0, columnas[65]:0, \n",
    "       columnas[66]:0, columnas[67]:0, columnas[68]:1/3, columnas[69]:1/3}"
   ]
  },
  {
   "cell_type": "code",
   "execution_count": 21,
   "metadata": {},
   "outputs": [],
   "source": [
    "user5={columnas[0]:'Maria', columnas[1]:5, columnas[2]: 1, \n",
    "       \n",
    "       columnas[3]:0, columnas[4]:0, columnas[5]:0, columnas[6]:0, columnas[7]:2/3, columnas[8]:2/3,\n",
    "       columnas[9]:2/3 ,columnas[10]:2/3, columnas[11]:2/3, columnas[12]:0, columnas[13]:0, columnas[14]:0,\n",
    "       columnas[15]:0, columnas[16]:0, columnas[17]:2/3, columnas[18]:2/3, columnas[19]:2/3, columnas[20]:2/3,\n",
    "       \n",
    "       columnas[21]:0, columnas[22]:0, columnas[23]:0, columnas[24]:0, \n",
    "       columnas[25]:0, columnas[26]:0, columnas[27]:0, columnas[28]:0, \n",
    "       columnas[29]:0, columnas[30]:0, columnas[31]:0, columnas[32]:0,\n",
    "       columnas[33]:0, columnas[34]:0, columnas[35]:0, columnas[36]:0, \n",
    "       columnas[37]:1/3, columnas[38]:1/3, \n",
    "       columnas[39]:1/3, columnas[40]:0, columnas[41]:0, columnas[42]:1/3, \n",
    "       columnas[43]:1/3, columnas[44]:0, columnas[45]:0, columnas[46]:0, \n",
    "       columnas[47]:1/3, columnas[48]:0, columnas[49]:0, columnas[50]:1/3, \n",
    "       columnas[51]:0, columnas[52]:0, columnas[53]:0, columnas[54]:0, \n",
    "       columnas[55]:0, columnas[56]:0, columnas[57]:0, columnas[58]:0, \n",
    "       columnas[59]:0, columnas[60]:0, columnas[61]:0, columnas[62]:0, \n",
    "       columnas[63]:0, columnas[64]:0, columnas[65]:1/3, \n",
    "       columnas[66]:0, columnas[67]:0, columnas[68]:0, columnas[69]:1/3}"
   ]
  },
  {
   "cell_type": "code",
   "execution_count": 22,
   "metadata": {},
   "outputs": [],
   "source": [
    "user6={columnas[0]:'Jesus', columnas[1]:6, columnas[2]: 1, \n",
    "       \n",
    "       columnas[3]:2/3, columnas[4]:0, columnas[5]:2/3, columnas[6]:2/3, columnas[7]:0, columnas[8]:2/3,\n",
    "       columnas[9]:2/3, columnas[10]:0, columnas[11]:2/3, columnas[12]:2/3, columnas[13]:0, columnas[14]:2/3,\n",
    "       columnas[15]:0, columnas[16]:2/3, columnas[17]:0, columnas[18]:2/3, columnas[19]:2/3, columnas[20]:2/3,\n",
    "       \n",
    "       columnas[21]:0, columnas[22]:0, columnas[23]:1/3, columnas[24]:1/3, \n",
    "       columnas[25]:0, columnas[26]:0, columnas[27]:0, columnas[28]:0, \n",
    "       columnas[29]:0, columnas[30]:0, columnas[31]:0, columnas[32]:1/3,\n",
    "       columnas[33]:0, columnas[34]:0, columnas[35]:0, columnas[36]:1/3, \n",
    "       columnas[37]:0, columnas[38]:1/3, \n",
    "       columnas[39]:1/3, columnas[40]:1/3, columnas[41]:0, columnas[42]:1/3, \n",
    "       columnas[43]:0, columnas[44]:0, columnas[45]:0, columnas[46]:0, \n",
    "       columnas[47]:0, columnas[48]:0, columnas[49]:0, columnas[50]:1/3, \n",
    "       columnas[51]:1/3, columnas[52]:0, columnas[53]:0, columnas[54]:1/3, \n",
    "       columnas[55]:0, columnas[56]:0, columnas[57]:0, columnas[58]:0, \n",
    "       columnas[59]:1/3, columnas[60]:0, columnas[61]:0, columnas[62]:1/3, \n",
    "       columnas[63]:0, columnas[64]:0, columnas[65]:1/3, \n",
    "       columnas[66]:1/3, columnas[67]:0, columnas[68]:0, columnas[69]:1/3}"
   ]
  },
  {
   "cell_type": "code",
   "execution_count": 23,
   "metadata": {},
   "outputs": [],
   "source": [
    "user7={columnas[0]:'Alba', columnas[1]:7, columnas[2]: 1, \n",
    "       \n",
    "       columnas[3]:2/3, columnas[4]:0, columnas[5]:2/3, columnas[6]:2/3, columnas[7]:2/3, columnas[8]:2/3,\n",
    "       columnas[9]:0 ,columnas[10]:2/3, columnas[11]:2/3, columnas[12]:2/3, columnas[13]:2/3, columnas[14]:0,\n",
    "       columnas[15]:2/3, columnas[16]:2/3, columnas[17]:0, columnas[18]:0, columnas[19]:0, columnas[20]:2/3,\n",
    "       \n",
    "       columnas[21]:1/3, columnas[22]:1/3, columnas[23]:0, columnas[24]:0, \n",
    "       columnas[25]:0, columnas[26]:0, columnas[27]:0, columnas[28]:0, \n",
    "       columnas[29]:1/3, columnas[30]:0, columnas[31]:0, columnas[32]:1/3,\n",
    "       columnas[33]:1/3, columnas[34]:0, columnas[35]:1/3, columnas[36]:1/3, \n",
    "       columnas[37]:1/3, columnas[38]:0, \n",
    "       columnas[39]:0, columnas[40]:0, columnas[41]:0, columnas[42]:0, \n",
    "       columnas[43]:1/3, columnas[44]:0, columnas[45]:0, columnas[46]:0, \n",
    "       columnas[47]:1/3, columnas[48]:0, columnas[49]:0, columnas[50]:1/3, \n",
    "       columnas[51]:0, columnas[52]:0, columnas[53]:0, columnas[54]:1/3, \n",
    "       columnas[55]:0, columnas[56]:0, columnas[57]:0, columnas[58]:1/3, \n",
    "       columnas[59]:0, columnas[60]:0, columnas[61]:0, columnas[62]:0, \n",
    "       columnas[63]:0, columnas[64]:0, columnas[65]:0, \n",
    "       columnas[66]:1/3, columnas[67]:0, columnas[68]:1/3, columnas[69]:0}"
   ]
  },
  {
   "cell_type": "code",
   "execution_count": 24,
   "metadata": {},
   "outputs": [],
   "source": [
    "user8={columnas[0]:'Adolfo', columnas[1]:8, columnas[2]: 1, \n",
    "       \n",
    "       columnas[3]:2/3, columnas[4]:0, columnas[5]:0, columnas[6]:2/3, columnas[7]:0, columnas[8]:2/3,\n",
    "       columnas[9]:2/3 ,columnas[10]:0, columnas[11]:2/3, columnas[12]:2/3, columnas[13]:0, columnas[14]:0,\n",
    "       columnas[15]:2/3, columnas[16]:2/3, columnas[17]:2/3, columnas[18]:2/3, columnas[19]:2/3, columnas[20]:0,\n",
    "       \n",
    "       columnas[21]:1/3, columnas[22]:0, columnas[23]:0, columnas[24]:1/3, \n",
    "       columnas[25]:0, columnas[26]:0, columnas[27]:0, columnas[28]:0, \n",
    "       columnas[29]:0, columnas[30]:0, columnas[31]:0, columnas[32]:0,\n",
    "       columnas[33]:0, columnas[34]:0, columnas[35]:1/3, columnas[36]:1/3, \n",
    "       columnas[37]:1/3, columnas[38]:1/3, \n",
    "       columnas[39]:1/3, columnas[40]:0, columnas[41]:0, columnas[42]:1/3, \n",
    "       columnas[43]:0, columnas[44]:0, columnas[45]:0, columnas[46]:0, \n",
    "       columnas[47]:0, columnas[48]:0, columnas[49]:1/3, columnas[50]:0, \n",
    "       columnas[51]:0, columnas[52]:0, columnas[53]:1/3, columnas[54]:1/3, \n",
    "       columnas[55]:0, columnas[56]:0, columnas[57]:0, columnas[58]:0, \n",
    "       columnas[59]:0, columnas[60]:0, columnas[61]:0, columnas[62]:0, \n",
    "       columnas[63]:0, columnas[64]:1/3, columnas[65]:1/3, \n",
    "       columnas[66]:0, columnas[67]:0, columnas[68]:0, columnas[69]:0}"
   ]
  },
  {
   "cell_type": "code",
   "execution_count": 25,
   "metadata": {},
   "outputs": [],
   "source": [
    "user9={columnas[0]:'Nuria', columnas[1]:9, columnas[2]: 1, \n",
    "       \n",
    "       columnas[3]:2/3, columnas[4]:2/3, columnas[5]:0, columnas[6]:2/3, columnas[7]:0, columnas[8]:2/3,\n",
    "       columnas[9]:2/3 ,columnas[10]:0, columnas[11]:0, columnas[12]:0, columnas[13]:0, columnas[14]:2/3,\n",
    "       columnas[15]:2/3, columnas[16]:2/3, columnas[17]:0, columnas[18]:0, columnas[19]:2/3, columnas[20]:0,\n",
    "       \n",
    "       columnas[21]:1/3, columnas[22]:1/3, columnas[23]:0, columnas[24]:0, \n",
    "       columnas[25]:0, columnas[26]:0, columnas[27]:1/3, columnas[28]:1/3, \n",
    "       columnas[29]:0, columnas[30]:0, columnas[31]:0, columnas[32]:0,\n",
    "       columnas[33]:1/3, columnas[34]:0, columnas[35]:0, columnas[36]:0, \n",
    "       columnas[37]:1/3, columnas[38]:1/3, \n",
    "       columnas[39]:0, columnas[40]:1/3, columnas[41]:0, columnas[42]:1/3, \n",
    "       columnas[43]:0, columnas[44]:0, columnas[45]:0, columnas[46]:0, \n",
    "       columnas[47]:0, columnas[48]:0, columnas[49]:0, columnas[50]:0, \n",
    "       columnas[51]:0, columnas[52]:0, columnas[53]:0, columnas[54]:0, \n",
    "       columnas[55]:0, columnas[56]:0, columnas[57]:0, columnas[58]:0, \n",
    "       columnas[59]:1/3, columnas[60]:1/3, columnas[61]:0, columnas[62]:0, \n",
    "       columnas[63]:1/3, columnas[64]:0, columnas[65]:1/3, \n",
    "       columnas[66]:0, columnas[67]:0, columnas[68]:0, columnas[69]:0}"
   ]
  },
  {
   "cell_type": "code",
   "execution_count": 26,
   "metadata": {},
   "outputs": [],
   "source": [
    "user10={columnas[0]:'Jaime', columnas[1]:10, columnas[2]: 1, \n",
    "       \n",
    "       columnas[3]:2/3, columnas[4]:0, columnas[5]:2/3, columnas[6]:2/3, columnas[7]:2/3, columnas[8]:2/3,\n",
    "       columnas[9]:0 ,columnas[10]:0, columnas[11]:2/3, columnas[12]:0, columnas[13]:0, columnas[14]:0,\n",
    "       columnas[15]:0, columnas[16]:2/3, columnas[17]:2/3, columnas[18]:0, columnas[19]:2/3, columnas[20]:0,\n",
    "       \n",
    "       columnas[21]:1/3, columnas[22]:1/3, columnas[23]:1/3, columnas[24]:0, \n",
    "       columnas[25]:0, columnas[26]:0, columnas[27]:0, columnas[28]:0, \n",
    "       columnas[29]:1/3, columnas[30]:0, columnas[31]:0, columnas[32]:1/3,\n",
    "       columnas[33]:0, columnas[34]:0, columnas[35]:0, columnas[36]:1/3, \n",
    "       columnas[37]:1/3, columnas[38]:1/3, \n",
    "       columnas[39]:0, columnas[40]:0, columnas[41]:0, columnas[42]:0, \n",
    "       columnas[43]:0, columnas[44]:0, columnas[45]:0, columnas[46]:0, \n",
    "       columnas[47]:0, columnas[48]:0, columnas[49]:0, columnas[50]:0, \n",
    "       columnas[51]:0, columnas[52]:0, columnas[53]:0, columnas[54]:0, \n",
    "       columnas[55]:0, columnas[56]:0, columnas[57]:0, columnas[58]:0, \n",
    "       columnas[59]:0, columnas[60]:0, columnas[61]:0, columnas[62]:0, \n",
    "       columnas[63]:1/3, columnas[64]:1/3, columnas[65]:1/3, \n",
    "       columnas[66]:0, columnas[67]:0, columnas[68]:0, columnas[69]:0}"
   ]
  },
  {
   "cell_type": "code",
   "execution_count": 27,
   "metadata": {},
   "outputs": [
    {
     "data": {
      "text/html": [
       "<div>\n",
       "<style scoped>\n",
       "    .dataframe tbody tr th:only-of-type {\n",
       "        vertical-align: middle;\n",
       "    }\n",
       "\n",
       "    .dataframe tbody tr th {\n",
       "        vertical-align: top;\n",
       "    }\n",
       "\n",
       "    .dataframe thead th {\n",
       "        text-align: right;\n",
       "    }\n",
       "</style>\n",
       "<table border=\"1\" class=\"dataframe\">\n",
       "  <thead>\n",
       "    <tr style=\"text-align: right;\">\n",
       "      <th></th>\n",
       "      <th>Nombre</th>\n",
       "      <th>Id</th>\n",
       "      <th>Plan</th>\n",
       "      <th>Cine</th>\n",
       "      <th>Teatro</th>\n",
       "      <th>Cervezas</th>\n",
       "      <th>Vino</th>\n",
       "      <th>Fiesta</th>\n",
       "      <th>Viajes</th>\n",
       "      <th>Rock</th>\n",
       "      <th>...</th>\n",
       "      <th>Electronico</th>\n",
       "      <th>Folk_i</th>\n",
       "      <th>Griendie</th>\n",
       "      <th>Sala</th>\n",
       "      <th>7</th>\n",
       "      <th>11</th>\n",
       "      <th>Vinyasa</th>\n",
       "      <th>Kundalini</th>\n",
       "      <th>Bikram</th>\n",
       "      <th>Nidra</th>\n",
       "    </tr>\n",
       "  </thead>\n",
       "  <tbody>\n",
       "    <tr>\n",
       "      <th>0</th>\n",
       "      <td>Marta</td>\n",
       "      <td>1</td>\n",
       "      <td>1</td>\n",
       "      <td>0.666667</td>\n",
       "      <td>0</td>\n",
       "      <td>0.666667</td>\n",
       "      <td>0.666667</td>\n",
       "      <td>0</td>\n",
       "      <td>0.666667</td>\n",
       "      <td>0</td>\n",
       "      <td>...</td>\n",
       "      <td>0.333333</td>\n",
       "      <td>0</td>\n",
       "      <td>0</td>\n",
       "      <td>0</td>\n",
       "      <td>0</td>\n",
       "      <td>0</td>\n",
       "      <td>0.333333</td>\n",
       "      <td>0</td>\n",
       "      <td>0</td>\n",
       "      <td>0</td>\n",
       "    </tr>\n",
       "    <tr>\n",
       "      <th>1</th>\n",
       "      <td>Juan</td>\n",
       "      <td>2</td>\n",
       "      <td>1</td>\n",
       "      <td>0.666667</td>\n",
       "      <td>0.666667</td>\n",
       "      <td>0.000000</td>\n",
       "      <td>0.666667</td>\n",
       "      <td>0.666667</td>\n",
       "      <td>0.000000</td>\n",
       "      <td>0</td>\n",
       "      <td>...</td>\n",
       "      <td>0.000000</td>\n",
       "      <td>0</td>\n",
       "      <td>0</td>\n",
       "      <td>0</td>\n",
       "      <td>0</td>\n",
       "      <td>0.333333</td>\n",
       "      <td>0.000000</td>\n",
       "      <td>0</td>\n",
       "      <td>0</td>\n",
       "      <td>0</td>\n",
       "    </tr>\n",
       "    <tr>\n",
       "      <th>2</th>\n",
       "      <td>Monica</td>\n",
       "      <td>3</td>\n",
       "      <td>1</td>\n",
       "      <td>0.666667</td>\n",
       "      <td>0.666667</td>\n",
       "      <td>0.000000</td>\n",
       "      <td>0.000000</td>\n",
       "      <td>0</td>\n",
       "      <td>0.000000</td>\n",
       "      <td>0</td>\n",
       "      <td>...</td>\n",
       "      <td>0.333333</td>\n",
       "      <td>0</td>\n",
       "      <td>0</td>\n",
       "      <td>0.333333</td>\n",
       "      <td>0</td>\n",
       "      <td>0.333333</td>\n",
       "      <td>0.333333</td>\n",
       "      <td>0.333333</td>\n",
       "      <td>0</td>\n",
       "      <td>0</td>\n",
       "    </tr>\n",
       "    <tr>\n",
       "      <th>3</th>\n",
       "      <td>Alvaro</td>\n",
       "      <td>4</td>\n",
       "      <td>1</td>\n",
       "      <td>0.666667</td>\n",
       "      <td>0.666667</td>\n",
       "      <td>0.666667</td>\n",
       "      <td>0.666667</td>\n",
       "      <td>0</td>\n",
       "      <td>0.666667</td>\n",
       "      <td>0</td>\n",
       "      <td>...</td>\n",
       "      <td>0.000000</td>\n",
       "      <td>0.333333</td>\n",
       "      <td>0.333333</td>\n",
       "      <td>0.333333</td>\n",
       "      <td>0</td>\n",
       "      <td>0</td>\n",
       "      <td>0.000000</td>\n",
       "      <td>0</td>\n",
       "      <td>0.333333</td>\n",
       "      <td>0.333333</td>\n",
       "    </tr>\n",
       "    <tr>\n",
       "      <th>4</th>\n",
       "      <td>Maria</td>\n",
       "      <td>5</td>\n",
       "      <td>1</td>\n",
       "      <td>0.000000</td>\n",
       "      <td>0</td>\n",
       "      <td>0.000000</td>\n",
       "      <td>0.000000</td>\n",
       "      <td>0.666667</td>\n",
       "      <td>0.666667</td>\n",
       "      <td>0.666667</td>\n",
       "      <td>...</td>\n",
       "      <td>0.000000</td>\n",
       "      <td>0</td>\n",
       "      <td>0</td>\n",
       "      <td>0</td>\n",
       "      <td>0</td>\n",
       "      <td>0.333333</td>\n",
       "      <td>0.000000</td>\n",
       "      <td>0</td>\n",
       "      <td>0</td>\n",
       "      <td>0.333333</td>\n",
       "    </tr>\n",
       "    <tr>\n",
       "      <th>5</th>\n",
       "      <td>Jesus</td>\n",
       "      <td>6</td>\n",
       "      <td>1</td>\n",
       "      <td>0.666667</td>\n",
       "      <td>0</td>\n",
       "      <td>0.666667</td>\n",
       "      <td>0.666667</td>\n",
       "      <td>0</td>\n",
       "      <td>0.666667</td>\n",
       "      <td>0.666667</td>\n",
       "      <td>...</td>\n",
       "      <td>0.000000</td>\n",
       "      <td>0</td>\n",
       "      <td>0.333333</td>\n",
       "      <td>0</td>\n",
       "      <td>0</td>\n",
       "      <td>0.333333</td>\n",
       "      <td>0.333333</td>\n",
       "      <td>0</td>\n",
       "      <td>0</td>\n",
       "      <td>0.333333</td>\n",
       "    </tr>\n",
       "    <tr>\n",
       "      <th>6</th>\n",
       "      <td>Alba</td>\n",
       "      <td>7</td>\n",
       "      <td>1</td>\n",
       "      <td>0.666667</td>\n",
       "      <td>0</td>\n",
       "      <td>0.666667</td>\n",
       "      <td>0.666667</td>\n",
       "      <td>0.666667</td>\n",
       "      <td>0.666667</td>\n",
       "      <td>0</td>\n",
       "      <td>...</td>\n",
       "      <td>0.000000</td>\n",
       "      <td>0</td>\n",
       "      <td>0</td>\n",
       "      <td>0</td>\n",
       "      <td>0</td>\n",
       "      <td>0</td>\n",
       "      <td>0.333333</td>\n",
       "      <td>0</td>\n",
       "      <td>0.333333</td>\n",
       "      <td>0</td>\n",
       "    </tr>\n",
       "    <tr>\n",
       "      <th>7</th>\n",
       "      <td>Adolfo</td>\n",
       "      <td>8</td>\n",
       "      <td>1</td>\n",
       "      <td>0.666667</td>\n",
       "      <td>0</td>\n",
       "      <td>0.000000</td>\n",
       "      <td>0.666667</td>\n",
       "      <td>0</td>\n",
       "      <td>0.666667</td>\n",
       "      <td>0.666667</td>\n",
       "      <td>...</td>\n",
       "      <td>0.000000</td>\n",
       "      <td>0</td>\n",
       "      <td>0</td>\n",
       "      <td>0</td>\n",
       "      <td>0.333333</td>\n",
       "      <td>0.333333</td>\n",
       "      <td>0.000000</td>\n",
       "      <td>0</td>\n",
       "      <td>0</td>\n",
       "      <td>0</td>\n",
       "    </tr>\n",
       "    <tr>\n",
       "      <th>8</th>\n",
       "      <td>Nuria</td>\n",
       "      <td>9</td>\n",
       "      <td>1</td>\n",
       "      <td>0.666667</td>\n",
       "      <td>0.666667</td>\n",
       "      <td>0.000000</td>\n",
       "      <td>0.666667</td>\n",
       "      <td>0</td>\n",
       "      <td>0.666667</td>\n",
       "      <td>0.666667</td>\n",
       "      <td>...</td>\n",
       "      <td>0.333333</td>\n",
       "      <td>0</td>\n",
       "      <td>0</td>\n",
       "      <td>0.333333</td>\n",
       "      <td>0</td>\n",
       "      <td>0.333333</td>\n",
       "      <td>0.000000</td>\n",
       "      <td>0</td>\n",
       "      <td>0</td>\n",
       "      <td>0</td>\n",
       "    </tr>\n",
       "    <tr>\n",
       "      <th>9</th>\n",
       "      <td>Jaime</td>\n",
       "      <td>10</td>\n",
       "      <td>1</td>\n",
       "      <td>0.666667</td>\n",
       "      <td>0</td>\n",
       "      <td>0.666667</td>\n",
       "      <td>0.666667</td>\n",
       "      <td>0.666667</td>\n",
       "      <td>0.666667</td>\n",
       "      <td>0</td>\n",
       "      <td>...</td>\n",
       "      <td>0.000000</td>\n",
       "      <td>0</td>\n",
       "      <td>0</td>\n",
       "      <td>0.333333</td>\n",
       "      <td>0.333333</td>\n",
       "      <td>0.333333</td>\n",
       "      <td>0.000000</td>\n",
       "      <td>0</td>\n",
       "      <td>0</td>\n",
       "      <td>0</td>\n",
       "    </tr>\n",
       "  </tbody>\n",
       "</table>\n",
       "<p>10 rows × 70 columns</p>\n",
       "</div>"
      ],
      "text/plain": [
       "   Nombre  Id Plan      Cine    Teatro  Cervezas      Vino    Fiesta  \\\n",
       "0   Marta   1    1  0.666667         0  0.666667  0.666667         0   \n",
       "1    Juan   2    1  0.666667  0.666667  0.000000  0.666667  0.666667   \n",
       "2  Monica   3    1  0.666667  0.666667  0.000000  0.000000         0   \n",
       "3  Alvaro   4    1  0.666667  0.666667  0.666667  0.666667         0   \n",
       "4   Maria   5    1  0.000000         0  0.000000  0.000000  0.666667   \n",
       "5   Jesus   6    1  0.666667         0  0.666667  0.666667         0   \n",
       "6    Alba   7    1  0.666667         0  0.666667  0.666667  0.666667   \n",
       "7  Adolfo   8    1  0.666667         0  0.000000  0.666667         0   \n",
       "8   Nuria   9    1  0.666667  0.666667  0.000000  0.666667         0   \n",
       "9   Jaime  10    1  0.666667         0  0.666667  0.666667  0.666667   \n",
       "\n",
       "     Viajes      Rock  ...  Electronico    Folk_i  Griendie      Sala  \\\n",
       "0  0.666667         0  ...     0.333333         0         0         0   \n",
       "1  0.000000         0  ...     0.000000         0         0         0   \n",
       "2  0.000000         0  ...     0.333333         0         0  0.333333   \n",
       "3  0.666667         0  ...     0.000000  0.333333  0.333333  0.333333   \n",
       "4  0.666667  0.666667  ...     0.000000         0         0         0   \n",
       "5  0.666667  0.666667  ...     0.000000         0  0.333333         0   \n",
       "6  0.666667         0  ...     0.000000         0         0         0   \n",
       "7  0.666667  0.666667  ...     0.000000         0         0         0   \n",
       "8  0.666667  0.666667  ...     0.333333         0         0  0.333333   \n",
       "9  0.666667         0  ...     0.000000         0         0  0.333333   \n",
       "\n",
       "          7        11   Vinyasa  Kundalini    Bikram     Nidra  \n",
       "0         0         0  0.333333          0         0         0  \n",
       "1         0  0.333333  0.000000          0         0         0  \n",
       "2         0  0.333333  0.333333   0.333333         0         0  \n",
       "3         0         0  0.000000          0  0.333333  0.333333  \n",
       "4         0  0.333333  0.000000          0         0  0.333333  \n",
       "5         0  0.333333  0.333333          0         0  0.333333  \n",
       "6         0         0  0.333333          0  0.333333         0  \n",
       "7  0.333333  0.333333  0.000000          0         0         0  \n",
       "8         0  0.333333  0.000000          0         0         0  \n",
       "9  0.333333  0.333333  0.000000          0         0         0  \n",
       "\n",
       "[10 rows x 70 columns]"
      ]
     },
     "execution_count": 27,
     "metadata": {},
     "output_type": "execute_result"
    }
   ],
   "source": [
    "user_list=[user1, user2, user3, user4, user5, user6, user7, user8, user9, user10]\n",
    "\n",
    "for e in user_list:\n",
    "    data=data.append(other=e, ignore_index=True)\n",
    "data"
   ]
  },
  {
   "cell_type": "code",
   "execution_count": 28,
   "metadata": {},
   "outputs": [
    {
     "data": {
      "text/html": [
       "<div>\n",
       "<style scoped>\n",
       "    .dataframe tbody tr th:only-of-type {\n",
       "        vertical-align: middle;\n",
       "    }\n",
       "\n",
       "    .dataframe tbody tr th {\n",
       "        vertical-align: top;\n",
       "    }\n",
       "\n",
       "    .dataframe thead th {\n",
       "        text-align: right;\n",
       "    }\n",
       "</style>\n",
       "<table border=\"1\" class=\"dataframe\">\n",
       "  <thead>\n",
       "    <tr style=\"text-align: right;\">\n",
       "      <th></th>\n",
       "      <th>Id</th>\n",
       "      <th>Plan</th>\n",
       "      <th>Cine</th>\n",
       "      <th>Teatro</th>\n",
       "      <th>Cervezas</th>\n",
       "      <th>Vino</th>\n",
       "      <th>Fiesta</th>\n",
       "      <th>Viajes</th>\n",
       "      <th>Rock</th>\n",
       "      <th>Pop</th>\n",
       "      <th>...</th>\n",
       "      <th>Electronico</th>\n",
       "      <th>Folk_i</th>\n",
       "      <th>Griendie</th>\n",
       "      <th>Sala</th>\n",
       "      <th>7</th>\n",
       "      <th>11</th>\n",
       "      <th>Vinyasa</th>\n",
       "      <th>Kundalini</th>\n",
       "      <th>Bikram</th>\n",
       "      <th>Nidra</th>\n",
       "    </tr>\n",
       "    <tr>\n",
       "      <th>Nombre</th>\n",
       "      <th></th>\n",
       "      <th></th>\n",
       "      <th></th>\n",
       "      <th></th>\n",
       "      <th></th>\n",
       "      <th></th>\n",
       "      <th></th>\n",
       "      <th></th>\n",
       "      <th></th>\n",
       "      <th></th>\n",
       "      <th></th>\n",
       "      <th></th>\n",
       "      <th></th>\n",
       "      <th></th>\n",
       "      <th></th>\n",
       "      <th></th>\n",
       "      <th></th>\n",
       "      <th></th>\n",
       "      <th></th>\n",
       "      <th></th>\n",
       "      <th></th>\n",
       "    </tr>\n",
       "  </thead>\n",
       "  <tbody>\n",
       "    <tr>\n",
       "      <th>Marta</th>\n",
       "      <td>1</td>\n",
       "      <td>1</td>\n",
       "      <td>0.666667</td>\n",
       "      <td>0</td>\n",
       "      <td>0.666667</td>\n",
       "      <td>0.666667</td>\n",
       "      <td>0</td>\n",
       "      <td>0.666667</td>\n",
       "      <td>0</td>\n",
       "      <td>0.666667</td>\n",
       "      <td>...</td>\n",
       "      <td>0.333333</td>\n",
       "      <td>0</td>\n",
       "      <td>0</td>\n",
       "      <td>0</td>\n",
       "      <td>0</td>\n",
       "      <td>0</td>\n",
       "      <td>0.333333</td>\n",
       "      <td>0</td>\n",
       "      <td>0</td>\n",
       "      <td>0</td>\n",
       "    </tr>\n",
       "    <tr>\n",
       "      <th>Juan</th>\n",
       "      <td>2</td>\n",
       "      <td>1</td>\n",
       "      <td>0.666667</td>\n",
       "      <td>0.666667</td>\n",
       "      <td>0.000000</td>\n",
       "      <td>0.666667</td>\n",
       "      <td>0.666667</td>\n",
       "      <td>0.000000</td>\n",
       "      <td>0</td>\n",
       "      <td>0.666667</td>\n",
       "      <td>...</td>\n",
       "      <td>0.000000</td>\n",
       "      <td>0</td>\n",
       "      <td>0</td>\n",
       "      <td>0</td>\n",
       "      <td>0</td>\n",
       "      <td>0.333333</td>\n",
       "      <td>0.000000</td>\n",
       "      <td>0</td>\n",
       "      <td>0</td>\n",
       "      <td>0</td>\n",
       "    </tr>\n",
       "    <tr>\n",
       "      <th>Monica</th>\n",
       "      <td>3</td>\n",
       "      <td>1</td>\n",
       "      <td>0.666667</td>\n",
       "      <td>0.666667</td>\n",
       "      <td>0.000000</td>\n",
       "      <td>0.000000</td>\n",
       "      <td>0</td>\n",
       "      <td>0.000000</td>\n",
       "      <td>0</td>\n",
       "      <td>0.000000</td>\n",
       "      <td>...</td>\n",
       "      <td>0.333333</td>\n",
       "      <td>0</td>\n",
       "      <td>0</td>\n",
       "      <td>0.333333</td>\n",
       "      <td>0</td>\n",
       "      <td>0.333333</td>\n",
       "      <td>0.333333</td>\n",
       "      <td>0.333333</td>\n",
       "      <td>0</td>\n",
       "      <td>0</td>\n",
       "    </tr>\n",
       "    <tr>\n",
       "      <th>Alvaro</th>\n",
       "      <td>4</td>\n",
       "      <td>1</td>\n",
       "      <td>0.666667</td>\n",
       "      <td>0.666667</td>\n",
       "      <td>0.666667</td>\n",
       "      <td>0.666667</td>\n",
       "      <td>0</td>\n",
       "      <td>0.666667</td>\n",
       "      <td>0</td>\n",
       "      <td>0.000000</td>\n",
       "      <td>...</td>\n",
       "      <td>0.000000</td>\n",
       "      <td>0.333333</td>\n",
       "      <td>0.333333</td>\n",
       "      <td>0.333333</td>\n",
       "      <td>0</td>\n",
       "      <td>0</td>\n",
       "      <td>0.000000</td>\n",
       "      <td>0</td>\n",
       "      <td>0.333333</td>\n",
       "      <td>0.333333</td>\n",
       "    </tr>\n",
       "    <tr>\n",
       "      <th>Maria</th>\n",
       "      <td>5</td>\n",
       "      <td>1</td>\n",
       "      <td>0.000000</td>\n",
       "      <td>0</td>\n",
       "      <td>0.000000</td>\n",
       "      <td>0.000000</td>\n",
       "      <td>0.666667</td>\n",
       "      <td>0.666667</td>\n",
       "      <td>0.666667</td>\n",
       "      <td>0.666667</td>\n",
       "      <td>...</td>\n",
       "      <td>0.000000</td>\n",
       "      <td>0</td>\n",
       "      <td>0</td>\n",
       "      <td>0</td>\n",
       "      <td>0</td>\n",
       "      <td>0.333333</td>\n",
       "      <td>0.000000</td>\n",
       "      <td>0</td>\n",
       "      <td>0</td>\n",
       "      <td>0.333333</td>\n",
       "    </tr>\n",
       "    <tr>\n",
       "      <th>Jesus</th>\n",
       "      <td>6</td>\n",
       "      <td>1</td>\n",
       "      <td>0.666667</td>\n",
       "      <td>0</td>\n",
       "      <td>0.666667</td>\n",
       "      <td>0.666667</td>\n",
       "      <td>0</td>\n",
       "      <td>0.666667</td>\n",
       "      <td>0.666667</td>\n",
       "      <td>0.000000</td>\n",
       "      <td>...</td>\n",
       "      <td>0.000000</td>\n",
       "      <td>0</td>\n",
       "      <td>0.333333</td>\n",
       "      <td>0</td>\n",
       "      <td>0</td>\n",
       "      <td>0.333333</td>\n",
       "      <td>0.333333</td>\n",
       "      <td>0</td>\n",
       "      <td>0</td>\n",
       "      <td>0.333333</td>\n",
       "    </tr>\n",
       "    <tr>\n",
       "      <th>Alba</th>\n",
       "      <td>7</td>\n",
       "      <td>1</td>\n",
       "      <td>0.666667</td>\n",
       "      <td>0</td>\n",
       "      <td>0.666667</td>\n",
       "      <td>0.666667</td>\n",
       "      <td>0.666667</td>\n",
       "      <td>0.666667</td>\n",
       "      <td>0</td>\n",
       "      <td>0.666667</td>\n",
       "      <td>...</td>\n",
       "      <td>0.000000</td>\n",
       "      <td>0</td>\n",
       "      <td>0</td>\n",
       "      <td>0</td>\n",
       "      <td>0</td>\n",
       "      <td>0</td>\n",
       "      <td>0.333333</td>\n",
       "      <td>0</td>\n",
       "      <td>0.333333</td>\n",
       "      <td>0</td>\n",
       "    </tr>\n",
       "    <tr>\n",
       "      <th>Adolfo</th>\n",
       "      <td>8</td>\n",
       "      <td>1</td>\n",
       "      <td>0.666667</td>\n",
       "      <td>0</td>\n",
       "      <td>0.000000</td>\n",
       "      <td>0.666667</td>\n",
       "      <td>0</td>\n",
       "      <td>0.666667</td>\n",
       "      <td>0.666667</td>\n",
       "      <td>0.000000</td>\n",
       "      <td>...</td>\n",
       "      <td>0.000000</td>\n",
       "      <td>0</td>\n",
       "      <td>0</td>\n",
       "      <td>0</td>\n",
       "      <td>0.333333</td>\n",
       "      <td>0.333333</td>\n",
       "      <td>0.000000</td>\n",
       "      <td>0</td>\n",
       "      <td>0</td>\n",
       "      <td>0</td>\n",
       "    </tr>\n",
       "    <tr>\n",
       "      <th>Nuria</th>\n",
       "      <td>9</td>\n",
       "      <td>1</td>\n",
       "      <td>0.666667</td>\n",
       "      <td>0.666667</td>\n",
       "      <td>0.000000</td>\n",
       "      <td>0.666667</td>\n",
       "      <td>0</td>\n",
       "      <td>0.666667</td>\n",
       "      <td>0.666667</td>\n",
       "      <td>0.000000</td>\n",
       "      <td>...</td>\n",
       "      <td>0.333333</td>\n",
       "      <td>0</td>\n",
       "      <td>0</td>\n",
       "      <td>0.333333</td>\n",
       "      <td>0</td>\n",
       "      <td>0.333333</td>\n",
       "      <td>0.000000</td>\n",
       "      <td>0</td>\n",
       "      <td>0</td>\n",
       "      <td>0</td>\n",
       "    </tr>\n",
       "    <tr>\n",
       "      <th>Jaime</th>\n",
       "      <td>10</td>\n",
       "      <td>1</td>\n",
       "      <td>0.666667</td>\n",
       "      <td>0</td>\n",
       "      <td>0.666667</td>\n",
       "      <td>0.666667</td>\n",
       "      <td>0.666667</td>\n",
       "      <td>0.666667</td>\n",
       "      <td>0</td>\n",
       "      <td>0.000000</td>\n",
       "      <td>...</td>\n",
       "      <td>0.000000</td>\n",
       "      <td>0</td>\n",
       "      <td>0</td>\n",
       "      <td>0.333333</td>\n",
       "      <td>0.333333</td>\n",
       "      <td>0.333333</td>\n",
       "      <td>0.000000</td>\n",
       "      <td>0</td>\n",
       "      <td>0</td>\n",
       "      <td>0</td>\n",
       "    </tr>\n",
       "  </tbody>\n",
       "</table>\n",
       "<p>10 rows × 69 columns</p>\n",
       "</div>"
      ],
      "text/plain": [
       "        Id Plan      Cine    Teatro  Cervezas      Vino    Fiesta    Viajes  \\\n",
       "Nombre                                                                        \n",
       "Marta    1    1  0.666667         0  0.666667  0.666667         0  0.666667   \n",
       "Juan     2    1  0.666667  0.666667  0.000000  0.666667  0.666667  0.000000   \n",
       "Monica   3    1  0.666667  0.666667  0.000000  0.000000         0  0.000000   \n",
       "Alvaro   4    1  0.666667  0.666667  0.666667  0.666667         0  0.666667   \n",
       "Maria    5    1  0.000000         0  0.000000  0.000000  0.666667  0.666667   \n",
       "Jesus    6    1  0.666667         0  0.666667  0.666667         0  0.666667   \n",
       "Alba     7    1  0.666667         0  0.666667  0.666667  0.666667  0.666667   \n",
       "Adolfo   8    1  0.666667         0  0.000000  0.666667         0  0.666667   \n",
       "Nuria    9    1  0.666667  0.666667  0.000000  0.666667         0  0.666667   \n",
       "Jaime   10    1  0.666667         0  0.666667  0.666667  0.666667  0.666667   \n",
       "\n",
       "            Rock       Pop  ... Electronico    Folk_i  Griendie      Sala  \\\n",
       "Nombre                      ...                                             \n",
       "Marta          0  0.666667  ...    0.333333         0         0         0   \n",
       "Juan           0  0.666667  ...    0.000000         0         0         0   \n",
       "Monica         0  0.000000  ...    0.333333         0         0  0.333333   \n",
       "Alvaro         0  0.000000  ...    0.000000  0.333333  0.333333  0.333333   \n",
       "Maria   0.666667  0.666667  ...    0.000000         0         0         0   \n",
       "Jesus   0.666667  0.000000  ...    0.000000         0  0.333333         0   \n",
       "Alba           0  0.666667  ...    0.000000         0         0         0   \n",
       "Adolfo  0.666667  0.000000  ...    0.000000         0         0         0   \n",
       "Nuria   0.666667  0.000000  ...    0.333333         0         0  0.333333   \n",
       "Jaime          0  0.000000  ...    0.000000         0         0  0.333333   \n",
       "\n",
       "               7        11   Vinyasa Kundalini    Bikram     Nidra  \n",
       "Nombre                                                              \n",
       "Marta          0         0  0.333333         0         0         0  \n",
       "Juan           0  0.333333  0.000000         0         0         0  \n",
       "Monica         0  0.333333  0.333333  0.333333         0         0  \n",
       "Alvaro         0         0  0.000000         0  0.333333  0.333333  \n",
       "Maria          0  0.333333  0.000000         0         0  0.333333  \n",
       "Jesus          0  0.333333  0.333333         0         0  0.333333  \n",
       "Alba           0         0  0.333333         0  0.333333         0  \n",
       "Adolfo  0.333333  0.333333  0.000000         0         0         0  \n",
       "Nuria          0  0.333333  0.000000         0         0         0  \n",
       "Jaime   0.333333  0.333333  0.000000         0         0         0  \n",
       "\n",
       "[10 rows x 69 columns]"
      ]
     },
     "execution_count": 28,
     "metadata": {},
     "output_type": "execute_result"
    }
   ],
   "source": [
    "data.set_index('Nombre', inplace=True)\n",
    "data"
   ]
  },
  {
   "cell_type": "code",
   "execution_count": 29,
   "metadata": {},
   "outputs": [],
   "source": [
    "# new user function\n",
    "\n",
    "\n",
    "def new_user(df, tags, Nombre, Id, Plan, Cine, Teatro, Cervezas, Vino, Fiesta, Viajes, Rock, Pop, Jazz, Techno,\n",
    "            RAP, Indie, Correr, Gym, Golf, Basket, Football, Yoga, Drama, Comedia_c, Terror, Anime,\n",
    "            Tragedia, Comedia_t, Mimica, Dramatico, Lager, PaleAle, Artesanas, Pilsener, Blanco,\n",
    "            Tinto, Rosado, Espumoso, Engrupo, Solo, Alternativo_r, Heavy, Country, Grunge, Latino,\n",
    "            Punk, Hard, Folk_p, Cool, Free, Smooth, Acid_j, Minimal, House, Hardcore, Acid_t, Gangsta,\n",
    "            Poetico, Politico, Instrumental, Alternativo_i, Electronico, Folk_i, Griendie,\n",
    "            Sala, Siete, Once, Vinyasa, Kundalini, Bikram, Nidra, metric='euclidean'):\n",
    "    \n",
    "    \n",
    "    rating=[Nombre, Id, Plan, Cine, Teatro, Cervezas, Vino, Fiesta, Viajes, Rock, Pop, Jazz, Techno,\n",
    "            RAP, Indie, Correr, Gym, Golf, Basket, Football, Yoga, Drama, Comedia_c, Terror, Anime,\n",
    "            Tragedia, Comedia_t, Mimica, Dramatico, Lager, PaleAle, Artesanas, Pilsener, Blanco,\n",
    "            Tinto, Rosado, Espumoso, Engrupo, Solo, Alternativo_r, Heavy, Country, Grunge, Latino,\n",
    "            Punk, Hard, Folk_p, Cool, Free, Smooth, Acid_j, Minimal, House, Hardcore, Acid_t, Gangsta,\n",
    "            Poetico, Politico, Instrumental, Alternativo_i, Electronico, Folk_i, Griendie,\n",
    "            Sala, Siete, Once, Vinyasa, Kundalini, Bikram, Nidra]\n",
    "    \n",
    "    \n",
    "    n_user={k:v for k, v in list(zip(tags, rating))}\n",
    "\n",
    "    names=list(df.index)\n",
    "    df=df.append(n_user, ignore_index=True)\n",
    "    names.append(Nombre)\n",
    "    df.index=names\n",
    "    df=df.drop(columns=['Nombre'])\n",
    "\n",
    "    similar = pd.DataFrame(0.8/(1 + squareform(pdist(df.iloc[:, 3:], metric))), \n",
    "                         index=df.index, columns=df.index)\n",
    "\n",
    "    similarities = similar[Nombre].sort_values(ascending=False)\n",
    "    \n",
    "    closer_users=[]\n",
    "    for e in similarities.index:\n",
    "        if df.ix[e].Plan==1:\n",
    "            closer_users.append(e)\n",
    "\n",
    "    return (list(map(list, zip(closer_users[:10], similarities.ix[closer_users[:10]]))), df)"
   ]
  },
  {
   "cell_type": "code",
   "execution_count": 30,
   "metadata": {},
   "outputs": [
    {
     "name": "stdout",
     "output_type": "stream",
     "text": [
      "Your name is:\n",
      "Julio\n"
     ]
    }
   ],
   "source": [
    "# new users ratings\n",
    "\n",
    "print ('Your name is:')\n",
    "Nombre=str(input())"
   ]
  },
  {
   "cell_type": "code",
   "execution_count": 31,
   "metadata": {},
   "outputs": [
    {
     "name": "stdout",
     "output_type": "stream",
     "text": [
      "Rate cine :\n",
      "0\n"
     ]
    }
   ],
   "source": [
    "print('Rate cine :')\n",
    "Cine = int(input())*2/3 \n",
    "if Cine!=0:\n",
    "    print('Rate drama :')\n",
    "    Drama = int(input())*1/3\n",
    "    \n",
    "    print('Rate comedy :')\n",
    "    Comedia_c = int(input())*1/3\n",
    " \n",
    "    print('Rate terror :')\n",
    "    Terror = int(input())*1/3\n",
    " \n",
    "    print('Rate anime :')\n",
    "    Anime = int(input())*1/3\n",
    "\n",
    "else:\n",
    "    Drama = 0\n",
    "    Comedia_c = 0\n",
    "    Terror = 0\n",
    "    Anime = 0\n"
   ]
  },
  {
   "cell_type": "code",
   "execution_count": 32,
   "metadata": {},
   "outputs": [
    {
     "name": "stdout",
     "output_type": "stream",
     "text": [
      "Rate theater :\n",
      "1\n",
      "Rate tragedia :\n",
      "0\n",
      "Rate comedy :\n",
      "1\n",
      "Rate mimics :\n",
      "0\n",
      "Rate drama :\n",
      "1\n"
     ]
    }
   ],
   "source": [
    "print('Rate theater :')\n",
    "Teatro = int(input())*2/3 \n",
    "if Teatro!=0:\n",
    "    print('Rate tragedia :')\n",
    "    Tragedia = int(input())*1/3\n",
    "    \n",
    "    print('Rate comedy :')\n",
    "    Comedia_t = int(input())*1/3\n",
    " \n",
    "    print('Rate mimics :')\n",
    "    Mimica = int(input())*1/3\n",
    " \n",
    "    print('Rate drama :')\n",
    "    Dramatico = int(input())*1/3\n",
    "\n",
    "else:\n",
    "    Tragedia = 0\n",
    "    Comedia_t = 0\n",
    "    Mimica = 0\n",
    "    Dramatico = 0\n"
   ]
  },
  {
   "cell_type": "code",
   "execution_count": 33,
   "metadata": {},
   "outputs": [
    {
     "name": "stdout",
     "output_type": "stream",
     "text": [
      "Rate beers :\n",
      "1\n",
      "Rate lager :\n",
      "1\n",
      "Rate pale ale :\n",
      "1\n",
      "Rate home made beer :\n",
      "1\n",
      "Rate pilsener :\n",
      "0\n"
     ]
    }
   ],
   "source": [
    "print('Rate beers :')\n",
    "Cervezas = int(input())*2/3 \n",
    "if Cervezas!=0:\n",
    "    print('Rate lager :')\n",
    "    Lager = int(input())*1/3\n",
    "    \n",
    "    print('Rate pale ale :')\n",
    "    PaleAle = int(input())*1/3\n",
    " \n",
    "    print('Rate home made beer :')\n",
    "    Artesanas = int(input())*1/3\n",
    " \n",
    "    print('Rate pilsener :')\n",
    "    Pilsener = int(input())*1/3\n",
    "\n",
    "else:\n",
    "    Lager = 0\n",
    "    PaleAle = 0\n",
    "    Artesanas = 0\n",
    "    Pilsener = 0\n"
   ]
  },
  {
   "cell_type": "code",
   "execution_count": 34,
   "metadata": {},
   "outputs": [
    {
     "name": "stdout",
     "output_type": "stream",
     "text": [
      "Rate wine :\n",
      "1\n",
      "Rate white wine :\n",
      "1\n",
      "Rate red wine :\n",
      "0\n",
      "Rate pink wine :\n",
      "0\n",
      "Rate sparkling wine :\n",
      "0\n"
     ]
    }
   ],
   "source": [
    "print('Rate wine :')\n",
    "Vino = int(input())*2/3 \n",
    "if Vino!=0:\n",
    "    print('Rate white wine :')\n",
    "    Blanco = int(input())*1/3\n",
    "    \n",
    "    print('Rate red wine :')\n",
    "    Tinto = int(input())*1/3\n",
    " \n",
    "    print('Rate pink wine :')\n",
    "    Rosado = int(input())*1/3\n",
    " \n",
    "    print('Rate sparkling wine :')\n",
    "    Espumoso = int(input())*1/3\n",
    "\n",
    "else:\n",
    "    Blanco = 0\n",
    "    Tinto = 0\n",
    "    Rosado = 0\n",
    "    Espumoso = 0\n"
   ]
  },
  {
   "cell_type": "code",
   "execution_count": 35,
   "metadata": {},
   "outputs": [
    {
     "name": "stdout",
     "output_type": "stream",
     "text": [
      "Rate party :\n",
      "1\n"
     ]
    }
   ],
   "source": [
    "print('Rate party :')\n",
    "Fiesta = int(input())*2/3 "
   ]
  },
  {
   "cell_type": "code",
   "execution_count": 36,
   "metadata": {},
   "outputs": [
    {
     "name": "stdout",
     "output_type": "stream",
     "text": [
      "Rate trips :\n",
      "1\n",
      "Rate trips in group :\n",
      "1\n",
      "Rate trips alone :\n",
      "1\n"
     ]
    }
   ],
   "source": [
    "print('Rate trips :')\n",
    "Viajes = int(input())*2/3 \n",
    "if Viajes!=0:\n",
    "    print('Rate trips in group :')\n",
    "    Engrupo = int(input())*1/3\n",
    "    \n",
    "    print('Rate trips alone :')\n",
    "    Solo = int(input())*1/3\n",
    "\n",
    "\n",
    "else:\n",
    "    Engrupo = 0\n",
    "    Solo = 0\n"
   ]
  },
  {
   "cell_type": "code",
   "execution_count": 37,
   "metadata": {},
   "outputs": [
    {
     "name": "stdout",
     "output_type": "stream",
     "text": [
      "Rate rock :\n",
      "1\n",
      "Rate alternative rock :\n",
      "1\n",
      "Rate heavy :\n",
      "0\n",
      "Rate country :\n",
      "0\n",
      "Rate Grunge :\n",
      "1\n"
     ]
    }
   ],
   "source": [
    "print('Rate rock :')\n",
    "Rock = int(input())*2/3 \n",
    "if Rock!=0:\n",
    "    print('Rate alternative rock :')\n",
    "    Alternativo_r = int(input())*1/3\n",
    "    \n",
    "    print('Rate heavy :')\n",
    "    Heavy = int(input())*1/3\n",
    " \n",
    "    print('Rate country :')\n",
    "    Country = int(input())*1/3\n",
    " \n",
    "    print('Rate Grunge :')\n",
    "    Grunge = int(input())*1/3\n",
    "\n",
    "else:\n",
    "    Alternativo_r = 0\n",
    "    Heavy = 0\n",
    "    Country = 0\n",
    "    Grunge = 0\n"
   ]
  },
  {
   "cell_type": "code",
   "execution_count": 38,
   "metadata": {},
   "outputs": [
    {
     "name": "stdout",
     "output_type": "stream",
     "text": [
      "Rate pop :\n",
      "0\n"
     ]
    }
   ],
   "source": [
    "print('Rate pop :')\n",
    "Pop = int(input())*2/3 \n",
    "if Pop!=0:\n",
    "    print('Rate latino pop :')\n",
    "    Latino = int(input())*1/3\n",
    "    \n",
    "    print('Rate punk :')\n",
    "    Punk = int(input())*1/3\n",
    " \n",
    "    print('Rate hard :')\n",
    "    Hard = int(input())*1/3\n",
    " \n",
    "    print('Rate folk :')\n",
    "    Folk_p = int(input())*1/3\n",
    "\n",
    "else:\n",
    "    Latino = 0\n",
    "    Punk = 0\n",
    "    Hard = 0\n",
    "    Folk_p = 0\n"
   ]
  },
  {
   "cell_type": "code",
   "execution_count": 39,
   "metadata": {},
   "outputs": [
    {
     "name": "stdout",
     "output_type": "stream",
     "text": [
      "Rate jazz :\n",
      "1\n",
      "Rate cool jazz :\n",
      "0\n",
      "Rate free jazz :\n",
      "0\n",
      "Rate smooth jazz :\n",
      "0\n",
      "Rate acid jazz :\n",
      "1\n"
     ]
    }
   ],
   "source": [
    "print('Rate jazz :')\n",
    "Jazz = int(input())*2/3 \n",
    "if Jazz!=0:\n",
    "    print('Rate cool jazz :')\n",
    "    Cool = int(input())*1/3\n",
    "    \n",
    "    print('Rate free jazz :')\n",
    "    Free = int(input())*1/3\n",
    " \n",
    "    print('Rate smooth jazz :')\n",
    "    Smooth = int(input())*1/3\n",
    " \n",
    "    print('Rate acid jazz :')\n",
    "    Acid_j = int(input())*1/3\n",
    "\n",
    "else:\n",
    "    Cool = 0\n",
    "    Free = 0\n",
    "    Smooth = 0\n",
    "    Acid_j = 0\n"
   ]
  },
  {
   "cell_type": "code",
   "execution_count": 40,
   "metadata": {},
   "outputs": [
    {
     "name": "stdout",
     "output_type": "stream",
     "text": [
      "Rate techno :\n",
      "0\n"
     ]
    }
   ],
   "source": [
    "print('Rate techno :')\n",
    "Techno = int(input())*2/3 \n",
    "if Techno!=0:\n",
    "    print('Rate minimal :')\n",
    "    Minimal = int(input())*1/3\n",
    "    \n",
    "    print('Rate house :')\n",
    "    House = int(input())*1/3\n",
    " \n",
    "    print('Rate hardcore :')\n",
    "    Hardcore = int(input())*1/3\n",
    " \n",
    "    print('Rate acid techno :')\n",
    "    Acid_t = int(input())*1/3\n",
    "\n",
    "else:\n",
    "    Minimal = 0\n",
    "    House = 0\n",
    "    Hardcore = 0\n",
    "    Acid_t = 0\n"
   ]
  },
  {
   "cell_type": "code",
   "execution_count": 41,
   "metadata": {},
   "outputs": [
    {
     "name": "stdout",
     "output_type": "stream",
     "text": [
      "Rate rap :\n",
      "0\n"
     ]
    }
   ],
   "source": [
    "print('Rate rap :')\n",
    "RAP = int(input())*2/3 \n",
    "if RAP!=0:\n",
    "    print('Rate gangsta :')\n",
    "    Gangsta = int(input())*1/3\n",
    "    \n",
    "    print('Rate poetic rap :')\n",
    "    Poetico = int(input())*1/3\n",
    " \n",
    "    print('Rate politic rap :')\n",
    "    Politico = int(input())*1/3\n",
    " \n",
    "    print('Rate instrumental rap :')\n",
    "    Instrumental = int(input())*1/3\n",
    "\n",
    "else:\n",
    "    Gangsta = 0\n",
    "    Poetico = 0\n",
    "    Politico = 0\n",
    "    Instrumental = 0\n"
   ]
  },
  {
   "cell_type": "code",
   "execution_count": 42,
   "metadata": {},
   "outputs": [
    {
     "name": "stdout",
     "output_type": "stream",
     "text": [
      "Rate indie :\n",
      "0\n"
     ]
    }
   ],
   "source": [
    "print('Rate indie :')\n",
    "Indie = int(input())*2/3 \n",
    "if Indie!=0:\n",
    "    print('Rate alternative indie :')\n",
    "    Alternativo_i = int(input())*1/3\n",
    "    \n",
    "    print('Rate electronic indie :')\n",
    "    Electronico = int(input())*1/3\n",
    " \n",
    "    print('Rate folk indie :')\n",
    "    Folk_i = int(input())*1/3\n",
    " \n",
    "    print('Rate Griendie :')\n",
    "    Griendie = int(input())*1/3\n",
    "\n",
    "else:\n",
    "    Alternativo_i = 0\n",
    "    Electronico = 0\n",
    "    Folk_i = 0\n",
    "    Griendie = 0\n"
   ]
  },
  {
   "cell_type": "code",
   "execution_count": 43,
   "metadata": {},
   "outputs": [
    {
     "name": "stdout",
     "output_type": "stream",
     "text": [
      "Rate running :\n",
      "0\n"
     ]
    }
   ],
   "source": [
    "print('Rate running :')\n",
    "Correr = int(input())*2/3 "
   ]
  },
  {
   "cell_type": "code",
   "execution_count": 44,
   "metadata": {},
   "outputs": [
    {
     "name": "stdout",
     "output_type": "stream",
     "text": [
      "Rate gym :\n",
      "0\n"
     ]
    }
   ],
   "source": [
    "print('Rate gym :')\n",
    "Gym = int(input())*2/3 "
   ]
  },
  {
   "cell_type": "code",
   "execution_count": 45,
   "metadata": {},
   "outputs": [
    {
     "name": "stdout",
     "output_type": "stream",
     "text": [
      "Rate golf :\n",
      "0\n"
     ]
    }
   ],
   "source": [
    "print('Rate golf :')\n",
    "Golf = int(input())*2/3 "
   ]
  },
  {
   "cell_type": "code",
   "execution_count": 46,
   "metadata": {},
   "outputs": [
    {
     "name": "stdout",
     "output_type": "stream",
     "text": [
      "Rate basket :\n",
      "0\n"
     ]
    }
   ],
   "source": [
    "print('Rate basket :')\n",
    "Basket = int(input())*2/3 "
   ]
  },
  {
   "cell_type": "code",
   "execution_count": 47,
   "metadata": {},
   "outputs": [
    {
     "name": "stdout",
     "output_type": "stream",
     "text": [
      "Rate football :\n",
      "0\n"
     ]
    }
   ],
   "source": [
    "print('Rate football :')\n",
    "Football = int(input())*2/3 \n",
    "if Football!=0:\n",
    "    print('Rate indoor football :')\n",
    "    Sala = int(input())*1/3\n",
    "    \n",
    "    print('Rate football 7 :')\n",
    "    Siete = int(input())*1/3\n",
    " \n",
    "    print('Rate football 11 :')\n",
    "    Once = int(input())*1/3\n",
    "\n",
    "\n",
    "else:\n",
    "    Sala = 0\n",
    "    Siete = 0\n",
    "    Once = 0\n"
   ]
  },
  {
   "cell_type": "code",
   "execution_count": 48,
   "metadata": {},
   "outputs": [
    {
     "name": "stdout",
     "output_type": "stream",
     "text": [
      "Rate yoga :\n",
      "0\n"
     ]
    }
   ],
   "source": [
    "print('Rate yoga :')\n",
    "Yoga = int(input())*2/3 \n",
    "if Yoga!=0:\n",
    "    print('Rate vinyasa yoga :')\n",
    "    Vinyasa = int(input())*1/3\n",
    "    \n",
    "    print('Rate kundalini yoga :')\n",
    "    Kundalini = int(input())*1/3\n",
    " \n",
    "    print('Rate bikram yoga :')\n",
    "    Bikram = int(input())*1/3\n",
    " \n",
    "    print('Rate nidra yoga :')\n",
    "    Nidra = int(input())*1/3\n",
    "\n",
    "else:\n",
    "    Vinyasa = 0\n",
    "    Kundalini = 0\n",
    "    Bikram = 0\n",
    "    Nidra = 0"
   ]
  },
  {
   "cell_type": "raw",
   "metadata": {},
   "source": [
    "# metrics for squareform\n",
    "\n",
    "'''\n",
    "'euclidean', 'minkowski', 'cityblock', 'seuclidean', 'sqeuclidean', 'cosine', 'correlation'\n",
    "\n",
    "'hamming', 'jaccard', 'chebyshev', 'canberra', 'braycurtis', 'mahalanobis', 'yule'\n",
    "\n",
    "'matching', 'dice', 'kulsinski', 'rogerstanimoto', 'russellrao', 'sokalmichener'\n",
    "\n",
    "'sokalsneath', 'wminkowski'\n",
    "'''\n",
    "\n",
    "\n",
    "#metric='cosine' "
   ]
  },
  {
   "cell_type": "code",
   "execution_count": 49,
   "metadata": {},
   "outputs": [],
   "source": [
    "res_n_user=new_user(data, columnas, Nombre, len(data)+1, 0, Cine, Teatro, Cervezas, Vino, Fiesta, \n",
    "                    Viajes, Rock, Pop, Jazz, Techno, RAP, Indie, Correr, Gym, Golf, Basket, \n",
    "                    Football, Yoga, Drama, Comedia_c, Terror, Anime, Tragedia, Comedia_t, Mimica, \n",
    "                    Dramatico, Lager, PaleAle, Artesanas, Pilsener, Blanco, Tinto, Rosado, Espumoso, \n",
    "                    Engrupo, Solo, Alternativo_r, Heavy, Country, Grunge, Latino,Punk, Hard, Folk_p, \n",
    "                    Cool, Free, Smooth, Acid_j, Minimal, House, Hardcore, Acid_t, Gangsta, Poetico, \n",
    "                    Politico, Instrumental, Alternativo_i, Electronico, Folk_i, Griendie,\n",
    "                    Sala, Siete, Once, Vinyasa, Kundalini, Bikram, Nidra)"
   ]
  },
  {
   "cell_type": "code",
   "execution_count": 50,
   "metadata": {},
   "outputs": [],
   "source": [
    "plans=res_n_user[0]\n",
    "data=res_n_user[1]"
   ]
  },
  {
   "cell_type": "code",
   "execution_count": 51,
   "metadata": {},
   "outputs": [
    {
     "name": "stdout",
     "output_type": "stream",
     "text": [
      "Similar users with plan : \n",
      "Jaime\n",
      "Nuria\n",
      "Maria\n",
      "Alba\n",
      "Jesus\n",
      "Adolfo\n",
      "Alvaro\n",
      "Marta\n",
      "Monica\n",
      "Juan\n"
     ]
    }
   ],
   "source": [
    "print ('Similar users with plan : ')\n",
    "for e in plans:\n",
    "    print (e[0])\n",
    "    \n",
    "\n",
    "final=pd.DataFrame()\n",
    "final['plan_ori_id']=[e[0] for e in plans]\n",
    "final['original_similarity']=[e[1] for e in plans]"
   ]
  },
  {
   "cell_type": "code",
   "execution_count": 52,
   "metadata": {},
   "outputs": [
    {
     "name": "stdout",
     "output_type": "stream",
     "text": [
      "\n",
      "Follow user Jaime?\n",
      "1\n",
      "\n",
      "Follow user Nuria?\n",
      "1\n",
      "\n",
      "Follow user Maria?\n",
      "1\n",
      "\n",
      "Follow user Alba?\n",
      "1\n",
      "\n",
      "Follow user Jesus?\n",
      "0\n",
      "\n",
      "Follow user Adolfo?\n",
      "0\n",
      "\n",
      "Follow user Alvaro?\n",
      "0\n",
      "\n",
      "Follow user Marta?\n",
      "0\n",
      "\n",
      "Follow user Monica?\n",
      "0\n",
      "\n",
      "Follow user Juan?\n",
      "0\n",
      "\n"
     ]
    }
   ],
   "source": [
    "# follow-unfollow users\n",
    "foll=plans\n",
    "\n",
    "def follow(_id, b, foll):\n",
    "    if b==0: return foll\n",
    "    elif b==1:\n",
    "        for e in foll:\n",
    "            if _id==e[0]:\n",
    "                e[1]+=e[1]*0.15\n",
    "        for e in foll:\n",
    "            if e[1]>1:e[1]=1\n",
    "        return foll\n",
    "\n",
    "print ()\n",
    "for e in foll:\n",
    "    print ('Follow user {}?'.format(e[0]))\n",
    "    b=int(input())\n",
    "    f=follow(e[0], b, foll)\n",
    "    #print (f)\n",
    "    print()\n",
    "#final['follow_id']=[e[0] for e in f]\n",
    "final['after_follow_similarity']=[e[1] for e in f]"
   ]
  },
  {
   "cell_type": "code",
   "execution_count": 53,
   "metadata": {},
   "outputs": [
    {
     "data": {
      "text/html": [
       "<div>\n",
       "<style scoped>\n",
       "    .dataframe tbody tr th:only-of-type {\n",
       "        vertical-align: middle;\n",
       "    }\n",
       "\n",
       "    .dataframe tbody tr th {\n",
       "        vertical-align: top;\n",
       "    }\n",
       "\n",
       "    .dataframe thead th {\n",
       "        text-align: right;\n",
       "    }\n",
       "</style>\n",
       "<table border=\"1\" class=\"dataframe\">\n",
       "  <thead>\n",
       "    <tr style=\"text-align: right;\">\n",
       "      <th></th>\n",
       "      <th>plan_ori_id</th>\n",
       "      <th>original_similarity</th>\n",
       "      <th>after_follow_similarity</th>\n",
       "    </tr>\n",
       "  </thead>\n",
       "  <tbody>\n",
       "    <tr>\n",
       "      <th>0</th>\n",
       "      <td>Jaime</td>\n",
       "      <td>0.333333</td>\n",
       "      <td>0.383333</td>\n",
       "    </tr>\n",
       "    <tr>\n",
       "      <th>1</th>\n",
       "      <td>Nuria</td>\n",
       "      <td>0.316431</td>\n",
       "      <td>0.363896</td>\n",
       "    </tr>\n",
       "    <tr>\n",
       "      <th>2</th>\n",
       "      <td>Maria</td>\n",
       "      <td>0.316431</td>\n",
       "      <td>0.363896</td>\n",
       "    </tr>\n",
       "    <tr>\n",
       "      <th>3</th>\n",
       "      <td>Alba</td>\n",
       "      <td>0.297883</td>\n",
       "      <td>0.342565</td>\n",
       "    </tr>\n",
       "    <tr>\n",
       "      <th>4</th>\n",
       "      <td>Jesus</td>\n",
       "      <td>0.295816</td>\n",
       "      <td>0.295816</td>\n",
       "    </tr>\n",
       "    <tr>\n",
       "      <th>5</th>\n",
       "      <td>Adolfo</td>\n",
       "      <td>0.293798</td>\n",
       "      <td>0.293798</td>\n",
       "    </tr>\n",
       "    <tr>\n",
       "      <th>6</th>\n",
       "      <td>Alvaro</td>\n",
       "      <td>0.289898</td>\n",
       "      <td>0.289898</td>\n",
       "    </tr>\n",
       "    <tr>\n",
       "      <th>7</th>\n",
       "      <td>Marta</td>\n",
       "      <td>0.289898</td>\n",
       "      <td>0.289898</td>\n",
       "    </tr>\n",
       "    <tr>\n",
       "      <th>8</th>\n",
       "      <td>Monica</td>\n",
       "      <td>0.277514</td>\n",
       "      <td>0.277514</td>\n",
       "    </tr>\n",
       "    <tr>\n",
       "      <th>9</th>\n",
       "      <td>Juan</td>\n",
       "      <td>0.275887</td>\n",
       "      <td>0.275887</td>\n",
       "    </tr>\n",
       "  </tbody>\n",
       "</table>\n",
       "</div>"
      ],
      "text/plain": [
       "  plan_ori_id  original_similarity  after_follow_similarity\n",
       "0       Jaime             0.333333                 0.383333\n",
       "1       Nuria             0.316431                 0.363896\n",
       "2       Maria             0.316431                 0.363896\n",
       "3        Alba             0.297883                 0.342565\n",
       "4       Jesus             0.295816                 0.295816\n",
       "5      Adolfo             0.293798                 0.293798\n",
       "6      Alvaro             0.289898                 0.289898\n",
       "7       Marta             0.289898                 0.289898\n",
       "8      Monica             0.277514                 0.277514\n",
       "9        Juan             0.275887                 0.275887"
      ]
     },
     "execution_count": 53,
     "metadata": {},
     "output_type": "execute_result"
    }
   ],
   "source": [
    "final"
   ]
  },
  {
   "cell_type": "code",
   "execution_count": 54,
   "metadata": {},
   "outputs": [
    {
     "name": "stdout",
     "output_type": "stream",
     "text": [
      "\n",
      "Do you like the user Jaime plan?\n",
      "1\n",
      "\n",
      "Do you like the user Nuria plan?\n",
      "1\n",
      "\n",
      "Do you like the user Maria plan?\n",
      "1\n",
      "\n",
      "Do you like the user Alba plan?\n",
      "1\n",
      "\n",
      "Do you like the user Jesus plan?\n",
      "1\n",
      "\n",
      "Do you like the user Adolfo plan?\n",
      "1\n",
      "\n",
      "Do you like the user Alvaro plan?\n",
      "0\n",
      "\n",
      "Do you like the user Marta plan?\n",
      "0\n",
      "\n",
      "Do you like the user Monica plan?\n",
      "0\n",
      "\n",
      "Do you like the user Juan plan?\n",
      "0\n",
      "\n"
     ]
    }
   ],
   "source": [
    "w_likes=foll\n",
    "def like(_id, b, serie_like):\n",
    "    if b==0: return serie_like\n",
    "    elif b==1:\n",
    "        for e in serie_like:\n",
    "            if _id==e[0]:\n",
    "                e[1]+=0.01\n",
    "        for e in serie_like:\n",
    "            if e[1]>1:e[1]=1\n",
    "        return serie_like\n",
    "\n",
    "print ()\n",
    "for e in w_likes:\n",
    "    print ('Do you like the user {} plan?'.format(e[0]))\n",
    "    b=int(input())\n",
    "    l=like(e[0], b, w_likes)\n",
    "    print()\n",
    "final['with likes after follow']=[e[1] for e in f]"
   ]
  },
  {
   "cell_type": "code",
   "execution_count": 55,
   "metadata": {},
   "outputs": [
    {
     "name": "stdout",
     "output_type": "stream",
     "text": [
      "\n",
      "Unfollow user Jaime?\n",
      "1\n",
      "\n",
      "Unfollow user Nuria?\n",
      "1\n",
      "\n",
      "Unfollow user Maria?\n",
      "0\n",
      "\n",
      "Unfollow user Alba?\n",
      "0\n",
      "\n",
      "Unfollow user Jesus?\n",
      "0\n",
      "\n",
      "Unfollow user Adolfo?\n",
      "1\n",
      "\n",
      "Unfollow user Alvaro?\n",
      "1\n",
      "\n",
      "Unfollow user Marta?\n",
      "1\n",
      "\n",
      "Unfollow user Monica?\n",
      "0\n",
      "\n",
      "Unfollow user Juan?\n",
      "0\n",
      "\n"
     ]
    },
    {
     "data": {
      "text/html": [
       "<div>\n",
       "<style scoped>\n",
       "    .dataframe tbody tr th:only-of-type {\n",
       "        vertical-align: middle;\n",
       "    }\n",
       "\n",
       "    .dataframe tbody tr th {\n",
       "        vertical-align: top;\n",
       "    }\n",
       "\n",
       "    .dataframe thead th {\n",
       "        text-align: right;\n",
       "    }\n",
       "</style>\n",
       "<table border=\"1\" class=\"dataframe\">\n",
       "  <thead>\n",
       "    <tr style=\"text-align: right;\">\n",
       "      <th></th>\n",
       "      <th>plan_ori_id</th>\n",
       "      <th>original_similarity</th>\n",
       "      <th>after_follow_similarity</th>\n",
       "      <th>with likes after follow</th>\n",
       "      <th>after_unfollow_similarity</th>\n",
       "    </tr>\n",
       "  </thead>\n",
       "  <tbody>\n",
       "    <tr>\n",
       "      <th>0</th>\n",
       "      <td>Jaime</td>\n",
       "      <td>0.333333</td>\n",
       "      <td>0.383333</td>\n",
       "      <td>0.393333</td>\n",
       "      <td>0.334333</td>\n",
       "    </tr>\n",
       "    <tr>\n",
       "      <th>1</th>\n",
       "      <td>Nuria</td>\n",
       "      <td>0.316431</td>\n",
       "      <td>0.363896</td>\n",
       "      <td>0.373896</td>\n",
       "      <td>0.317811</td>\n",
       "    </tr>\n",
       "    <tr>\n",
       "      <th>2</th>\n",
       "      <td>Maria</td>\n",
       "      <td>0.316431</td>\n",
       "      <td>0.363896</td>\n",
       "      <td>0.373896</td>\n",
       "      <td>0.373896</td>\n",
       "    </tr>\n",
       "    <tr>\n",
       "      <th>3</th>\n",
       "      <td>Alba</td>\n",
       "      <td>0.297883</td>\n",
       "      <td>0.342565</td>\n",
       "      <td>0.352565</td>\n",
       "      <td>0.352565</td>\n",
       "    </tr>\n",
       "    <tr>\n",
       "      <th>4</th>\n",
       "      <td>Jesus</td>\n",
       "      <td>0.295816</td>\n",
       "      <td>0.295816</td>\n",
       "      <td>0.305816</td>\n",
       "      <td>0.305816</td>\n",
       "    </tr>\n",
       "    <tr>\n",
       "      <th>5</th>\n",
       "      <td>Adolfo</td>\n",
       "      <td>0.293798</td>\n",
       "      <td>0.293798</td>\n",
       "      <td>0.303798</td>\n",
       "      <td>0.258228</td>\n",
       "    </tr>\n",
       "    <tr>\n",
       "      <th>6</th>\n",
       "      <td>Alvaro</td>\n",
       "      <td>0.289898</td>\n",
       "      <td>0.289898</td>\n",
       "      <td>0.289898</td>\n",
       "      <td>0.246413</td>\n",
       "    </tr>\n",
       "    <tr>\n",
       "      <th>7</th>\n",
       "      <td>Marta</td>\n",
       "      <td>0.289898</td>\n",
       "      <td>0.289898</td>\n",
       "      <td>0.289898</td>\n",
       "      <td>0.246413</td>\n",
       "    </tr>\n",
       "    <tr>\n",
       "      <th>8</th>\n",
       "      <td>Monica</td>\n",
       "      <td>0.277514</td>\n",
       "      <td>0.277514</td>\n",
       "      <td>0.277514</td>\n",
       "      <td>0.277514</td>\n",
       "    </tr>\n",
       "    <tr>\n",
       "      <th>9</th>\n",
       "      <td>Juan</td>\n",
       "      <td>0.275887</td>\n",
       "      <td>0.275887</td>\n",
       "      <td>0.275887</td>\n",
       "      <td>0.275887</td>\n",
       "    </tr>\n",
       "  </tbody>\n",
       "</table>\n",
       "</div>"
      ],
      "text/plain": [
       "  plan_ori_id  original_similarity  after_follow_similarity  \\\n",
       "0       Jaime             0.333333                 0.383333   \n",
       "1       Nuria             0.316431                 0.363896   \n",
       "2       Maria             0.316431                 0.363896   \n",
       "3        Alba             0.297883                 0.342565   \n",
       "4       Jesus             0.295816                 0.295816   \n",
       "5      Adolfo             0.293798                 0.293798   \n",
       "6      Alvaro             0.289898                 0.289898   \n",
       "7       Marta             0.289898                 0.289898   \n",
       "8      Monica             0.277514                 0.277514   \n",
       "9        Juan             0.275887                 0.275887   \n",
       "\n",
       "   with likes after follow  after_unfollow_similarity  \n",
       "0                 0.393333                   0.334333  \n",
       "1                 0.373896                   0.317811  \n",
       "2                 0.373896                   0.373896  \n",
       "3                 0.352565                   0.352565  \n",
       "4                 0.305816                   0.305816  \n",
       "5                 0.303798                   0.258228  \n",
       "6                 0.289898                   0.246413  \n",
       "7                 0.289898                   0.246413  \n",
       "8                 0.277514                   0.277514  \n",
       "9                 0.275887                   0.275887  "
      ]
     },
     "metadata": {},
     "output_type": "display_data"
    }
   ],
   "source": [
    "unfoll=w_likes\n",
    "def unfollow(_id, b, unfoll):\n",
    "    if b==0: return unfoll\n",
    "    elif b==1:\n",
    "        for e in unfoll:\n",
    "            if _id==e[0]:\n",
    "                e[1]-=e[1]*0.15\n",
    "        for e in unfoll:\n",
    "            if e[1]<0:e[1]=0\n",
    "        return unfoll#sorted(unfoll, key=itemgetter(1), reverse=True)\n",
    "\n",
    "print ()\n",
    "for e in unfoll:\n",
    "    print ('Unfollow user {}?'.format(e[0]))\n",
    "    b=int(input())\n",
    "    u=unfollow(e[0], b, unfoll)\n",
    "    #print (u)\n",
    "    print()\n",
    "#final['unfollow_id']=[e[0] for e in u]\n",
    "final['after_unfollow_similarity']=[e[1] for e in u]\n",
    "display (final)"
   ]
  },
  {
   "cell_type": "code",
   "execution_count": 56,
   "metadata": {},
   "outputs": [
    {
     "name": "stdout",
     "output_type": "stream",
     "text": [
      "\n",
      "Do you like the user Jaime plan?\n",
      "0\n",
      "\n",
      "Do you like the user Nuria plan?\n",
      "0\n",
      "\n",
      "Do you like the user Maria plan?\n",
      "0\n",
      "\n",
      "Do you like the user Alba plan?\n",
      "0\n",
      "\n",
      "Do you like the user Jesus plan?\n",
      "0\n",
      "\n",
      "Do you like the user Adolfo plan?\n",
      "0\n",
      "\n",
      "Do you like the user Alvaro plan?\n",
      "1\n",
      "\n",
      "Do you like the user Marta plan?\n",
      "1\n",
      "\n",
      "Do you like the user Monica plan?\n",
      "1\n",
      "\n",
      "Do you like the user Juan plan?\n",
      "0\n",
      "\n"
     ]
    }
   ],
   "source": [
    "w_likes_un=unfoll\n",
    "def like_un(_id, b, serie_like):\n",
    "    if b==0: return serie_like\n",
    "    elif b==1:\n",
    "        for e in serie_like:\n",
    "            if _id==e[0]:\n",
    "                e[1]+=0.01\n",
    "        for e in serie_like:\n",
    "            if e[1]>1:e[1]=1\n",
    "        return serie_like\n",
    "\n",
    "print ()\n",
    "for e in w_likes_un:\n",
    "    print ('Do you like the user {} plan?'.format(e[0]))\n",
    "    b=int(input())\n",
    "    l=like_un(e[0], b, w_likes_un)\n",
    "    print()\n",
    "final['with likes after unfollow']=[e[1] for e in f]"
   ]
  },
  {
   "cell_type": "code",
   "execution_count": 57,
   "metadata": {},
   "outputs": [
    {
     "data": {
      "application/vnd.plotly.v1+json": {
       "config": {
        "linkText": "Export to plot.ly",
        "plotlyServerURL": "https://plot.ly",
        "responsive": true,
        "showLink": true
       },
       "data": [
        {
         "marker": {
          "color": "rgba(255, 153, 51, 0.6)",
          "line": {
           "color": "rgba(255, 153, 51, 1.0)",
           "width": 1
          }
         },
         "name": "original_similarity",
         "orientation": "v",
         "text": "",
         "type": "bar",
         "uid": "49779b09-db03-4ee7-b96c-c898b5e6af21",
         "x": [
          "Jaime",
          "Nuria",
          "Maria",
          "Alba",
          "Jesus",
          "Adolfo",
          "Alvaro",
          "Marta",
          "Monica",
          "Juan"
         ],
         "y": [
          0.3333333333333333,
          0.3164309725825327,
          0.3164309725825327,
          0.29788301062430306,
          0.29581631632448924,
          0.2937978523903241,
          0.2898979485566356,
          0.2898979485566356,
          0.27751440437923003,
          0.2758872381516119
         ]
        },
        {
         "marker": {
          "color": "rgba(55, 128, 191, 0.6)",
          "line": {
           "color": "rgba(55, 128, 191, 1.0)",
           "width": 1
          }
         },
         "name": "after_follow_similarity",
         "orientation": "v",
         "text": "",
         "type": "bar",
         "uid": "6cf7448b-b533-4c67-bf51-c369d8692cf7",
         "x": [
          "Jaime",
          "Nuria",
          "Maria",
          "Alba",
          "Jesus",
          "Adolfo",
          "Alvaro",
          "Marta",
          "Monica",
          "Juan"
         ],
         "y": [
          0.3833333333333333,
          0.36389561846991264,
          0.36389561846991264,
          0.34256546221794854,
          0.29581631632448924,
          0.2937978523903241,
          0.2898979485566356,
          0.2898979485566356,
          0.27751440437923003,
          0.2758872381516119
         ]
        },
        {
         "marker": {
          "color": "rgba(50, 171, 96, 0.6)",
          "line": {
           "color": "rgba(50, 171, 96, 1.0)",
           "width": 1
          }
         },
         "name": "with likes after follow",
         "orientation": "v",
         "text": "",
         "type": "bar",
         "uid": "cbad4ad9-cf4a-44c6-aa8c-fda12383e50d",
         "x": [
          "Jaime",
          "Nuria",
          "Maria",
          "Alba",
          "Jesus",
          "Adolfo",
          "Alvaro",
          "Marta",
          "Monica",
          "Juan"
         ],
         "y": [
          0.3933333333333333,
          0.37389561846991265,
          0.37389561846991265,
          0.35256546221794854,
          0.30581631632448925,
          0.3037978523903241,
          0.2898979485566356,
          0.2898979485566356,
          0.27751440437923003,
          0.2758872381516119
         ]
        },
        {
         "marker": {
          "color": "rgba(128, 0, 128, 0.6)",
          "line": {
           "color": "rgba(128, 0, 128, 1.0)",
           "width": 1
          }
         },
         "name": "after_unfollow_similarity",
         "orientation": "v",
         "text": "",
         "type": "bar",
         "uid": "8ed9d7cc-7b0d-4dd4-8332-b4277fb40b44",
         "x": [
          "Jaime",
          "Nuria",
          "Maria",
          "Alba",
          "Jesus",
          "Adolfo",
          "Alvaro",
          "Marta",
          "Monica",
          "Juan"
         ],
         "y": [
          0.3343333333333333,
          0.31781127569942574,
          0.37389561846991265,
          0.35256546221794854,
          0.30581631632448925,
          0.2582281745317755,
          0.24641325627314026,
          0.24641325627314026,
          0.27751440437923003,
          0.2758872381516119
         ]
        },
        {
         "marker": {
          "color": "rgba(219, 64, 82, 0.6)",
          "line": {
           "color": "rgba(219, 64, 82, 1.0)",
           "width": 1
          }
         },
         "name": "with likes after unfollow",
         "orientation": "v",
         "text": "",
         "type": "bar",
         "uid": "a9e7501d-b038-480c-b23a-3713c520cd35",
         "x": [
          "Jaime",
          "Nuria",
          "Maria",
          "Alba",
          "Jesus",
          "Adolfo",
          "Alvaro",
          "Marta",
          "Monica",
          "Juan"
         ],
         "y": [
          0.3343333333333333,
          0.31781127569942574,
          0.37389561846991265,
          0.35256546221794854,
          0.30581631632448925,
          0.2582281745317755,
          0.25641325627314027,
          0.25641325627314027,
          0.28751440437923004,
          0.2758872381516119
         ]
        }
       ],
       "layout": {
        "legend": {
         "bgcolor": "#F5F6F9",
         "font": {
          "color": "#4D5663"
         }
        },
        "paper_bgcolor": "#F5F6F9",
        "plot_bgcolor": "#F5F6F9",
        "title": {
         "font": {
          "color": "#4D5663"
         },
         "text": "Similarities with Julio"
        },
        "xaxis": {
         "gridcolor": "#E1E5ED",
         "showgrid": true,
         "tickfont": {
          "color": "#4D5663"
         },
         "title": {
          "font": {
           "color": "#4D5663"
          },
          "text": "Users"
         },
         "zerolinecolor": "#E1E5ED"
        },
        "yaxis": {
         "gridcolor": "#E1E5ED",
         "showgrid": true,
         "tickfont": {
          "color": "#4D5663"
         },
         "title": {
          "font": {
           "color": "#4D5663"
          },
          "text": "Similarity"
         },
         "zerolinecolor": "#E1E5ED"
        }
       }
      },
      "text/html": [
       "<div>\n",
       "        \n",
       "        \n",
       "            <div id=\"24b54ada-d14d-4917-9950-3d5dab3424e2\" class=\"plotly-graph-div\" style=\"height:525px; width:100%;\"></div>\n",
       "            <script type=\"text/javascript\">\n",
       "                require([\"plotly\"], function(Plotly) {\n",
       "                    window.PLOTLYENV=window.PLOTLYENV || {};\n",
       "                    window.PLOTLYENV.BASE_URL='https://plot.ly';\n",
       "                    \n",
       "                if (document.getElementById(\"24b54ada-d14d-4917-9950-3d5dab3424e2\")) {\n",
       "                    Plotly.newPlot(\n",
       "                        '24b54ada-d14d-4917-9950-3d5dab3424e2',\n",
       "                        [{\"marker\": {\"color\": \"rgba(255, 153, 51, 0.6)\", \"line\": {\"color\": \"rgba(255, 153, 51, 1.0)\", \"width\": 1}}, \"name\": \"original_similarity\", \"orientation\": \"v\", \"text\": \"\", \"type\": \"bar\", \"uid\": \"5e41b849-aa74-4610-b5cb-cac2fdff97f7\", \"x\": [\"Jaime\", \"Nuria\", \"Maria\", \"Alba\", \"Jesus\", \"Adolfo\", \"Alvaro\", \"Marta\", \"Monica\", \"Juan\"], \"y\": [0.3333333333333333, 0.3164309725825327, 0.3164309725825327, 0.29788301062430306, 0.29581631632448924, 0.2937978523903241, 0.2898979485566356, 0.2898979485566356, 0.27751440437923003, 0.2758872381516119]}, {\"marker\": {\"color\": \"rgba(55, 128, 191, 0.6)\", \"line\": {\"color\": \"rgba(55, 128, 191, 1.0)\", \"width\": 1}}, \"name\": \"after_follow_similarity\", \"orientation\": \"v\", \"text\": \"\", \"type\": \"bar\", \"uid\": \"6c71e2f0-803e-42e3-8eb9-fbc25f8e26ef\", \"x\": [\"Jaime\", \"Nuria\", \"Maria\", \"Alba\", \"Jesus\", \"Adolfo\", \"Alvaro\", \"Marta\", \"Monica\", \"Juan\"], \"y\": [0.3833333333333333, 0.36389561846991264, 0.36389561846991264, 0.34256546221794854, 0.29581631632448924, 0.2937978523903241, 0.2898979485566356, 0.2898979485566356, 0.27751440437923003, 0.2758872381516119]}, {\"marker\": {\"color\": \"rgba(50, 171, 96, 0.6)\", \"line\": {\"color\": \"rgba(50, 171, 96, 1.0)\", \"width\": 1}}, \"name\": \"with likes after follow\", \"orientation\": \"v\", \"text\": \"\", \"type\": \"bar\", \"uid\": \"e71f067c-ae27-4ad9-ab15-1373f1a1861d\", \"x\": [\"Jaime\", \"Nuria\", \"Maria\", \"Alba\", \"Jesus\", \"Adolfo\", \"Alvaro\", \"Marta\", \"Monica\", \"Juan\"], \"y\": [0.3933333333333333, 0.37389561846991265, 0.37389561846991265, 0.35256546221794854, 0.30581631632448925, 0.3037978523903241, 0.2898979485566356, 0.2898979485566356, 0.27751440437923003, 0.2758872381516119]}, {\"marker\": {\"color\": \"rgba(128, 0, 128, 0.6)\", \"line\": {\"color\": \"rgba(128, 0, 128, 1.0)\", \"width\": 1}}, \"name\": \"after_unfollow_similarity\", \"orientation\": \"v\", \"text\": \"\", \"type\": \"bar\", \"uid\": \"e87fbf37-2a81-4d57-8ed4-09a124f0867a\", \"x\": [\"Jaime\", \"Nuria\", \"Maria\", \"Alba\", \"Jesus\", \"Adolfo\", \"Alvaro\", \"Marta\", \"Monica\", \"Juan\"], \"y\": [0.3343333333333333, 0.31781127569942574, 0.37389561846991265, 0.35256546221794854, 0.30581631632448925, 0.2582281745317755, 0.24641325627314026, 0.24641325627314026, 0.27751440437923003, 0.2758872381516119]}, {\"marker\": {\"color\": \"rgba(219, 64, 82, 0.6)\", \"line\": {\"color\": \"rgba(219, 64, 82, 1.0)\", \"width\": 1}}, \"name\": \"with likes after unfollow\", \"orientation\": \"v\", \"text\": \"\", \"type\": \"bar\", \"uid\": \"f1a4f24d-edf1-4f28-b896-9818baed170a\", \"x\": [\"Jaime\", \"Nuria\", \"Maria\", \"Alba\", \"Jesus\", \"Adolfo\", \"Alvaro\", \"Marta\", \"Monica\", \"Juan\"], \"y\": [0.3343333333333333, 0.31781127569942574, 0.37389561846991265, 0.35256546221794854, 0.30581631632448925, 0.2582281745317755, 0.25641325627314027, 0.25641325627314027, 0.28751440437923004, 0.2758872381516119]}],\n",
       "                        {\"legend\": {\"bgcolor\": \"#F5F6F9\", \"font\": {\"color\": \"#4D5663\"}}, \"paper_bgcolor\": \"#F5F6F9\", \"plot_bgcolor\": \"#F5F6F9\", \"title\": {\"font\": {\"color\": \"#4D5663\"}, \"text\": \"Similarities with Julio\"}, \"xaxis\": {\"gridcolor\": \"#E1E5ED\", \"showgrid\": true, \"tickfont\": {\"color\": \"#4D5663\"}, \"title\": {\"font\": {\"color\": \"#4D5663\"}, \"text\": \"Users\"}, \"zerolinecolor\": \"#E1E5ED\"}, \"yaxis\": {\"gridcolor\": \"#E1E5ED\", \"showgrid\": true, \"tickfont\": {\"color\": \"#4D5663\"}, \"title\": {\"font\": {\"color\": \"#4D5663\"}, \"text\": \"Similarity\"}, \"zerolinecolor\": \"#E1E5ED\"}},\n",
       "                        {\"showLink\": true, \"linkText\": \"Export to plot.ly\", \"plotlyServerURL\": \"https://plot.ly\", \"responsive\": true}\n",
       "                    ).then(function(){\n",
       "                            \n",
       "var gd = document.getElementById('24b54ada-d14d-4917-9950-3d5dab3424e2');\n",
       "var x = new MutationObserver(function (mutations, observer) {{\n",
       "        var display = window.getComputedStyle(gd).display;\n",
       "        if (!display || display === 'none') {{\n",
       "            console.log([gd, 'removed!']);\n",
       "            Plotly.purge(gd);\n",
       "            observer.disconnect();\n",
       "        }}\n",
       "}});\n",
       "\n",
       "// Listen for the removal of the full notebook cells\n",
       "var notebookContainer = gd.closest('#notebook-container');\n",
       "if (notebookContainer) {{\n",
       "    x.observe(notebookContainer, {childList: true});\n",
       "}}\n",
       "\n",
       "// Listen for the clearing of the current output cell\n",
       "var outputEl = gd.closest('.output');\n",
       "if (outputEl) {{\n",
       "    x.observe(outputEl, {childList: true});\n",
       "}}\n",
       "\n",
       "                        })\n",
       "                };\n",
       "                });\n",
       "            </script>\n",
       "        </div>"
      ]
     },
     "metadata": {},
     "output_type": "display_data"
    }
   ],
   "source": [
    "final.iplot(kind='bar', x='plan_ori_id', title='Similarities with {}'.format(Nombre), \n",
    "            yTitle='Similarity', xTitle='Users')"
   ]
  },
  {
   "cell_type": "code",
   "execution_count": 58,
   "metadata": {},
   "outputs": [],
   "source": [
    "end_similarity=final.sort_values(by=['with likes after unfollow'], ascending=False)\n",
    "#end_similarity"
   ]
  },
  {
   "cell_type": "code",
   "execution_count": 59,
   "metadata": {},
   "outputs": [
    {
     "data": {
      "application/vnd.plotly.v1+json": {
       "config": {
        "linkText": "Export to plot.ly",
        "plotlyServerURL": "https://plot.ly",
        "responsive": true,
        "showLink": true
       },
       "data": [
        {
         "marker": {
          "color": "rgba(255, 153, 51, 0.6)",
          "line": {
           "color": "rgba(255, 153, 51, 1.0)",
           "width": 1
          }
         },
         "name": "original_similarity",
         "orientation": "v",
         "text": "",
         "type": "bar",
         "uid": "b387b3ed-d383-432b-959f-1af6278e90ae",
         "x": [
          "Maria",
          "Alba",
          "Jaime",
          "Nuria",
          "Jesus",
          "Monica",
          "Juan",
          "Adolfo",
          "Alvaro",
          "Marta"
         ],
         "y": [
          0.3164309725825327,
          0.29788301062430306,
          0.3333333333333333,
          0.3164309725825327,
          0.29581631632448924,
          0.27751440437923003,
          0.2758872381516119,
          0.2937978523903241,
          0.2898979485566356,
          0.2898979485566356
         ]
        },
        {
         "marker": {
          "color": "rgba(55, 128, 191, 0.6)",
          "line": {
           "color": "rgba(55, 128, 191, 1.0)",
           "width": 1
          }
         },
         "name": "after_follow_similarity",
         "orientation": "v",
         "text": "",
         "type": "bar",
         "uid": "5a8c0f7b-fddd-495a-a5db-77a940d2842f",
         "x": [
          "Maria",
          "Alba",
          "Jaime",
          "Nuria",
          "Jesus",
          "Monica",
          "Juan",
          "Adolfo",
          "Alvaro",
          "Marta"
         ],
         "y": [
          0.36389561846991264,
          0.34256546221794854,
          0.3833333333333333,
          0.36389561846991264,
          0.29581631632448924,
          0.27751440437923003,
          0.2758872381516119,
          0.2937978523903241,
          0.2898979485566356,
          0.2898979485566356
         ]
        },
        {
         "marker": {
          "color": "rgba(50, 171, 96, 0.6)",
          "line": {
           "color": "rgba(50, 171, 96, 1.0)",
           "width": 1
          }
         },
         "name": "with likes after follow",
         "orientation": "v",
         "text": "",
         "type": "bar",
         "uid": "c48f771a-9052-4270-86af-7d5bf6777ed9",
         "x": [
          "Maria",
          "Alba",
          "Jaime",
          "Nuria",
          "Jesus",
          "Monica",
          "Juan",
          "Adolfo",
          "Alvaro",
          "Marta"
         ],
         "y": [
          0.37389561846991265,
          0.35256546221794854,
          0.3933333333333333,
          0.37389561846991265,
          0.30581631632448925,
          0.27751440437923003,
          0.2758872381516119,
          0.3037978523903241,
          0.2898979485566356,
          0.2898979485566356
         ]
        },
        {
         "marker": {
          "color": "rgba(128, 0, 128, 0.6)",
          "line": {
           "color": "rgba(128, 0, 128, 1.0)",
           "width": 1
          }
         },
         "name": "after_unfollow_similarity",
         "orientation": "v",
         "text": "",
         "type": "bar",
         "uid": "72a9f4e5-7d94-4a07-8ed3-097199bfd50e",
         "x": [
          "Maria",
          "Alba",
          "Jaime",
          "Nuria",
          "Jesus",
          "Monica",
          "Juan",
          "Adolfo",
          "Alvaro",
          "Marta"
         ],
         "y": [
          0.37389561846991265,
          0.35256546221794854,
          0.3343333333333333,
          0.31781127569942574,
          0.30581631632448925,
          0.27751440437923003,
          0.2758872381516119,
          0.2582281745317755,
          0.24641325627314026,
          0.24641325627314026
         ]
        },
        {
         "marker": {
          "color": "rgba(219, 64, 82, 0.6)",
          "line": {
           "color": "rgba(219, 64, 82, 1.0)",
           "width": 1
          }
         },
         "name": "with likes after unfollow",
         "orientation": "v",
         "text": "",
         "type": "bar",
         "uid": "befe3ee3-4715-4343-b8ce-fc1cad903fae",
         "x": [
          "Maria",
          "Alba",
          "Jaime",
          "Nuria",
          "Jesus",
          "Monica",
          "Juan",
          "Adolfo",
          "Alvaro",
          "Marta"
         ],
         "y": [
          0.37389561846991265,
          0.35256546221794854,
          0.3343333333333333,
          0.31781127569942574,
          0.30581631632448925,
          0.28751440437923004,
          0.2758872381516119,
          0.2582281745317755,
          0.25641325627314027,
          0.25641325627314027
         ]
        }
       ],
       "layout": {
        "legend": {
         "bgcolor": "#F5F6F9",
         "font": {
          "color": "#4D5663"
         }
        },
        "paper_bgcolor": "#F5F6F9",
        "plot_bgcolor": "#F5F6F9",
        "title": {
         "font": {
          "color": "#4D5663"
         },
         "text": "Final similarities with Julio"
        },
        "xaxis": {
         "gridcolor": "#E1E5ED",
         "showgrid": true,
         "tickfont": {
          "color": "#4D5663"
         },
         "title": {
          "font": {
           "color": "#4D5663"
          },
          "text": "Users"
         },
         "zerolinecolor": "#E1E5ED"
        },
        "yaxis": {
         "gridcolor": "#E1E5ED",
         "showgrid": true,
         "tickfont": {
          "color": "#4D5663"
         },
         "title": {
          "font": {
           "color": "#4D5663"
          },
          "text": "Similarity"
         },
         "zerolinecolor": "#E1E5ED"
        }
       }
      },
      "text/html": [
       "<div>\n",
       "        \n",
       "        \n",
       "            <div id=\"5ef56e96-b14f-4650-806f-cf5f01ccc6e5\" class=\"plotly-graph-div\" style=\"height:525px; width:100%;\"></div>\n",
       "            <script type=\"text/javascript\">\n",
       "                require([\"plotly\"], function(Plotly) {\n",
       "                    window.PLOTLYENV=window.PLOTLYENV || {};\n",
       "                    window.PLOTLYENV.BASE_URL='https://plot.ly';\n",
       "                    \n",
       "                if (document.getElementById(\"5ef56e96-b14f-4650-806f-cf5f01ccc6e5\")) {\n",
       "                    Plotly.newPlot(\n",
       "                        '5ef56e96-b14f-4650-806f-cf5f01ccc6e5',\n",
       "                        [{\"marker\": {\"color\": \"rgba(255, 153, 51, 0.6)\", \"line\": {\"color\": \"rgba(255, 153, 51, 1.0)\", \"width\": 1}}, \"name\": \"original_similarity\", \"orientation\": \"v\", \"text\": \"\", \"type\": \"bar\", \"uid\": \"17b2e355-1181-481d-bb42-5f5f650045fb\", \"x\": [\"Maria\", \"Alba\", \"Jaime\", \"Nuria\", \"Jesus\", \"Monica\", \"Juan\", \"Adolfo\", \"Alvaro\", \"Marta\"], \"y\": [0.3164309725825327, 0.29788301062430306, 0.3333333333333333, 0.3164309725825327, 0.29581631632448924, 0.27751440437923003, 0.2758872381516119, 0.2937978523903241, 0.2898979485566356, 0.2898979485566356]}, {\"marker\": {\"color\": \"rgba(55, 128, 191, 0.6)\", \"line\": {\"color\": \"rgba(55, 128, 191, 1.0)\", \"width\": 1}}, \"name\": \"after_follow_similarity\", \"orientation\": \"v\", \"text\": \"\", \"type\": \"bar\", \"uid\": \"74dc419d-a73b-4bc2-a623-9aed7e9ff6d0\", \"x\": [\"Maria\", \"Alba\", \"Jaime\", \"Nuria\", \"Jesus\", \"Monica\", \"Juan\", \"Adolfo\", \"Alvaro\", \"Marta\"], \"y\": [0.36389561846991264, 0.34256546221794854, 0.3833333333333333, 0.36389561846991264, 0.29581631632448924, 0.27751440437923003, 0.2758872381516119, 0.2937978523903241, 0.2898979485566356, 0.2898979485566356]}, {\"marker\": {\"color\": \"rgba(50, 171, 96, 0.6)\", \"line\": {\"color\": \"rgba(50, 171, 96, 1.0)\", \"width\": 1}}, \"name\": \"with likes after follow\", \"orientation\": \"v\", \"text\": \"\", \"type\": \"bar\", \"uid\": \"ae6b1138-5802-4c93-a277-77b28e38a71a\", \"x\": [\"Maria\", \"Alba\", \"Jaime\", \"Nuria\", \"Jesus\", \"Monica\", \"Juan\", \"Adolfo\", \"Alvaro\", \"Marta\"], \"y\": [0.37389561846991265, 0.35256546221794854, 0.3933333333333333, 0.37389561846991265, 0.30581631632448925, 0.27751440437923003, 0.2758872381516119, 0.3037978523903241, 0.2898979485566356, 0.2898979485566356]}, {\"marker\": {\"color\": \"rgba(128, 0, 128, 0.6)\", \"line\": {\"color\": \"rgba(128, 0, 128, 1.0)\", \"width\": 1}}, \"name\": \"after_unfollow_similarity\", \"orientation\": \"v\", \"text\": \"\", \"type\": \"bar\", \"uid\": \"503ce0f5-d419-4631-8346-6d601ba5e348\", \"x\": [\"Maria\", \"Alba\", \"Jaime\", \"Nuria\", \"Jesus\", \"Monica\", \"Juan\", \"Adolfo\", \"Alvaro\", \"Marta\"], \"y\": [0.37389561846991265, 0.35256546221794854, 0.3343333333333333, 0.31781127569942574, 0.30581631632448925, 0.27751440437923003, 0.2758872381516119, 0.2582281745317755, 0.24641325627314026, 0.24641325627314026]}, {\"marker\": {\"color\": \"rgba(219, 64, 82, 0.6)\", \"line\": {\"color\": \"rgba(219, 64, 82, 1.0)\", \"width\": 1}}, \"name\": \"with likes after unfollow\", \"orientation\": \"v\", \"text\": \"\", \"type\": \"bar\", \"uid\": \"c995d611-1d44-4709-bfb4-8ce99a38ff16\", \"x\": [\"Maria\", \"Alba\", \"Jaime\", \"Nuria\", \"Jesus\", \"Monica\", \"Juan\", \"Adolfo\", \"Alvaro\", \"Marta\"], \"y\": [0.37389561846991265, 0.35256546221794854, 0.3343333333333333, 0.31781127569942574, 0.30581631632448925, 0.28751440437923004, 0.2758872381516119, 0.2582281745317755, 0.25641325627314027, 0.25641325627314027]}],\n",
       "                        {\"legend\": {\"bgcolor\": \"#F5F6F9\", \"font\": {\"color\": \"#4D5663\"}}, \"paper_bgcolor\": \"#F5F6F9\", \"plot_bgcolor\": \"#F5F6F9\", \"title\": {\"font\": {\"color\": \"#4D5663\"}, \"text\": \"Final similarities with Julio\"}, \"xaxis\": {\"gridcolor\": \"#E1E5ED\", \"showgrid\": true, \"tickfont\": {\"color\": \"#4D5663\"}, \"title\": {\"font\": {\"color\": \"#4D5663\"}, \"text\": \"Users\"}, \"zerolinecolor\": \"#E1E5ED\"}, \"yaxis\": {\"gridcolor\": \"#E1E5ED\", \"showgrid\": true, \"tickfont\": {\"color\": \"#4D5663\"}, \"title\": {\"font\": {\"color\": \"#4D5663\"}, \"text\": \"Similarity\"}, \"zerolinecolor\": \"#E1E5ED\"}},\n",
       "                        {\"showLink\": true, \"linkText\": \"Export to plot.ly\", \"plotlyServerURL\": \"https://plot.ly\", \"responsive\": true}\n",
       "                    ).then(function(){\n",
       "                            \n",
       "var gd = document.getElementById('5ef56e96-b14f-4650-806f-cf5f01ccc6e5');\n",
       "var x = new MutationObserver(function (mutations, observer) {{\n",
       "        var display = window.getComputedStyle(gd).display;\n",
       "        if (!display || display === 'none') {{\n",
       "            console.log([gd, 'removed!']);\n",
       "            Plotly.purge(gd);\n",
       "            observer.disconnect();\n",
       "        }}\n",
       "}});\n",
       "\n",
       "// Listen for the removal of the full notebook cells\n",
       "var notebookContainer = gd.closest('#notebook-container');\n",
       "if (notebookContainer) {{\n",
       "    x.observe(notebookContainer, {childList: true});\n",
       "}}\n",
       "\n",
       "// Listen for the clearing of the current output cell\n",
       "var outputEl = gd.closest('.output');\n",
       "if (outputEl) {{\n",
       "    x.observe(outputEl, {childList: true});\n",
       "}}\n",
       "\n",
       "                        })\n",
       "                };\n",
       "                });\n",
       "            </script>\n",
       "        </div>"
      ]
     },
     "metadata": {},
     "output_type": "display_data"
    }
   ],
   "source": [
    "end_similarity.iplot(kind='bar', x='plan_ori_id', title='Final similarities with {}'.format(Nombre), \n",
    "            yTitle='Similarity', xTitle='Users')"
   ]
  },
  {
   "cell_type": "code",
   "execution_count": 60,
   "metadata": {},
   "outputs": [
    {
     "data": {
      "image/png": "[encoded data removed]",
      "text/plain": [
       "<Figure size 864x864 with 1 Axes>"
      ]
     },
     "metadata": {
      "needs_background": "light"
     },
     "output_type": "display_data"
    }
   ],
   "source": [
    "fig=plt.figure(figsize=(12,12))\n",
    "ax = fig.add_subplot(111, polar=True)\n",
    "ax.plot(final['plan_ori_id'].head(6), final['original_similarity'].head(6), 'o-', linewidth=2)\n",
    "ax.fill(final['plan_ori_id'].head(6), final['original_similarity'].head(6), alpha=0.25)\n",
    "ax.set_title('Distances between users before')\n",
    "ax.grid(True)"
   ]
  },
  {
   "cell_type": "code",
   "execution_count": 61,
   "metadata": {},
   "outputs": [
    {
     "data": {
      "image/png": "[encoded data removed]",
      "text/plain": [
       "<Figure size 864x864 with 1 Axes>"
      ]
     },
     "metadata": {
      "needs_background": "light"
     },
     "output_type": "display_data"
    }
   ],
   "source": [
    "fig=plt.figure(figsize=(12,12))\n",
    "ax = fig.add_subplot(111, polar=True)\n",
    "ax.plot(final['plan_ori_id'].head(6), final['with likes after unfollow'].head(6), 'o-', linewidth=2)\n",
    "ax.fill(final['plan_ori_id'].head(6), final['with likes after unfollow'].head(6), alpha=0.25)\n",
    "ax.set_title('Distances between users after')\n",
    "ax.grid(True)"
   ]
  },
  {
   "cell_type": "code",
   "execution_count": null,
   "metadata": {},
   "outputs": [],
   "source": []
  }
 ],
 "metadata": {
  "kernelspec": {
   "display_name": "Python 3",
   "language": "python",
   "name": "python3"
  },
  "language_info": {
   "codemirror_mode": {
    "name": "ipython",
    "version": 3
   },
   "file_extension": ".py",
   "mimetype": "text/x-python",
   "name": "python",
   "nbconvert_exporter": "python",
   "pygments_lexer": "ipython3",
   "version": "3.7.5"
  }
 },
 "nbformat": 4,
 "nbformat_minor": 2
}
