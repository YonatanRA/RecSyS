{
 "cells": [
  {
   "cell_type": "code",
   "execution_count": 1,
   "metadata": {},
   "outputs": [
    {
     "data": {
      "text/html": [
       "        <script type=\"text/javascript\">\n",
       "        window.PlotlyConfig = {MathJaxConfig: 'local'};\n",
       "        if (window.MathJax) {MathJax.Hub.Config({SVG: {font: \"STIX-Web\"}});}\n",
       "        if (typeof require !== 'undefined') {\n",
       "        require.undef(\"plotly\");\n",
       "        requirejs.config({\n",
       "            paths: {\n",
       "                'plotly': ['https://cdn.plot.ly/plotly-latest.min']\n",
       "            }\n",
       "        });\n",
       "        require(['plotly'], function(Plotly) {\n",
       "            window._Plotly = Plotly;\n",
       "        });\n",
       "        }\n",
       "        </script>\n",
       "        "
      ]
     },
     "metadata": {},
     "output_type": "display_data"
    }
   ],
   "source": [
    "# Demo recsys boolean (0-1)\n",
    "\n",
    "# import libraries\n",
    "\n",
    "\n",
    "%matplotlib inline\n",
    "import seaborn as sns\n",
    "import warnings\n",
    "warnings.filterwarnings(\"ignore\",category=DeprecationWarning)\n",
    "import pandas as pd\n",
    "import numpy as np\n",
    "import matplotlib.pyplot as plt\n",
    "from scipy.spatial.distance import pdist, squareform\n",
    "from operator import itemgetter\n",
    "import plotly.plotly as py\n",
    "import cufflinks as cf\n",
    "cf.go_offline()"
   ]
  },
  {
   "cell_type": "code",
   "execution_count": 2,
   "metadata": {},
   "outputs": [],
   "source": [
    "# names and tags\n",
    "\n",
    "names=['id__'+str(i) for i in range(3000)]\n",
    "\n",
    "tags=['r&b', 'rock', 'jazz', 'electronic', 'pop', 'indie',\n",
    "      'cinema', 'theater', 'beers', 'wine', 'party', 'trips',\n",
    "      'running', 'gym', 'golf', 'basket', 'football', 'yoga']\n",
    "\n",
    "\n",
    "sub_tags_elec=['techno', 'electro_funky', 'house', 'minimal', 'dubstep', 'DandB']"
   ]
  },
  {
   "cell_type": "code",
   "execution_count": 3,
   "metadata": {},
   "outputs": [],
   "source": [
    "# synth data\n",
    "\n",
    "data=np.random.randint(0, 2, (len(names), len(tags)))*0.8\n",
    "sub_data=np.random.randint(0, 1, (len(names), len(sub_tags_elec)))\n",
    "\n",
    "s_data=pd.DataFrame(data, columns=tags, index=names)\n",
    "s_sub_data=pd.DataFrame(sub_data, columns=sub_tags_elec, index=names)\n",
    "\n",
    "s_data=pd.concat([s_data, s_sub_data], axis=1)\n",
    "\n",
    "s_data['plan']=np.random.randint(0, 2, (len(names), 1))\n",
    "s_data['id']=[i for i in range(len(names))]\n",
    "\n",
    "\n",
    "for i in range(len(s_data)):\n",
    "    if s_data.electronic[i]!=0:\n",
    "        s_data.techno[i]=np.random.randint(0, 2)\n",
    "        s_data.electro_funky[i]=np.random.randint(0, 2)\n",
    "        s_data.house[i]=np.random.randint(0, 2)\n",
    "        s_data.minimal[i]=np.random.randint(0, 2)\n",
    "        s_data.dubstep[i]=np.random.randint(0, 2)\n",
    "        s_data.DandB[i]=np.random.randint(0, 2)"
   ]
  },
  {
   "cell_type": "code",
   "execution_count": 4,
   "metadata": {},
   "outputs": [
    {
     "data": {
      "text/html": [
       "<div>\n",
       "<style scoped>\n",
       "    .dataframe tbody tr th:only-of-type {\n",
       "        vertical-align: middle;\n",
       "    }\n",
       "\n",
       "    .dataframe tbody tr th {\n",
       "        vertical-align: top;\n",
       "    }\n",
       "\n",
       "    .dataframe thead th {\n",
       "        text-align: right;\n",
       "    }\n",
       "</style>\n",
       "<table border=\"1\" class=\"dataframe\">\n",
       "  <thead>\n",
       "    <tr style=\"text-align: right;\">\n",
       "      <th></th>\n",
       "      <th>r&amp;b</th>\n",
       "      <th>rock</th>\n",
       "      <th>jazz</th>\n",
       "      <th>electronic</th>\n",
       "      <th>pop</th>\n",
       "      <th>indie</th>\n",
       "      <th>cinema</th>\n",
       "      <th>theater</th>\n",
       "      <th>beers</th>\n",
       "      <th>wine</th>\n",
       "      <th>...</th>\n",
       "      <th>football</th>\n",
       "      <th>yoga</th>\n",
       "      <th>techno</th>\n",
       "      <th>electro_funky</th>\n",
       "      <th>house</th>\n",
       "      <th>minimal</th>\n",
       "      <th>dubstep</th>\n",
       "      <th>DandB</th>\n",
       "      <th>plan</th>\n",
       "      <th>id</th>\n",
       "    </tr>\n",
       "  </thead>\n",
       "  <tbody>\n",
       "    <tr>\n",
       "      <th>id__2995</th>\n",
       "      <td>0.533333</td>\n",
       "      <td>0.533333</td>\n",
       "      <td>0.000000</td>\n",
       "      <td>0.000000</td>\n",
       "      <td>0.533333</td>\n",
       "      <td>0.000000</td>\n",
       "      <td>0.000000</td>\n",
       "      <td>0.533333</td>\n",
       "      <td>0.0</td>\n",
       "      <td>0.000000</td>\n",
       "      <td>...</td>\n",
       "      <td>0.000000</td>\n",
       "      <td>0.000000</td>\n",
       "      <td>0.000000</td>\n",
       "      <td>0.000000</td>\n",
       "      <td>0.000000</td>\n",
       "      <td>0.000000</td>\n",
       "      <td>0.000000</td>\n",
       "      <td>0.0</td>\n",
       "      <td>0</td>\n",
       "      <td>2995</td>\n",
       "    </tr>\n",
       "    <tr>\n",
       "      <th>id__2996</th>\n",
       "      <td>0.000000</td>\n",
       "      <td>0.000000</td>\n",
       "      <td>0.000000</td>\n",
       "      <td>0.533333</td>\n",
       "      <td>0.533333</td>\n",
       "      <td>0.000000</td>\n",
       "      <td>0.533333</td>\n",
       "      <td>0.000000</td>\n",
       "      <td>0.0</td>\n",
       "      <td>0.000000</td>\n",
       "      <td>...</td>\n",
       "      <td>0.000000</td>\n",
       "      <td>0.000000</td>\n",
       "      <td>0.000000</td>\n",
       "      <td>0.333333</td>\n",
       "      <td>0.333333</td>\n",
       "      <td>0.000000</td>\n",
       "      <td>0.333333</td>\n",
       "      <td>0.0</td>\n",
       "      <td>1</td>\n",
       "      <td>2996</td>\n",
       "    </tr>\n",
       "    <tr>\n",
       "      <th>id__2997</th>\n",
       "      <td>0.533333</td>\n",
       "      <td>0.533333</td>\n",
       "      <td>0.533333</td>\n",
       "      <td>0.533333</td>\n",
       "      <td>0.533333</td>\n",
       "      <td>0.533333</td>\n",
       "      <td>0.533333</td>\n",
       "      <td>0.533333</td>\n",
       "      <td>0.0</td>\n",
       "      <td>0.533333</td>\n",
       "      <td>...</td>\n",
       "      <td>0.000000</td>\n",
       "      <td>0.000000</td>\n",
       "      <td>0.333333</td>\n",
       "      <td>0.333333</td>\n",
       "      <td>0.000000</td>\n",
       "      <td>0.000000</td>\n",
       "      <td>0.000000</td>\n",
       "      <td>0.0</td>\n",
       "      <td>1</td>\n",
       "      <td>2997</td>\n",
       "    </tr>\n",
       "    <tr>\n",
       "      <th>id__2998</th>\n",
       "      <td>0.533333</td>\n",
       "      <td>0.000000</td>\n",
       "      <td>0.000000</td>\n",
       "      <td>0.533333</td>\n",
       "      <td>0.000000</td>\n",
       "      <td>0.533333</td>\n",
       "      <td>0.533333</td>\n",
       "      <td>0.533333</td>\n",
       "      <td>0.0</td>\n",
       "      <td>0.533333</td>\n",
       "      <td>...</td>\n",
       "      <td>0.000000</td>\n",
       "      <td>0.000000</td>\n",
       "      <td>0.333333</td>\n",
       "      <td>0.000000</td>\n",
       "      <td>0.333333</td>\n",
       "      <td>0.333333</td>\n",
       "      <td>0.333333</td>\n",
       "      <td>0.0</td>\n",
       "      <td>0</td>\n",
       "      <td>2998</td>\n",
       "    </tr>\n",
       "    <tr>\n",
       "      <th>id__2999</th>\n",
       "      <td>0.533333</td>\n",
       "      <td>0.000000</td>\n",
       "      <td>0.533333</td>\n",
       "      <td>0.533333</td>\n",
       "      <td>0.000000</td>\n",
       "      <td>0.000000</td>\n",
       "      <td>0.533333</td>\n",
       "      <td>0.533333</td>\n",
       "      <td>0.0</td>\n",
       "      <td>0.000000</td>\n",
       "      <td>...</td>\n",
       "      <td>0.533333</td>\n",
       "      <td>0.533333</td>\n",
       "      <td>0.000000</td>\n",
       "      <td>0.000000</td>\n",
       "      <td>0.333333</td>\n",
       "      <td>0.000000</td>\n",
       "      <td>0.000000</td>\n",
       "      <td>0.0</td>\n",
       "      <td>1</td>\n",
       "      <td>2999</td>\n",
       "    </tr>\n",
       "  </tbody>\n",
       "</table>\n",
       "<p>5 rows × 26 columns</p>\n",
       "</div>"
      ],
      "text/plain": [
       "               r&b      rock      jazz  electronic       pop     indie  \\\n",
       "id__2995  0.533333  0.533333  0.000000    0.000000  0.533333  0.000000   \n",
       "id__2996  0.000000  0.000000  0.000000    0.533333  0.533333  0.000000   \n",
       "id__2997  0.533333  0.533333  0.533333    0.533333  0.533333  0.533333   \n",
       "id__2998  0.533333  0.000000  0.000000    0.533333  0.000000  0.533333   \n",
       "id__2999  0.533333  0.000000  0.533333    0.533333  0.000000  0.000000   \n",
       "\n",
       "            cinema   theater  beers      wine  ...  football      yoga  \\\n",
       "id__2995  0.000000  0.533333    0.0  0.000000  ...  0.000000  0.000000   \n",
       "id__2996  0.533333  0.000000    0.0  0.000000  ...  0.000000  0.000000   \n",
       "id__2997  0.533333  0.533333    0.0  0.533333  ...  0.000000  0.000000   \n",
       "id__2998  0.533333  0.533333    0.0  0.533333  ...  0.000000  0.000000   \n",
       "id__2999  0.533333  0.533333    0.0  0.000000  ...  0.533333  0.533333   \n",
       "\n",
       "            techno  electro_funky     house   minimal   dubstep  DandB  plan  \\\n",
       "id__2995  0.000000       0.000000  0.000000  0.000000  0.000000    0.0     0   \n",
       "id__2996  0.000000       0.333333  0.333333  0.000000  0.333333    0.0     1   \n",
       "id__2997  0.333333       0.333333  0.000000  0.000000  0.000000    0.0     1   \n",
       "id__2998  0.333333       0.000000  0.333333  0.333333  0.333333    0.0     0   \n",
       "id__2999  0.000000       0.000000  0.333333  0.000000  0.000000    0.0     1   \n",
       "\n",
       "            id  \n",
       "id__2995  2995  \n",
       "id__2996  2996  \n",
       "id__2997  2997  \n",
       "id__2998  2998  \n",
       "id__2999  2999  \n",
       "\n",
       "[5 rows x 26 columns]"
      ]
     },
     "metadata": {},
     "output_type": "display_data"
    }
   ],
   "source": [
    "#  weighing\n",
    "\n",
    "for e in tags:\n",
    "    s_data[e]=s_data[e]*2/3\n",
    "\n",
    "for e in sub_tags_elec:\n",
    "    s_data[e]=s_data[e]*1/3\n",
    "    \n",
    "display(s_data.tail())"
   ]
  },
  {
   "cell_type": "code",
   "execution_count": 5,
   "metadata": {},
   "outputs": [],
   "source": [
    "# new user function\n",
    "\n",
    "\n",
    "def new_user(df, rb, rock, jazz, electronic, pop, indie, cinema, theater, beers, wine,\n",
    "             party, trips, running, gym, golf, basket, football, yoga,\n",
    "             techno, electro_funky, house, minimal, dubstep, DandB, metric):\n",
    "    \n",
    "    \n",
    "    tags=['r&b', 'rock', 'jazz', 'electronic', 'pop', 'indie',\n",
    "          'cinema', 'theater', 'beers', 'wine', 'party', 'trips',\n",
    "          'running', 'gym', 'golf', 'basket', 'football', 'yoga',\n",
    "          'techno', 'electro_funky', 'house', 'minimal', 'dubstep', 'DandB']\n",
    "    \n",
    "    \n",
    "    \n",
    "    rating=[rb, rock, jazz, electronic, pop, indie, cinema, theater, beers, wine,\n",
    "            party, trips, running, gym, golf, basket, football, yoga, \n",
    "            techno, electro_funky, house, minimal, dubstep, DandB]\n",
    "    \n",
    "    \n",
    "    n_user={k:v for k, v in list(zip(tags, rating))}\n",
    "    n_user['id']=len(s_data.id)\n",
    "    n_user['plan']=0\n",
    "    \n",
    "    names=list(df.index)\n",
    "    df=df.append(n_user, ignore_index=True)\n",
    "    names.append(n_user['id'])\n",
    "    df.index=names\n",
    "    \n",
    "    similar = pd.DataFrame(0.8/(1 + squareform(pdist(df.iloc[:, :-2], metric))), \n",
    "                         index=df.index, columns=df.index)\n",
    "\n",
    "    similarities = similar[n_user['id']].sort_values(ascending=False)\n",
    "    \n",
    "    closer_users=[]\n",
    "    for e in similarities.index:\n",
    "        if df.ix[e].plan==1:\n",
    "            closer_users.append(e)\n",
    "    \n",
    "    return list(map(list, zip(closer_users[:10], similarities.ix[closer_users[:10]])))#df.ix[closer_users[:10]][['id', 'plan']]"
   ]
  },
  {
   "cell_type": "code",
   "execution_count": 6,
   "metadata": {},
   "outputs": [
    {
     "name": "stdout",
     "output_type": "stream",
     "text": [
      "Rate r&b :\n",
      "1\n"
     ]
    }
   ],
   "source": [
    "print('Rate r&b :')\n",
    "rb = int(input())*1.6/3"
   ]
  },
  {
   "cell_type": "code",
   "execution_count": 7,
   "metadata": {},
   "outputs": [
    {
     "name": "stdout",
     "output_type": "stream",
     "text": [
      "Rate rock :\n",
      "0\n"
     ]
    }
   ],
   "source": [
    "print('Rate rock :')\n",
    "rock = int(input())*1.6/3  "
   ]
  },
  {
   "cell_type": "code",
   "execution_count": 8,
   "metadata": {},
   "outputs": [
    {
     "name": "stdout",
     "output_type": "stream",
     "text": [
      "Rate jazz :\n",
      "1\n"
     ]
    }
   ],
   "source": [
    "print('Rate jazz :')\n",
    "jazz = int(input())*1.6/3 "
   ]
  },
  {
   "cell_type": "code",
   "execution_count": 9,
   "metadata": {},
   "outputs": [
    {
     "name": "stdout",
     "output_type": "stream",
     "text": [
      "Rate electronic :\n",
      "1\n"
     ]
    }
   ],
   "source": [
    "print('Rate electronic :')\n",
    "electronic = int(input())*1.6/3  "
   ]
  },
  {
   "cell_type": "code",
   "execution_count": 10,
   "metadata": {},
   "outputs": [
    {
     "name": "stdout",
     "output_type": "stream",
     "text": [
      "Rate techno :\n",
      "0\n",
      "Rate electro-funky :\n",
      "0\n",
      "Rate house :\n",
      "1\n",
      "Rate minimal :\n",
      "1\n",
      "Rate dubstep :\n",
      "0\n",
      "Rate D&B :\n",
      "1\n"
     ]
    }
   ],
   "source": [
    "if electronic!=0:\n",
    "    print('Rate techno :')\n",
    "    techno = int(input())*0.8/3\n",
    "    \n",
    "    print('Rate electro-funky :')\n",
    "    electro_funky = int(input())*0.8/3\n",
    " \n",
    "    print('Rate house :')\n",
    "    house = int(input())*0.8/3\n",
    " \n",
    "    print('Rate minimal :')\n",
    "    minimal = int(input())*0.8/3\n",
    " \n",
    "    print('Rate dubstep :')\n",
    "    dubstep = int(input())*0.8/3\n",
    " \n",
    "    print('Rate D&B :')\n",
    "    DandB = int(input())*0.8/3\n",
    "\n",
    "\n",
    "else:\n",
    "    techno = 0\n",
    "    electro_funky = 0\n",
    "    house = 0\n",
    "    minimal = 0\n",
    "    dubstep = 0\n",
    "    DandB = 0"
   ]
  },
  {
   "cell_type": "code",
   "execution_count": 11,
   "metadata": {},
   "outputs": [
    {
     "name": "stdout",
     "output_type": "stream",
     "text": [
      "Rate pop from :\n",
      "1\n"
     ]
    }
   ],
   "source": [
    "print('Rate pop from :')\n",
    "pop = int(input())*1.6/3 "
   ]
  },
  {
   "cell_type": "code",
   "execution_count": 12,
   "metadata": {},
   "outputs": [
    {
     "name": "stdout",
     "output_type": "stream",
     "text": [
      "Rate indie :\n",
      "0\n"
     ]
    }
   ],
   "source": [
    "print('Rate indie :')\n",
    "indie = int(input())*1.6/3 "
   ]
  },
  {
   "cell_type": "code",
   "execution_count": 13,
   "metadata": {},
   "outputs": [
    {
     "name": "stdout",
     "output_type": "stream",
     "text": [
      "Rate cinema :\n",
      "1\n"
     ]
    }
   ],
   "source": [
    "print('Rate cinema :')\n",
    "cinema = int(input())*1.6/3 "
   ]
  },
  {
   "cell_type": "code",
   "execution_count": 14,
   "metadata": {},
   "outputs": [
    {
     "name": "stdout",
     "output_type": "stream",
     "text": [
      "Rate theater :\n",
      "0\n"
     ]
    }
   ],
   "source": [
    "print('Rate theater :')\n",
    "theater = int(input())*1.6/3 "
   ]
  },
  {
   "cell_type": "code",
   "execution_count": 15,
   "metadata": {},
   "outputs": [
    {
     "name": "stdout",
     "output_type": "stream",
     "text": [
      "Rate beers :\n",
      "1\n"
     ]
    }
   ],
   "source": [
    "print('Rate beers :')\n",
    "beers = int(input())*1.6/3 "
   ]
  },
  {
   "cell_type": "code",
   "execution_count": 16,
   "metadata": {},
   "outputs": [
    {
     "name": "stdout",
     "output_type": "stream",
     "text": [
      "Rate wine :\n",
      "0\n"
     ]
    }
   ],
   "source": [
    "print('Rate wine :')\n",
    "wine = int(input())*1.6/3 "
   ]
  },
  {
   "cell_type": "code",
   "execution_count": 17,
   "metadata": {},
   "outputs": [
    {
     "name": "stdout",
     "output_type": "stream",
     "text": [
      "Rate party :\n",
      "0\n"
     ]
    }
   ],
   "source": [
    "print('Rate party :')\n",
    "party = int(input())*1.6/3 "
   ]
  },
  {
   "cell_type": "code",
   "execution_count": 18,
   "metadata": {},
   "outputs": [
    {
     "name": "stdout",
     "output_type": "stream",
     "text": [
      "Rate trips :\n",
      "1\n"
     ]
    }
   ],
   "source": [
    "print('Rate trips :')\n",
    "trips = int(input())*1.6/3 "
   ]
  },
  {
   "cell_type": "code",
   "execution_count": 19,
   "metadata": {},
   "outputs": [
    {
     "name": "stdout",
     "output_type": "stream",
     "text": [
      "Rate running :\n",
      "0\n"
     ]
    }
   ],
   "source": [
    "print('Rate running :')\n",
    "running = int(input())*1.6/3 "
   ]
  },
  {
   "cell_type": "code",
   "execution_count": 20,
   "metadata": {},
   "outputs": [
    {
     "name": "stdout",
     "output_type": "stream",
     "text": [
      "Rate gym :\n",
      "0\n"
     ]
    }
   ],
   "source": [
    "print('Rate gym :')\n",
    "gym = int(input())*1.6/3 "
   ]
  },
  {
   "cell_type": "code",
   "execution_count": 21,
   "metadata": {},
   "outputs": [
    {
     "name": "stdout",
     "output_type": "stream",
     "text": [
      "Rate golf :\n",
      "0\n"
     ]
    }
   ],
   "source": [
    "print('Rate golf :')\n",
    "golf = int(input())*1.6/3 "
   ]
  },
  {
   "cell_type": "code",
   "execution_count": 22,
   "metadata": {},
   "outputs": [
    {
     "name": "stdout",
     "output_type": "stream",
     "text": [
      "Rate basket :\n",
      "1\n"
     ]
    }
   ],
   "source": [
    "print('Rate basket :')\n",
    "basket = int(input())*1.6/3 "
   ]
  },
  {
   "cell_type": "code",
   "execution_count": 23,
   "metadata": {},
   "outputs": [
    {
     "name": "stdout",
     "output_type": "stream",
     "text": [
      "Rate football :\n",
      "0\n"
     ]
    }
   ],
   "source": [
    "print('Rate football :')\n",
    "football = int(input())*1.6/3 "
   ]
  },
  {
   "cell_type": "code",
   "execution_count": 24,
   "metadata": {},
   "outputs": [
    {
     "name": "stdout",
     "output_type": "stream",
     "text": [
      "Rate yoga :\n",
      "1\n"
     ]
    }
   ],
   "source": [
    "print('Rate yoga :')\n",
    "yoga = int(input())*1.6/3 "
   ]
  },
  {
   "cell_type": "code",
   "execution_count": 25,
   "metadata": {},
   "outputs": [],
   "source": [
    "# metrics for squareform\n",
    "\n",
    "'''\n",
    "'euclidean', 'minkowski', 'cityblock', 'seuclidean', 'sqeuclidean', 'cosine', 'correlation'\n",
    "\n",
    "'hamming', 'jaccard', 'chebyshev', 'canberra', 'braycurtis', 'mahalanobis', 'yule'\n",
    "\n",
    "'matching', 'dice', 'kulsinski', 'rogerstanimoto', 'russellrao', 'sokalmichener'\n",
    "\n",
    "'sokalsneath', 'wminkowski'\n",
    "'''\n",
    "\n",
    "\n",
    "metric='cosine' "
   ]
  },
  {
   "cell_type": "code",
   "execution_count": 26,
   "metadata": {},
   "outputs": [
    {
     "name": "stdout",
     "output_type": "stream",
     "text": [
      "Similar users with plan : \n",
      "id__1687\n",
      "id__2870\n",
      "id__2731\n",
      "id__186\n",
      "id__2056\n",
      "id__2434\n",
      "id__310\n",
      "id__2005\n",
      "id__2552\n",
      "id__2661\n"
     ]
    }
   ],
   "source": [
    "# plans (users)\n",
    "\n",
    "plans=new_user(s_data, rb, rock, jazz, electronic, pop, indie, cinema, theater, beers, wine,\n",
    "               party, trips, running, gym, golf, basket, football, yoga, \n",
    "               techno, electro_funky, house, minimal, dubstep, DandB, metric)\n",
    "\n",
    "\n",
    "print ('Similar users with plan : ')\n",
    "for e in plans:\n",
    "    print (e[0])\n",
    "    \n",
    "final=pd.DataFrame()\n",
    "final['plan_ori_id']=[e[0] for e in plans]\n",
    "final['original_similarity']=[e[1] for e in plans]"
   ]
  },
  {
   "cell_type": "code",
   "execution_count": 27,
   "metadata": {},
   "outputs": [
    {
     "name": "stdout",
     "output_type": "stream",
     "text": [
      "\n",
      "Follow user id__1687?\n",
      "1\n",
      "\n",
      "Follow user id__2870?\n",
      "0\n",
      "\n",
      "Follow user id__2731?\n",
      "0\n",
      "\n",
      "Follow user id__186?\n",
      "1\n",
      "\n",
      "Follow user id__2056?\n",
      "0\n",
      "\n",
      "Follow user id__2434?\n",
      "0\n",
      "\n",
      "Follow user id__310?\n",
      "0\n",
      "\n",
      "Follow user id__2005?\n",
      "0\n",
      "\n",
      "Follow user id__2552?\n",
      "0\n",
      "\n",
      "Follow user id__2661?\n",
      "0\n",
      "\n"
     ]
    }
   ],
   "source": [
    "# follow-unfollow users\n",
    "foll=plans\n",
    "def follow(_id, b, foll):\n",
    "    if b==0: return foll\n",
    "    elif b==1:\n",
    "        for e in foll:\n",
    "            if _id==e[0]:\n",
    "                e[1]+=e[1]*0.15\n",
    "        for e in foll:\n",
    "            if e[1]>1:e[1]=1\n",
    "        return foll#sorted(foll, key=itemgetter(1), reverse=True)\n",
    "\n",
    "print ()\n",
    "for e in foll:\n",
    "    print ('Follow user {}?'.format(e[0]))\n",
    "    b=int(input())\n",
    "    f=follow(e[0], b, foll)\n",
    "    #print (f)\n",
    "    print()\n",
    "#final['follow_id']=[e[0] for e in f]\n",
    "final['after_follow_similarity']=[e[1] for e in f]\n",
    "\n"
   ]
  },
  {
   "cell_type": "code",
   "execution_count": 28,
   "metadata": {},
   "outputs": [
    {
     "name": "stdout",
     "output_type": "stream",
     "text": [
      "\n",
      "Do you like the user id__1687 plan?\n",
      "0\n",
      "\n",
      "Do you like the user id__2870 plan?\n",
      "1\n",
      "\n",
      "Do you like the user id__2731 plan?\n",
      "1\n",
      "\n",
      "Do you like the user id__186 plan?\n",
      "1\n",
      "\n",
      "Do you like the user id__2056 plan?\n",
      "0\n",
      "\n",
      "Do you like the user id__2434 plan?\n",
      "0\n",
      "\n",
      "Do you like the user id__310 plan?\n",
      "0\n",
      "\n",
      "Do you like the user id__2005 plan?\n",
      "0\n",
      "\n",
      "Do you like the user id__2552 plan?\n",
      "0\n",
      "\n",
      "Do you like the user id__2661 plan?\n",
      "0\n",
      "\n"
     ]
    }
   ],
   "source": [
    "w_likes=foll\n",
    "def like(_id, b, serie_like):\n",
    "    if b==0: return serie_like\n",
    "    elif b==1:\n",
    "        for e in serie_like:\n",
    "            if _id==e[0]:\n",
    "                e[1]+=0.01\n",
    "        for e in serie_like:\n",
    "            if e[1]>1:e[1]=1\n",
    "        return serie_like\n",
    "\n",
    "print ()\n",
    "for e in w_likes:\n",
    "    print ('Do you like the user {} plan?'.format(e[0]))\n",
    "    b=int(input())\n",
    "    l=like(e[0], b, w_likes)\n",
    "    print()\n",
    "final['with likes after follow']=[e[1] for e in f]"
   ]
  },
  {
   "cell_type": "code",
   "execution_count": 29,
   "metadata": {},
   "outputs": [
    {
     "name": "stdout",
     "output_type": "stream",
     "text": [
      "\n",
      "Unfollow user id__1687?\n",
      "0\n",
      "\n",
      "Unfollow user id__2870?\n",
      "0\n",
      "\n",
      "Unfollow user id__2731?\n",
      "1\n",
      "\n",
      "Unfollow user id__186?\n",
      "1\n",
      "\n",
      "Unfollow user id__2056?\n",
      "1\n",
      "\n",
      "Unfollow user id__2434?\n",
      "1\n",
      "\n",
      "Unfollow user id__310?\n",
      "1\n",
      "\n",
      "Unfollow user id__2005?\n",
      "1\n",
      "\n",
      "Unfollow user id__2552?\n",
      "1\n",
      "\n",
      "Unfollow user id__2661?\n",
      "1\n",
      "\n"
     ]
    },
    {
     "data": {
      "text/html": [
       "<div>\n",
       "<style scoped>\n",
       "    .dataframe tbody tr th:only-of-type {\n",
       "        vertical-align: middle;\n",
       "    }\n",
       "\n",
       "    .dataframe tbody tr th {\n",
       "        vertical-align: top;\n",
       "    }\n",
       "\n",
       "    .dataframe thead th {\n",
       "        text-align: right;\n",
       "    }\n",
       "</style>\n",
       "<table border=\"1\" class=\"dataframe\">\n",
       "  <thead>\n",
       "    <tr style=\"text-align: right;\">\n",
       "      <th></th>\n",
       "      <th>plan_ori_id</th>\n",
       "      <th>original_similarity</th>\n",
       "      <th>after_follow_similarity</th>\n",
       "      <th>with likes after follow</th>\n",
       "      <th>after_unfollow_similarity</th>\n",
       "    </tr>\n",
       "  </thead>\n",
       "  <tbody>\n",
       "    <tr>\n",
       "      <th>0</th>\n",
       "      <td>id__1687</td>\n",
       "      <td>0.673586</td>\n",
       "      <td>0.774624</td>\n",
       "      <td>0.774624</td>\n",
       "      <td>0.774624</td>\n",
       "    </tr>\n",
       "    <tr>\n",
       "      <th>1</th>\n",
       "      <td>id__2870</td>\n",
       "      <td>0.661906</td>\n",
       "      <td>0.661906</td>\n",
       "      <td>0.671906</td>\n",
       "      <td>0.671906</td>\n",
       "    </tr>\n",
       "    <tr>\n",
       "      <th>2</th>\n",
       "      <td>id__2731</td>\n",
       "      <td>0.660491</td>\n",
       "      <td>0.660491</td>\n",
       "      <td>0.670491</td>\n",
       "      <td>0.569917</td>\n",
       "    </tr>\n",
       "    <tr>\n",
       "      <th>3</th>\n",
       "      <td>id__186</td>\n",
       "      <td>0.656169</td>\n",
       "      <td>0.754594</td>\n",
       "      <td>0.764594</td>\n",
       "      <td>0.649905</td>\n",
       "    </tr>\n",
       "    <tr>\n",
       "      <th>4</th>\n",
       "      <td>id__2056</td>\n",
       "      <td>0.656169</td>\n",
       "      <td>0.656169</td>\n",
       "      <td>0.656169</td>\n",
       "      <td>0.557743</td>\n",
       "    </tr>\n",
       "    <tr>\n",
       "      <th>5</th>\n",
       "      <td>id__2434</td>\n",
       "      <td>0.653377</td>\n",
       "      <td>0.653377</td>\n",
       "      <td>0.653377</td>\n",
       "      <td>0.555371</td>\n",
       "    </tr>\n",
       "    <tr>\n",
       "      <th>6</th>\n",
       "      <td>id__310</td>\n",
       "      <td>0.646750</td>\n",
       "      <td>0.646750</td>\n",
       "      <td>0.646750</td>\n",
       "      <td>0.549737</td>\n",
       "    </tr>\n",
       "    <tr>\n",
       "      <th>7</th>\n",
       "      <td>id__2005</td>\n",
       "      <td>0.645726</td>\n",
       "      <td>0.645726</td>\n",
       "      <td>0.645726</td>\n",
       "      <td>0.548867</td>\n",
       "    </tr>\n",
       "    <tr>\n",
       "      <th>8</th>\n",
       "      <td>id__2552</td>\n",
       "      <td>0.645726</td>\n",
       "      <td>0.645726</td>\n",
       "      <td>0.645726</td>\n",
       "      <td>0.548867</td>\n",
       "    </tr>\n",
       "    <tr>\n",
       "      <th>9</th>\n",
       "      <td>id__2661</td>\n",
       "      <td>0.644785</td>\n",
       "      <td>0.644785</td>\n",
       "      <td>0.644785</td>\n",
       "      <td>0.548068</td>\n",
       "    </tr>\n",
       "  </tbody>\n",
       "</table>\n",
       "</div>"
      ],
      "text/plain": [
       "  plan_ori_id  original_similarity  after_follow_similarity  \\\n",
       "0    id__1687             0.673586                 0.774624   \n",
       "1    id__2870             0.661906                 0.661906   \n",
       "2    id__2731             0.660491                 0.660491   \n",
       "3     id__186             0.656169                 0.754594   \n",
       "4    id__2056             0.656169                 0.656169   \n",
       "5    id__2434             0.653377                 0.653377   \n",
       "6     id__310             0.646750                 0.646750   \n",
       "7    id__2005             0.645726                 0.645726   \n",
       "8    id__2552             0.645726                 0.645726   \n",
       "9    id__2661             0.644785                 0.644785   \n",
       "\n",
       "   with likes after follow  after_unfollow_similarity  \n",
       "0                 0.774624                   0.774624  \n",
       "1                 0.671906                   0.671906  \n",
       "2                 0.670491                   0.569917  \n",
       "3                 0.764594                   0.649905  \n",
       "4                 0.656169                   0.557743  \n",
       "5                 0.653377                   0.555371  \n",
       "6                 0.646750                   0.549737  \n",
       "7                 0.645726                   0.548867  \n",
       "8                 0.645726                   0.548867  \n",
       "9                 0.644785                   0.548068  "
      ]
     },
     "metadata": {},
     "output_type": "display_data"
    }
   ],
   "source": [
    "unfoll=w_likes\n",
    "def unfollow(_id, b, unfoll):\n",
    "    if b==0: return unfoll\n",
    "    elif b==1:\n",
    "        for e in unfoll:\n",
    "            if _id==e[0]:\n",
    "                e[1]-=e[1]*0.15\n",
    "        for e in unfoll:\n",
    "            if e[1]<0:e[1]=0\n",
    "        return unfoll#sorted(unfoll, key=itemgetter(1), reverse=True)\n",
    "\n",
    "print ()\n",
    "for e in unfoll:\n",
    "    print ('Unfollow user {}?'.format(e[0]))\n",
    "    b=int(input())\n",
    "    u=unfollow(e[0], b, unfoll)\n",
    "    #print (u)\n",
    "    print()\n",
    "#final['unfollow_id']=[e[0] for e in u]\n",
    "final['after_unfollow_similarity']=[e[1] for e in u]\n",
    "display (final)"
   ]
  },
  {
   "cell_type": "code",
   "execution_count": 30,
   "metadata": {},
   "outputs": [
    {
     "name": "stdout",
     "output_type": "stream",
     "text": [
      "\n",
      "Do you like the user id__1687 plan?\n",
      "0\n",
      "\n",
      "Do you like the user id__2870 plan?\n",
      "0\n",
      "\n",
      "Do you like the user id__2731 plan?\n",
      "0\n",
      "\n",
      "Do you like the user id__186 plan?\n",
      "0\n",
      "\n",
      "Do you like the user id__2056 plan?\n",
      "0\n",
      "\n",
      "Do you like the user id__2434 plan?\n",
      "0\n",
      "\n",
      "Do you like the user id__310 plan?\n",
      "0\n",
      "\n",
      "Do you like the user id__2005 plan?\n",
      "0\n",
      "\n",
      "Do you like the user id__2552 plan?\n",
      "0\n",
      "\n",
      "Do you like the user id__2661 plan?\n",
      "0\n",
      "\n"
     ]
    }
   ],
   "source": [
    "w_likes_un=unfoll\n",
    "def like_un(_id, b, serie_like):\n",
    "    if b==0: return serie_like\n",
    "    elif b==1:\n",
    "        for e in serie_like:\n",
    "            if _id==e[0]:\n",
    "                e[1]+=0.01\n",
    "        for e in serie_like:\n",
    "            if e[1]>1:e[1]=1\n",
    "        return serie_like\n",
    "\n",
    "print ()\n",
    "for e in w_likes_un:\n",
    "    print ('Do you like the user {} plan?'.format(e[0]))\n",
    "    b=int(input())\n",
    "    l=like_un(e[0], b, w_likes_un)\n",
    "    print()\n",
    "final['with likes after unfollow']=[e[1] for e in f]"
   ]
  },
  {
   "cell_type": "code",
   "execution_count": 31,
   "metadata": {
    "scrolled": false
   },
   "outputs": [
    {
     "data": {
      "application/vnd.plotly.v1+json": {
       "config": {
        "linkText": "Export to plot.ly",
        "plotlyServerURL": "https://plot.ly",
        "responsive": true,
        "showLink": true
       },
       "data": [
        {
         "marker": {
          "color": "rgba(255, 153, 51, 0.6)",
          "line": {
           "color": "rgba(255, 153, 51, 1.0)",
           "width": 1
          }
         },
         "name": "original_similarity",
         "orientation": "v",
         "text": "",
         "type": "bar",
         "uid": "4f2896c3-5a83-4216-a1e2-ced938f03284",
         "x": [
          "id__1687",
          "id__2870",
          "id__2731",
          "id__186",
          "id__2056",
          "id__2434",
          "id__310",
          "id__2005",
          "id__2552",
          "id__2661"
         ],
         "y": [
          0.6735861163055932,
          0.661905677461369,
          0.6604907611787257,
          0.6561685168896184,
          0.6561685168896184,
          0.6533773064640326,
          0.6467498980305034,
          0.6457261482376524,
          0.6457261482376524,
          0.6447854766020108
         ]
        },
        {
         "marker": {
          "color": "rgba(55, 128, 191, 0.6)",
          "line": {
           "color": "rgba(55, 128, 191, 1.0)",
           "width": 1
          }
         },
         "name": "after_follow_similarity",
         "orientation": "v",
         "text": "",
         "type": "bar",
         "uid": "eab0029d-a33a-4342-9b5d-39713e6e0cc9",
         "x": [
          "id__1687",
          "id__2870",
          "id__2731",
          "id__186",
          "id__2056",
          "id__2434",
          "id__310",
          "id__2005",
          "id__2552",
          "id__2661"
         ],
         "y": [
          0.7746240337514322,
          0.661905677461369,
          0.6604907611787257,
          0.7545937944230612,
          0.6561685168896184,
          0.6533773064640326,
          0.6467498980305034,
          0.6457261482376524,
          0.6457261482376524,
          0.6447854766020108
         ]
        },
        {
         "marker": {
          "color": "rgba(50, 171, 96, 0.6)",
          "line": {
           "color": "rgba(50, 171, 96, 1.0)",
           "width": 1
          }
         },
         "name": "with likes after follow",
         "orientation": "v",
         "text": "",
         "type": "bar",
         "uid": "37af010a-e7bc-4ba3-bf58-43da999e3003",
         "x": [
          "id__1687",
          "id__2870",
          "id__2731",
          "id__186",
          "id__2056",
          "id__2434",
          "id__310",
          "id__2005",
          "id__2552",
          "id__2661"
         ],
         "y": [
          0.7746240337514322,
          0.671905677461369,
          0.6704907611787257,
          0.7645937944230612,
          0.6561685168896184,
          0.6533773064640326,
          0.6467498980305034,
          0.6457261482376524,
          0.6457261482376524,
          0.6447854766020108
         ]
        },
        {
         "marker": {
          "color": "rgba(128, 0, 128, 0.6)",
          "line": {
           "color": "rgba(128, 0, 128, 1.0)",
           "width": 1
          }
         },
         "name": "after_unfollow_similarity",
         "orientation": "v",
         "text": "",
         "type": "bar",
         "uid": "ec445f4e-1759-4eef-b798-0ec1b8cf39db",
         "x": [
          "id__1687",
          "id__2870",
          "id__2731",
          "id__186",
          "id__2056",
          "id__2434",
          "id__310",
          "id__2005",
          "id__2552",
          "id__2661"
         ],
         "y": [
          0.7746240337514322,
          0.671905677461369,
          0.5699171470019169,
          0.649904725259602,
          0.5577432393561756,
          0.5553707104944277,
          0.549737413325928,
          0.5488672260020045,
          0.5488672260020045,
          0.5480676551117092
         ]
        },
        {
         "marker": {
          "color": "rgba(219, 64, 82, 0.6)",
          "line": {
           "color": "rgba(219, 64, 82, 1.0)",
           "width": 1
          }
         },
         "name": "with likes after unfollow",
         "orientation": "v",
         "text": "",
         "type": "bar",
         "uid": "5ce242a7-0935-405b-bbb9-d70d3939577d",
         "x": [
          "id__1687",
          "id__2870",
          "id__2731",
          "id__186",
          "id__2056",
          "id__2434",
          "id__310",
          "id__2005",
          "id__2552",
          "id__2661"
         ],
         "y": [
          0.7746240337514322,
          0.671905677461369,
          0.5699171470019169,
          0.649904725259602,
          0.5577432393561756,
          0.5553707104944277,
          0.549737413325928,
          0.5488672260020045,
          0.5488672260020045,
          0.5480676551117092
         ]
        }
       ],
       "layout": {
        "legend": {
         "bgcolor": "#F5F6F9",
         "font": {
          "color": "#4D5663"
         }
        },
        "paper_bgcolor": "#F5F6F9",
        "plot_bgcolor": "#F5F6F9",
        "title": {
         "font": {
          "color": "#4D5663"
         },
         "text": "Similarities with user id_3000"
        },
        "xaxis": {
         "gridcolor": "#E1E5ED",
         "showgrid": true,
         "tickfont": {
          "color": "#4D5663"
         },
         "title": {
          "font": {
           "color": "#4D5663"
          },
          "text": "Users"
         },
         "zerolinecolor": "#E1E5ED"
        },
        "yaxis": {
         "gridcolor": "#E1E5ED",
         "showgrid": true,
         "tickfont": {
          "color": "#4D5663"
         },
         "title": {
          "font": {
           "color": "#4D5663"
          },
          "text": "Similarity"
         },
         "zerolinecolor": "#E1E5ED"
        }
       }
      },
      "text/html": [
       "<div>\n",
       "        \n",
       "        \n",
       "            <div id=\"d65f7ae0-4ad4-4e41-9e43-f98be6cc8dd6\" class=\"plotly-graph-div\" style=\"height:525px; width:100%;\"></div>\n",
       "            <script type=\"text/javascript\">\n",
       "                require([\"plotly\"], function(Plotly) {\n",
       "                    window.PLOTLYENV=window.PLOTLYENV || {};\n",
       "                    window.PLOTLYENV.BASE_URL='https://plot.ly';\n",
       "                    \n",
       "                if (document.getElementById(\"d65f7ae0-4ad4-4e41-9e43-f98be6cc8dd6\")) {\n",
       "                    Plotly.newPlot(\n",
       "                        'd65f7ae0-4ad4-4e41-9e43-f98be6cc8dd6',\n",
       "                        [{\"marker\": {\"color\": \"rgba(255, 153, 51, 0.6)\", \"line\": {\"color\": \"rgba(255, 153, 51, 1.0)\", \"width\": 1}}, \"name\": \"original_similarity\", \"orientation\": \"v\", \"text\": \"\", \"type\": \"bar\", \"uid\": \"be7b53cb-2133-4947-9d14-f751a8981761\", \"x\": [\"id__1687\", \"id__2870\", \"id__2731\", \"id__186\", \"id__2056\", \"id__2434\", \"id__310\", \"id__2005\", \"id__2552\", \"id__2661\"], \"y\": [0.6735861163055932, 0.661905677461369, 0.6604907611787257, 0.6561685168896184, 0.6561685168896184, 0.6533773064640326, 0.6467498980305034, 0.6457261482376524, 0.6457261482376524, 0.6447854766020108]}, {\"marker\": {\"color\": \"rgba(55, 128, 191, 0.6)\", \"line\": {\"color\": \"rgba(55, 128, 191, 1.0)\", \"width\": 1}}, \"name\": \"after_follow_similarity\", \"orientation\": \"v\", \"text\": \"\", \"type\": \"bar\", \"uid\": \"153d6328-510d-402c-aff1-76533f2b10db\", \"x\": [\"id__1687\", \"id__2870\", \"id__2731\", \"id__186\", \"id__2056\", \"id__2434\", \"id__310\", \"id__2005\", \"id__2552\", \"id__2661\"], \"y\": [0.7746240337514322, 0.661905677461369, 0.6604907611787257, 0.7545937944230612, 0.6561685168896184, 0.6533773064640326, 0.6467498980305034, 0.6457261482376524, 0.6457261482376524, 0.6447854766020108]}, {\"marker\": {\"color\": \"rgba(50, 171, 96, 0.6)\", \"line\": {\"color\": \"rgba(50, 171, 96, 1.0)\", \"width\": 1}}, \"name\": \"with likes after follow\", \"orientation\": \"v\", \"text\": \"\", \"type\": \"bar\", \"uid\": \"8ed90da0-95d3-41cd-8a73-f99eacb85ec5\", \"x\": [\"id__1687\", \"id__2870\", \"id__2731\", \"id__186\", \"id__2056\", \"id__2434\", \"id__310\", \"id__2005\", \"id__2552\", \"id__2661\"], \"y\": [0.7746240337514322, 0.671905677461369, 0.6704907611787257, 0.7645937944230612, 0.6561685168896184, 0.6533773064640326, 0.6467498980305034, 0.6457261482376524, 0.6457261482376524, 0.6447854766020108]}, {\"marker\": {\"color\": \"rgba(128, 0, 128, 0.6)\", \"line\": {\"color\": \"rgba(128, 0, 128, 1.0)\", \"width\": 1}}, \"name\": \"after_unfollow_similarity\", \"orientation\": \"v\", \"text\": \"\", \"type\": \"bar\", \"uid\": \"f7073c8a-6417-4555-b36c-2cb52808fff7\", \"x\": [\"id__1687\", \"id__2870\", \"id__2731\", \"id__186\", \"id__2056\", \"id__2434\", \"id__310\", \"id__2005\", \"id__2552\", \"id__2661\"], \"y\": [0.7746240337514322, 0.671905677461369, 0.5699171470019169, 0.649904725259602, 0.5577432393561756, 0.5553707104944277, 0.549737413325928, 0.5488672260020045, 0.5488672260020045, 0.5480676551117092]}, {\"marker\": {\"color\": \"rgba(219, 64, 82, 0.6)\", \"line\": {\"color\": \"rgba(219, 64, 82, 1.0)\", \"width\": 1}}, \"name\": \"with likes after unfollow\", \"orientation\": \"v\", \"text\": \"\", \"type\": \"bar\", \"uid\": \"0552d955-c641-4452-a4f8-6306e228d27b\", \"x\": [\"id__1687\", \"id__2870\", \"id__2731\", \"id__186\", \"id__2056\", \"id__2434\", \"id__310\", \"id__2005\", \"id__2552\", \"id__2661\"], \"y\": [0.7746240337514322, 0.671905677461369, 0.5699171470019169, 0.649904725259602, 0.5577432393561756, 0.5553707104944277, 0.549737413325928, 0.5488672260020045, 0.5488672260020045, 0.5480676551117092]}],\n",
       "                        {\"legend\": {\"bgcolor\": \"#F5F6F9\", \"font\": {\"color\": \"#4D5663\"}}, \"paper_bgcolor\": \"#F5F6F9\", \"plot_bgcolor\": \"#F5F6F9\", \"title\": {\"font\": {\"color\": \"#4D5663\"}, \"text\": \"Similarities with user id_3000\"}, \"xaxis\": {\"gridcolor\": \"#E1E5ED\", \"showgrid\": true, \"tickfont\": {\"color\": \"#4D5663\"}, \"title\": {\"font\": {\"color\": \"#4D5663\"}, \"text\": \"Users\"}, \"zerolinecolor\": \"#E1E5ED\"}, \"yaxis\": {\"gridcolor\": \"#E1E5ED\", \"showgrid\": true, \"tickfont\": {\"color\": \"#4D5663\"}, \"title\": {\"font\": {\"color\": \"#4D5663\"}, \"text\": \"Similarity\"}, \"zerolinecolor\": \"#E1E5ED\"}},\n",
       "                        {\"showLink\": true, \"linkText\": \"Export to plot.ly\", \"plotlyServerURL\": \"https://plot.ly\", \"responsive\": true}\n",
       "                    ).then(function(){\n",
       "                            \n",
       "var gd = document.getElementById('d65f7ae0-4ad4-4e41-9e43-f98be6cc8dd6');\n",
       "var x = new MutationObserver(function (mutations, observer) {{\n",
       "        var display = window.getComputedStyle(gd).display;\n",
       "        if (!display || display === 'none') {{\n",
       "            console.log([gd, 'removed!']);\n",
       "            Plotly.purge(gd);\n",
       "            observer.disconnect();\n",
       "        }}\n",
       "}});\n",
       "\n",
       "// Listen for the removal of the full notebook cells\n",
       "var notebookContainer = gd.closest('#notebook-container');\n",
       "if (notebookContainer) {{\n",
       "    x.observe(notebookContainer, {childList: true});\n",
       "}}\n",
       "\n",
       "// Listen for the clearing of the current output cell\n",
       "var outputEl = gd.closest('.output');\n",
       "if (outputEl) {{\n",
       "    x.observe(outputEl, {childList: true});\n",
       "}}\n",
       "\n",
       "                        })\n",
       "                };\n",
       "                });\n",
       "            </script>\n",
       "        </div>"
      ]
     },
     "metadata": {},
     "output_type": "display_data"
    }
   ],
   "source": [
    "final.iplot(kind='bar', x='plan_ori_id', title='Similarities with user id_3000', \n",
    "            yTitle='Similarity', xTitle='Users')"
   ]
  },
  {
   "cell_type": "code",
   "execution_count": 32,
   "metadata": {},
   "outputs": [],
   "source": [
    "#final.head()"
   ]
  },
  {
   "cell_type": "code",
   "execution_count": 33,
   "metadata": {},
   "outputs": [],
   "source": [
    "end_similarity=final.sort_values(by=['with likes after unfollow'], ascending=False)\n",
    "#end_similarity"
   ]
  },
  {
   "cell_type": "code",
   "execution_count": 34,
   "metadata": {},
   "outputs": [
    {
     "data": {
      "application/vnd.plotly.v1+json": {
       "config": {
        "linkText": "Export to plot.ly",
        "plotlyServerURL": "https://plot.ly",
        "responsive": true,
        "showLink": true
       },
       "data": [
        {
         "marker": {
          "color": "rgba(255, 153, 51, 0.6)",
          "line": {
           "color": "rgba(255, 153, 51, 1.0)",
           "width": 1
          }
         },
         "name": "original_similarity",
         "orientation": "v",
         "text": "",
         "type": "bar",
         "uid": "a34eeab3-5411-4e95-9ed5-cebde026bdf7",
         "x": [
          "id__1687",
          "id__2870",
          "id__186",
          "id__2731",
          "id__2056",
          "id__2434",
          "id__310",
          "id__2005",
          "id__2552",
          "id__2661"
         ],
         "y": [
          0.6735861163055932,
          0.661905677461369,
          0.6561685168896184,
          0.6604907611787257,
          0.6561685168896184,
          0.6533773064640326,
          0.6467498980305034,
          0.6457261482376524,
          0.6457261482376524,
          0.6447854766020108
         ]
        },
        {
         "marker": {
          "color": "rgba(55, 128, 191, 0.6)",
          "line": {
           "color": "rgba(55, 128, 191, 1.0)",
           "width": 1
          }
         },
         "name": "after_follow_similarity",
         "orientation": "v",
         "text": "",
         "type": "bar",
         "uid": "2c80c569-5a6c-4ce9-8a32-8575c3615628",
         "x": [
          "id__1687",
          "id__2870",
          "id__186",
          "id__2731",
          "id__2056",
          "id__2434",
          "id__310",
          "id__2005",
          "id__2552",
          "id__2661"
         ],
         "y": [
          0.7746240337514322,
          0.661905677461369,
          0.7545937944230612,
          0.6604907611787257,
          0.6561685168896184,
          0.6533773064640326,
          0.6467498980305034,
          0.6457261482376524,
          0.6457261482376524,
          0.6447854766020108
         ]
        },
        {
         "marker": {
          "color": "rgba(50, 171, 96, 0.6)",
          "line": {
           "color": "rgba(50, 171, 96, 1.0)",
           "width": 1
          }
         },
         "name": "with likes after follow",
         "orientation": "v",
         "text": "",
         "type": "bar",
         "uid": "6386f797-d62d-4d10-8811-8bdbaacfe34b",
         "x": [
          "id__1687",
          "id__2870",
          "id__186",
          "id__2731",
          "id__2056",
          "id__2434",
          "id__310",
          "id__2005",
          "id__2552",
          "id__2661"
         ],
         "y": [
          0.7746240337514322,
          0.671905677461369,
          0.7645937944230612,
          0.6704907611787257,
          0.6561685168896184,
          0.6533773064640326,
          0.6467498980305034,
          0.6457261482376524,
          0.6457261482376524,
          0.6447854766020108
         ]
        },
        {
         "marker": {
          "color": "rgba(128, 0, 128, 0.6)",
          "line": {
           "color": "rgba(128, 0, 128, 1.0)",
           "width": 1
          }
         },
         "name": "after_unfollow_similarity",
         "orientation": "v",
         "text": "",
         "type": "bar",
         "uid": "49dc808c-7905-4965-921f-e531bf959ac9",
         "x": [
          "id__1687",
          "id__2870",
          "id__186",
          "id__2731",
          "id__2056",
          "id__2434",
          "id__310",
          "id__2005",
          "id__2552",
          "id__2661"
         ],
         "y": [
          0.7746240337514322,
          0.671905677461369,
          0.649904725259602,
          0.5699171470019169,
          0.5577432393561756,
          0.5553707104944277,
          0.549737413325928,
          0.5488672260020045,
          0.5488672260020045,
          0.5480676551117092
         ]
        },
        {
         "marker": {
          "color": "rgba(219, 64, 82, 0.6)",
          "line": {
           "color": "rgba(219, 64, 82, 1.0)",
           "width": 1
          }
         },
         "name": "with likes after unfollow",
         "orientation": "v",
         "text": "",
         "type": "bar",
         "uid": "11f49bb3-339e-4863-91b7-e28bf7dde7a3",
         "x": [
          "id__1687",
          "id__2870",
          "id__186",
          "id__2731",
          "id__2056",
          "id__2434",
          "id__310",
          "id__2005",
          "id__2552",
          "id__2661"
         ],
         "y": [
          0.7746240337514322,
          0.671905677461369,
          0.649904725259602,
          0.5699171470019169,
          0.5577432393561756,
          0.5553707104944277,
          0.549737413325928,
          0.5488672260020045,
          0.5488672260020045,
          0.5480676551117092
         ]
        }
       ],
       "layout": {
        "legend": {
         "bgcolor": "#F5F6F9",
         "font": {
          "color": "#4D5663"
         }
        },
        "paper_bgcolor": "#F5F6F9",
        "plot_bgcolor": "#F5F6F9",
        "title": {
         "font": {
          "color": "#4D5663"
         },
         "text": "Final similarities with user id_3000"
        },
        "xaxis": {
         "gridcolor": "#E1E5ED",
         "showgrid": true,
         "tickfont": {
          "color": "#4D5663"
         },
         "title": {
          "font": {
           "color": "#4D5663"
          },
          "text": "Users"
         },
         "zerolinecolor": "#E1E5ED"
        },
        "yaxis": {
         "gridcolor": "#E1E5ED",
         "showgrid": true,
         "tickfont": {
          "color": "#4D5663"
         },
         "title": {
          "font": {
           "color": "#4D5663"
          },
          "text": "Similarity"
         },
         "zerolinecolor": "#E1E5ED"
        }
       }
      },
      "text/html": [
       "<div>\n",
       "        \n",
       "        \n",
       "            <div id=\"0b6f8742-6046-421f-98c0-864a5af13c7b\" class=\"plotly-graph-div\" style=\"height:525px; width:100%;\"></div>\n",
       "            <script type=\"text/javascript\">\n",
       "                require([\"plotly\"], function(Plotly) {\n",
       "                    window.PLOTLYENV=window.PLOTLYENV || {};\n",
       "                    window.PLOTLYENV.BASE_URL='https://plot.ly';\n",
       "                    \n",
       "                if (document.getElementById(\"0b6f8742-6046-421f-98c0-864a5af13c7b\")) {\n",
       "                    Plotly.newPlot(\n",
       "                        '0b6f8742-6046-421f-98c0-864a5af13c7b',\n",
       "                        [{\"marker\": {\"color\": \"rgba(255, 153, 51, 0.6)\", \"line\": {\"color\": \"rgba(255, 153, 51, 1.0)\", \"width\": 1}}, \"name\": \"original_similarity\", \"orientation\": \"v\", \"text\": \"\", \"type\": \"bar\", \"uid\": \"f20fdd0b-2b7a-409e-a09a-0c13ed9dbb19\", \"x\": [\"id__1687\", \"id__2870\", \"id__186\", \"id__2731\", \"id__2056\", \"id__2434\", \"id__310\", \"id__2005\", \"id__2552\", \"id__2661\"], \"y\": [0.6735861163055932, 0.661905677461369, 0.6561685168896184, 0.6604907611787257, 0.6561685168896184, 0.6533773064640326, 0.6467498980305034, 0.6457261482376524, 0.6457261482376524, 0.6447854766020108]}, {\"marker\": {\"color\": \"rgba(55, 128, 191, 0.6)\", \"line\": {\"color\": \"rgba(55, 128, 191, 1.0)\", \"width\": 1}}, \"name\": \"after_follow_similarity\", \"orientation\": \"v\", \"text\": \"\", \"type\": \"bar\", \"uid\": \"894eb4bf-f2e0-4a80-9aaf-92536f525372\", \"x\": [\"id__1687\", \"id__2870\", \"id__186\", \"id__2731\", \"id__2056\", \"id__2434\", \"id__310\", \"id__2005\", \"id__2552\", \"id__2661\"], \"y\": [0.7746240337514322, 0.661905677461369, 0.7545937944230612, 0.6604907611787257, 0.6561685168896184, 0.6533773064640326, 0.6467498980305034, 0.6457261482376524, 0.6457261482376524, 0.6447854766020108]}, {\"marker\": {\"color\": \"rgba(50, 171, 96, 0.6)\", \"line\": {\"color\": \"rgba(50, 171, 96, 1.0)\", \"width\": 1}}, \"name\": \"with likes after follow\", \"orientation\": \"v\", \"text\": \"\", \"type\": \"bar\", \"uid\": \"ea6d7e44-2b21-4260-9b41-1cc97b79f602\", \"x\": [\"id__1687\", \"id__2870\", \"id__186\", \"id__2731\", \"id__2056\", \"id__2434\", \"id__310\", \"id__2005\", \"id__2552\", \"id__2661\"], \"y\": [0.7746240337514322, 0.671905677461369, 0.7645937944230612, 0.6704907611787257, 0.6561685168896184, 0.6533773064640326, 0.6467498980305034, 0.6457261482376524, 0.6457261482376524, 0.6447854766020108]}, {\"marker\": {\"color\": \"rgba(128, 0, 128, 0.6)\", \"line\": {\"color\": \"rgba(128, 0, 128, 1.0)\", \"width\": 1}}, \"name\": \"after_unfollow_similarity\", \"orientation\": \"v\", \"text\": \"\", \"type\": \"bar\", \"uid\": \"569b87f6-572f-4cbb-8bef-a3083c82b4f7\", \"x\": [\"id__1687\", \"id__2870\", \"id__186\", \"id__2731\", \"id__2056\", \"id__2434\", \"id__310\", \"id__2005\", \"id__2552\", \"id__2661\"], \"y\": [0.7746240337514322, 0.671905677461369, 0.649904725259602, 0.5699171470019169, 0.5577432393561756, 0.5553707104944277, 0.549737413325928, 0.5488672260020045, 0.5488672260020045, 0.5480676551117092]}, {\"marker\": {\"color\": \"rgba(219, 64, 82, 0.6)\", \"line\": {\"color\": \"rgba(219, 64, 82, 1.0)\", \"width\": 1}}, \"name\": \"with likes after unfollow\", \"orientation\": \"v\", \"text\": \"\", \"type\": \"bar\", \"uid\": \"320c0eda-7694-4fbb-8682-7e8c615f2b48\", \"x\": [\"id__1687\", \"id__2870\", \"id__186\", \"id__2731\", \"id__2056\", \"id__2434\", \"id__310\", \"id__2005\", \"id__2552\", \"id__2661\"], \"y\": [0.7746240337514322, 0.671905677461369, 0.649904725259602, 0.5699171470019169, 0.5577432393561756, 0.5553707104944277, 0.549737413325928, 0.5488672260020045, 0.5488672260020045, 0.5480676551117092]}],\n",
       "                        {\"legend\": {\"bgcolor\": \"#F5F6F9\", \"font\": {\"color\": \"#4D5663\"}}, \"paper_bgcolor\": \"#F5F6F9\", \"plot_bgcolor\": \"#F5F6F9\", \"title\": {\"font\": {\"color\": \"#4D5663\"}, \"text\": \"Final similarities with user id_3000\"}, \"xaxis\": {\"gridcolor\": \"#E1E5ED\", \"showgrid\": true, \"tickfont\": {\"color\": \"#4D5663\"}, \"title\": {\"font\": {\"color\": \"#4D5663\"}, \"text\": \"Users\"}, \"zerolinecolor\": \"#E1E5ED\"}, \"yaxis\": {\"gridcolor\": \"#E1E5ED\", \"showgrid\": true, \"tickfont\": {\"color\": \"#4D5663\"}, \"title\": {\"font\": {\"color\": \"#4D5663\"}, \"text\": \"Similarity\"}, \"zerolinecolor\": \"#E1E5ED\"}},\n",
       "                        {\"showLink\": true, \"linkText\": \"Export to plot.ly\", \"plotlyServerURL\": \"https://plot.ly\", \"responsive\": true}\n",
       "                    ).then(function(){\n",
       "                            \n",
       "var gd = document.getElementById('0b6f8742-6046-421f-98c0-864a5af13c7b');\n",
       "var x = new MutationObserver(function (mutations, observer) {{\n",
       "        var display = window.getComputedStyle(gd).display;\n",
       "        if (!display || display === 'none') {{\n",
       "            console.log([gd, 'removed!']);\n",
       "            Plotly.purge(gd);\n",
       "            observer.disconnect();\n",
       "        }}\n",
       "}});\n",
       "\n",
       "// Listen for the removal of the full notebook cells\n",
       "var notebookContainer = gd.closest('#notebook-container');\n",
       "if (notebookContainer) {{\n",
       "    x.observe(notebookContainer, {childList: true});\n",
       "}}\n",
       "\n",
       "// Listen for the clearing of the current output cell\n",
       "var outputEl = gd.closest('.output');\n",
       "if (outputEl) {{\n",
       "    x.observe(outputEl, {childList: true});\n",
       "}}\n",
       "\n",
       "                        })\n",
       "                };\n",
       "                });\n",
       "            </script>\n",
       "        </div>"
      ]
     },
     "metadata": {},
     "output_type": "display_data"
    }
   ],
   "source": [
    "end_similarity.iplot(kind='bar', x='plan_ori_id', title='Final similarities with user id_3000', \n",
    "            yTitle='Similarity', xTitle='Users')"
   ]
  },
  {
   "cell_type": "code",
   "execution_count": 35,
   "metadata": {},
   "outputs": [
    {
     "data": {
      "image/png": "[encoded data removed]",
      "text/plain": [
       "<Figure size 864x864 with 1 Axes>"
      ]
     },
     "metadata": {
      "needs_background": "light"
     },
     "output_type": "display_data"
    }
   ],
   "source": [
    "fig=plt.figure(figsize=(12,12))\n",
    "ax = fig.add_subplot(111, polar=True)\n",
    "ax.plot(final['plan_ori_id'].head(6), final['original_similarity'].head(6), 'o-', linewidth=2)\n",
    "ax.fill(final['plan_ori_id'].head(6), final['original_similarity'].head(6), alpha=0.25)\n",
    "ax.set_title('Distances between users before')\n",
    "ax.grid(True)"
   ]
  },
  {
   "cell_type": "code",
   "execution_count": 36,
   "metadata": {},
   "outputs": [
    {
     "data": {
      "image/png": "[encoded data removed]",
      "text/plain": [
       "<Figure size 864x864 with 1 Axes>"
      ]
     },
     "metadata": {
      "needs_background": "light"
     },
     "output_type": "display_data"
    }
   ],
   "source": [
    "fig=plt.figure(figsize=(12,12))\n",
    "ax = fig.add_subplot(111, polar=True)\n",
    "ax.plot(final['plan_ori_id'].head(6), final['with likes after unfollow'].head(6), 'o-', linewidth=2)\n",
    "ax.fill(final['plan_ori_id'].head(6), final['with likes after unfollow'].head(6), alpha=0.25)\n",
    "ax.set_title('Distances between users after')\n",
    "ax.grid(True)"
   ]
  },
  {
   "cell_type": "code",
   "execution_count": null,
   "metadata": {},
   "outputs": [],
   "source": []
  }
 ],
 "metadata": {
  "kernelspec": {
   "display_name": "Python 3",
   "language": "python",
   "name": "python3"
  },
  "language_info": {
   "codemirror_mode": {
    "name": "ipython",
    "version": 3
   },
   "file_extension": ".py",
   "mimetype": "text/x-python",
   "name": "python",
   "nbconvert_exporter": "python",
   "pygments_lexer": "ipython3",
   "version": "3.7.2"
  }
 },
 "nbformat": 4,
 "nbformat_minor": 2
}
